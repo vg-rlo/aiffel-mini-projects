{
 "cells": [
  {
   "cell_type": "code",
   "execution_count": 1,
   "id": "israeli-cameroon",
   "metadata": {},
   "outputs": [
    {
     "name": "stdout",
     "output_type": "stream",
     "text": [
      "Requirement already satisfied: requests in /home/aiffel-dj19/anaconda3/envs/aiffel/lib/python3.7/site-packages (2.25.1)\r\n",
      "Requirement already satisfied: urllib3<1.27,>=1.21.1 in /home/aiffel-dj19/anaconda3/envs/aiffel/lib/python3.7/site-packages (from requests) (1.26.2)\r\n",
      "Requirement already satisfied: chardet<5,>=3.0.2 in /home/aiffel-dj19/anaconda3/envs/aiffel/lib/python3.7/site-packages (from requests) (3.0.4)\r\n",
      "Requirement already satisfied: certifi>=2017.4.17 in /home/aiffel-dj19/anaconda3/envs/aiffel/lib/python3.7/site-packages (from requests) (2020.12.5)\r\n",
      "Requirement already satisfied: idna<3,>=2.5 in /home/aiffel-dj19/anaconda3/envs/aiffel/lib/python3.7/site-packages (from requests) (2.10)\r\n"
     ]
    }
   ],
   "source": [
    "!pip install requests"
   ]
  },
  {
   "cell_type": "code",
   "execution_count": 2,
   "id": "regulated-elder",
   "metadata": {},
   "outputs": [],
   "source": [
    "!mkdir -p ~/aiffel/anomaly_detection/kospi"
   ]
  },
  {
   "cell_type": "code",
   "execution_count": 4,
   "id": "considerable-invention",
   "metadata": {},
   "outputs": [],
   "source": [
    "import requests\n",
    "import os\n",
    "\n",
    "# 아래 url은 yahoo finance 서버에 우리나라 코스피 데이터를 요청하는 주소입니다.\n",
    "url = \"https://aiffelstaticprd.blob.core.windows.net/media/documents/kospi.csv\"\n",
    "\n",
    "# 데이터를 요청하고 그 결과를 response로 받습니다.\n",
    "response = requests.get(url)\n",
    "\n",
    "csv_file = os.getenv('HOME')+'/aiffel/anomaly_detection/kospi/kospi.csv'\n",
    "\n",
    "# response 의 컨텐츠를 csv로 저장합니다.\n",
    "with open(csv_file, \"w\") as fp:  \n",
    "    fp.write(response.text)"
   ]
  },
  {
   "cell_type": "markdown",
   "id": "cheap-vault",
   "metadata": {},
   "source": [
    "일반적인 다변량 시계열 데이터의 형태를 띄고 있습니다. 컬러명을 통해 주가 데이터라는 점도 알 수 있습니다. "
   ]
  },
  {
   "cell_type": "code",
   "execution_count": 6,
   "id": "bigger-penguin",
   "metadata": {
    "scrolled": false
   },
   "outputs": [
    {
     "data": {
      "text/html": [
       "<div>\n",
       "<style scoped>\n",
       "    .dataframe tbody tr th:only-of-type {\n",
       "        vertical-align: middle;\n",
       "    }\n",
       "\n",
       "    .dataframe tbody tr th {\n",
       "        vertical-align: top;\n",
       "    }\n",
       "\n",
       "    .dataframe thead th {\n",
       "        text-align: right;\n",
       "    }\n",
       "</style>\n",
       "<table border=\"1\" class=\"dataframe\">\n",
       "  <thead>\n",
       "    <tr style=\"text-align: right;\">\n",
       "      <th></th>\n",
       "      <th>Date</th>\n",
       "      <th>Open</th>\n",
       "      <th>High</th>\n",
       "      <th>Low</th>\n",
       "      <th>Close</th>\n",
       "      <th>Adj Close</th>\n",
       "      <th>Volume</th>\n",
       "    </tr>\n",
       "  </thead>\n",
       "  <tbody>\n",
       "    <tr>\n",
       "      <th>0</th>\n",
       "      <td>1997-07-01</td>\n",
       "      <td>744.979980</td>\n",
       "      <td>760.520020</td>\n",
       "      <td>744.669983</td>\n",
       "      <td>758.030029</td>\n",
       "      <td>758.030029</td>\n",
       "      <td>0.0</td>\n",
       "    </tr>\n",
       "    <tr>\n",
       "      <th>1</th>\n",
       "      <td>1997-07-02</td>\n",
       "      <td>763.390015</td>\n",
       "      <td>777.289978</td>\n",
       "      <td>763.390015</td>\n",
       "      <td>777.289978</td>\n",
       "      <td>777.289978</td>\n",
       "      <td>0.0</td>\n",
       "    </tr>\n",
       "    <tr>\n",
       "      <th>2</th>\n",
       "      <td>1997-07-03</td>\n",
       "      <td>778.820007</td>\n",
       "      <td>782.169983</td>\n",
       "      <td>773.270020</td>\n",
       "      <td>775.260010</td>\n",
       "      <td>775.260010</td>\n",
       "      <td>0.0</td>\n",
       "    </tr>\n",
       "    <tr>\n",
       "      <th>3</th>\n",
       "      <td>1997-07-04</td>\n",
       "      <td>776.020020</td>\n",
       "      <td>783.239990</td>\n",
       "      <td>773.900024</td>\n",
       "      <td>781.700012</td>\n",
       "      <td>781.700012</td>\n",
       "      <td>0.0</td>\n",
       "    </tr>\n",
       "    <tr>\n",
       "      <th>4</th>\n",
       "      <td>1997-07-07</td>\n",
       "      <td>777.700012</td>\n",
       "      <td>777.750000</td>\n",
       "      <td>772.140015</td>\n",
       "      <td>773.510010</td>\n",
       "      <td>773.510010</td>\n",
       "      <td>0.0</td>\n",
       "    </tr>\n",
       "  </tbody>\n",
       "</table>\n",
       "</div>"
      ],
      "text/plain": [
       "         Date        Open        High         Low       Close   Adj Close  \\\n",
       "0  1997-07-01  744.979980  760.520020  744.669983  758.030029  758.030029   \n",
       "1  1997-07-02  763.390015  777.289978  763.390015  777.289978  777.289978   \n",
       "2  1997-07-03  778.820007  782.169983  773.270020  775.260010  775.260010   \n",
       "3  1997-07-04  776.020020  783.239990  773.900024  781.700012  781.700012   \n",
       "4  1997-07-07  777.700012  777.750000  772.140015  773.510010  773.510010   \n",
       "\n",
       "   Volume  \n",
       "0     0.0  \n",
       "1     0.0  \n",
       "2     0.0  \n",
       "3     0.0  \n",
       "4     0.0  "
      ]
     },
     "execution_count": 6,
     "metadata": {},
     "output_type": "execute_result"
    }
   ],
   "source": [
    "# 저장한 csv를 읽어옵니다.\n",
    "import pandas as pd\n",
    "df = pd.read_csv(csv_file)\n",
    "df.head(5)"
   ]
  },
  {
   "cell_type": "markdown",
   "id": "bibliographic-minnesota",
   "metadata": {},
   "source": [
    "날짜 데이터를 date time형식으로 캐스팅해줍니다. 그리고 결측치를 확인합니다. <br>"
   ]
  },
  {
   "cell_type": "code",
   "execution_count": 8,
   "id": "ranking-background",
   "metadata": {
    "scrolled": false
   },
   "outputs": [
    {
     "data": {
      "text/plain": [
       "Date           0\n",
       "Open         150\n",
       "High         150\n",
       "Low          150\n",
       "Close        150\n",
       "Adj Close    150\n",
       "Volume       150\n",
       "dtype: int64"
      ]
     },
     "execution_count": 8,
     "metadata": {},
     "output_type": "execute_result"
    }
   ],
   "source": [
    "# 날짜데이터를 Datetime 형식으로 바꿔줍니다.\n",
    "df.loc[:,'Date'] = pd.to_datetime(df.Date)"
   ]
  },
  {
   "cell_type": "code",
   "execution_count": 14,
   "id": "sustainable-prospect",
   "metadata": {},
   "outputs": [
    {
     "data": {
      "text/plain": [
       "Date           0\n",
       "Open         150\n",
       "High         150\n",
       "Low          150\n",
       "Close        150\n",
       "Adj Close    150\n",
       "Volume       150\n",
       "dtype: int64"
      ]
     },
     "execution_count": 14,
     "metadata": {},
     "output_type": "execute_result"
    }
   ],
   "source": [
    "df.isna().sum()"
   ]
  },
  {
   "cell_type": "code",
   "execution_count": 13,
   "id": "rental-supply",
   "metadata": {},
   "outputs": [
    {
     "data": {
      "text/plain": [
       "Date         0.000000\n",
       "Open         2.635278\n",
       "High         2.635278\n",
       "Low          2.635278\n",
       "Close        2.635278\n",
       "Adj Close    2.635278\n",
       "Volume       2.635278\n",
       "dtype: float64"
      ]
     },
     "execution_count": 13,
     "metadata": {},
     "output_type": "execute_result"
    }
   ],
   "source": [
    "# 데이터의 정합성을 확인합니다\n",
    "df.isna().sum()/df.count() * 100"
   ]
  },
  {
   "cell_type": "markdown",
   "id": "accurate-candle",
   "metadata": {},
   "source": [
    "결측치를 확인한 결과 150개 정도 됩니다. 많아보이지만 실제로 전체 데이터에서 차지하는 비중은 3% 미만입니다. 이를 삭제해주겠습니다. "
   ]
  },
  {
   "cell_type": "code",
   "execution_count": 15,
   "id": "fundamental-couple",
   "metadata": {
    "scrolled": true
   },
   "outputs": [
    {
     "name": "stdout",
     "output_type": "stream",
     "text": [
      "삭제 전 데이터 길이(일자수): 5842\n",
      "삭제 후 데이터 길이(일자수): 5692\n"
     ]
    },
    {
     "data": {
      "text/plain": [
       "Date         0\n",
       "Open         0\n",
       "High         0\n",
       "Low          0\n",
       "Close        0\n",
       "Adj Close    0\n",
       "Volume       0\n",
       "dtype: int64"
      ]
     },
     "execution_count": 15,
     "metadata": {},
     "output_type": "execute_result"
    }
   ],
   "source": [
    "print(\"삭제 전 데이터 길이(일자수):\",len(df))\n",
    "df = df.dropna(axis=0).reset_index(drop=True)\n",
    "\n",
    "print(\"삭제 후 데이터 길이(일자수):\",len(df))\n",
    "df.isna().sum()"
   ]
  },
  {
   "cell_type": "markdown",
   "id": "random-career",
   "metadata": {},
   "source": [
    "데이터가 어떻게 생겼는지 시각화해봅니다.스파이크(Spike)와 딥(Dip)이 발견되는 것을 확인됩니다. "
   ]
  },
  {
   "cell_type": "code",
   "execution_count": 16,
   "id": "divided-average",
   "metadata": {},
   "outputs": [
    {
     "data": {
      "image/png": "[encoded data removed]",
      "text/plain": [
       "<Figure size 720x360 with 1 Axes>"
      ]
     },
     "metadata": {
      "needs_background": "light"
     },
     "output_type": "display_data"
    }
   ],
   "source": [
    "import matplotlib.pyplot as plt\n",
    "from matplotlib.pylab import rcParams\n",
    "\n",
    "plt.rcParams[\"figure.figsize\"] = (10,5)\n",
    "# Line Graph by matplotlib with wide-form DataFrame\n",
    "\n",
    "plt.plot(df.Date, df.Close, marker='s', color='r')\n",
    "plt.plot(df.Date, df.High, marker='o', color='g')\n",
    "plt.plot(df.Date, df.Low, marker='*', color='b')\n",
    "plt.plot(df.Date, df.Open, marker='+', color='y')\n",
    "\n",
    "plt.title('KOSPI ', fontsize=20) \n",
    "plt.ylabel('Stock', fontsize=14)\n",
    "plt.xlabel('Date', fontsize=14)\n",
    "plt.legend(['Close', 'High', 'Low', 'Open'], fontsize=12, loc='best')\n",
    "\n",
    "plt.show()"
   ]
  },
  {
   "cell_type": "code",
   "execution_count": 17,
   "id": "heavy-jaguar",
   "metadata": {},
   "outputs": [
    {
     "data": {
      "text/html": [
       "<div>\n",
       "<style scoped>\n",
       "    .dataframe tbody tr th:only-of-type {\n",
       "        vertical-align: middle;\n",
       "    }\n",
       "\n",
       "    .dataframe tbody tr th {\n",
       "        vertical-align: top;\n",
       "    }\n",
       "\n",
       "    .dataframe thead th {\n",
       "        text-align: right;\n",
       "    }\n",
       "</style>\n",
       "<table border=\"1\" class=\"dataframe\">\n",
       "  <thead>\n",
       "    <tr style=\"text-align: right;\">\n",
       "      <th></th>\n",
       "      <th>Date</th>\n",
       "      <th>Open</th>\n",
       "      <th>High</th>\n",
       "      <th>Low</th>\n",
       "      <th>Close</th>\n",
       "      <th>Adj Close</th>\n",
       "      <th>Volume</th>\n",
       "    </tr>\n",
       "  </thead>\n",
       "  <tbody>\n",
       "    <tr>\n",
       "      <th>5620</th>\n",
       "      <td>2020-05-06</td>\n",
       "      <td>1919.449951</td>\n",
       "      <td>1928.76001</td>\n",
       "      <td>19025.550781</td>\n",
       "      <td>1928.76001</td>\n",
       "      <td>1928.76001</td>\n",
       "      <td>1082200.0</td>\n",
       "    </tr>\n",
       "  </tbody>\n",
       "</table>\n",
       "</div>"
      ],
      "text/plain": [
       "           Date         Open        High           Low       Close  \\\n",
       "5620 2020-05-06  1919.449951  1928.76001  19025.550781  1928.76001   \n",
       "\n",
       "       Adj Close     Volume  \n",
       "5620  1928.76001  1082200.0  "
      ]
     },
     "execution_count": 17,
     "metadata": {},
     "output_type": "execute_result"
    }
   ],
   "source": [
    "df.loc[df.Low > df.High]"
   ]
  },
  {
   "cell_type": "code",
   "execution_count": null,
   "id": "finished-certificate",
   "metadata": {},
   "outputs": [],
   "source": []
  }
 ],
 "metadata": {
  "kernelspec": {
   "display_name": "aiffel",
   "language": "python",
   "name": "aiffel"
  },
  "language_info": {
   "codemirror_mode": {
    "name": "ipython",
    "version": 3
   },
   "file_extension": ".py",
   "mimetype": "text/x-python",
   "name": "python",
   "nbconvert_exporter": "python",
   "pygments_lexer": "ipython3",
   "version": "3.7.9"
  }
 },
 "nbformat": 4,
 "nbformat_minor": 5
}

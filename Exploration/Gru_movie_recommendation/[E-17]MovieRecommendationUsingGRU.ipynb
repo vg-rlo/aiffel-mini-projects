{
 "cells": [
  {
   "cell_type": "markdown",
   "id": "satisfied-dragon",
   "metadata": {},
   "source": [
    "# 프로젝트: Movie Recommendation using GRU \n",
    "* `Dataset`: Movielens 영화\n",
    "\n",
    "# 루브릭 \n",
    "1. Movielens 데이터셋을 `user based recommendation 관점`(=> Collaborative filtering)으로 전처리하는 과정이 체계적으로 진행되었다.\n",
    "    - 데이터셋의 면밀한 분석을 토대로 ~세션~(사용자?) 단위 정의 과정(길이분석, 시간분석)을 합리적으로 수행한 과정이 기술되었다.(V)\n",
    "2. RNN 기반의 예측 모델이 정상적으로 구성되어 안정적으로 훈련이 진행되었다.\n",
    "    - 적절한 epoch만큼의 학습이 진행되는 과정에서 train loss가 안정적으로 감소하고, validation 단계에서의 `Recall, MRR`이 개선되는 것이 확인된다. (V)\n",
    "3. `세션 정의, 모델구조, 하이퍼파라미터 등을 변경`해서 실험하여 Recall, MRR 등의 `변화추이`를 관찰하였다.\n",
    "    - 3가지 이상의 변화를 시도하고 그 실험결과를 체계적으로 분석하였다. (V)\n",
    "\n",
    "# 회고\n",
    "    이번 프로젝트 같은 경우 어떤 데이터를 보느냐에 대해 이해가 안 된 부분이 있었다. 세션 기반의 추천 시스템인데에 비해, 영화 리뷰 데이터셋 같은 경우에는 세션 데이터와는 연관성이 없어 보였기 때문이다. 세션은 약간 머무른 데이터라는 느낌이 있는데 이러한 부분에서 의문점이 해결되지 않아 논문을 뒤늦게 보고 회고를 정리했다. `파파고를 열심히 돌렸고, 의미와 흐름에 맞게 해석을 다시 했다. 오랜만에 영어 공부했다. ㅎㅎㅎ 토익.. 다시 따야하나..!`\n",
    "\n",
    "## 이슈사항 \n",
    "1. 영화리뷰 데이터이기 때문에, 리뷰 작성 시간이 다음 볼 영화를 예측할 수 있는가?하는 의문이 들었습니다.\n",
    "    Prediction using Movielens를 검색해보면, 예측대상이 다음에 볼 영화 보다는 해당 영화에 대한 rating을 몇점으로 할지 예측하는 자료가 많았습니다.\n",
    "    데이터셋 특징을 생각했을때, 다음볼 영화보다 해당 영화에 대한 Rating을 예측하는게 맞지 않을까 생각이 드는데.. 이렇게 되면, Session based가 아니니까.. ~데이터셋이 커머스 데이터인게 좋지 않을까..?!~\n",
    "    검색키워드: prediction using rnn about movie lens, prediction using movie lens\n",
    "\n",
    "2. SessionId를 UserId로 대체해서 생각해야하는 부분이 SBR로서 적절한가?.. 라는 고민도 들었고, 데이터 전처리 과정에서 매우 헷갈렸습니다. \n",
    "\n",
    "## 이번 프로젝트에서 집중해서 본 부분\n",
    "1. Session Recommendation System 논문에서 요약, 서론, ~결론~ 정리 (▲)\n",
    "2. 이전에 진행한 ALS 모델을 기반으로 작성한 Recommendation System과 차이점 (V)\n",
    "3. Recall, MRR (V)\n",
    "\n",
    "## Collaborative Filtering? Contents-based Filtering?\n",
    "    협업 필터링(Collaborative Filtering에서는 아이템과 사용자 간의 행동 또는 관계에 주목합니다. 반면에 콘텐츠 기반 필터링(Contents-based Filtering)은 아이템 자체의 속성에 주목합니다. 따라서 사용자와 아이템 간의 관련성에 대해서는 집중해서 사용자의 특성에 따른 개인화된 추천을 제공할 때는 Collaborative Filtering을 사용합니다. 이번 영화 추천 같은 경우 `session data인 click-stream(time-stream)`에 집중할거기 때문에 협업 필터링에 해당합니다. \n",
    "\n",
    "### Collaborative Filtering의 취약점\n",
    "> Exploration 8을 참고했습니다. \n",
    "1. 시스템이 충분한 정보를 모으지 못 했을 때, 사용자나 아이템에 대한 추론을 할 수 없는 상태인 Cold start\n",
    "2. 계산량이 너무 많아서 추천의 효율이 떨어지는 상황 \n",
    "3. long tail의 꼬리 부분, 즉 사용자의 관심이 저조한 항목의 정보가 부족하여 추천에서 배제되는 상황 \n",
    "    \n",
    "**`=> 위에 세가지의 경우가 Movielens에도 해당하는지 체크하고, 이는 Dataset을 통해 해결되어야하는 부분이기 때문에 제거해서 협업 필터링의 추천 성능을 보장할 수 있도록 하겠습니다.`**\n",
    "\n",
    "## Session Based Recommendation (GRU4REC)\n",
    "> 해당 자료는 [SESSION-BASED RECOMMENDATIONS WITH RECURRENT NEURAL NETWORKS(ICLR 2016)](https://arxiv.org/pdf/1511.06939.pdf) 논문에서 제안된 추천 시스템 입니다. 해당 논문의 요약, Instroduction, Conclusion(시간 관계상 .. 본문은 블로그 내용을 기반으로...)과 논문과 관련된 [정리](https://lsjsj92.tistory.com/590)자료를 참고하여 SBR에 대해 공부했습니다. \n",
    "\n",
    "`아래의 요약과 서론은 열심히.. 원문을 공부한 자료를 바탕으로 작성했습니다.`\n",
    "### Abstract \n",
    "> We apply recurrent neural networks (RNN) on a new domain, namely recommender systems. Real-life recommender systems often face the problem of having\n",
    "to base recommendations `only on short session-based data (e.g. a small sportsware\n",
    "website)` instead of `long user histories (as in the case of Netflix)`. In this situation\n",
    "the frequently praised matrix factorization approaches are not accurate. This problem is usually overcome in practice `by resorting to item-to-item recommendations,\n",
    "i.e. recommending similar items`. <br>\n",
    "We argue that `by modeling the whole session,\n",
    "more accurate` recommendations can be provided. We therefore propose an `RNNbased approach for session-based recommendations`. Our approach also `considers\n",
    "practical aspects of the task and introduces several modifications to classic RNNs`\n",
    "such as a `ranking loss function` that make it more viable for this specific problem.\n",
    "Experimental results on two data-sets show marked improvements over widely\n",
    "used approaches.\n",
    "\n",
    "    논문에서는 새로운 도메인, 즉 추천 시스템에 반복 신경망(RNN)을 적용합니다. 실생활에서 추천 시스템들은 종종 다음과 같은 문제에 직면합니다. `넷플릭스처럼 오랜 기간에 걸쳐 수집된 사용자 히스토리(서버 기록)`보다는, `짧은 세션 기반 데이터(예: 소형 스포츠웨어 웹사이트)`에만 한정적으로 적용 가능하다는 점입니다. \n",
    "\n",
    "    그리고 이러한 데이터셋에서 자주 사용되는 Matrix fatorization 접근법은 결과가 정확하지 않습니다. 이 문제는 대개 `items 대 items 추천 시스템 방식`을 활용해 해결합니다. 예를 들어 `유사한 item을 추천`합니다. <br>\n",
    "\n",
    "    이 논문에서는 `전체 세션을 모델링하는 것이\n",
    "    보다 정확한 추천 시스템을 제공할 수 있다`고 말합니다. 따라서 논문에서 `RNN based approach for session-based recommendation`을 제안합니다. 또한, 고전적인 RNN에 대해 해당 과제와 관련해서 이전에 적용됐던 측면들과 몇가지 수정사항을  적용합니다.  예를 들어서 좀 더 성공적으로 추천 시스템을 제공할 수 있도록 `ranking loss function`을 적용합니다. 논문 실험은 두 데이터 세트에 대한 결과 및 개선사항을 보여줍니다. \n",
    "\n",
    "* Session-based data: 서버에 머무른 시간, 사용자의 정보 이용 시간\n",
    "    - e.g. 쇼핑몰에서의 Session data: 브라우저가 종료되기 전까지 유저의 행동을 담은 데이터 \n",
    "\n",
    "### Instroduction \n",
    "    Session-based recommendation(이하,  SBR)은 머신러닝과 추천시스템 쪽에서는 비교적 잘 알려져있지는 않습니다. 많은 e-commerce(전자상거래) 추천 시스템(특히, 소매업자)과 뉴스나 미디어사이트에서는 user ID나 user가 얼마나 오래 해당 사이트를 방문하는지에 대한 정보를 추적할 수 없습니다. 사용자 cookies와 browser fingerprinting는 사용자의 동의 하에 어느 정도 수준에서는 제공이 가능하지만, 이러한 정보 수집은 privacy  문제에서 완전하게는 자유롭지 못 합니다. cookies와 fingerprinting을 추적 가능해도 작은 규모의 전자상거래 사이트에서는 대부분의 사용자(user)는 한 두번 정도의 세션(사이트에 머문 시간, history와 비슷한 개념)만 남깁니다. 그리고 classified sites(홍보 플랫폼과 비슷)와 같은 특정 도메인에서는 사용자들의 행동은 종종 세션(session) 기반 특성들을 보입니다. 이러한 특성들 때문에 같은 사용자의 이어져 나타나는 세션들은 독립적으로 다뤄져야 합니다. 결과적으로 전자상거래를 위해 효율적으로 사용되는 대부분의 SBR system들은 user 정보를 이용하지 않는 상대적으로 간단한 방법들(예를 들어, item 대 item 유사도, co-occurrence, trainsition probabilites)에 의존합니다. 이와 같은 방법들은 효과적이고, 마지막 클릭이나, 과거 클릭 정보를 배제한 사용자의 선택만 고려합니다. \n",
    "\n",
    "    추천 시스템에서 가장 자주 쓰이는 모델들에는 factor models와 neighborhood models가 있습니다. (중략 -  factor models와 neighborhood models에 대한 각각의 설명)\n",
    "\n",
    "    최근 몇년간 DNN은 이미지와 음성 인식과 같은 많은 과제들을 성공적으로 수행해냈습니다. Sequential data modeling은 이러한 data를 활용하는 RNNs과 함께 최근 매우 큰 관심을 받고 있습니다.\n",
    "\n",
    "    `아래 내용에서 왜 논문에서 RNNs를 Session-based Recommendation에 적용했는지 설명하고 있다.`\n",
    "    RNNs은 앞서 언급한 Sequential data와 관련된 도메인들에서 적용되고좋은 성능을 보이는 반면, 추천 시스템 분야에는 적용되지 않았습니다. 그래서 논문에서는 세션이 가지는 sparse하고, sequential하다는 특징을 기반으로 RNNs를 SDR에 적용합니다.  \n",
    "\n",
    "    이 때 손실함수는 새로운 ranking loss function을 적용합니다. SDR에 사용되는 RNN을 고려해보면, 사용자가 웹사이트를 이용할 때 클릭한 첫 아이템을 RNN의 initial input이라고 생각해봅시다. 그럼, 이후 이어지는사용자의  각각 클릭들은 이전 클릭에 의존한 결과로 볼 수 있습니다. 즉, RNN 모델로 들어가는 어떠한 Sequential한 input은 전자상거래와 같은 웹사이트에서 click-stream data인 것입니다. 하지만 stream에 대한 data이기 때문에 매우 방대하고, 확장성을 지닙니다. 따라서 대부분의 추천 시스템은 사용자가 관심을 가질 수 있는 최상위 조건에서 모델링하기 때문에 Ranking loss function을 사용해 RNN을 훈련시킵니다. \n",
    "\n",
    "* ranking loss function: 해당 [링크](https://gombru.github.io/2019/04/03/ranking_loss/)에서 자세히 다뤄지고 이를 Triplet loss라고 고려해보는 것을 추천합니다. pairwise ranking loss도 있지만 triplet이 성능이 더 좋기도 하고, 이전 프로젝트에서 배운 개념이기 때문에 ALS 모델을 활용한 영화 추천 시스템 프로젝트를 참고하면 됩니다. \n",
    "\n",
    "###  Session Based Recommendation의 취약점\n",
    "> 이 부분은 [해당 블로그](https://soobarkbar.tistory.com/184)의 내용을 발췌했습니다.\n",
    "1. 한 세션에서 충분한 사용자의 행동 기록이 없으면 user representation하기 어려움 \n",
    "2. 세션내 다른 여러 item들, 즉 Contexts들간의 transition을 무시하기 때문에 멀리 떨어진 item들 사이의 복잡한 transition은 종종 간과됨 \n",
    "`=> 이러한 취약점들을 극복하기 위해 SR-GNN을 사용해서 item들의 transition을 파악하려고 시도합니다.`"
   ]
  },
  {
   "attachments": {
    "image.png": {
     "image/png": "[encoded data removed]"
    }
   },
   "cell_type": "markdown",
   "id": "reverse-montana",
   "metadata": {},
   "source": [
    "## 평가지표 \n",
    "> [해당 블로그](https://zzaebok.github.io/recommender_system/metrics/rec_metrics/)에서 내용을 발췌했습니다.\n",
    "### Recall@k\n",
    "k개의 추천 중 실제로 사용자가 선호하는 아이템이 얼마나 존재하는지 측정하는 지표 \n",
    "\n",
    "### MRR@k - Mean Reciprocal Rank\n",
    "첫번째로 등장하는 relevant한 아이템이 우리의 추천상 몇번째에 위치하는지를 나타내는 지표입니다. 그러나 추천 상의 몇 개의 아이템이 나오든 첫 번째로 나오는 relevant 아이템만 신경쓴다는 단점이 있습니다.\n",
    "\n",
    "## 추천시스템에서 Data Split\n",
    "추천 시스템은 지금 잘 예측하는게 중요합니다. \n",
    "사용자들의 소비패턴은 너무 과거의 데이터로는 부정확할 수 있습니다. \n",
    "따라서 Session-based Recommendation 같은 경우 순서에 의미를 두기 떄문에 기간에 따라 셋을 나누기도 합니다. \n",
    "![image.png](attachment:image.png)"
   ]
  },
  {
   "cell_type": "markdown",
   "id": "historic-seminar",
   "metadata": {},
   "source": [
    "**하지만! 여기서 한번더 체크하고 넘어가야할 부분이 있습니다. 이번 프로젝트는 해당 논문을 그대로 구현하고 있지 않다는 점입니다! 데이터셋을 Session-based인 click-stream으로 볼 수 없지만, 여기서는 몇 개의 전제들을 가지고 진행하므로 해당 사항들을 미리 체크해보겠습니다.**\n",
    "\n",
    "## 전제 \n",
    "1. Movielens 데이터셋에서의 Time stamp는 초를 기반으로 어떠한 click-stream을 이미한다고 취급한다. \n",
    "2. Movielens 데이터셋에서는 사용자에 대한 나이 정보나, item에 해당하는 영화에 대한 정보를 알 수 없다고 생각한다. 실제로는 제공되고 있어서 Test해볼 떄 Prediction 결과가 명확한지 체크하는 용도로 사용할 수 있다. \n",
    "3. **Movielens 데이터셋에서는 User Id가 드러나있기 때문에 이를 Session으로 취급한다. 즉, SessionId를 UserId가 대체합니다.** \n",
    "\n",
    "## 적용사항\n",
    "1. **click-stream이외에도 SBR의 취약점을 보완하기 위해 맥락이 영향을 줄 수 있는 Ratings값을 긍정적인 sequential data로만 구성할 수 있도록 하기 위해 특정값 이하를 배제한다.**(@혜미님 아이디어) "
   ]
  },
  {
   "cell_type": "markdown",
   "id": "optical-bottom",
   "metadata": {},
   "source": [
    "## Step 0. 기본 세팅 "
   ]
  },
  {
   "cell_type": "code",
   "execution_count": 253,
   "id": "raised-missouri",
   "metadata": {
    "scrolled": true
   },
   "outputs": [],
   "source": [
    "# 사용 라이브러리 import\n",
    "# 데이터 전처리 및 분석용 라이브러리 \n",
    "import datetime as dt\n",
    "from pathlib import Path\n",
    "import os\n",
    "import matplotlib.pyplot as plt\n",
    "import numpy as np\n",
    "import pandas as pd\n",
    "\n",
    "# 모델 학습과 관련된 라이브러리 \n",
    "import tensorflow as tf\n",
    "from tensorflow.keras.layers import Input, Dense, Dropout, GRU\n",
    "from tensorflow.keras.losses import categorical_crossentropy\n",
    "from tensorflow.keras.models import Model\n",
    "from tensorflow.keras.optimizers import Adam\n",
    "from tensorflow.keras.utils import to_categorical\n",
    "\n",
    "# jupyter notebook output 관련 라이브러리 \n",
    "from tqdm import tqdm # 실행 시간 \n",
    "import warnings # 경고 메세지 \n",
    "warnings.filterwarnings('ignore')"
   ]
  },
  {
   "cell_type": "markdown",
   "id": "olive-typing",
   "metadata": {},
   "source": [
    "## Step 1. 데이터의 전처리\n",
    "* 항목별 기본분석, user length, user time, cleaning 등의 작업\n",
    "> 특히, 이 데이터셋에서는 Session이 아닌 UserID 단위로 데이터가 생성되어 있으므로, 이를 Session 단위로 어떻게 해석할지에 주의합니다. <br>\n",
    "`노드 중에서 ...`\n",
    "\n",
    "위와 같은 설명이 있는데 해당 데이터셋을 UserId 단위로 데이터가 생성이 되어 있는데, 이를 Session 단위로는 어떻게 확인해볼 수 있을지를 의미합니다. "
   ]
  },
  {
   "cell_type": "markdown",
   "id": "regulated-thailand",
   "metadata": {},
   "source": [
    "### Data Load"
   ]
  },
  {
   "cell_type": "code",
   "execution_count": 254,
   "id": "saving-coffee",
   "metadata": {
    "scrolled": true
   },
   "outputs": [],
   "source": [
    "def load_data(data_path: Path, nrows=None):\n",
    "    data = pd.read_csv(data_path, sep='::', header=None, usecols=[0, 1, 2, 3], dtype={0: np.int32, 1: np.int32, 2: np.int32}, nrows=nrows)\n",
    "    data.columns = ['UserId', 'ItemId', 'Rating', 'Time']\n",
    "    return data"
   ]
  },
  {
   "cell_type": "code",
   "execution_count": null,
   "id": "surprising-compiler",
   "metadata": {
    "scrolled": true
   },
   "outputs": [
    {
     "name": "stderr",
     "output_type": "stream",
     "text": [
      "tqdm example:  43%|████▎     | 43/100 [02:47<03:44,  3.93s/it]"
     ]
    }
   ],
   "source": [
    "data_path = Path(os.getenv('HOME')+'/aiffel/gru_recommendation/ml-1m') \n",
    "train_path = data_path / 'ratings.dat'\n",
    "\n",
    "# desc 에 진행 작업에 대한 설명을 추가 가능 \n",
    "# mininterval에 최소 업데이트 주기를 설정 가능 \n",
    "for ii in tqdm(range(100), desc=\"tqdm example\", mininterval=0.01):\n",
    "    data = load_data(train_path, None)\n",
    "    data.sort_values(['UserId', 'Time'], inplace=True)  # data를 id와 시간 순서로 정렬해줍니다.\n",
    "    data"
   ]
  },
  {
   "cell_type": "markdown",
   "id": "comparative-junior",
   "metadata": {},
   "source": [
    "### 데이터셋 전체 분석"
   ]
  },
  {
   "cell_type": "code",
   "execution_count": null,
   "id": "considered-pipeline",
   "metadata": {
    "scrolled": false
   },
   "outputs": [],
   "source": [
    "data.head()"
   ]
  },
  {
   "cell_type": "markdown",
   "id": "moderate-johnston",
   "metadata": {},
   "source": [
    "* `UserId`: 영화 데이터셋에 참여한 User들의 구분자\n",
    "* `ItemId`: 영화 구분자\n",
    "* `Rating`: 영화 평가 점수(최소:1, 최대:5)\n",
    "* `Time`: 1970년 1월 1일부터 경과된 초단위 시간, UTC time \n",
    "> UTC(협정세계시)란? 예전에는 그리니치 표준시(Greenwich Mean Time) 또는 GMT로 알려졌습니다. 약어 UTC는 실수가 아니라 영어와 프랑스어 간의 절충입니다."
   ]
  },
  {
   "cell_type": "code",
   "execution_count": null,
   "id": "serious-technology",
   "metadata": {
    "scrolled": false
   },
   "outputs": [],
   "source": [
    "data.describe()"
   ]
  },
  {
   "cell_type": "code",
   "execution_count": null,
   "id": "regional-break",
   "metadata": {},
   "outputs": [],
   "source": [
    "data_origin = data # data save용 "
   ]
  },
  {
   "cell_type": "markdown",
   "id": "fuzzy-afternoon",
   "metadata": {},
   "source": [
    "### 항목별 분석 \n",
    "1. UserId\n",
    "2. ItemId \n",
    "3. Rating\n",
    "4. Time"
   ]
  },
  {
   "cell_type": "markdown",
   "id": "complicated-shooting",
   "metadata": {},
   "source": [
    "#### UserId"
   ]
  },
  {
   "cell_type": "code",
   "execution_count": null,
   "id": "established-midwest",
   "metadata": {
    "scrolled": true
   },
   "outputs": [],
   "source": [
    "# User 수와 Item 수 확인\n",
    "print('UserId 개수:', data['UserId'].nunique())\n",
    "print('ItemId 개수:', data['ItemId'].nunique())"
   ]
  },
  {
   "cell_type": "markdown",
   "id": "wicked-overhead",
   "metadata": {},
   "source": [
    "* `user_length`: 해당 사용자가 몇개의 영화 리뷰를 남겼는지 의미합니다."
   ]
  },
  {
   "cell_type": "code",
   "execution_count": null,
   "id": "pediatric-halifax",
   "metadata": {
    "scrolled": true
   },
   "outputs": [],
   "source": [
    "# UserId를 기준으로 데이터 row 개수 확인 \n",
    "user_length = data.groupby('UserId').size()\n",
    "user_length"
   ]
  },
  {
   "cell_type": "code",
   "execution_count": null,
   "id": "musical-champion",
   "metadata": {},
   "outputs": [],
   "source": [
    "data.groupby('UserId')"
   ]
  },
  {
   "cell_type": "code",
   "execution_count": null,
   "id": "reasonable-emperor",
   "metadata": {
    "scrolled": true
   },
   "outputs": [],
   "source": [
    "# User별 평균 영화 리뷰 작성 수 분석 \n",
    "user_length.median(), user_length.mean()"
   ]
  },
  {
   "cell_type": "code",
   "execution_count": null,
   "id": "devoted-jimmy",
   "metadata": {
    "scrolled": true
   },
   "outputs": [],
   "source": [
    "# 가장 적게/많은 리뷰를 남긴 User\n",
    "user_length.min(), user_length.max()"
   ]
  },
  {
   "cell_type": "markdown",
   "id": "controlling-article",
   "metadata": {},
   "source": [
    "## *UserId를 SessionId로 취급한 이유?*\n",
    "SessionId는 순서가 있어야합니다. 현재 위에서 Sort_values를 통해 Time순으로 UserId가 나열되어 있습니다. 따라서 UserId들은 다 순서대로 구성되어있습니다. \n",
    "결국에 단위는 다르겠지만 User length도 어떠한 시간적 순서를 가진 데이터의 길이이므로 Session 길이를 대체하게 되는 거 같습니다."
   ]
  },
  {
   "cell_type": "markdown",
   "id": "developed-saying",
   "metadata": {},
   "source": [
    "* `Series.quantile`: Return value at the given `quantile(분위수)`."
   ]
  },
  {
   "cell_type": "code",
   "execution_count": null,
   "id": "strong-chambers",
   "metadata": {},
   "outputs": [],
   "source": [
    "type(user_length)"
   ]
  },
  {
   "cell_type": "code",
   "execution_count": null,
   "id": "subject-advocacy",
   "metadata": {},
   "outputs": [],
   "source": [
    "# q를 기준으로 user_length 확인\n",
    "q = 0.999\n",
    "user_length.quantile(q)"
   ]
  },
  {
   "cell_type": "code",
   "execution_count": null,
   "id": "flying-rugby",
   "metadata": {},
   "outputs": [],
   "source": [
    "# q를 기준으로 user_length 확인\n",
    "q = 0.1\n",
    "user_length.quantile(q)"
   ]
  },
  {
   "cell_type": "code",
   "execution_count": null,
   "id": "breeding-inspection",
   "metadata": {},
   "outputs": [],
   "source": [
    "# q를 기준으로 user_length 확인\n",
    "q = 0.2\n",
    "user_length.quantile(q)"
   ]
  },
  {
   "cell_type": "code",
   "execution_count": null,
   "id": "optical-continent",
   "metadata": {
    "scrolled": true
   },
   "outputs": [],
   "source": [
    "# q를 기준으로 user_length 확인\n",
    "q = 0.3\n",
    "user_length.quantile(q)"
   ]
  },
  {
   "attachments": {
    "image.png": {
     "image/png": "[encoded data removed]"
    }
   },
   "cell_type": "markdown",
   "id": "unauthorized-spotlight",
   "metadata": {},
   "source": [
    "* `plt.boxplot`: Make a box and whisker plot, 사분위수를 이용하여 데이터의 특이값을 알려주는 Plot \n",
    "![image.png](attachment:image.png)"
   ]
  },
  {
   "cell_type": "code",
   "execution_count": null,
   "id": "focused-logan",
   "metadata": {
    "scrolled": false
   },
   "outputs": [],
   "source": [
    "# quantile 대신 boxplot을 활용한 분위수 확인\n",
    "plt.boxplot(user_length)\n",
    "plt.title('Boxplot of user_length')\n",
    "plt.show"
   ]
  },
  {
   "cell_type": "code",
   "execution_count": null,
   "id": "directed-packing",
   "metadata": {
    "scrolled": true
   },
   "outputs": [],
   "source": [
    "long_user = user_length[user_length==2314].index[0]\n",
    "data[data['UserId']==long_user]"
   ]
  },
  {
   "cell_type": "code",
   "execution_count": null,
   "id": "failing-hollow",
   "metadata": {
    "scrolled": true
   },
   "outputs": [],
   "source": [
    "# user_length 기준 하위 99.9%까지의 분포 누적합\n",
    "length_count = user_length.groupby(user_length).size()\n",
    "length_percent_cumsum = length_count.cumsum() / length_count.sum()\n",
    "length_percent_cumsum_999 = length_percent_cumsum[length_percent_cumsum < 0.999]\n",
    "\n",
    "length_percent_cumsum_999"
   ]
  },
  {
   "cell_type": "code",
   "execution_count": null,
   "id": "round-lodging",
   "metadata": {
    "scrolled": true
   },
   "outputs": [],
   "source": [
    "# user_length 기준 하위 99.9%까지의 분포 누적합을 시각화\n",
    "plt.figure(figsize=(20, 10))\n",
    "plt.bar(x=length_percent_cumsum_999.index,\n",
    "        height=length_percent_cumsum_999, color='red')\n",
    "plt.xticks(length_percent_cumsum_999.index)\n",
    "plt.yticks(np.arange(0, 1.01, 0.05))\n",
    "plt.title('Cumsum Percentage Until 0.999', size=20)\n",
    "plt.show()"
   ]
  },
  {
   "cell_type": "markdown",
   "id": "forty-serbia",
   "metadata": {},
   "source": [
    "이 세션정보는 유저를 ID 기반으로 정리할 수 없기 때문에 세션 하나를 유저 하나로 본다면 기존의 유저-상품정보 Matrix보다 훨씬 sparse한 형태가 됩니다."
   ]
  },
  {
   "cell_type": "markdown",
   "id": "complex-plaza",
   "metadata": {},
   "source": [
    "####  Time"
   ]
  },
  {
   "cell_type": "markdown",
   "id": "consecutive-shower",
   "metadata": {},
   "source": [
    "세션 길이가 20이 짧다로 볼 수 있을까? 흠..그렇지 않을거 같습니다. 저 같은 경우 일년에 영화를 20개도 안보기 때문에"
   ]
  },
  {
   "cell_type": "code",
   "execution_count": 217,
   "id": "generic-jerusalem",
   "metadata": {
    "scrolled": true
   },
   "outputs": [
    {
     "data": {
      "text/plain": [
       "978300760"
      ]
     },
     "execution_count": 217,
     "metadata": {},
     "output_type": "execute_result"
    }
   ],
   "source": [
    "import time as tm\n",
    "\n",
    "data_time = data['Time']\n",
    "# print(time.gmtime(time[i]))\n",
    "data_time[0]"
   ]
  },
  {
   "cell_type": "code",
   "execution_count": 218,
   "id": "controversial-forth",
   "metadata": {
    "scrolled": false
   },
   "outputs": [
    {
     "data": {
      "text/plain": [
       "time.struct_time(tm_year=2000, tm_mon=12, tm_mday=31, tm_hour=22, tm_min=12, tm_sec=40, tm_wday=6, tm_yday=366, tm_isdst=0)"
      ]
     },
     "execution_count": 218,
     "metadata": {},
     "output_type": "execute_result"
    }
   ],
   "source": [
    "# time[0]/60/60/24/365 # 1초 > 1분 > 1시간 > 1일 > 1년???\n",
    "tm.gmtime(int(data_time[0]))"
   ]
  },
  {
   "cell_type": "code",
   "execution_count": 219,
   "id": "cellular-copyright",
   "metadata": {
    "scrolled": true
   },
   "outputs": [
    {
     "name": "stdout",
     "output_type": "stream",
     "text": [
      "956703932\n",
      "1046454590\n"
     ]
    }
   ],
   "source": [
    "oldest, latest = data['Time'].min(), data['Time'].max()\n",
    "print(oldest) \n",
    "print(latest)"
   ]
  },
  {
   "cell_type": "code",
   "execution_count": 220,
   "id": "endangered-money",
   "metadata": {
    "scrolled": true
   },
   "outputs": [
    {
     "data": {
      "text/plain": [
       "numpy.int64"
      ]
     },
     "execution_count": 220,
     "metadata": {},
     "output_type": "execute_result"
    }
   ],
   "source": [
    "type(latest)"
   ]
  },
  {
   "cell_type": "code",
   "execution_count": 221,
   "id": "essential-christian",
   "metadata": {},
   "outputs": [
    {
     "name": "stdout",
     "output_type": "stream",
     "text": [
      "time.struct_time(tm_year=2000, tm_mon=4, tm_mday=25, tm_hour=23, tm_min=5, tm_sec=32, tm_wday=1, tm_yday=116, tm_isdst=0)\n",
      "time.struct_time(tm_year=2003, tm_mon=2, tm_mday=28, tm_hour=17, tm_min=49, tm_sec=50, tm_wday=4, tm_yday=59, tm_isdst=0)\n"
     ]
    }
   ],
   "source": [
    "import time  as tm\n",
    "\n",
    "print(tm.gmtime(oldest))\n",
    "print(tm.gmtime(latest))"
   ]
  },
  {
   "cell_type": "markdown",
   "id": "stainless-child",
   "metadata": {},
   "source": [
    "가장 최신의 데이터는 2003년 2월 28일이고, 가장 오래된 데이터는 2000년 4월 25일임을 알 수 있습니다."
   ]
  },
  {
   "cell_type": "markdown",
   "id": "choice-plane",
   "metadata": {},
   "source": [
    "### Data Cleansing "
   ]
  },
  {
   "cell_type": "code",
   "execution_count": 222,
   "id": "personalized-milwaukee",
   "metadata": {},
   "outputs": [],
   "source": [
    "# short_session을 제거한 다음 unpopular item을 제거하면 다시 길이가 1인 session이 생길 수 있습니다.\n",
    "# 이를 위해 반복문을 통해 지속적으로 제거 합니다.\n",
    "def cleanse_recursive(data: pd.DataFrame, shortest, least_click) -> pd.DataFrame:\n",
    "    while True:\n",
    "        before_len = len(data)\n",
    "        data = cleanse_short_session(data, shortest)\n",
    "        data = cleanse_unpopular_item(data, least_click)\n",
    "        after_len = len(data)\n",
    "        if before_len == after_len:\n",
    "            break\n",
    "    return data\n",
    "\n",
    "\n",
    "def cleanse_short_session(data: pd.DataFrame, shortest):\n",
    "    session_len = data.groupby('SessionId').size()\n",
    "    session_use = session_len[session_len >= shortest].index\n",
    "    data = data[data['SessionId'].isin(session_use)]\n",
    "    return data\n",
    "\n",
    "\n",
    "def cleanse_unpopular_item(data: pd.DataFrame, least_click):\n",
    "    item_popular = data.groupby('ItemId').size()\n",
    "    item_use = item_popular[item_popular >= least_click].index\n",
    "    data = data[data['ItemId'].isin(item_use)]\n",
    "    return data"
   ]
  },
  {
   "cell_type": "code",
   "execution_count": 223,
   "id": "heavy-boutique",
   "metadata": {},
   "outputs": [
    {
     "data": {
      "text/html": [
       "<div>\n",
       "<style scoped>\n",
       "    .dataframe tbody tr th:only-of-type {\n",
       "        vertical-align: middle;\n",
       "    }\n",
       "\n",
       "    .dataframe tbody tr th {\n",
       "        vertical-align: top;\n",
       "    }\n",
       "\n",
       "    .dataframe thead th {\n",
       "        text-align: right;\n",
       "    }\n",
       "</style>\n",
       "<table border=\"1\" class=\"dataframe\">\n",
       "  <thead>\n",
       "    <tr style=\"text-align: right;\">\n",
       "      <th></th>\n",
       "      <th>UserId</th>\n",
       "      <th>ItemId</th>\n",
       "      <th>Rating</th>\n",
       "      <th>Time</th>\n",
       "    </tr>\n",
       "  </thead>\n",
       "  <tbody>\n",
       "    <tr>\n",
       "      <th>31</th>\n",
       "      <td>1</td>\n",
       "      <td>3186</td>\n",
       "      <td>4</td>\n",
       "      <td>978300019</td>\n",
       "    </tr>\n",
       "    <tr>\n",
       "      <th>22</th>\n",
       "      <td>1</td>\n",
       "      <td>1270</td>\n",
       "      <td>5</td>\n",
       "      <td>978300055</td>\n",
       "    </tr>\n",
       "    <tr>\n",
       "      <th>27</th>\n",
       "      <td>1</td>\n",
       "      <td>1721</td>\n",
       "      <td>4</td>\n",
       "      <td>978300055</td>\n",
       "    </tr>\n",
       "    <tr>\n",
       "      <th>37</th>\n",
       "      <td>1</td>\n",
       "      <td>1022</td>\n",
       "      <td>5</td>\n",
       "      <td>978300055</td>\n",
       "    </tr>\n",
       "    <tr>\n",
       "      <th>24</th>\n",
       "      <td>1</td>\n",
       "      <td>2340</td>\n",
       "      <td>3</td>\n",
       "      <td>978300103</td>\n",
       "    </tr>\n",
       "    <tr>\n",
       "      <th>...</th>\n",
       "      <td>...</td>\n",
       "      <td>...</td>\n",
       "      <td>...</td>\n",
       "      <td>...</td>\n",
       "    </tr>\n",
       "    <tr>\n",
       "      <th>1000019</th>\n",
       "      <td>6040</td>\n",
       "      <td>2917</td>\n",
       "      <td>4</td>\n",
       "      <td>997454429</td>\n",
       "    </tr>\n",
       "    <tr>\n",
       "      <th>999988</th>\n",
       "      <td>6040</td>\n",
       "      <td>1921</td>\n",
       "      <td>4</td>\n",
       "      <td>997454464</td>\n",
       "    </tr>\n",
       "    <tr>\n",
       "      <th>1000172</th>\n",
       "      <td>6040</td>\n",
       "      <td>1784</td>\n",
       "      <td>3</td>\n",
       "      <td>997454464</td>\n",
       "    </tr>\n",
       "    <tr>\n",
       "      <th>1000167</th>\n",
       "      <td>6040</td>\n",
       "      <td>161</td>\n",
       "      <td>3</td>\n",
       "      <td>997454486</td>\n",
       "    </tr>\n",
       "    <tr>\n",
       "      <th>1000042</th>\n",
       "      <td>6040</td>\n",
       "      <td>1221</td>\n",
       "      <td>4</td>\n",
       "      <td>998315055</td>\n",
       "    </tr>\n",
       "  </tbody>\n",
       "</table>\n",
       "<p>1000209 rows × 4 columns</p>\n",
       "</div>"
      ],
      "text/plain": [
       "         UserId  ItemId  Rating       Time\n",
       "31            1    3186       4  978300019\n",
       "22            1    1270       5  978300055\n",
       "27            1    1721       4  978300055\n",
       "37            1    1022       5  978300055\n",
       "24            1    2340       3  978300103\n",
       "...         ...     ...     ...        ...\n",
       "1000019    6040    2917       4  997454429\n",
       "999988     6040    1921       4  997454464\n",
       "1000172    6040    1784       3  997454464\n",
       "1000167    6040     161       3  997454486\n",
       "1000042    6040    1221       4  998315055\n",
       "\n",
       "[1000209 rows x 4 columns]"
      ]
     },
     "execution_count": 223,
     "metadata": {},
     "output_type": "execute_result"
    }
   ],
   "source": [
    "# data = cleanse_recursive(data, shortest=2, least_click=5)\n",
    "data"
   ]
  },
  {
   "cell_type": "markdown",
   "id": "animated-carpet",
   "metadata": {},
   "source": [
    "해당 데이터는 2003년을 기준으로 최대 3년치에 대한 데이터가 있고, User length는 최소가 20이므로 20개의 순서를 가지는 데이터로 구성된 세션이 있다고 고려되면 됩니다. 이는 영화라는 특성상에서 볼때 충분한 양의 데이터로 판단되므로 ~이상치 제거 없이 바로 진행하겠습니다.~ "
   ]
  },
  {
   "cell_type": "markdown",
   "id": "posted-plastic",
   "metadata": {},
   "source": [
    "이상치 제거를 안해주면 Time을 기준으로 이후에 split하기 어려워집니다. Session이라는 Dataset으로 간주하고 있으므로 해당 데이터셋을 가장 최근 리뷰를 남긴 영화를 Test set으로 두는게 좋습니다. 그럼, 해당 Test set을 어떤 시간을 기준으로 해야할까요 영화를 어떤 주기로 사용자들이 보는지 살펴볼 필요가 있을거 같습니다. \n",
    "\n",
    "**나만의 기준?**\n",
    "영화 취향은 계절을 기준으로 많이 바뀐다고 생각합니다. 그래서 최근 데이터를 기준으로 2000년 기준으로 했을때 4월이 가장 최근 데이터 이므로 근 4개월에 해당하는 데이터로만 추리고, 2개월, 1개월, 1개월로 data split을 진행하여 영화 예측을 해보겠습니다. "
   ]
  },
  {
   "cell_type": "code",
   "execution_count": 224,
   "id": "representative-precipitation",
   "metadata": {},
   "outputs": [
    {
     "name": "stdout",
     "output_type": "stream",
     "text": [
      "Dec\n",
      "2000\n"
     ]
    }
   ],
   "source": [
    "# struct_time을 asctime으로 변환 \n",
    "print(tm.asctime(tm.gmtime(data_time[0])).split()[1])\n",
    "print(tm.asctime(tm.gmtime(data_time[0])).split()[-1])"
   ]
  },
  {
   "cell_type": "code",
   "execution_count": 225,
   "id": "active-folder",
   "metadata": {},
   "outputs": [],
   "source": [
    "# append하는게 좋은 코드는 아니지만 일단 적용 .ㅎㅎ.. \n",
    "tmp = []\n",
    "for i in range(len(data['Time'])):\n",
    "    tmp.append(tm.asctime(tm.gmtime(data_time[i])).split()[1])\n",
    "data['Mon'] = tmp\n",
    "\n",
    "tmp = []\n",
    "for i in range(len(data['Time'])):\n",
    "    tmp.append(tm.asctime(tm.gmtime(data_time[i])).split()[-1])\n",
    "data['Year'] = tmp "
   ]
  },
  {
   "cell_type": "code",
   "execution_count": 226,
   "id": "legitimate-string",
   "metadata": {},
   "outputs": [
    {
     "data": {
      "text/html": [
       "<div>\n",
       "<style scoped>\n",
       "    .dataframe tbody tr th:only-of-type {\n",
       "        vertical-align: middle;\n",
       "    }\n",
       "\n",
       "    .dataframe tbody tr th {\n",
       "        vertical-align: top;\n",
       "    }\n",
       "\n",
       "    .dataframe thead th {\n",
       "        text-align: right;\n",
       "    }\n",
       "</style>\n",
       "<table border=\"1\" class=\"dataframe\">\n",
       "  <thead>\n",
       "    <tr style=\"text-align: right;\">\n",
       "      <th></th>\n",
       "      <th>UserId</th>\n",
       "      <th>ItemId</th>\n",
       "      <th>Rating</th>\n",
       "      <th>Time</th>\n",
       "      <th>Mon</th>\n",
       "      <th>Year</th>\n",
       "    </tr>\n",
       "  </thead>\n",
       "  <tbody>\n",
       "    <tr>\n",
       "      <th>31</th>\n",
       "      <td>1</td>\n",
       "      <td>3186</td>\n",
       "      <td>4</td>\n",
       "      <td>978300019</td>\n",
       "      <td>Dec</td>\n",
       "      <td>2000</td>\n",
       "    </tr>\n",
       "    <tr>\n",
       "      <th>22</th>\n",
       "      <td>1</td>\n",
       "      <td>1270</td>\n",
       "      <td>5</td>\n",
       "      <td>978300055</td>\n",
       "      <td>Dec</td>\n",
       "      <td>2000</td>\n",
       "    </tr>\n",
       "    <tr>\n",
       "      <th>27</th>\n",
       "      <td>1</td>\n",
       "      <td>1721</td>\n",
       "      <td>4</td>\n",
       "      <td>978300055</td>\n",
       "      <td>Dec</td>\n",
       "      <td>2000</td>\n",
       "    </tr>\n",
       "    <tr>\n",
       "      <th>37</th>\n",
       "      <td>1</td>\n",
       "      <td>1022</td>\n",
       "      <td>5</td>\n",
       "      <td>978300055</td>\n",
       "      <td>Dec</td>\n",
       "      <td>2000</td>\n",
       "    </tr>\n",
       "    <tr>\n",
       "      <th>24</th>\n",
       "      <td>1</td>\n",
       "      <td>2340</td>\n",
       "      <td>3</td>\n",
       "      <td>978300103</td>\n",
       "      <td>Jan</td>\n",
       "      <td>2001</td>\n",
       "    </tr>\n",
       "  </tbody>\n",
       "</table>\n",
       "</div>"
      ],
      "text/plain": [
       "    UserId  ItemId  Rating       Time  Mon  Year\n",
       "31       1    3186       4  978300019  Dec  2000\n",
       "22       1    1270       5  978300055  Dec  2000\n",
       "27       1    1721       4  978300055  Dec  2000\n",
       "37       1    1022       5  978300055  Dec  2000\n",
       "24       1    2340       3  978300103  Jan  2001"
      ]
     },
     "execution_count": 226,
     "metadata": {},
     "output_type": "execute_result"
    }
   ],
   "source": [
    "data.head()"
   ]
  },
  {
   "cell_type": "code",
   "execution_count": 227,
   "id": "colored-suggestion",
   "metadata": {},
   "outputs": [
    {
     "data": {
      "text/plain": [
       "1000209"
      ]
     },
     "execution_count": 227,
     "metadata": {},
     "output_type": "execute_result"
    }
   ],
   "source": [
    "len(data)"
   ]
  },
  {
   "cell_type": "code",
   "execution_count": 228,
   "id": "central-commissioner",
   "metadata": {},
   "outputs": [
    {
     "data": {
      "text/html": [
       "<div>\n",
       "<style scoped>\n",
       "    .dataframe tbody tr th:only-of-type {\n",
       "        vertical-align: middle;\n",
       "    }\n",
       "\n",
       "    .dataframe tbody tr th {\n",
       "        vertical-align: top;\n",
       "    }\n",
       "\n",
       "    .dataframe thead th {\n",
       "        text-align: right;\n",
       "    }\n",
       "</style>\n",
       "<table border=\"1\" class=\"dataframe\">\n",
       "  <thead>\n",
       "    <tr style=\"text-align: right;\">\n",
       "      <th></th>\n",
       "      <th>UserId</th>\n",
       "      <th>ItemId</th>\n",
       "      <th>Rating</th>\n",
       "      <th>Time</th>\n",
       "      <th>Mon</th>\n",
       "      <th>Year</th>\n",
       "    </tr>\n",
       "  </thead>\n",
       "  <tbody>\n",
       "    <tr>\n",
       "      <th>23606</th>\n",
       "      <td>169</td>\n",
       "      <td>2372</td>\n",
       "      <td>4</td>\n",
       "      <td>977210582</td>\n",
       "      <td>Nov</td>\n",
       "      <td>2002</td>\n",
       "    </tr>\n",
       "    <tr>\n",
       "      <th>28088</th>\n",
       "      <td>195</td>\n",
       "      <td>2539</td>\n",
       "      <td>4</td>\n",
       "      <td>977885999</td>\n",
       "      <td>Nov</td>\n",
       "      <td>2002</td>\n",
       "    </tr>\n",
       "    <tr>\n",
       "      <th>27936</th>\n",
       "      <td>195</td>\n",
       "      <td>1603</td>\n",
       "      <td>2</td>\n",
       "      <td>978643703</td>\n",
       "      <td>Nov</td>\n",
       "      <td>2002</td>\n",
       "    </tr>\n",
       "    <tr>\n",
       "      <th>28265</th>\n",
       "      <td>195</td>\n",
       "      <td>262</td>\n",
       "      <td>5</td>\n",
       "      <td>979084521</td>\n",
       "      <td>Nov</td>\n",
       "      <td>2002</td>\n",
       "    </tr>\n",
       "    <tr>\n",
       "      <th>28418</th>\n",
       "      <td>195</td>\n",
       "      <td>3816</td>\n",
       "      <td>5</td>\n",
       "      <td>993861646</td>\n",
       "      <td>Nov</td>\n",
       "      <td>2002</td>\n",
       "    </tr>\n",
       "    <tr>\n",
       "      <th>...</th>\n",
       "      <td>...</td>\n",
       "      <td>...</td>\n",
       "      <td>...</td>\n",
       "      <td>...</td>\n",
       "      <td>...</td>\n",
       "      <td>...</td>\n",
       "    </tr>\n",
       "    <tr>\n",
       "      <th>941475</th>\n",
       "      <td>5682</td>\n",
       "      <td>300</td>\n",
       "      <td>4</td>\n",
       "      <td>1026882327</td>\n",
       "      <td>Nov</td>\n",
       "      <td>2002</td>\n",
       "    </tr>\n",
       "    <tr>\n",
       "      <th>941578</th>\n",
       "      <td>5682</td>\n",
       "      <td>2995</td>\n",
       "      <td>2</td>\n",
       "      <td>1029466728</td>\n",
       "      <td>Nov</td>\n",
       "      <td>2002</td>\n",
       "    </tr>\n",
       "    <tr>\n",
       "      <th>947878</th>\n",
       "      <td>5723</td>\n",
       "      <td>2139</td>\n",
       "      <td>5</td>\n",
       "      <td>1018052588</td>\n",
       "      <td>Nov</td>\n",
       "      <td>2002</td>\n",
       "    </tr>\n",
       "    <tr>\n",
       "      <th>969217</th>\n",
       "      <td>5841</td>\n",
       "      <td>2359</td>\n",
       "      <td>5</td>\n",
       "      <td>957821336</td>\n",
       "      <td>Nov</td>\n",
       "      <td>2002</td>\n",
       "    </tr>\n",
       "    <tr>\n",
       "      <th>992368</th>\n",
       "      <td>5996</td>\n",
       "      <td>2116</td>\n",
       "      <td>4</td>\n",
       "      <td>956940055</td>\n",
       "      <td>Nov</td>\n",
       "      <td>2002</td>\n",
       "    </tr>\n",
       "  </tbody>\n",
       "</table>\n",
       "<p>1908 rows × 6 columns</p>\n",
       "</div>"
      ],
      "text/plain": [
       "        UserId  ItemId  Rating        Time  Mon  Year\n",
       "23606      169    2372       4   977210582  Nov  2002\n",
       "28088      195    2539       4   977885999  Nov  2002\n",
       "27936      195    1603       2   978643703  Nov  2002\n",
       "28265      195     262       5   979084521  Nov  2002\n",
       "28418      195    3816       5   993861646  Nov  2002\n",
       "...        ...     ...     ...         ...  ...   ...\n",
       "941475    5682     300       4  1026882327  Nov  2002\n",
       "941578    5682    2995       2  1029466728  Nov  2002\n",
       "947878    5723    2139       5  1018052588  Nov  2002\n",
       "969217    5841    2359       5   957821336  Nov  2002\n",
       "992368    5996    2116       4   956940055  Nov  2002\n",
       "\n",
       "[1908 rows x 6 columns]"
      ]
     },
     "execution_count": 228,
     "metadata": {},
     "output_type": "execute_result"
    }
   ],
   "source": [
    "data[(data['Year']=='2002') & (data['Mon']=='Nov')]"
   ]
  },
  {
   "cell_type": "code",
   "execution_count": 229,
   "id": "advised-british",
   "metadata": {
    "scrolled": false
   },
   "outputs": [],
   "source": [
    "# 2002년 11월부터 2003년 2월로 Filtering\n",
    "\n",
    "tmp1 = data[(data['Year']=='2002') & (data['Mon']=='Nov')]\n",
    "tmp2 = data[(data['Year']=='2002') & (data['Mon']=='Dec')]\n",
    "tmp3 = data[(data['Year']=='2003') & (data['Mon']=='Jan')]\n",
    "tmp4 = data[(data['Year']=='2003') & (data['Mon']=='Feb')]\n",
    "\n",
    "data = pd.concat([tmp1,tmp2,tmp3, tmp4])\n",
    "data.sort_values(['UserId', 'Time'], inplace=True)  # data를 id와 시간 순서로 재정렬해줍니다."
   ]
  },
  {
   "cell_type": "code",
   "execution_count": 252,
   "id": "western-service",
   "metadata": {},
   "outputs": [
    {
     "name": "stdout",
     "output_type": "stream",
     "text": [
      "0\n",
      "0\n",
      "0\n",
      "0\n"
     ]
    }
   ],
   "source": [
    "print(len(data[(data['Year']=='2002') & (data['Mon']=='Nov')]))\n",
    "print(len(data[(data['Year']=='2002') & (data['Mon']=='Dec')]))\n",
    "print(len(data[(data['Year']=='2003') & (data['Mon']=='Jan')]))\n",
    "print(len(data[(data['Year']=='2003') & (data['Mon']=='Feb')]))"
   ]
  },
  {
   "cell_type": "code",
   "execution_count": 230,
   "id": "realistic-second",
   "metadata": {},
   "outputs": [
    {
     "data": {
      "text/html": [
       "<div>\n",
       "<style scoped>\n",
       "    .dataframe tbody tr th:only-of-type {\n",
       "        vertical-align: middle;\n",
       "    }\n",
       "\n",
       "    .dataframe tbody tr th {\n",
       "        vertical-align: top;\n",
       "    }\n",
       "\n",
       "    .dataframe thead th {\n",
       "        text-align: right;\n",
       "    }\n",
       "</style>\n",
       "<table border=\"1\" class=\"dataframe\">\n",
       "  <thead>\n",
       "    <tr style=\"text-align: right;\">\n",
       "      <th></th>\n",
       "      <th>UserId</th>\n",
       "      <th>ItemId</th>\n",
       "      <th>Rating</th>\n",
       "      <th>Time</th>\n",
       "      <th>Mon</th>\n",
       "      <th>Year</th>\n",
       "    </tr>\n",
       "  </thead>\n",
       "  <tbody>\n",
       "    <tr>\n",
       "      <th>5030</th>\n",
       "      <td>36</td>\n",
       "      <td>3793</td>\n",
       "      <td>4</td>\n",
       "      <td>978061914</td>\n",
       "      <td>Dec</td>\n",
       "      <td>2002</td>\n",
       "    </tr>\n",
       "    <tr>\n",
       "      <th>5077</th>\n",
       "      <td>36</td>\n",
       "      <td>2571</td>\n",
       "      <td>5</td>\n",
       "      <td>978062293</td>\n",
       "      <td>Dec</td>\n",
       "      <td>2002</td>\n",
       "    </tr>\n",
       "    <tr>\n",
       "      <th>5022</th>\n",
       "      <td>36</td>\n",
       "      <td>2628</td>\n",
       "      <td>3</td>\n",
       "      <td>978062357</td>\n",
       "      <td>Dec</td>\n",
       "      <td>2002</td>\n",
       "    </tr>\n",
       "    <tr>\n",
       "      <th>5028</th>\n",
       "      <td>36</td>\n",
       "      <td>3863</td>\n",
       "      <td>4</td>\n",
       "      <td>978062718</td>\n",
       "      <td>Dec</td>\n",
       "      <td>2002</td>\n",
       "    </tr>\n",
       "    <tr>\n",
       "      <th>5247</th>\n",
       "      <td>36</td>\n",
       "      <td>2791</td>\n",
       "      <td>5</td>\n",
       "      <td>978063339</td>\n",
       "      <td>Dec</td>\n",
       "      <td>2002</td>\n",
       "    </tr>\n",
       "    <tr>\n",
       "      <th>5087</th>\n",
       "      <td>36</td>\n",
       "      <td>2145</td>\n",
       "      <td>5</td>\n",
       "      <td>978064036</td>\n",
       "      <td>Dec</td>\n",
       "      <td>2002</td>\n",
       "    </tr>\n",
       "    <tr>\n",
       "      <th>5273</th>\n",
       "      <td>36</td>\n",
       "      <td>1135</td>\n",
       "      <td>4</td>\n",
       "      <td>978064036</td>\n",
       "      <td>Dec</td>\n",
       "      <td>2002</td>\n",
       "    </tr>\n",
       "    <tr>\n",
       "      <th>5103</th>\n",
       "      <td>36</td>\n",
       "      <td>246</td>\n",
       "      <td>5</td>\n",
       "      <td>978103870</td>\n",
       "      <td>Dec</td>\n",
       "      <td>2002</td>\n",
       "    </tr>\n",
       "    <tr>\n",
       "      <th>5349</th>\n",
       "      <td>36</td>\n",
       "      <td>1094</td>\n",
       "      <td>4</td>\n",
       "      <td>978210213</td>\n",
       "      <td>Dec</td>\n",
       "      <td>2002</td>\n",
       "    </tr>\n",
       "    <tr>\n",
       "      <th>5223</th>\n",
       "      <td>36</td>\n",
       "      <td>3147</td>\n",
       "      <td>5</td>\n",
       "      <td>978211198</td>\n",
       "      <td>Dec</td>\n",
       "      <td>2002</td>\n",
       "    </tr>\n",
       "    <tr>\n",
       "      <th>5245</th>\n",
       "      <td>36</td>\n",
       "      <td>2288</td>\n",
       "      <td>4</td>\n",
       "      <td>978211264</td>\n",
       "      <td>Dec</td>\n",
       "      <td>2002</td>\n",
       "    </tr>\n",
       "    <tr>\n",
       "      <th>5304</th>\n",
       "      <td>36</td>\n",
       "      <td>3256</td>\n",
       "      <td>4</td>\n",
       "      <td>978211399</td>\n",
       "      <td>Dec</td>\n",
       "      <td>2002</td>\n",
       "    </tr>\n",
       "    <tr>\n",
       "      <th>5076</th>\n",
       "      <td>36</td>\n",
       "      <td>595</td>\n",
       "      <td>4</td>\n",
       "      <td>1040545109</td>\n",
       "      <td>Dec</td>\n",
       "      <td>2002</td>\n",
       "    </tr>\n",
       "    <tr>\n",
       "      <th>8827</th>\n",
       "      <td>59</td>\n",
       "      <td>260</td>\n",
       "      <td>3</td>\n",
       "      <td>977933555</td>\n",
       "      <td>Jan</td>\n",
       "      <td>2003</td>\n",
       "    </tr>\n",
       "    <tr>\n",
       "      <th>8907</th>\n",
       "      <td>59</td>\n",
       "      <td>1246</td>\n",
       "      <td>3</td>\n",
       "      <td>977933606</td>\n",
       "      <td>Jan</td>\n",
       "      <td>2003</td>\n",
       "    </tr>\n",
       "    <tr>\n",
       "      <th>8851</th>\n",
       "      <td>59</td>\n",
       "      <td>2858</td>\n",
       "      <td>3</td>\n",
       "      <td>977933675</td>\n",
       "      <td>Jan</td>\n",
       "      <td>2003</td>\n",
       "    </tr>\n",
       "    <tr>\n",
       "      <th>8697</th>\n",
       "      <td>59</td>\n",
       "      <td>1249</td>\n",
       "      <td>3</td>\n",
       "      <td>977933701</td>\n",
       "      <td>Jan</td>\n",
       "      <td>2003</td>\n",
       "    </tr>\n",
       "    <tr>\n",
       "      <th>8864</th>\n",
       "      <td>59</td>\n",
       "      <td>3675</td>\n",
       "      <td>3</td>\n",
       "      <td>977933783</td>\n",
       "      <td>Jan</td>\n",
       "      <td>2003</td>\n",
       "    </tr>\n",
       "    <tr>\n",
       "      <th>8888</th>\n",
       "      <td>59</td>\n",
       "      <td>480</td>\n",
       "      <td>3</td>\n",
       "      <td>977933783</td>\n",
       "      <td>Jan</td>\n",
       "      <td>2003</td>\n",
       "    </tr>\n",
       "    <tr>\n",
       "      <th>8713</th>\n",
       "      <td>59</td>\n",
       "      <td>661</td>\n",
       "      <td>3</td>\n",
       "      <td>977933844</td>\n",
       "      <td>Jan</td>\n",
       "      <td>2003</td>\n",
       "    </tr>\n",
       "  </tbody>\n",
       "</table>\n",
       "</div>"
      ],
      "text/plain": [
       "      UserId  ItemId  Rating        Time  Mon  Year\n",
       "5030      36    3793       4   978061914  Dec  2002\n",
       "5077      36    2571       5   978062293  Dec  2002\n",
       "5022      36    2628       3   978062357  Dec  2002\n",
       "5028      36    3863       4   978062718  Dec  2002\n",
       "5247      36    2791       5   978063339  Dec  2002\n",
       "5087      36    2145       5   978064036  Dec  2002\n",
       "5273      36    1135       4   978064036  Dec  2002\n",
       "5103      36     246       5   978103870  Dec  2002\n",
       "5349      36    1094       4   978210213  Dec  2002\n",
       "5223      36    3147       5   978211198  Dec  2002\n",
       "5245      36    2288       4   978211264  Dec  2002\n",
       "5304      36    3256       4   978211399  Dec  2002\n",
       "5076      36     595       4  1040545109  Dec  2002\n",
       "8827      59     260       3   977933555  Jan  2003\n",
       "8907      59    1246       3   977933606  Jan  2003\n",
       "8851      59    2858       3   977933675  Jan  2003\n",
       "8697      59    1249       3   977933701  Jan  2003\n",
       "8864      59    3675       3   977933783  Jan  2003\n",
       "8888      59     480       3   977933783  Jan  2003\n",
       "8713      59     661       3   977933844  Jan  2003"
      ]
     },
     "execution_count": 230,
     "metadata": {},
     "output_type": "execute_result"
    }
   ],
   "source": [
    "data.head(20)"
   ]
  },
  {
   "cell_type": "code",
   "execution_count": 231,
   "id": "large-monster",
   "metadata": {},
   "outputs": [
    {
     "data": {
      "text/plain": [
       "6520"
      ]
     },
     "execution_count": 231,
     "metadata": {},
     "output_type": "execute_result"
    }
   ],
   "source": [
    "len(data)"
   ]
  },
  {
   "cell_type": "code",
   "execution_count": 232,
   "id": "creative-singapore",
   "metadata": {},
   "outputs": [
    {
     "data": {
      "text/html": [
       "<div>\n",
       "<style scoped>\n",
       "    .dataframe tbody tr th:only-of-type {\n",
       "        vertical-align: middle;\n",
       "    }\n",
       "\n",
       "    .dataframe tbody tr th {\n",
       "        vertical-align: top;\n",
       "    }\n",
       "\n",
       "    .dataframe thead th {\n",
       "        text-align: right;\n",
       "    }\n",
       "</style>\n",
       "<table border=\"1\" class=\"dataframe\">\n",
       "  <thead>\n",
       "    <tr style=\"text-align: right;\">\n",
       "      <th></th>\n",
       "      <th>UserId</th>\n",
       "      <th>ItemId</th>\n",
       "      <th>Rating</th>\n",
       "      <th>Time</th>\n",
       "      <th>Mon</th>\n",
       "      <th>Year</th>\n",
       "    </tr>\n",
       "  </thead>\n",
       "  <tbody>\n",
       "    <tr>\n",
       "      <th>5030</th>\n",
       "      <td>36</td>\n",
       "      <td>3793</td>\n",
       "      <td>4</td>\n",
       "      <td>978061914</td>\n",
       "      <td>1</td>\n",
       "      <td>2002</td>\n",
       "    </tr>\n",
       "    <tr>\n",
       "      <th>5077</th>\n",
       "      <td>36</td>\n",
       "      <td>2571</td>\n",
       "      <td>5</td>\n",
       "      <td>978062293</td>\n",
       "      <td>1</td>\n",
       "      <td>2002</td>\n",
       "    </tr>\n",
       "    <tr>\n",
       "      <th>5022</th>\n",
       "      <td>36</td>\n",
       "      <td>2628</td>\n",
       "      <td>3</td>\n",
       "      <td>978062357</td>\n",
       "      <td>1</td>\n",
       "      <td>2002</td>\n",
       "    </tr>\n",
       "    <tr>\n",
       "      <th>5028</th>\n",
       "      <td>36</td>\n",
       "      <td>3863</td>\n",
       "      <td>4</td>\n",
       "      <td>978062718</td>\n",
       "      <td>1</td>\n",
       "      <td>2002</td>\n",
       "    </tr>\n",
       "    <tr>\n",
       "      <th>5247</th>\n",
       "      <td>36</td>\n",
       "      <td>2791</td>\n",
       "      <td>5</td>\n",
       "      <td>978063339</td>\n",
       "      <td>1</td>\n",
       "      <td>2002</td>\n",
       "    </tr>\n",
       "    <tr>\n",
       "      <th>...</th>\n",
       "      <td>...</td>\n",
       "      <td>...</td>\n",
       "      <td>...</td>\n",
       "      <td>...</td>\n",
       "      <td>...</td>\n",
       "      <td>...</td>\n",
       "    </tr>\n",
       "    <tr>\n",
       "      <th>984537</th>\n",
       "      <td>5950</td>\n",
       "      <td>223</td>\n",
       "      <td>3</td>\n",
       "      <td>957444018</td>\n",
       "      <td>3</td>\n",
       "      <td>2003</td>\n",
       "    </tr>\n",
       "    <tr>\n",
       "      <th>984750</th>\n",
       "      <td>5950</td>\n",
       "      <td>2243</td>\n",
       "      <td>4</td>\n",
       "      <td>957444036</td>\n",
       "      <td>3</td>\n",
       "      <td>2003</td>\n",
       "    </tr>\n",
       "    <tr>\n",
       "      <th>984575</th>\n",
       "      <td>5950</td>\n",
       "      <td>2100</td>\n",
       "      <td>2</td>\n",
       "      <td>957444397</td>\n",
       "      <td>3</td>\n",
       "      <td>2003</td>\n",
       "    </tr>\n",
       "    <tr>\n",
       "      <th>984731</th>\n",
       "      <td>5950</td>\n",
       "      <td>3948</td>\n",
       "      <td>4</td>\n",
       "      <td>1046369637</td>\n",
       "      <td>3</td>\n",
       "      <td>2003</td>\n",
       "    </tr>\n",
       "    <tr>\n",
       "      <th>992368</th>\n",
       "      <td>5996</td>\n",
       "      <td>2116</td>\n",
       "      <td>4</td>\n",
       "      <td>956940055</td>\n",
       "      <td>0</td>\n",
       "      <td>2002</td>\n",
       "    </tr>\n",
       "  </tbody>\n",
       "</table>\n",
       "<p>6520 rows × 6 columns</p>\n",
       "</div>"
      ],
      "text/plain": [
       "        UserId  ItemId  Rating        Time  Mon  Year\n",
       "5030        36    3793       4   978061914    1  2002\n",
       "5077        36    2571       5   978062293    1  2002\n",
       "5022        36    2628       3   978062357    1  2002\n",
       "5028        36    3863       4   978062718    1  2002\n",
       "5247        36    2791       5   978063339    1  2002\n",
       "...        ...     ...     ...         ...  ...   ...\n",
       "984537    5950     223       3   957444018    3  2003\n",
       "984750    5950    2243       4   957444036    3  2003\n",
       "984575    5950    2100       2   957444397    3  2003\n",
       "984731    5950    3948       4  1046369637    3  2003\n",
       "992368    5996    2116       4   956940055    0  2002\n",
       "\n",
       "[6520 rows x 6 columns]"
      ]
     },
     "execution_count": 232,
     "metadata": {},
     "output_type": "execute_result"
    }
   ],
   "source": [
    "# 11, 12, 1, 2\n",
    "data['Mon'].replace('Nov', 0, inplace=True)\n",
    "data['Mon'].replace('Dec', 1, inplace=True)\n",
    "data['Mon'].replace('Jan', 2, inplace=True)\n",
    "data['Mon'].replace('Feb', 3, inplace=True)\n",
    "data"
   ]
  },
  {
   "cell_type": "markdown",
   "id": "equipped-warning",
   "metadata": {},
   "source": [
    "### Data split"
   ]
  },
  {
   "cell_type": "code",
   "execution_count": 233,
   "id": "competent-capacity",
   "metadata": {},
   "outputs": [
    {
     "data": {
      "text/plain": [
       "6520"
      ]
     },
     "execution_count": 233,
     "metadata": {},
     "output_type": "execute_result"
    }
   ],
   "source": [
    "len(data)"
   ]
  },
  {
   "cell_type": "code",
   "execution_count": 242,
   "id": "optical-protocol",
   "metadata": {},
   "outputs": [
    {
     "data": {
      "text/plain": [
       "UserId\n",
       "36      False\n",
       "59      False\n",
       "65      False\n",
       "102     False\n",
       "131     False\n",
       "        ...  \n",
       "5841    False\n",
       "5878    False\n",
       "5948    False\n",
       "5950    False\n",
       "5996    False\n",
       "Name: Mon, Length: 278, dtype: bool"
      ]
     },
     "execution_count": 242,
     "metadata": {},
     "output_type": "execute_result"
    }
   ],
   "source": [
    "data.groupby('UserId')['Mon'].nunique() == 4"
   ]
  },
  {
   "cell_type": "code",
   "execution_count": 247,
   "id": "clear-compensation",
   "metadata": {
    "scrolled": true
   },
   "outputs": [],
   "source": [
    "data['Mon_sum'] = data.Mon_sum.map(data.groupby(['UserId'])['Mon'].nunique())"
   ]
  },
  {
   "cell_type": "code",
   "execution_count": 249,
   "id": "infrared-willow",
   "metadata": {},
   "outputs": [],
   "source": [
    "data[data['Mon_sum']==6] # 0~3까지의 합이 6이므로 6이 안되면, 각 월 데이터 중 Null이 있는 것 "
   ]
  },
  {
   "cell_type": "code",
   "execution_count": 250,
   "id": "reduced-dinner",
   "metadata": {},
   "outputs": [
    {
     "data": {
      "text/html": [
       "<div>\n",
       "<style scoped>\n",
       "    .dataframe tbody tr th:only-of-type {\n",
       "        vertical-align: middle;\n",
       "    }\n",
       "\n",
       "    .dataframe tbody tr th {\n",
       "        vertical-align: top;\n",
       "    }\n",
       "\n",
       "    .dataframe thead th {\n",
       "        text-align: right;\n",
       "    }\n",
       "</style>\n",
       "<table border=\"1\" class=\"dataframe\">\n",
       "  <thead>\n",
       "    <tr style=\"text-align: right;\">\n",
       "      <th></th>\n",
       "      <th>UserId</th>\n",
       "      <th>ItemId</th>\n",
       "      <th>Rating</th>\n",
       "      <th>Time</th>\n",
       "      <th>Mon</th>\n",
       "      <th>Year</th>\n",
       "      <th>Mon_sum</th>\n",
       "    </tr>\n",
       "  </thead>\n",
       "  <tbody>\n",
       "  </tbody>\n",
       "</table>\n",
       "</div>"
      ],
      "text/plain": [
       "Empty DataFrame\n",
       "Columns: [UserId, ItemId, Rating, Time, Mon, Year, Mon_sum]\n",
       "Index: []"
      ]
     },
     "execution_count": 250,
     "metadata": {},
     "output_type": "execute_result"
    }
   ],
   "source": [
    "data"
   ]
  },
  {
   "cell_type": "code",
   "execution_count": null,
   "id": "hearing-hydrogen",
   "metadata": {},
   "outputs": [],
   "source": [
    "# 각 11, 12, 1, 2월의 데이터들을 train, val, test에 넣어준다.\n",
    "tr = data[(data['Year']=='2002') & (data['Mon']==0)]\n",
    "tr.append(data[(data['Year']=='2002') & (data['Mon']==1)])\n",
    "\n",
    "val = data[(data['Year']=='2003') & (data['Mon']==2)]\n",
    "test = data[(data['Year']=='2004') & (data['Mon']==3)]"
   ]
  },
  {
   "cell_type": "markdown",
   "id": "introductory-chorus",
   "metadata": {},
   "source": [
    "## Step 2. 미니 배치의 구성\n",
    "* user-Parallel Mini-Batch의 개념에 따라, 학습 속도의 저하가 최소화될 수 있도록 구성\n",
    "* 단, 위 Step 1에서 user 단위를 어떻게 정의했느냐에 따라서 user-Parallel Mini-Batch이 필요할 수 없을 수 있다. "
   ]
  },
  {
   "cell_type": "code",
   "execution_count": null,
   "id": "systematic-transformation",
   "metadata": {},
   "outputs": [],
   "source": []
  },
  {
   "cell_type": "code",
   "execution_count": null,
   "id": "ongoing-festival",
   "metadata": {},
   "outputs": [],
   "source": []
  },
  {
   "cell_type": "markdown",
   "id": "indoor-garbage",
   "metadata": {},
   "source": [
    "## Step 3. 모델 구성\n",
    "* 다양한 하이퍼파라미터를 변경해 보며 검증"
   ]
  },
  {
   "cell_type": "code",
   "execution_count": null,
   "id": "medical-paper",
   "metadata": {},
   "outputs": [],
   "source": []
  },
  {
   "cell_type": "code",
   "execution_count": null,
   "id": "occupied-philosophy",
   "metadata": {},
   "outputs": [],
   "source": []
  },
  {
   "cell_type": "markdown",
   "id": "split-sullivan",
   "metadata": {},
   "source": [
    "## Step 4. 모델 학습\n",
    "* Recall, MRR 확인"
   ]
  },
  {
   "cell_type": "code",
   "execution_count": null,
   "id": "dominant-islam",
   "metadata": {},
   "outputs": [],
   "source": []
  },
  {
   "cell_type": "code",
   "execution_count": null,
   "id": "found-rolling",
   "metadata": {},
   "outputs": [],
   "source": []
  },
  {
   "cell_type": "markdown",
   "id": "removable-wright",
   "metadata": {},
   "source": [
    "## Step 5. 모델 테스트"
   ]
  },
  {
   "cell_type": "code",
   "execution_count": null,
   "id": "romantic-heart",
   "metadata": {},
   "outputs": [],
   "source": []
  },
  {
   "cell_type": "code",
   "execution_count": null,
   "id": "acceptable-receptor",
   "metadata": {},
   "outputs": [],
   "source": []
  },
  {
   "cell_type": "markdown",
   "id": "residential-chosen",
   "metadata": {},
   "source": [
    "### 모델보다는 Set의 문제 - ~기존 Dataset~ => 아래 3가지 한계점을 피해서 구성한 Dataset 활용\n",
    "1. 시스템이 충분한 정보를 모으지 못 했을 때, 사용자나 아이템에 대한 추론을 할 수 없는 상태인 Cold start\n",
    "2. 계산량이 너무 많아서 추천의 효율이 떨어지는 상황\n",
    "3. long tail의 꼬리 부분, 즉 사용자의 관심이 저조한 항목의 정보가 부족하여 추천에서 배제되는 상황"
   ]
  },
  {
   "cell_type": "code",
   "execution_count": null,
   "id": "opposite-mexico",
   "metadata": {},
   "outputs": [],
   "source": []
  },
  {
   "cell_type": "code",
   "execution_count": null,
   "id": "controversial-scratch",
   "metadata": {},
   "outputs": [],
   "source": []
  },
  {
   "cell_type": "code",
   "execution_count": null,
   "id": "injured-papua",
   "metadata": {},
   "outputs": [],
   "source": []
  }
 ],
 "metadata": {
  "kernelspec": {
   "display_name": "aiffel",
   "language": "python",
   "name": "aiffel"
  },
  "language_info": {
   "codemirror_mode": {
    "name": "ipython",
    "version": 3
   },
   "file_extension": ".py",
   "mimetype": "text/x-python",
   "name": "python",
   "nbconvert_exporter": "python",
   "pygments_lexer": "ipython3",
   "version": "3.7.10"
  }
 },
 "nbformat": 4,
 "nbformat_minor": 5
}

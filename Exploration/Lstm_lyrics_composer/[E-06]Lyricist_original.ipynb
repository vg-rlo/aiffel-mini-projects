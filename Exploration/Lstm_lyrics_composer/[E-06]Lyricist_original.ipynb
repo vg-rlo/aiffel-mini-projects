{
 "cells": [
  {
   "cell_type": "markdown",
   "id": "agreed-trick",
   "metadata": {},
   "source": [
    "# 프로젝트: 가사를 이어붙이는 인공지능 "
   ]
  },
  {
   "cell_type": "markdown",
   "id": "developed-premiere",
   "metadata": {},
   "source": [
    "## 0. 환경 세팅"
   ]
  },
  {
   "cell_type": "markdown",
   "id": "backed-duncan",
   "metadata": {},
   "source": [
    "### 소요시간 확인을 위한 autotime 라이브러리 "
   ]
  },
  {
   "cell_type": "code",
   "execution_count": 1,
   "id": "little-referral",
   "metadata": {},
   "outputs": [
    {
     "name": "stdout",
     "output_type": "stream",
     "text": [
      "time: 223 µs (started: 2021-01-30 22:47:30 +09:00)\n"
     ]
    }
   ],
   "source": [
    "# 시간 측정 \n",
    "# !pip install ipython-autotime\n",
    "%load_ext autotime"
   ]
  },
  {
   "cell_type": "markdown",
   "id": "automotive-defeat",
   "metadata": {},
   "source": [
    "### Random seed 설정 \n",
    "- 같은 결과를 유지하기 위해 설정해준다. 튜닝으로 개선할 수 도 있으나 기존 RNN을 사용한 사례에서 seed값을 일단 참고했다."
   ]
  },
  {
   "cell_type": "code",
   "execution_count": 2,
   "id": "spoken-participant",
   "metadata": {},
   "outputs": [
    {
     "name": "stdout",
     "output_type": "stream",
     "text": [
      "time: 1.32 s (started: 2021-01-30 22:47:30 +09:00)\n"
     ]
    }
   ],
   "source": [
    "import os, random\n",
    "import tensorflow as tf\n",
    "import numpy as np \n",
    "\n",
    "# random seed \n",
    "def set_seeds(seed):\n",
    "    os.environ['PYTHONHASHSEED'] = str(seed)\n",
    "    random.seed(seed)\n",
    "    tf.random.set_seed(seed)\n",
    "    np.random.seed(seed)\n",
    "    \n",
    "SEED = 10\n",
    "set_seeds(SEED)"
   ]
  },
  {
   "cell_type": "markdown",
   "id": "bigger-diploma",
   "metadata": {},
   "source": [
    "### GPU 세팅"
   ]
  },
  {
   "cell_type": "code",
   "execution_count": 3,
   "id": "fatty-accounting",
   "metadata": {
    "scrolled": true
   },
   "outputs": [
    {
     "name": "stdout",
     "output_type": "stream",
     "text": [
      "time: 253 µs (started: 2021-01-30 22:47:32 +09:00)\n"
     ]
    }
   ],
   "source": [
    "os.environ['TF_FORCE_GPU_ALLOW_GROWTH'] = 'true'"
   ]
  },
  {
   "cell_type": "code",
   "execution_count": 4,
   "id": "mexican-effort",
   "metadata": {
    "scrolled": true
   },
   "outputs": [
    {
     "name": "stdout",
     "output_type": "stream",
     "text": [
      "1 Physical GPUs, 1 Logical GPUs\n",
      "time: 137 ms (started: 2021-01-30 22:47:32 +09:00)\n"
     ]
    }
   ],
   "source": [
    "gpus = tf.config.experimental.list_physical_devices('GPU')\n",
    "if gpus:\n",
    "    try:\n",
    "        # Currently, memory growth needs to be the same across GPUs\n",
    "        for gpu in gpus:\n",
    "            tf.config.experimental.set_memory_growth(gpu, True)\n",
    "        logical_gpus = tf.config.experimental.list_logical_devices('GPU')\n",
    "        print(len(gpus), \"Physical GPUs,\", len(logical_gpus), \"Logical GPUs\")\n",
    "        \n",
    "    except RuntimeError as e:\n",
    "        # Memory growth must be set before GPUs have been initialized\n",
    "        print(e)"
   ]
  },
  {
   "cell_type": "markdown",
   "id": "complicated-contract",
   "metadata": {},
   "source": [
    "### 사용 라이브러리 "
   ]
  },
  {
   "cell_type": "code",
   "execution_count": 5,
   "id": "changing-yeast",
   "metadata": {},
   "outputs": [
    {
     "name": "stdout",
     "output_type": "stream",
     "text": [
      "time: 265 ms (started: 2021-01-30 22:47:32 +09:00)\n"
     ]
    }
   ],
   "source": [
    "import re # 정규표현식을 활용 \n",
    "import numpy as np # 변환된 문장데이터의 array로 변환 \n",
    "import matplotlib.pyplot as plt # 분포의 시각화\n",
    "from tensorflow.keras.preprocessing.sequence import pad_sequences # 패딩 추가\n",
    "from collections import Counter # 빈도수 \n",
    "\n",
    "from sklearn.model_selection import train_test_split # 데이터셋 분리 \n",
    "\n",
    "from tensorflow.keras.callbacks import EarlyStopping, ModelCheckpoint # 빨리 끝내기, 체크포인트 모델 파일 저장"
   ]
  },
  {
   "cell_type": "markdown",
   "id": "coupled-marsh",
   "metadata": {},
   "source": [
    "## 1. 데이터 다운로드"
   ]
  },
  {
   "cell_type": "markdown",
   "id": "behind-campbell",
   "metadata": {},
   "source": [
    "### 데이터 디렉토리 만들기\n",
    "* os.path.isdir(path): 주어진 경로(path)에 파일이 있으면 True, 없으면 False 반환 \n",
    "* os.path.isfile(path): 주어진 경로에 파일이 있으면 True, 없으면 False 반환 "
   ]
  },
  {
   "cell_type": "code",
   "execution_count": 6,
   "id": "purple-amsterdam",
   "metadata": {},
   "outputs": [
    {
     "name": "stdout",
     "output_type": "stream",
     "text": [
      "project_path에 폴더가 이미 존재합니다.\n",
      "time: 414 µs (started: 2021-01-30 22:47:32 +09:00)\n"
     ]
    }
   ],
   "source": [
    "# import os # 위에서 이미 import 했습니다. \n",
    "\n",
    "project_path = os.getenv(\"HOME\")+'/aiffel/lyricist'\n",
    "\n",
    "if not os.path.isdir(project_path):\n",
    "    os.mkdir(project_path)\n",
    "\n",
    "else:\n",
    "    print(\"project_path에 폴더가 이미 존재합니다.\")"
   ]
  },
  {
   "cell_type": "code",
   "execution_count": 7,
   "id": "residential-trading",
   "metadata": {},
   "outputs": [
    {
     "name": "stdout",
     "output_type": "stream",
     "text": [
      "data_path에 폴더가 이미 존재합니다.\n",
      "models_path에 폴더가 이미 존재합니다.\n",
      "time: 819 µs (started: 2021-01-30 22:47:32 +09:00)\n"
     ]
    }
   ],
   "source": [
    "# 절대 경로를 줘야함. \n",
    "data_path = os.getenv(\"HOME\")+'/aiffel/lyricist/data'\n",
    "models_path = os.getenv(\"HOME\")+'/aiffel/lyricist/models'\n",
    "\n",
    "if not os.path.isdir(data_path):\n",
    "    os.mkdir(data_path)\n",
    "\n",
    "else:\n",
    "    print(\"data_path에 폴더가 이미 존재합니다.\")\n",
    "    \n",
    "if not os.path.isdir(models_path):\n",
    "    os.mkdir(models_path)    \n",
    "\n",
    "else:\n",
    "    print(\"models_path에 폴더가 이미 존재합니다.\")  "
   ]
  },
  {
   "cell_type": "code",
   "execution_count": 8,
   "id": "protected-seller",
   "metadata": {},
   "outputs": [
    {
     "name": "stdout",
     "output_type": "stream",
     "text": [
      "chkpnt_path에 폴더가 이미 존재합니다.\n",
      "time: 497 µs (started: 2021-01-30 22:47:32 +09:00)\n"
     ]
    }
   ],
   "source": [
    "# 학습된 모델의 가중치 저장용 \n",
    "chkpnt_path = models_path + \"/chkpnt\"\n",
    "\n",
    "if not os.path.isdir(chkpnt_path):\n",
    "    os.mkdir(chkpnt_path)    \n",
    "else:\n",
    "    print(\"chkpnt_path에 폴더가 이미 존재합니다.\")  "
   ]
  },
  {
   "cell_type": "markdown",
   "id": "prescription-conversion",
   "metadata": {},
   "source": [
    "### 데이터 다운로드 \n",
    "* wget 라이브러리(패키지)를 설치해서 인터넷상의 다운로드 링크를 활용해서 파일을 다운로드 받을 수 있습니다."
   ]
  },
  {
   "cell_type": "code",
   "execution_count": 9,
   "id": "alpha-aviation",
   "metadata": {
    "scrolled": true
   },
   "outputs": [
    {
     "name": "stdout",
     "output_type": "stream",
     "text": [
      "Requirement already satisfied: wget in /home/aiffel-dj19/anaconda3/envs/aiffel/lib/python3.7/site-packages (3.2)\n",
      "time: 930 ms (started: 2021-01-30 22:47:32 +09:00)\n"
     ]
    }
   ],
   "source": [
    "!pip install wget"
   ]
  },
  {
   "cell_type": "code",
   "execution_count": 10,
   "id": "corporate-california",
   "metadata": {},
   "outputs": [
    {
     "name": "stdout",
     "output_type": "stream",
     "text": [
      "song_lyrics.zip가 이미 존재합니다.\n",
      "time: 1.42 ms (started: 2021-01-30 22:47:33 +09:00)\n"
     ]
    }
   ],
   "source": [
    "import wget\n",
    "\n",
    "url = 'https://aiffelstaticprd.blob.core.windows.net/media/documents/song_lyrics.zip'\n",
    "zip_lyrics_path = data_path + '/song_lyrics.zip'\n",
    "\n",
    "if not os.path.isfile(zip_lyrics_path):\n",
    "    wget.download(url, out = zip_lyrics_path)\n",
    "\n",
    "else:\n",
    "    print(\"song_lyrics.zip가 이미 존재합니다.\")"
   ]
  },
  {
   "cell_type": "code",
   "execution_count": 11,
   "id": "wooden-issue",
   "metadata": {},
   "outputs": [
    {
     "name": "stdout",
     "output_type": "stream",
     "text": [
      "/home/aiffel-dj19/aiffel/lyricist\n",
      "time: 115 ms (started: 2021-01-30 22:47:33 +09:00)\n"
     ]
    }
   ],
   "source": [
    "!pwd #현재 위치 확인 "
   ]
  },
  {
   "cell_type": "code",
   "execution_count": 12,
   "id": "subject-franchise",
   "metadata": {
    "scrolled": true
   },
   "outputs": [
    {
     "name": "stdout",
     "output_type": "stream",
     "text": [
      "time: 722 µs (started: 2021-01-30 22:47:33 +09:00)\n"
     ]
    }
   ],
   "source": [
    "# !unzip ./data/song_lyrics.zip -d ~/aiffel/lyricist/data/lyrics # !를 붙이면 터미널 명령으로 압축파일 해제 "
   ]
  },
  {
   "cell_type": "code",
   "execution_count": 13,
   "id": "frequent-vampire",
   "metadata": {},
   "outputs": [
    {
     "name": "stdout",
     "output_type": "stream",
     "text": [
      "time: 325 µs (started: 2021-01-30 22:47:33 +09:00)\n"
     ]
    }
   ],
   "source": [
    "# lyrics 폴더에 unzip 완료후 경로 저장\n",
    "lyrics_path = os.getenv(\"HOME\")+'/aiffel/lyricist/data/lyrics'"
   ]
  },
  {
   "cell_type": "markdown",
   "id": "contained-cookie",
   "metadata": {},
   "source": [
    "## 2. 데이터 읽어오기 \n",
    "* 다운로드한 데이터를 glob 라이브러리를 활용해서 읽어옵니다. 변수명을 raw_corpus(정제되지 않은 말뭉치)로 두고, 정제하기전 초기 데이터를 불러옵니다. "
   ]
  },
  {
   "cell_type": "code",
   "execution_count": 14,
   "id": "connected-large",
   "metadata": {
    "scrolled": true
   },
   "outputs": [
    {
     "name": "stdout",
     "output_type": "stream",
     "text": [
      "데이터 크기: 187088\n",
      "Examples:\n",
      " ['Can we forget about the things I said when I was drunk...', \"I didn't mean to call you that\", \"I can't remember what was said\"]\n",
      "time: 26.9 ms (started: 2021-01-30 22:47:33 +09:00)\n"
     ]
    }
   ],
   "source": [
    "import glob # 파일 읽기/쓰기 작업을 위한 모듈 \n",
    "import os\n",
    "\n",
    "txt_file_path = os.getenv('HOME')+'/aiffel/lyricist/data/lyrics/*'\n",
    "\n",
    "txt_list = glob.glob(txt_file_path)\n",
    "\n",
    "raw_corpus = []\n",
    "\n",
    "# 여러개의 txt 파일을 모두 읽어서 raw_corpus 에 담습니다.\n",
    "for txt_file in txt_list:\n",
    "    with open(txt_file, \"r\") as f:\n",
    "        raw = f.read().splitlines()\n",
    "        raw_corpus.extend(raw)\n",
    "\n",
    "print(\"데이터 크기:\", len(raw_corpus))\n",
    "print(\"Examples:\\n\", raw_corpus[:3])"
   ]
  },
  {
   "cell_type": "markdown",
   "id": "hybrid-transparency",
   "metadata": {},
   "source": [
    "## 3. 데이터 정제\n",
    "### 정규표현식을 활용한 필터링\n",
    "* 위에서 raw_corpus를 앞부분만 봤을때, 공백인 문장이 마지막에 보입니다. 공백이 있는 문장(sentence)는 제외합니다.\n",
    "* First Citizen:, All: 처럼 말하는 사람인 화자가 :를 기준으로 나타나있습니다. 따라서 화자 부분도 제외합니다."
   ]
  },
  {
   "cell_type": "code",
   "execution_count": 15,
   "id": "approved-darkness",
   "metadata": {},
   "outputs": [
    {
     "name": "stdout",
     "output_type": "stream",
     "text": [
      "Can we forget about the things I said when I was drunk...\n",
      "I didn't mean to call you that\n",
      "I can't remember what was said\n",
      "Or what you threw at me Please tell me\n",
      "Please tell me why\n",
      "My car is in the front yard\n",
      "And I am sleeping with my cloths on\n",
      "I came in throught the window... Last night\n",
      "And your... Gone\n",
      "Gone It's no suprise to me I am my own worst enemy\n",
      "time: 827 µs (started: 2021-01-30 22:47:33 +09:00)\n"
     ]
    }
   ],
   "source": [
    "for idx, sentence in enumerate(raw_corpus):\n",
    "    if len(sentence) == 0: continue   # 길이가 0인 문장은 건너뜁니다.\n",
    "    if sentence[-1] == \":\": continue  # 문장의 끝이 : 인 문장은 건너뜁니다.\n",
    "\n",
    "    if idx > 9: break   # 일단 문장 10개만 확인해 볼 겁니다.\n",
    "        \n",
    "    print(sentence)"
   ]
  },
  {
   "cell_type": "markdown",
   "id": "double-process",
   "metadata": {},
   "source": [
    "### Corpus 정제하는 함수: preprocess_sentence()"
   ]
  },
  {
   "cell_type": "markdown",
   "id": "retained-lighter",
   "metadata": {},
   "source": [
    "* 영어는 주로 공백이 토큰화에서 토큰을 쪼개는 delimeter(구분자)입니다. \n",
    "* 특수문자, 공백, 그리고 영어가 아닌 문자는 모두 공백으로 치환합니다. \n",
    "* 문장의 시작/끝 토큰 추가을 추가해줍니다. "
   ]
  },
  {
   "cell_type": "code",
   "execution_count": 16,
   "id": "boolean-forum",
   "metadata": {},
   "outputs": [
    {
     "name": "stdout",
     "output_type": "stream",
     "text": [
      "<start> this is sample sentence . <end>\n",
      "time: 812 µs (started: 2021-01-30 22:47:33 +09:00)\n"
     ]
    }
   ],
   "source": [
    "def preprocess_sentence(sentence):\n",
    "    sentence = sentence.lower().strip()       # 소문자로 바꾸고 양쪽 공백을 삭제\n",
    "  \n",
    "    # 아래 3단계를 거쳐 sentence는 스페이스 1개를 delimeter로 하는 소문자 단어 시퀀스로 바뀝니다.\n",
    "    sentence = re.sub(r\"([?.!,¿])\", r\" \\1 \", sentence)        # 패턴의 특수문자를 만나면 특수문자 양쪽에 공백을 추가\n",
    "    sentence = re.sub(r'[\" \"]+', \" \", sentence)                  # 공백 패턴을 만나면 스페이스 1개로 치환\n",
    "    sentence = re.sub(r\"[^a-zA-Z?.!,¿]+\", \" \", sentence)  # a-zA-Z?.!,¿ 패턴을 제외한 모든 문자(공백문자까지도)를 스페이스 1개로 치환\n",
    "\n",
    "    sentence = sentence.strip()\n",
    "\n",
    "    sentence = '<start> ' + sentence + ' <end>'      # 문장 앞뒤로 <start>와 <end> 토큰을 추가한다.\n",
    "    \n",
    "    return sentence\n",
    "\n",
    "print(preprocess_sentence(\"This @_is ;;;sample        sentence.\"))   # 이 문장이 어떻게 필터링되는지 확인해 보세요."
   ]
  },
  {
   "cell_type": "markdown",
   "id": "sound-habitat",
   "metadata": {},
   "source": [
    "### Raw Corpus to Corpus \n",
    "* Corpus(말뭉치)를 의미합니다. 데이터셋의 정제되지 않은 문장들을 Corpus로 만들어 줍니다. \n",
    "* raw_corpus에서 한문장씩 읽으며 비어있는 문장이 된 문장이 있는지 확인 후에 preprocess_sentence함수로 특수문자 제거, 시작/끝 토큰 추가를 수행합니다. "
   ]
  },
  {
   "cell_type": "code",
   "execution_count": 17,
   "id": "yellow-behavior",
   "metadata": {},
   "outputs": [
    {
     "data": {
      "text/plain": [
       "['<start> can we forget about the things i said when i was drunk . . . <end>',\n",
       " '<start> i didn t mean to call you that <end>',\n",
       " '<start> i can t remember what was said <end>',\n",
       " '<start> or what you threw at me please tell me <end>',\n",
       " '<start> please tell me why <end>',\n",
       " '<start> my car is in the front yard <end>',\n",
       " '<start> and i am sleeping with my cloths on <end>',\n",
       " '<start> i came in throught the window . . . last night <end>',\n",
       " '<start> and your . . . gone <end>',\n",
       " '<start> gone it s no suprise to me i am my own worst enemy <end>']"
      ]
     },
     "execution_count": 17,
     "metadata": {},
     "output_type": "execute_result"
    },
    {
     "name": "stdout",
     "output_type": "stream",
     "text": [
      "time: 1.56 s (started: 2021-01-30 22:47:33 +09:00)\n"
     ]
    }
   ],
   "source": [
    "corpus = []\n",
    "\n",
    "for sentence in raw_corpus:\n",
    "    if len(sentence) == 0: continue\n",
    "    if sentence[-1] == \":\": continue\n",
    "        \n",
    "    corpus.append(preprocess_sentence(sentence))\n",
    "        \n",
    "corpus[:10]"
   ]
  },
  {
   "cell_type": "markdown",
   "id": "dedicated-vacation",
   "metadata": {},
   "source": [
    "### Padding \n",
    "* padding을 하기 위해서 가장 먼저 해줘야할 점은 문장의 길이가 어떻게 분포되어있는지 확인하는 것입니다.   \n",
    "    왜 일까? padding은 corpus의 각 sentence(문장) 길이를 맞춰주기 위해 진행하는 작업이기 때문입니다. 길이를 너무 큰 문장에 맞춰주면 극단적으로 100이 최대길이라고 하면 문장길이가 1밖에 안되는 데이터는 99가 0으로 채워지기 떄문입니다. 그래서 주로 90% 분포에 위치하는 문장의 길이를 기준으로 padding해줍니다. "
   ]
  },
  {
   "cell_type": "markdown",
   "id": "toxic-replication",
   "metadata": {},
   "source": [
    "#### 문장 분포 확인 \n",
    "표준편차가 20이고, 문장길이의 평균이 51이면서 최대값은 1478이다. 굉장히 문장길이가 편중되어 분포되어있음을 알 수 있다. "
   ]
  },
  {
   "cell_type": "code",
   "execution_count": 18,
   "id": "amino-president",
   "metadata": {
    "scrolled": true
   },
   "outputs": [
    {
     "name": "stdout",
     "output_type": "stream",
     "text": [
      "문장길이 평균 :  51.26072979078117\n",
      "문장길이 최대 :  1478\n",
      "문장길이 표준편차 :  20.555449915415117\n",
      "time: 20 ms (started: 2021-01-30 22:47:35 +09:00)\n"
     ]
    }
   ],
   "source": [
    "# 텍스트데이터 문장길이의 리스트를 생성한 후\n",
    "num_tokens = [len(tokens) for tokens in corpus]\n",
    "num_tokens = np.array(num_tokens)\n",
    "\n",
    "# 문장길이의 평균값, 최대값, 표준편차를 계산해 본다. \n",
    "print('문장길이 평균 : ', np.mean(num_tokens))\n",
    "print('문장길이 최대 : ', np.max(num_tokens))\n",
    "print('문장길이 표준편차 : ', np.std(num_tokens))"
   ]
  },
  {
   "cell_type": "code",
   "execution_count": 19,
   "id": "enclosed-boards",
   "metadata": {},
   "outputs": [
    {
     "name": "stdout",
     "output_type": "stream",
     "text": [
      "리뷰의 최대 길이 : 1478\n",
      "리뷰의 평균 길이 : 51.26072979078117\n"
     ]
    },
    {
     "data": {
      "image/png": "[encoded data removed]",
      "text/plain": [
       "<Figure size 432x288 with 1 Axes>"
      ]
     },
     "metadata": {
      "needs_background": "light"
     },
     "output_type": "display_data"
    },
    {
     "name": "stdout",
     "output_type": "stream",
     "text": [
      "time: 696 ms (started: 2021-01-30 22:47:35 +09:00)\n"
     ]
    }
   ],
   "source": [
    "print('리뷰의 최대 길이 :', np.max(num_tokens))\n",
    "print('리뷰의 평균 길이 :', np.mean(num_tokens))\n",
    "plt.hist([len(s) for s in corpus], bins=50)\n",
    "plt.xlabel('length of samples')\n",
    "plt.ylabel('number of samples')\n",
    "plt.show()"
   ]
  },
  {
   "cell_type": "markdown",
   "id": "offensive-purse",
   "metadata": {},
   "source": [
    "위에 히스토그램으로는 문장길이 분포를 살펴보기 어렵습니다. 히스토그램상에서 문장길이가 200이상인 경우가 대부분에 해당하는 것을 확인할 수 있기 떄문에 문장길이가 200이상인 문장에 대해서만 다시 한번 살펴봅니다."
   ]
  },
  {
   "cell_type": "code",
   "execution_count": 20,
   "id": "outer-sociology",
   "metadata": {
    "scrolled": true
   },
   "outputs": [
    {
     "data": {
      "image/png": "[encoded data removed]",
      "text/plain": [
       "<Figure size 432x288 with 1 Axes>"
      ]
     },
     "metadata": {
      "needs_background": "light"
     },
     "output_type": "display_data"
    },
    {
     "name": "stdout",
     "output_type": "stream",
     "text": [
      "time: 668 ms (started: 2021-01-30 22:47:36 +09:00)\n"
     ]
    }
   ],
   "source": [
    "plt.hist([len(s)  for s in corpus if len(s)<200], bins=50)\n",
    "plt.xlabel('length of samples')\n",
    "plt.ylabel('number of samples')\n",
    "plt.show()"
   ]
  },
  {
   "cell_type": "markdown",
   "id": "brilliant-evening",
   "metadata": {},
   "source": [
    "반대로 문장길이가 200이상이고 최대길이에 해당하기까지의 문장 분포는 어떻게 될지 살펴봅시다. y축의 샘플의 개수를 확인해보면 앞선 히스토그램에서 17500에 비해, 25정도로 개수의 편차가 매우 큰 것을 알 수 있습니다. "
   ]
  },
  {
   "cell_type": "code",
   "execution_count": 21,
   "id": "further-north",
   "metadata": {
    "scrolled": true
   },
   "outputs": [
    {
     "data": {
      "image/png": "[encoded data removed]",
      "text/plain": [
       "<Figure size 432x288 with 1 Axes>"
      ]
     },
     "metadata": {
      "needs_background": "light"
     },
     "output_type": "display_data"
    },
    {
     "name": "stdout",
     "output_type": "stream",
     "text": [
      "time: 158 ms (started: 2021-01-30 22:47:36 +09:00)\n"
     ]
    }
   ],
   "source": [
    "plt.hist([len(s)  for s in corpus if len(s)>200], bins=50)\n",
    "plt.xlabel('length of samples')\n",
    "plt.ylabel('number of samples')\n",
    "plt.show()"
   ]
  },
  {
   "cell_type": "markdown",
   "id": "norwegian-israel",
   "metadata": {},
   "source": [
    "#### Corpus 문장 길이 분포\n",
    "* Corpus를 어떤 기준으로 padding해줄지에 대해서는 평균, 최대, 표준편차를 고려해줍니다.\n",
    "* 왜? 평균 + 2*표준편차일까, 평균 + 표준편차는?정규분포의 지수적인 꼬리 부분에 해당하는 부분을 확인해보면 평균 + 표준편차는 약68%, 평균 + 2*표준편차는 약 95%입니다. 이러한 점을 통해 덜 극단적인 패딩의 최대 문장 길이를 선정할 수 있습니다.\n",
    "* 출처: https://ko.wikipedia.org/wiki/68-95-99.7_%EA%B7%9C%EC%B9%99\n",
    "~max_tokens = 15 # 문제에서는 15로 주어졌는데 왜일까? 확인해보면 매우.. 낮은데..!?~"
   ]
  },
  {
   "cell_type": "code",
   "execution_count": 22,
   "id": "taken-treasurer",
   "metadata": {},
   "outputs": [
    {
     "name": "stdout",
     "output_type": "stream",
     "text": [
      "pad_sequences maxlen: 71개\n",
      "전체 문장의 0.8815128393333674%가 maxlen 설정값 이내에 포함됩니다. \n",
      "time: 2.34 ms (started: 2021-01-30 22:47:36 +09:00)\n"
     ]
    }
   ],
   "source": [
    "max_tokens = np.mean(num_tokens) + np.std(num_tokens)\n",
    "\n",
    "max_len = int(max_tokens)\n",
    "print('pad_sequences maxlen: {}개'.format(max_len))\n",
    "print('전체 문장의 {}%가 maxlen 설정값 이내에 포함됩니다. '.format(np.sum(num_tokens < max_tokens) / len(num_tokens)))"
   ]
  },
  {
   "cell_type": "markdown",
   "id": "august-survival",
   "metadata": {},
   "source": [
    "--- \n",
    "\n",
    "> 잠깐만요~~~~~~ 우리가 목표하고 있는 결과물은 작사가입니다. 일반적으로 패딩의 길이를 정해줄 때, 위와 같은 방법으로 히스토그램을 살펴본 후 가장 일반적인 길이를 선정해줍니다. 그래서 되도록 길이를 20 정도로 일반적인 노랫말들이 문장길이가 20정도 된다고 생각하고 max_len을 30으로 지정해주겠습니다. start와 end를 생각하면 글자 수는 10개 정도가 빠지는 거니까요  "
   ]
  },
  {
   "cell_type": "code",
   "execution_count": 23,
   "id": "macro-command",
   "metadata": {},
   "outputs": [
    {
     "name": "stdout",
     "output_type": "stream",
     "text": [
      "time: 276 µs (started: 2021-01-30 22:47:36 +09:00)\n"
     ]
    }
   ],
   "source": [
    "max_len = 30 "
   ]
  },
  {
   "cell_type": "markdown",
   "id": "defensive-practice",
   "metadata": {},
   "source": [
    "### 토큰화와 벡터화 ( + 패딩)\n",
    "* keras를 활용해 데이터를 토큰화하고 단어 사전을 만들어 줍니다. 이 과정에서 데이터를 숫자로 인코딩해줍니다. \n",
    "* 여기서 index_word가 바로 단어 사전입니다. 말뭉치 -> 토큰화 -> 정수인코딩 -> 패딩의 과정을 거쳐 만들어집니다. "
   ]
  },
  {
   "cell_type": "markdown",
   "id": "remarkable-sugar",
   "metadata": {},
   "source": [
    "#### 토크나이저의 단어사전 크기 설정: Counter\n",
    "빈도수를 기준으로 자주 언급된 단어를 중심으로 데이터셋을 추릴 예정이다. 주로 자연어 처리에서 1번 언급된 문장은 제거해줍니다. 2번도 적은거 같아서 저는 여기서 3회 이상 언급된 문장만 살렸습니다. "
   ]
  },
  {
   "cell_type": "code",
   "execution_count": 24,
   "id": "conceptual-redhead",
   "metadata": {},
   "outputs": [
    {
     "data": {
      "text/plain": [
       "['<start> can we forget about the things i said when i was drunk . . . <end>',\n",
       " '<start> i didn t mean to call you that <end>',\n",
       " '<start> i can t remember what was said <end>',\n",
       " '<start> or what you threw at me please tell me <end>',\n",
       " '<start> please tell me why <end>',\n",
       " '<start> my car is in the front yard <end>',\n",
       " '<start> and i am sleeping with my cloths on <end>',\n",
       " '<start> i came in throught the window . . . last night <end>',\n",
       " '<start> and your . . . gone <end>',\n",
       " '<start> gone it s no suprise to me i am my own worst enemy <end>']"
      ]
     },
     "execution_count": 24,
     "metadata": {},
     "output_type": "execute_result"
    },
    {
     "name": "stdout",
     "output_type": "stream",
     "text": [
      "time: 1.64 ms (started: 2021-01-30 22:47:36 +09:00)\n"
     ]
    }
   ],
   "source": [
    "corpus[:10]"
   ]
  },
  {
   "cell_type": "code",
   "execution_count": 25,
   "id": "powerful-catering",
   "metadata": {},
   "outputs": [
    {
     "name": "stdout",
     "output_type": "stream",
     "text": [
      "[('hey jude', 2), ('jyp', 2), ('dont be afraid', 1)]\n",
      "time: 741 µs (started: 2021-01-30 22:47:36 +09:00)\n"
     ]
    }
   ],
   "source": [
    "# Counter 사용 예시 \n",
    "print(Counter(['hey jude', 'dont be afraid', 'hey jude', 'chorus', 'jyp', 'jyp']).most_common(3)) # 빈도수가 3이상인 글자만? (X), 빈도수 상위 3위까지 딕셔너리로 출력한다."
   ]
  },
  {
   "cell_type": "code",
   "execution_count": 26,
   "id": "dangerous-thickness",
   "metadata": {
    "scrolled": true
   },
   "outputs": [
    {
     "data": {
      "text/plain": [
       "[('<start> chorus <end>', 204),\n",
       " ('<start> yeah <end>', 120),\n",
       " ('<start> come <end>', 85),\n",
       " ('<start> you nasty boy you nasty <end>', 84),\n",
       " ('<start> go , get ur freak on <end>', 60),\n",
       " ('<start>  <end>', 53),\n",
       " ('<start> come on motherfuckers come on <end>', 48),\n",
       " ('<start> oh <end>', 46),\n",
       " ('<start> its bone and biggie biggie <end>', 46),\n",
       " ('<start> just bone and biggie biggie <end>', 44)]"
      ]
     },
     "execution_count": 26,
     "metadata": {},
     "output_type": "execute_result"
    },
    {
     "name": "stdout",
     "output_type": "stream",
     "text": [
      "time: 42 ms (started: 2021-01-30 22:47:36 +09:00)\n"
     ]
    }
   ],
   "source": [
    "counter = Counter(corpus)\n",
    "counter_for_vocabsize = counter.most_common() # counter는 key인 글자와 value인 빈도수(등장횟수)로 이뤄져있다. \n",
    "\n",
    "counter_for_vocabsize[:10] # 앞에 10개만 "
   ]
  },
  {
   "cell_type": "code",
   "execution_count": 27,
   "id": "precious-rogers",
   "metadata": {},
   "outputs": [
    {
     "name": "stdout",
     "output_type": "stream",
     "text": [
      "107579개의 2회 미만에 해당하는 단어가 있습니다.\n",
      "vocab size는 68170개 입니다.\n",
      "time: 17.4 ms (started: 2021-01-30 22:47:36 +09:00)\n"
     ]
    }
   ],
   "source": [
    "rare_cnt = 0\n",
    "\n",
    "# # 빈도수를 2회 이상을 기준으로 잡아준다. \n",
    "for index in range(len(counter_for_vocabsize)):\n",
    "    if counter_for_vocabsize[index][1] < 3: # 3회 이상인 대상은 많기 때문에 1회인 대상을 센다.\n",
    "        rare_cnt = rare_cnt + 1\n",
    "\n",
    "print(\"{}개의 2회 미만에 해당하는 단어가 있습니다.\".format(rare_cnt))\n",
    "\n",
    "vocab_size_ = len(corpus) - rare_cnt\n",
    "print(\"vocab size는 {}개 입니다.\".format(vocab_size_))"
   ]
  },
  {
   "cell_type": "code",
   "execution_count": 28,
   "id": "amino-antenna",
   "metadata": {
    "scrolled": true
   },
   "outputs": [
    {
     "name": "stdout",
     "output_type": "stream",
     "text": [
      "175749개의 글자 묶음에서 빈도수 상위 68170위에 속하는 단어만으로 단어사전을 만들었습니다\n",
      "time: 489 µs (started: 2021-01-30 22:47:36 +09:00)\n"
     ]
    }
   ],
   "source": [
    "print(\"{}개의 글자 묶음에서 빈도수 상위 {}위에 속하는 단어만으로 단어사전을 만들었습니다\".format(len(corpus), vocab_size_))"
   ]
  },
  {
   "cell_type": "code",
   "execution_count": 29,
   "id": "coral-titanium",
   "metadata": {
    "scrolled": false
   },
   "outputs": [
    {
     "data": {
      "text/plain": [
       "['<start> chorus <end>',\n",
       " '<start> yeah <end>',\n",
       " '<start> come <end>',\n",
       " '<start> you nasty boy you nasty <end>',\n",
       " '<start> go , get ur freak on <end>',\n",
       " '<start>  <end>',\n",
       " '<start> come on motherfuckers come on <end>',\n",
       " '<start> oh <end>',\n",
       " '<start> its bone and biggie biggie <end>',\n",
       " '<start> just bone and biggie biggie <end>']"
      ]
     },
     "execution_count": 29,
     "metadata": {},
     "output_type": "execute_result"
    },
    {
     "name": "stdout",
     "output_type": "stream",
     "text": [
      "time: 7.99 ms (started: 2021-01-30 22:47:36 +09:00)\n"
     ]
    }
   ],
   "source": [
    "vocab = [key for key, _ in counter_for_vocabsize[:vocab_size_]]\n",
    "corpus = vocab # 개수를 줄인 corpus\n",
    "vocab[:10]"
   ]
  },
  {
   "cell_type": "markdown",
   "id": "cheap-polls",
   "metadata": {},
   "source": [
    "### Tokenizer \n",
    "* tf.keras.preprocessing.text.Tokenizer를 이용해 corpus를 텐서로 변환\n",
    "```\n",
    "ResourceExhaustedError: OOM when allocating tensor with shape[17920,10001] and type float on /job:localhost/replica:0/task:0/device:GPU:0 by allocator GPU_0_bfc [Op:MatMul]\n",
    "```\n",
    "단어 사전 크기에 해당하는 num_words에는 6만개로 한다면 현재 RTX 2070 GPU는 out of memory가 될 확률이 높습니다. 그래서 임의로 좀더 줄여주는 것이 좋습니다.    \n",
    "그럼 위의 과정은 쓸모가 없어질까요? 그건 아니라고 생각됩니다. 빈도수가 많은 문장을 기준으로 살려뒀기 때문에 좀 더 일반적인 데이터셋이 됬다고 볼 수 있기 때문입니다.     "
   ]
  },
  {
   "cell_type": "code",
   "execution_count": 30,
   "id": "settled-hebrew",
   "metadata": {},
   "outputs": [
    {
     "name": "stdout",
     "output_type": "stream",
     "text": [
      "[[   2  308    3 ...    0    0    0]\n",
      " [   2   51    3 ...    0    0    0]\n",
      " [   2   75    3 ...    0    0    0]\n",
      " ...\n",
      " [   2   21  598 ...    0    0    0]\n",
      " [   2 1460  159 ...    0    0    0]\n",
      " [   2   21  342 ...    0    0    0]] <keras_preprocessing.text.Tokenizer object at 0x7f887ea29e10>\n",
      "time: 1.2 s (started: 2021-01-30 22:47:36 +09:00)\n"
     ]
    }
   ],
   "source": [
    "def tokenize(corpus):\n",
    "    # 텐서플로우에서 제공하는 Tokenizer 패키지를 생성\n",
    "    tokenizer = tf.keras.preprocessing.text.Tokenizer(\n",
    "        num_words= 15000,  # 임의의 단어사전의 크기  \n",
    "        filters=' ',    # 별도로 전처리 로직을 추가할 수 있습니다. 이번에는 사용하지 않겠습니다.\n",
    "        oov_token=\"<unk>\"  # out-of-vocabulary, 사전에 없었던 단어는 <unk> 토큰으로 대체할지\n",
    "    )\n",
    "    tokenizer.fit_on_texts(corpus)   # 우리가 구축한 corpus로부터 Tokenizer가 사전을 자동구축하게 됩니다.\n",
    "\n",
    "    # 이후 tokenizer를 활용하여 모델에 입력할 데이터셋을 구축하게 됩니다.\n",
    "    tensor = tokenizer.texts_to_sequences(corpus)   # tokenizer는 구축한 사전으로부터 corpus를 해석해 Tensor로 변환합니다.\n",
    "\n",
    "    # 입력 데이터의 시퀀스 길이를 일정하게 맞추기 위한 padding  메소드를 제공합니다.\n",
    "    tensor = tf.keras.preprocessing.sequence.pad_sequences(tensor, \n",
    "                                                           maxlen = max_len + 1, \n",
    "                                                           padding='post')  \n",
    "\n",
    "    print(tensor,tokenizer)\n",
    "    return tensor, tokenizer\n",
    "\n",
    "tensor, tokenizer = tokenize(corpus)"
   ]
  },
  {
   "cell_type": "markdown",
   "id": "joined-shipping",
   "metadata": {},
   "source": [
    "#### 패딩 확인\n",
    "확인 결과 토큰나이저에서 정수인코딩이 <start>는 2로, <end> 토큰은 3으로 인코딩했음을 알 수 있습니다. \n",
    "0은 패딩이고 아마 1은 unk 토큰일듯합니다. "
   ]
  },
  {
   "cell_type": "code",
   "execution_count": 31,
   "id": "scheduled-melissa",
   "metadata": {
    "scrolled": true
   },
   "outputs": [
    {
     "name": "stdout",
     "output_type": "stream",
     "text": [
      "68170\n",
      "[[   2  308    3    0    0    0    0    0    0    0]\n",
      " [   2   51    3    0    0    0    0    0    0    0]\n",
      " [   2   75    3    0    0    0    0    0    0    0]\n",
      " [   2    7  758  167    7  758    3    0    0    0]\n",
      " [   2   54    5   40 1203  965   18    3    0    0]\n",
      " [   2    3    0    0    0    0    0    0    0    0]\n",
      " [   2   75   18  656   75   18    3    0    0    0]\n",
      " [   2   46    3    0    0    0    0    0    0    0]\n",
      " [   2  146 1028    8  522  522    3    0    0    0]\n",
      " [   2   32 1028    8  522  522    3    0    0    0]]\n",
      "time: 590 µs (started: 2021-01-30 22:47:38 +09:00)\n"
     ]
    }
   ],
   "source": [
    "print(len(tensor))\n",
    "print(tensor[:10, :10])"
   ]
  },
  {
   "cell_type": "markdown",
   "id": "continuing-entry",
   "metadata": {},
   "source": [
    "## 4. 데이터셋 분리 "
   ]
  },
  {
   "cell_type": "code",
   "execution_count": 32,
   "id": "patient-thousand",
   "metadata": {
    "scrolled": false
   },
   "outputs": [
    {
     "name": "stdout",
     "output_type": "stream",
     "text": [
      "[  2 308   3   0   0   0   0   0   0   0   0   0   0   0   0   0   0   0\n",
      "   0   0   0   0   0   0   0   0   0   0   0   0]\n",
      "[308   3   0   0   0   0   0   0   0   0   0   0   0   0   0   0   0   0\n",
      "   0   0   0   0   0   0   0   0   0   0   0   0]\n",
      "time: 10.5 ms (started: 2021-01-30 22:47:38 +09:00)\n"
     ]
    }
   ],
   "source": [
    "src_input = tensor[:, :-1]  # tensor에서 마지막 토큰을 잘라내서 소스 문장을 생성합니다. 마지막 토큰은 <end>가 아니라 <pad>일 가능성이 높습니다.\n",
    "tgt_input = tensor[:, 1:]    # tensor에서 <start>를 잘라내서 타겟 문장을 생성합니다.\n",
    "\n",
    "print(src_input[0])\n",
    "print(tgt_input[0])"
   ]
  },
  {
   "cell_type": "markdown",
   "id": "divine-butterfly",
   "metadata": {},
   "source": [
    "### 데이터셋 분리 "
   ]
  },
  {
   "cell_type": "code",
   "execution_count": 33,
   "id": "double-paradise",
   "metadata": {},
   "outputs": [
    {
     "name": "stdout",
     "output_type": "stream",
     "text": [
      "Source Train:  (54536, 30)\n",
      "Target Train:  (54536, 30)\n",
      "Source Test:  (13634, 30)\n",
      "Target Test:  (13634, 30)\n",
      "time: 15.1 ms (started: 2021-01-30 22:47:38 +09:00)\n"
     ]
    }
   ],
   "source": [
    "X_train, X_val, y_train, y_val = train_test_split(src_input,\n",
    "                                                  tgt_input,\n",
    "                                                  test_size = 0.2,\n",
    "                                                  shuffle = True\n",
    "                                                 )\n",
    "\n",
    "print(\"Source Train: \", X_train.shape)\n",
    "print(\"Target Train: \", y_train.shape)\n",
    "print(\"Source Test: \", X_val.shape)\n",
    "print(\"Target Test: \", y_val.shape)"
   ]
  },
  {
   "cell_type": "markdown",
   "id": "authorized-essence",
   "metadata": {},
   "source": [
    "### Hyper-parameter"
   ]
  },
  {
   "cell_type": "code",
   "execution_count": 34,
   "id": "changing-difference",
   "metadata": {},
   "outputs": [
    {
     "name": "stdout",
     "output_type": "stream",
     "text": [
      "time: 379 µs (started: 2021-01-30 22:47:38 +09:00)\n"
     ]
    }
   ],
   "source": [
    "BUFFER_SIZE = len(src_input)\n",
    "BATCH_SIZE = 256\n",
    "STEPS_PER_EPOCH = len(X_train) // BATCH_SIZE\n",
    "VALIDATION_STEPS = len(X_val) // BATCH_SIZE\n",
    "# steps_per_epoch = len(src_input) // BATCH_SIZE"
   ]
  },
  {
   "cell_type": "markdown",
   "id": "theoretical-recruitment",
   "metadata": {},
   "source": [
    "### 떼이터셋 객체로 변환\n",
    "* tf.data.Dataset.from_tensor_slices()를 이용해 corpus 텐서를 tf.data.Dataset객체로 변환"
   ]
  },
  {
   "cell_type": "code",
   "execution_count": 35,
   "id": "perfect-hydrogen",
   "metadata": {
    "scrolled": true
   },
   "outputs": [
    {
     "data": {
      "text/plain": [
       "15000"
      ]
     },
     "execution_count": 35,
     "metadata": {},
     "output_type": "execute_result"
    },
    {
     "name": "stdout",
     "output_type": "stream",
     "text": [
      "time: 973 µs (started: 2021-01-30 22:47:38 +09:00)\n"
     ]
    }
   ],
   "source": [
    "tokenizer.num_words"
   ]
  },
  {
   "cell_type": "code",
   "execution_count": 36,
   "id": "rapid-enough",
   "metadata": {
    "scrolled": false
   },
   "outputs": [
    {
     "data": {
      "text/plain": [
       "(<BatchDataset shapes: ((256, 30), (256, 30)), types: (tf.int32, tf.int32)>,\n",
       " <BatchDataset shapes: ((256, 30), (256, 30)), types: (tf.int32, tf.int32)>)"
      ]
     },
     "execution_count": 36,
     "metadata": {},
     "output_type": "execute_result"
    },
    {
     "name": "stdout",
     "output_type": "stream",
     "text": [
      "time: 306 ms (started: 2021-01-30 22:47:38 +09:00)\n"
     ]
    }
   ],
   "source": [
    "VOCAB_SIZE = tokenizer.num_words + 1    # tokenizer가 구축한 단어사전 내 7000개와, 여기 포함되지 않은 0:<pad>를 포함하여 7001개\n",
    "\n",
    "train_data = tf.data.Dataset.from_tensor_slices((X_train, y_train)).shuffle(BUFFER_SIZE)\n",
    "train_data = train_data.batch(BATCH_SIZE, drop_remainder=True)\n",
    "test_data = tf.data.Dataset.from_tensor_slices((X_val, y_val)).shuffle(BUFFER_SIZE)\n",
    "test_data = test_data.batch(BATCH_SIZE, drop_remainder=True)\n",
    "train_data, test_data"
   ]
  },
  {
   "cell_type": "markdown",
   "id": "posted-empire",
   "metadata": {},
   "source": [
    "## 5. 모델 설계 및 학습\n",
    "Subclassing 방식으로 설계한 모델을 만들어봅니다. "
   ]
  },
  {
   "cell_type": "code",
   "execution_count": 37,
   "id": "municipal-tyler",
   "metadata": {},
   "outputs": [
    {
     "name": "stdout",
     "output_type": "stream",
     "text": [
      "time: 12.8 ms (started: 2021-01-30 22:47:38 +09:00)\n"
     ]
    }
   ],
   "source": [
    "class TextGenerator(tf.keras.Model):\n",
    "    def __init__(self, vocab_size, embedding_size, hidden_size):\n",
    "        super(TextGenerator, self).__init__()\n",
    "        \n",
    "        # 인덱스 값을 해당 인덱스 번째의 워드 벡터로 바꿔줍니다. \n",
    "        self.embedding = tf.keras.layers.Embedding(vocab_size, embedding_size)\n",
    "        self.rnn_1 = tf.keras.layers.LSTM(hidden_size, return_sequences=True)\n",
    "        self.rnn_2 = tf.keras.layers.LSTM(hidden_size, return_sequences=True)\n",
    "        self.linear = tf.keras.layers.Dense(vocab_size)\n",
    "        \n",
    "    def call(self, x):\n",
    "        out = self.embedding(x)\n",
    "        out = self.rnn_1(out)\n",
    "        out = self.rnn_2(out)\n",
    "        out = self.linear(out)\n",
    "        \n",
    "        return out\n",
    "\n",
    "vocab_size = VOCAB_SIZE\n",
    "embedding_size = 256 # 단어가 추상적으로 표현되는 크기로서 CNN으로 생각하면 몇개의 특징을 추출할지 결정하는 인자입니다. \n",
    "hidden_size = 1024\n",
    "model = TextGenerator(tokenizer.num_words + 1, embedding_size , hidden_size) # 단어 사전의 크기 tokenizer.num_words + 1"
   ]
  },
  {
   "cell_type": "code",
   "execution_count": 38,
   "id": "annoying-working",
   "metadata": {},
   "outputs": [
    {
     "data": {
      "text/plain": [
       "<tf.Tensor: shape=(256, 30, 15001), dtype=float32, numpy=\n",
       "array([[[ 1.7854638e-04, -8.5614367e-05, -3.4758454e-05, ...,\n",
       "          7.6550114e-06, -1.6756621e-06, -2.3023027e-05],\n",
       "        [ 2.4356316e-04, -1.6279450e-04, -7.7648001e-05, ...,\n",
       "          1.5617604e-04,  2.2965934e-04,  1.0720167e-04],\n",
       "        [ 2.5693839e-04, -2.3204906e-04, -1.0803305e-04, ...,\n",
       "          2.1518796e-04,  6.1905116e-04,  8.0284597e-05],\n",
       "        ...,\n",
       "        [ 1.0932746e-03,  1.6300996e-03, -1.8128823e-03, ...,\n",
       "         -1.9426933e-03, -2.3727834e-03, -9.9345503e-05],\n",
       "        [ 1.1037459e-03,  1.6505937e-03, -1.7912129e-03, ...,\n",
       "         -1.9707214e-03, -2.4445818e-03, -7.6092780e-05],\n",
       "        [ 1.1084013e-03,  1.6647433e-03, -1.7720705e-03, ...,\n",
       "         -1.9904191e-03, -2.5071299e-03, -5.4221338e-05]],\n",
       "\n",
       "       [[ 1.7854638e-04, -8.5614367e-05, -3.4758454e-05, ...,\n",
       "          7.6550114e-06, -1.6756621e-06, -2.3023027e-05],\n",
       "        [ 1.8485765e-04, -2.0664210e-04, -2.6732701e-05, ...,\n",
       "          1.6446655e-05,  2.0581419e-05, -4.1304480e-05],\n",
       "        [ 4.0290176e-04, -3.0397665e-04,  1.3487985e-04, ...,\n",
       "         -3.6281315e-04, -1.8328313e-04, -4.3057760e-05],\n",
       "        ...,\n",
       "        [ 4.3537698e-04,  7.6644827e-04, -1.8627471e-03, ...,\n",
       "         -8.8590896e-04, -1.6716592e-03, -3.1071354e-04],\n",
       "        [ 5.5520516e-04,  9.0557273e-04, -1.9159340e-03, ...,\n",
       "         -1.1077370e-03, -1.7980095e-03, -2.9997469e-04],\n",
       "        [ 6.6120393e-04,  1.0321611e-03, -1.9453093e-03, ...,\n",
       "         -1.2971279e-03, -1.9146067e-03, -2.8413322e-04]],\n",
       "\n",
       "       [[ 1.7854638e-04, -8.5614367e-05, -3.4758454e-05, ...,\n",
       "          7.6550114e-06, -1.6756621e-06, -2.3023027e-05],\n",
       "        [ 3.5821149e-04,  2.0764343e-04, -3.6583573e-05, ...,\n",
       "          1.9015522e-04,  2.2558398e-04, -1.7192053e-04],\n",
       "        [ 4.3040767e-04,  6.1713194e-04, -2.2427809e-04, ...,\n",
       "          1.4503814e-04,  5.6656107e-04, -1.1914825e-04],\n",
       "        ...,\n",
       "        [ 8.6316635e-04,  1.4005286e-03, -1.8569856e-03, ...,\n",
       "         -1.7418269e-03, -2.4126216e-03, -1.2111237e-04],\n",
       "        [ 9.0309704e-04,  1.4590378e-03, -1.8349709e-03, ...,\n",
       "         -1.7949188e-03, -2.4734146e-03, -1.0250749e-04],\n",
       "        [ 9.3472813e-04,  1.5065600e-03, -1.8139705e-03, ...,\n",
       "         -1.8369233e-03, -2.5272269e-03, -8.3433661e-05]],\n",
       "\n",
       "       ...,\n",
       "\n",
       "       [[ 1.7854638e-04, -8.5614367e-05, -3.4758454e-05, ...,\n",
       "          7.6550114e-06, -1.6756621e-06, -2.3023027e-05],\n",
       "        [ 2.5238461e-04, -4.6746518e-05, -4.6299547e-07, ...,\n",
       "          1.8735779e-04,  2.6628448e-04,  1.6653072e-04],\n",
       "        [ 2.4985734e-04,  1.9504680e-04, -1.6193514e-04, ...,\n",
       "          1.3540371e-04,  5.6322786e-04,  3.3474757e-04],\n",
       "        ...,\n",
       "        [ 1.0908891e-03,  1.6170127e-03, -1.7472705e-03, ...,\n",
       "         -1.9308155e-03, -2.6900566e-03, -1.0662587e-05],\n",
       "        [ 1.0934439e-03,  1.6324837e-03, -1.7426219e-03, ...,\n",
       "         -1.9474942e-03, -2.7245411e-03,  4.1174144e-06],\n",
       "        [ 1.0921216e-03,  1.6432876e-03, -1.7373353e-03, ...,\n",
       "         -1.9595406e-03, -2.7542303e-03,  1.6996131e-05]],\n",
       "\n",
       "       [[ 1.7854638e-04, -8.5614367e-05, -3.4758454e-05, ...,\n",
       "          7.6550114e-06, -1.6756621e-06, -2.3023027e-05],\n",
       "        [ 5.7508652e-05,  1.3562874e-04, -2.0163221e-04, ...,\n",
       "         -4.0078023e-05,  2.1540249e-05, -1.6596865e-04],\n",
       "        [ 1.3215373e-04,  1.6915546e-04, -2.2026322e-04, ...,\n",
       "          7.6417004e-05,  9.1214919e-05, -2.8610180e-04],\n",
       "        ...,\n",
       "        [ 1.0484507e-03,  1.5537988e-03, -1.7179046e-03, ...,\n",
       "         -1.8058220e-03, -2.4590245e-03, -7.3448158e-05],\n",
       "        [ 1.0560777e-03,  1.5760135e-03, -1.7175428e-03, ...,\n",
       "         -1.8443705e-03, -2.5213056e-03, -5.3838121e-05],\n",
       "        [ 1.0597544e-03,  1.5932198e-03, -1.7161763e-03, ...,\n",
       "         -1.8749312e-03, -2.5762848e-03, -3.5945945e-05]],\n",
       "\n",
       "       [[ 1.7854638e-04, -8.5614367e-05, -3.4758454e-05, ...,\n",
       "          7.6550114e-06, -1.6756621e-06, -2.3023027e-05],\n",
       "        [ 1.7052106e-04, -5.3692002e-05, -3.8376893e-04, ...,\n",
       "          1.1828431e-04,  1.7533130e-04, -9.0947135e-05],\n",
       "        [ 2.1565027e-04, -7.2233670e-05, -4.2385384e-04, ...,\n",
       "          2.3261740e-04,  2.4359275e-04, -1.0411227e-05],\n",
       "        ...,\n",
       "        [ 9.8451367e-04,  1.3804882e-03, -1.8592168e-03, ...,\n",
       "         -1.6989284e-03, -2.2335025e-03, -3.5176035e-05],\n",
       "        [ 1.0116406e-03,  1.4282925e-03, -1.8538934e-03, ...,\n",
       "         -1.7806746e-03, -2.3225150e-03, -2.0957637e-05],\n",
       "        [ 1.0313221e-03,  1.4689938e-03, -1.8433389e-03, ...,\n",
       "         -1.8449894e-03, -2.4002453e-03, -6.8657187e-06]]], dtype=float32)>"
      ]
     },
     "execution_count": 38,
     "metadata": {},
     "output_type": "execute_result"
    },
    {
     "name": "stdout",
     "output_type": "stream",
     "text": [
      "time: 3.94 s (started: 2021-01-30 22:47:38 +09:00)\n"
     ]
    }
   ],
   "source": [
    "for src_sample, tgt_sample in train_data.take(1): break\n",
    "model(src_sample)"
   ]
  },
  {
   "cell_type": "code",
   "execution_count": 39,
   "id": "false-capture",
   "metadata": {},
   "outputs": [
    {
     "name": "stdout",
     "output_type": "stream",
     "text": [
      "Model: \"text_generator\"\n",
      "_________________________________________________________________\n",
      "Layer (type)                 Output Shape              Param #   \n",
      "=================================================================\n",
      "embedding (Embedding)        multiple                  3840256   \n",
      "_________________________________________________________________\n",
      "lstm (LSTM)                  multiple                  5246976   \n",
      "_________________________________________________________________\n",
      "lstm_1 (LSTM)                multiple                  8392704   \n",
      "_________________________________________________________________\n",
      "dense (Dense)                multiple                  15376025  \n",
      "=================================================================\n",
      "Total params: 32,855,961\n",
      "Trainable params: 32,855,961\n",
      "Non-trainable params: 0\n",
      "_________________________________________________________________\n",
      "time: 1.47 ms (started: 2021-01-30 22:47:42 +09:00)\n"
     ]
    }
   ],
   "source": [
    "model.summary()"
   ]
  },
  {
   "cell_type": "markdown",
   "id": "invalid-timothy",
   "metadata": {},
   "source": [
    "### Hyper-parameter \n",
    "목표하는 val_loss는 2.2% 수준으로 낮춰야한다. "
   ]
  },
  {
   "cell_type": "code",
   "execution_count": 40,
   "id": "nutritional-olive",
   "metadata": {},
   "outputs": [
    {
     "name": "stdout",
     "output_type": "stream",
     "text": [
      "time: 295 µs (started: 2021-01-30 22:47:42 +09:00)\n"
     ]
    }
   ],
   "source": [
    "# BUFFER_SIZE = len(src_input)\n",
    "# BATCH_SIZE = 256\n",
    "# steps_per_epoch = len(src_input) // BATCH_SIZE\n",
    "# 위에서 데이터셋 텐서로 바꿔줄 때 이미 정의한 파라미터들 \n",
    "\n",
    "MAX_EPOCHS = 10  \n",
    "LEARNING_RATE = 1e-4"
   ]
  },
  {
   "cell_type": "markdown",
   "id": "animal-table",
   "metadata": {},
   "source": [
    "### 모델 학습 "
   ]
  },
  {
   "cell_type": "code",
   "execution_count": 41,
   "id": "worthy-device",
   "metadata": {},
   "outputs": [
    {
     "name": "stdout",
     "output_type": "stream",
     "text": [
      "time: 616 µs (started: 2021-01-30 22:47:42 +09:00)\n"
     ]
    }
   ],
   "source": [
    "es = EarlyStopping(monitor='val_loss', mode='min', verbose=1, patience=4)\n",
    "cp_callback = tf.keras.callbacks.ModelCheckpoint(chkpnt_path + '/lyrics',\n",
    "                                                 save_weights_only=True,\n",
    "                                                 monitor='val_loss',\n",
    "                                                 mode='auto',\n",
    "                                                 save_best_only=True,\n",
    "                                                 verbose=1)"
   ]
  },
  {
   "cell_type": "code",
   "execution_count": 42,
   "id": "unknown-willow",
   "metadata": {},
   "outputs": [
    {
     "name": "stdout",
     "output_type": "stream",
     "text": [
      "time: 430 µs (started: 2021-01-30 22:47:42 +09:00)\n"
     ]
    }
   ],
   "source": [
    "optimizer = tf.keras.optimizers.Adam(LEARNING_RATE)\n",
    "loss = tf.keras.losses.SparseCategoricalCrossentropy(\n",
    "    from_logits=True,\n",
    "    reduction='none'\n",
    ")"
   ]
  },
  {
   "cell_type": "code",
   "execution_count": 43,
   "id": "dramatic-nashville",
   "metadata": {},
   "outputs": [
    {
     "name": "stdout",
     "output_type": "stream",
     "text": [
      "Epoch 1/10\n",
      "213/213 [==============================] - ETA: 0s - loss: 3.3234 - accuracy: 0.6651\n",
      "Epoch 00001: val_loss improved from inf to 2.48548, saving model to /home/aiffel-dj19/aiffel/lyricist/models/chkpnt/lyrics\n",
      "213/213 [==============================] - 69s 323ms/step - loss: 3.3234 - accuracy: 0.6651 - val_loss: 2.4855 - val_accuracy: 0.6680\n",
      "Epoch 2/10\n",
      "213/213 [==============================] - ETA: 0s - loss: 2.2981 - accuracy: 0.6719\n",
      "Epoch 00002: val_loss improved from 2.48548 to 2.15491, saving model to /home/aiffel-dj19/aiffel/lyricist/models/chkpnt/lyrics\n",
      "213/213 [==============================] - 70s 328ms/step - loss: 2.2981 - accuracy: 0.6719 - val_loss: 2.1549 - val_accuracy: 0.6796\n",
      "Epoch 3/10\n",
      "213/213 [==============================] - ETA: 0s - loss: 2.0711 - accuracy: 0.6976\n",
      "Epoch 00003: val_loss improved from 2.15491 to 2.02601, saving model to /home/aiffel-dj19/aiffel/lyricist/models/chkpnt/lyrics\n",
      "213/213 [==============================] - 69s 323ms/step - loss: 2.0711 - accuracy: 0.6976 - val_loss: 2.0260 - val_accuracy: 0.7069\n",
      "Epoch 4/10\n",
      "213/213 [==============================] - ETA: 0s - loss: 1.9892 - accuracy: 0.7083\n",
      "Epoch 00004: val_loss improved from 2.02601 to 1.98538, saving model to /home/aiffel-dj19/aiffel/lyricist/models/chkpnt/lyrics\n",
      "213/213 [==============================] - 70s 327ms/step - loss: 1.9892 - accuracy: 0.7083 - val_loss: 1.9854 - val_accuracy: 0.7085\n",
      "Epoch 5/10\n",
      "213/213 [==============================] - ETA: 0s - loss: 1.9656 - accuracy: 0.7089\n",
      "Epoch 00005: val_loss improved from 1.98538 to 1.97334, saving model to /home/aiffel-dj19/aiffel/lyricist/models/chkpnt/lyrics\n",
      "213/213 [==============================] - 68s 317ms/step - loss: 1.9656 - accuracy: 0.7089 - val_loss: 1.9733 - val_accuracy: 0.7083\n",
      "Epoch 6/10\n",
      "213/213 [==============================] - ETA: 0s - loss: 1.9466 - accuracy: 0.7092\n",
      "Epoch 00006: val_loss improved from 1.97334 to 1.95349, saving model to /home/aiffel-dj19/aiffel/lyricist/models/chkpnt/lyrics\n",
      "213/213 [==============================] - 67s 317ms/step - loss: 1.9466 - accuracy: 0.7092 - val_loss: 1.9535 - val_accuracy: 0.7092\n",
      "Epoch 7/10\n",
      "213/213 [==============================] - ETA: 0s - loss: 1.9221 - accuracy: 0.7109\n",
      "Epoch 00007: val_loss improved from 1.95349 to 1.92929, saving model to /home/aiffel-dj19/aiffel/lyricist/models/chkpnt/lyrics\n",
      "213/213 [==============================] - 67s 317ms/step - loss: 1.9221 - accuracy: 0.7109 - val_loss: 1.9293 - val_accuracy: 0.7111\n",
      "Epoch 8/10\n",
      "213/213 [==============================] - ETA: 0s - loss: 1.8969 - accuracy: 0.7126\n",
      "Epoch 00008: val_loss improved from 1.92929 to 1.90868, saving model to /home/aiffel-dj19/aiffel/lyricist/models/chkpnt/lyrics\n",
      "213/213 [==============================] - 67s 317ms/step - loss: 1.8969 - accuracy: 0.7126 - val_loss: 1.9087 - val_accuracy: 0.7124\n",
      "Epoch 9/10\n",
      "213/213 [==============================] - ETA: 0s - loss: 1.8765 - accuracy: 0.7135\n",
      "Epoch 00009: val_loss improved from 1.90868 to 1.89366, saving model to /home/aiffel-dj19/aiffel/lyricist/models/chkpnt/lyrics\n",
      "213/213 [==============================] - 68s 318ms/step - loss: 1.8765 - accuracy: 0.7135 - val_loss: 1.8937 - val_accuracy: 0.7131\n",
      "Epoch 10/10\n",
      "213/213 [==============================] - ETA: 0s - loss: 1.8594 - accuracy: 0.7148\n",
      "Epoch 00010: val_loss improved from 1.89366 to 1.87927, saving model to /home/aiffel-dj19/aiffel/lyricist/models/chkpnt/lyrics\n",
      "213/213 [==============================] - 67s 315ms/step - loss: 1.8594 - accuracy: 0.7148 - val_loss: 1.8793 - val_accuracy: 0.7148\n",
      "time: 11min 26s (started: 2021-01-30 22:47:42 +09:00)\n"
     ]
    }
   ],
   "source": [
    "model.compile(loss=loss, optimizer=optimizer,\n",
    "             metrics=['accuracy'])\n",
    "hist_model = model.fit(train_data, \n",
    "                       steps_per_epoch = STEPS_PER_EPOCH,\n",
    "                       validation_data = test_data, \n",
    "                       validation_steps = VALIDATION_STEPS,\n",
    "                       epochs= MAX_EPOCHS,\n",
    "                      callbacks = [es, cp_callback])"
   ]
  },
  {
   "cell_type": "markdown",
   "id": "hairy-theory",
   "metadata": {},
   "source": [
    "### 학습 결과 시각화 "
   ]
  },
  {
   "cell_type": "code",
   "execution_count": 45,
   "id": "norwegian-option",
   "metadata": {},
   "outputs": [
    {
     "data": {
      "image/png": "[encoded data removed]",
      "text/plain": [
       "<Figure size 576x576 with 2 Axes>"
      ]
     },
     "metadata": {
      "needs_background": "light"
     },
     "output_type": "display_data"
    },
    {
     "name": "stdout",
     "output_type": "stream",
     "text": [
      "time: 204 ms (started: 2021-01-30 23:00:18 +09:00)\n"
     ]
    }
   ],
   "source": [
    "acc = hist_model.history['accuracy']\n",
    "val_acc = hist_model.history['val_accuracy']\n",
    "\n",
    "loss=hist_model.history['loss']\n",
    "val_loss=hist_model.history['val_loss']\n",
    "\n",
    "epochs_range = range(len(acc))\n",
    "\n",
    "plt.figure(figsize=(8, 8))\n",
    "plt.subplot(1, 2, 1)\n",
    "plt.plot(epochs_range, acc, label='Training Accuracy')\n",
    "plt.plot(epochs_range, val_acc, label='Validation Accuracy')\n",
    "plt.legend(loc='lower right')\n",
    "plt.title('Training and Validation Accuracy')\n",
    "\n",
    "plt.subplot(1, 2, 2)\n",
    "plt.plot(epochs_range, loss, label='Training Loss')\n",
    "plt.plot(epochs_range, val_loss, label='Validation Loss')\n",
    "plt.legend(loc='upper right')\n",
    "plt.title('Training and Validation Loss')\n",
    "plt.show()"
   ]
  },
  {
   "cell_type": "markdown",
   "id": "mysterious-ministry",
   "metadata": {},
   "source": [
    "## 6. 모델 Test"
   ]
  },
  {
   "cell_type": "code",
   "execution_count": 47,
   "id": "induced-cabin",
   "metadata": {},
   "outputs": [
    {
     "name": "stdout",
     "output_type": "stream",
     "text": [
      "53/53 [==============================] - 6s 113ms/step - loss: 1.8795 - accuracy: 0.7148\n",
      "time: 6.42 s (started: 2021-01-30 23:00:53 +09:00)\n"
     ]
    }
   ],
   "source": [
    "model.load_weights(chkpnt_path + '/lyrics')\n",
    "results = model.evaluate(test_data)"
   ]
  },
  {
   "cell_type": "code",
   "execution_count": 48,
   "id": "hourly-malawi",
   "metadata": {},
   "outputs": [
    {
     "name": "stdout",
     "output_type": "stream",
     "text": [
      "time: 851 µs (started: 2021-01-30 23:01:03 +09:00)\n"
     ]
    }
   ],
   "source": [
    "def generate_text(model, tokenizer, init_sentence=\"<start>\", max_len=20):\n",
    "    # 테스트를 위해서 입력받은 init_sentence도 일단 텐서로 변환합니다.\n",
    "    test_input = tokenizer.texts_to_sequences([init_sentence])\n",
    "    test_tensor = tf.convert_to_tensor(test_input, dtype=tf.int64)\n",
    "    end_token = tokenizer.word_index[\"<end>\"]\n",
    "\n",
    "    # 텍스트를 실제로 생성할때는 루프를 돌면서 단어 하나씩 생성해야 합니다. \n",
    "    while True:\n",
    "        predict = model(test_tensor)  # 입력받은 문장의 텐서를 입력합니다. \n",
    "        predict_word = tf.argmax(tf.nn.softmax(predict, axis=-1), axis=-1)[:, -1]   # 우리 모델이 예측한 마지막 단어가 바로 새롭게 생성한 단어가 됩니다. \n",
    "\n",
    "        # 우리 모델이 새롭게 예측한 단어를 입력 문장의 뒤에 붙여 줍니다. \n",
    "        test_tensor = tf.concat([test_tensor, \n",
    "\t\t\t\t\t\t\t\t\t\t\t\t\t\t\t\t tf.expand_dims(predict_word, axis=0)], axis=-1)\n",
    "\n",
    "        # 우리 모델이 <end>를 예측했거나, max_len에 도달하지 않았다면  while 루프를 또 돌면서 다음 단어를 예측해야 합니다.\n",
    "        if predict_word.numpy()[0] == end_token: break\n",
    "        if test_tensor.shape[1] >= max_len: break\n",
    "\n",
    "    generated = \"\"\n",
    "    # 생성된 tensor 안에 있는 word index를 tokenizer.index_word 사전을 통해 실제 단어로 하나씩 변환합니다. \n",
    "    for word_index in test_tensor[0].numpy():\n",
    "        generated += tokenizer.index_word[word_index] + \" \"\n",
    "\n",
    "    return generated   # 이것이 최종적으로 모델이 생성한 자연어 문장입니다."
   ]
  },
  {
   "cell_type": "code",
   "execution_count": 49,
   "id": "indie-closing",
   "metadata": {},
   "outputs": [
    {
     "data": {
      "text/plain": [
       "'<start> i love you the t the be <end> '"
      ]
     },
     "execution_count": 49,
     "metadata": {},
     "output_type": "execute_result"
    },
    {
     "name": "stdout",
     "output_type": "stream",
     "text": [
      "time: 50 ms (started: 2021-01-30 23:01:05 +09:00)\n"
     ]
    }
   ],
   "source": [
    "generate_text(model, tokenizer, init_sentence=\"<start> i love\")"
   ]
  }
 ],
 "metadata": {
  "kernelspec": {
   "display_name": "aiffel",
   "language": "python",
   "name": "aiffel"
  },
  "language_info": {
   "codemirror_mode": {
    "name": "ipython",
    "version": 3
   },
   "file_extension": ".py",
   "mimetype": "text/x-python",
   "name": "python",
   "nbconvert_exporter": "python",
   "pygments_lexer": "ipython3",
   "version": "3.7.9"
  }
 },
 "nbformat": 4,
 "nbformat_minor": 5
}

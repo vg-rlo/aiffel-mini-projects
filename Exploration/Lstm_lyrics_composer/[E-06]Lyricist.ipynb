{
 "cells": [
  {
   "cell_type": "markdown",
   "id": "shaped-ecuador",
   "metadata": {},
   "source": [
    "# 프로젝트: 가사를 이어붙이는 인공지능 "
   ]
  },
  {
   "cell_type": "markdown",
   "id": "charitable-province",
   "metadata": {},
   "source": [
    "## 0. 환경 세팅"
   ]
  },
  {
   "cell_type": "markdown",
   "id": "accessory-carpet",
   "metadata": {},
   "source": [
    "### 실행시간 확인을 위한 autotime 라이브러리 "
   ]
  },
  {
   "cell_type": "code",
   "execution_count": 59,
   "id": "pleasant-river",
   "metadata": {},
   "outputs": [
    {
     "name": "stdout",
     "output_type": "stream",
     "text": [
      "The autotime extension is already loaded. To reload it, use:\n",
      "  %reload_ext autotime\n",
      "time: 431 µs (started: 2021-02-02 11:12:15 +09:00)\n"
     ]
    }
   ],
   "source": [
    "# 시간 측정 \n",
    "# !pip install ipython-autotime\n",
    "%load_ext autotime"
   ]
  },
  {
   "cell_type": "markdown",
   "id": "oriented-laundry",
   "metadata": {},
   "source": [
    "### GPU 세팅\n",
    "* Tensorflow 특성상 GPU 메모리 파편화를 방지하기 위해 GPU 메모리 전체를 잡아먹는 경향이 있습니다. 그래서 해당 설정을 해주면 GPU를 사용하는 만큼 할당할 수 있습니다. "
   ]
  },
  {
   "cell_type": "code",
   "execution_count": 60,
   "id": "gothic-cherry",
   "metadata": {
    "scrolled": false
   },
   "outputs": [
    {
     "name": "stdout",
     "output_type": "stream",
     "text": [
      "time: 354 µs (started: 2021-02-02 11:12:15 +09:00)\n"
     ]
    }
   ],
   "source": [
    "import tensorflow as tf\n",
    "import os \n",
    "\n",
    "os.environ['TF_FORCE_GPU_ALLOW_GROWTH'] = 'true'"
   ]
  },
  {
   "cell_type": "code",
   "execution_count": 61,
   "id": "equivalent-mounting",
   "metadata": {
    "scrolled": true
   },
   "outputs": [
    {
     "name": "stdout",
     "output_type": "stream",
     "text": [
      "1 Physical GPUs, 1 Logical GPUs\n",
      "time: 894 µs (started: 2021-02-02 11:12:16 +09:00)\n"
     ]
    }
   ],
   "source": [
    "gpus = tf.config.experimental.list_physical_devices('GPU')\n",
    "if gpus:\n",
    "    try:\n",
    "        # Currently, memory growth needs to be the same across GPUs\n",
    "        for gpu in gpus:\n",
    "            tf.config.experimental.set_memory_growth(gpu, True)\n",
    "        logical_gpus = tf.config.experimental.list_logical_devices('GPU')\n",
    "        print(len(gpus), \"Physical GPUs,\", len(logical_gpus), \"Logical GPUs\")\n",
    "        \n",
    "    except RuntimeError as e:\n",
    "        # Memory growth must be set before GPUs have been initialized\n",
    "        print(e)"
   ]
  },
  {
   "cell_type": "markdown",
   "id": "capable-liberty",
   "metadata": {},
   "source": [
    "### Random seed 설정 \n",
    "* 같은 결과를 유지하기 위해 설정해준다. 튜닝으로 가장 좋은 결과물을 이끄는 파라미터를 설정할 수 있기도 합니다. \n",
    "* 각 패키지별로 랜덤 시드를 설정해주는 것이 같은 결과를 이끌어낼 수 있습니다. "
   ]
  },
  {
   "cell_type": "code",
   "execution_count": 62,
   "id": "satellite-public",
   "metadata": {},
   "outputs": [
    {
     "name": "stdout",
     "output_type": "stream",
     "text": [
      "time: 632 µs (started: 2021-02-02 11:12:16 +09:00)\n"
     ]
    }
   ],
   "source": [
    "import random\n",
    "import numpy as np \n",
    "# import tensorflow as tf\n",
    "# import os\n",
    "\n",
    "# random seed \n",
    "def set_seeds(seed):\n",
    "    os.environ['PYTHONHASHSEED'] = str(seed)\n",
    "    random.seed(seed)\n",
    "    tf.random.set_seed(seed)\n",
    "    np.random.seed(seed)\n",
    "    \n",
    "SEED = 10\n",
    "set_seeds(SEED)"
   ]
  },
  {
   "cell_type": "markdown",
   "id": "olympic-reserve",
   "metadata": {},
   "source": [
    "### 사용 라이브러리 "
   ]
  },
  {
   "cell_type": "code",
   "execution_count": 63,
   "id": "cloudy-details",
   "metadata": {},
   "outputs": [
    {
     "name": "stdout",
     "output_type": "stream",
     "text": [
      "time: 478 µs (started: 2021-02-02 11:12:16 +09:00)\n"
     ]
    }
   ],
   "source": [
    "import re # 정규표현식을 활용 \n",
    "import numpy as np # 변환된 문장데이터의 array로 변환 \n",
    "import matplotlib.pyplot as plt # 분포의 시각화\n",
    "\n",
    "from collections import Counter # 빈도수 \n",
    "\n",
    "from sklearn.model_selection import train_test_split # 데이터셋 분리 \n",
    "from tensorflow.keras.preprocessing.sequence import pad_sequences # 패딩 추가\n",
    "from tensorflow.keras.callbacks import EarlyStopping, ModelCheckpoint # 빨리 끝내기, 체크포인트 모델 파일 저장"
   ]
  },
  {
   "cell_type": "markdown",
   "id": "industrial-convergence",
   "metadata": {},
   "source": [
    "## 1. 데이터 다운로드"
   ]
  },
  {
   "cell_type": "markdown",
   "id": "exciting-anger",
   "metadata": {},
   "source": [
    "### 데이터 디렉토리 만들기\n",
    "* os.path.isdir(path): 주어진 경로(path)에 파일이 있으면 True, 없으면 False 반환 \n",
    "* os.path.isfile(path): 주어진 경로에 파일이 있으면 True, 없으면 False 반환 "
   ]
  },
  {
   "cell_type": "code",
   "execution_count": 64,
   "id": "raising-feeling",
   "metadata": {},
   "outputs": [
    {
     "name": "stdout",
     "output_type": "stream",
     "text": [
      "project_path에 폴더가 이미 존재합니다.\n",
      "time: 561 µs (started: 2021-02-02 11:12:17 +09:00)\n"
     ]
    }
   ],
   "source": [
    "# import os # 위에서 이미 import 했습니다. \n",
    "\n",
    "project_path = os.getenv(\"HOME\")+'/aiffel/lyricist'\n",
    "\n",
    "if not os.path.isdir(project_path):\n",
    "    os.mkdir(project_path)\n",
    "\n",
    "else:\n",
    "    print(\"project_path에 폴더가 이미 존재합니다.\")"
   ]
  },
  {
   "cell_type": "code",
   "execution_count": 65,
   "id": "identical-senator",
   "metadata": {},
   "outputs": [
    {
     "name": "stdout",
     "output_type": "stream",
     "text": [
      "data_path에 폴더가 이미 존재합니다.\n",
      "models_path에 폴더가 이미 존재합니다.\n",
      "time: 831 µs (started: 2021-02-02 11:12:17 +09:00)\n"
     ]
    }
   ],
   "source": [
    "# 절대 경로를 줘야함. \n",
    "data_path = os.getenv(\"HOME\")+'/aiffel/lyricist/data'\n",
    "models_path = os.getenv(\"HOME\")+'/aiffel/lyricist/models'\n",
    "\n",
    "if not os.path.isdir(data_path):\n",
    "    os.mkdir(data_path)\n",
    "\n",
    "else:\n",
    "    print(\"data_path에 폴더가 이미 존재합니다.\")\n",
    "    \n",
    "if not os.path.isdir(models_path):\n",
    "    os.mkdir(models_path)    \n",
    "\n",
    "else:\n",
    "    print(\"models_path에 폴더가 이미 존재합니다.\")  "
   ]
  },
  {
   "cell_type": "code",
   "execution_count": 66,
   "id": "little-republican",
   "metadata": {},
   "outputs": [
    {
     "name": "stdout",
     "output_type": "stream",
     "text": [
      "chkpnt_path에 폴더가 이미 존재합니다.\n",
      "time: 647 µs (started: 2021-02-02 11:12:17 +09:00)\n"
     ]
    }
   ],
   "source": [
    "# 학습된 모델의 가중치 저장용 \n",
    "chkpnt_path = models_path + \"/chkpnt\"\n",
    "\n",
    "if not os.path.isdir(chkpnt_path):\n",
    "    os.mkdir(chkpnt_path)    \n",
    "else:\n",
    "    print(\"chkpnt_path에 폴더가 이미 존재합니다.\")  "
   ]
  },
  {
   "cell_type": "markdown",
   "id": "extended-shelf",
   "metadata": {},
   "source": [
    "### 데이터 다운로드 \n",
    "* wget 라이브러리(패키지)를 설치해서 인터넷상의 다운로드 링크를 활용해서 파일을 다운로드 받을 수 있습니다."
   ]
  },
  {
   "cell_type": "code",
   "execution_count": 67,
   "id": "small-migration",
   "metadata": {
    "scrolled": true
   },
   "outputs": [
    {
     "name": "stdout",
     "output_type": "stream",
     "text": [
      "Requirement already satisfied: wget in /home/aiffel-dj19/anaconda3/envs/aiffel/lib/python3.7/site-packages (3.2)\n",
      "time: 1.04 s (started: 2021-02-02 11:12:18 +09:00)\n"
     ]
    }
   ],
   "source": [
    "!pip install wget"
   ]
  },
  {
   "cell_type": "code",
   "execution_count": 68,
   "id": "brilliant-omaha",
   "metadata": {},
   "outputs": [
    {
     "name": "stdout",
     "output_type": "stream",
     "text": [
      "song_lyrics.zip가 이미 존재합니다.\n",
      "time: 740 µs (started: 2021-02-02 11:12:19 +09:00)\n"
     ]
    }
   ],
   "source": [
    "import wget\n",
    "\n",
    "url = 'https://aiffelstaticprd.blob.core.windows.net/media/documents/song_lyrics.zip'\n",
    "zip_lyrics_path = data_path + '/song_lyrics.zip'\n",
    "\n",
    "if not os.path.isfile(zip_lyrics_path):\n",
    "    wget.download(url, out = zip_lyrics_path)\n",
    "\n",
    "else:\n",
    "    print(\"song_lyrics.zip가 이미 존재합니다.\")"
   ]
  },
  {
   "cell_type": "code",
   "execution_count": 69,
   "id": "constitutional-moore",
   "metadata": {},
   "outputs": [
    {
     "name": "stdout",
     "output_type": "stream",
     "text": [
      "/home/aiffel-dj19/aiffel/lyricist\n",
      "time: 124 ms (started: 2021-02-02 11:12:19 +09:00)\n"
     ]
    }
   ],
   "source": [
    "!pwd #현재 위치 확인 "
   ]
  },
  {
   "cell_type": "code",
   "execution_count": 70,
   "id": "million-myanmar",
   "metadata": {
    "scrolled": true
   },
   "outputs": [
    {
     "name": "stdout",
     "output_type": "stream",
     "text": [
      "time: 291 µs (started: 2021-02-02 11:12:19 +09:00)\n"
     ]
    }
   ],
   "source": [
    "# !unzip ./data/song_lyrics.zip -d ~/aiffel/lyricist/data/lyrics # !를 붙이면 터미널 명령으로 압축파일 해제 "
   ]
  },
  {
   "cell_type": "markdown",
   "id": "included-liberia",
   "metadata": {},
   "source": [
    "## 2. 데이터 읽어오기 \n",
    "* 다운로드한 데이터를 glob 라이브러리를 활용해서 읽어옵니다. 변수명을 raw_corpus(정제되지 않은 말뭉치)로 두고, 정제하기전 초기 데이터를 불러옵니다. "
   ]
  },
  {
   "cell_type": "code",
   "execution_count": 71,
   "id": "ruled-cleaners",
   "metadata": {
    "scrolled": true
   },
   "outputs": [
    {
     "name": "stdout",
     "output_type": "stream",
     "text": [
      "데이터 크기: 187088\n",
      "Examples:\n",
      " ['Can we forget about the things I said when I was drunk...', \"I didn't mean to call you that\", \"I can't remember what was said\", 'Or what you threw at me Please tell me', 'Please tell me why', 'My car is in the front yard', 'And I am sleeping with my cloths on', 'I came in throught the window... Last night', 'And your... Gone', \"Gone It's no suprise to me I am my own worst enemy\"]\n",
      "time: 31.5 ms (started: 2021-02-02 11:12:20 +09:00)\n"
     ]
    }
   ],
   "source": [
    "import glob # 파일 읽기/쓰기 작업을 위한 모듈 \n",
    "import os\n",
    "\n",
    "txt_file_path = os.getenv('HOME')+'/aiffel/lyricist/data/lyrics/*'\n",
    "\n",
    "txt_list = glob.glob(txt_file_path)\n",
    "\n",
    "raw_corpus = []\n",
    "\n",
    "# 여러개의 txt 파일을 모두 읽어서 raw_corpus 에 담습니다.\n",
    "for txt_file in txt_list:\n",
    "    with open(txt_file, \"r\") as f:\n",
    "        raw = f.read().splitlines()\n",
    "        raw_corpus.extend(raw)\n",
    "\n",
    "print(\"데이터 크기:\", len(raw_corpus))\n",
    "print(\"Examples:\\n\", raw_corpus[:10])"
   ]
  },
  {
   "cell_type": "markdown",
   "id": "worthy-birth",
   "metadata": {},
   "source": [
    "## 3. 데이터 정제\n",
    "### 정규표현식을 활용한 필터링\n",
    "* raw_corpus는 정제되지 않은 문장들로 이뤄지기 때문에 공백이 있을 수 있습니다. 공백이 있는 문장(sentence)는 제외합니다.\n",
    "* First Citizen:, All: 처럼 말하는 사람인 화자가 :를 기준으로 나타나있습니다. 따라서 화자 부분도 제외합니다.\n",
    "* ~~(추가 시도) 영어 문장은 단어로 이뤄질때 의미를 가지므로 알파문장이 하나인 즉, length가 1인 경우도 제외해줍니다.~~ 그럼 a도 사라져서 x  "
   ]
  },
  {
   "cell_type": "code",
   "execution_count": 72,
   "id": "miniature-algebra",
   "metadata": {},
   "outputs": [
    {
     "name": "stdout",
     "output_type": "stream",
     "text": [
      "Can we forget about the things I said when I was drunk...\n",
      "I didn't mean to call you that\n",
      "I can't remember what was said\n",
      "Or what you threw at me Please tell me\n",
      "Please tell me why\n",
      "My car is in the front yard\n",
      "And I am sleeping with my cloths on\n",
      "I came in throught the window... Last night\n",
      "And your... Gone\n",
      "Gone It's no suprise to me I am my own worst enemy\n",
      "time: 713 µs (started: 2021-02-02 11:12:21 +09:00)\n"
     ]
    }
   ],
   "source": [
    "for idx, sentence in enumerate(raw_corpus):\n",
    "    if len(sentence) == 0: continue   # 길이가 0인 문장은 건너뜁니다.\n",
    "#     if sentence[-1] == \":\": continue  # 문장의 끝이 : 인 문장은 건너뜁니다. 연극 대사일때 필요했던 작업입니다. Pass\n",
    "\n",
    "    if idx > 9: break   # 일단 문장 10개만 확인해 볼 겁니다.\n",
    "        \n",
    "    print(sentence)"
   ]
  },
  {
   "cell_type": "markdown",
   "id": "intermediate-finish",
   "metadata": {},
   "source": [
    "### Corpus 정제하는 함수: preprocess_sentence()"
   ]
  },
  {
   "cell_type": "markdown",
   "id": "material-walnut",
   "metadata": {},
   "source": [
    "* 영어는 주로 공백이 토큰화에서 토큰을 쪼개는 delimeter(구분자)입니다. \n",
    "* 특수문자, 공백, 그리고 영어가 아닌 문자는 모두 공백으로 치환합니다. \n",
    "* 문장의 시작/끝 토큰 추가을 추가해줍니다. \n",
    "* (추가 시도) don't, haven't와 같은 형태들은 가사에서 특히 더 자주 쓰이는 형태이기 때문에 re.sub할 때 패턴에 추가해줬습니다. "
   ]
  },
  {
   "cell_type": "code",
   "execution_count": 73,
   "id": "higher-numbers",
   "metadata": {},
   "outputs": [
    {
     "name": "stdout",
     "output_type": "stream",
     "text": [
      "<start> this is sample' '' ' sentence . <end>\n",
      "time: 1.01 ms (started: 2021-02-02 11:12:22 +09:00)\n"
     ]
    }
   ],
   "source": [
    "def preprocess_sentence(sentence):\n",
    "    sentence = sentence.lower().strip()       # 소문자로 바꾸고 양쪽 공백을 삭제\n",
    "  \n",
    "    # 아래 3단계를 거쳐 sentence는 스페이스 1개를 delimeter로 하는 소문자 단어 시퀀스로 바뀝니다.\n",
    "    sentence = re.sub(r\"([?.!,¿])\", r\" \\1 \", sentence)        # 패턴의 특수문자를 만나면 특수문자 양쪽에 공백을 추가\n",
    "    sentence = re.sub(r'[\" \"]+', \" \", sentence)                  # 공백 패턴을 만나면 스페이스 1개로 치환\n",
    "    sentence = re.sub(r\"[^a-zA-Z?.!,¿,']+\", \" \", sentence)  # a-zA-Z?.!,¿ 패턴을 제외한 모든 문자(공백문자까지도)를 스페이스 1개로 치환\n",
    "\n",
    "    sentence = sentence.strip()\n",
    "\n",
    "    sentence = '<start> ' + sentence + ' <end>'      # 문장 앞뒤로 <start>와 <end> 토큰을 추가한다.\n",
    "    \n",
    "    return sentence\n",
    "\n",
    "print(preprocess_sentence(\"This @_is ;;;sample'   ''     '    sentence.\"))   # 이 문장이 어떻게 필터링되는지 확인해 보세요."
   ]
  },
  {
   "cell_type": "markdown",
   "id": "norman-store",
   "metadata": {},
   "source": [
    "### Raw Corpus to Corpus \n",
    "* Corpus(말뭉치)를 의미합니다. 데이터셋의 정제되지 않은 문장들을 Corpus로 만들어 줍니다. \n",
    "* raw_corpus에서 한문장씩 읽으며 비어있는 문장이 된 문장이 있는지 확인 후에 preprocess_sentence함수로 특수문자 제거, 시작/끝 토큰 추가를 수행합니다. \n",
    "* (추가 시도) 1개의 알파벳을 가진 문장까지 제거"
   ]
  },
  {
   "cell_type": "code",
   "execution_count": 92,
   "id": "solar-estonia",
   "metadata": {},
   "outputs": [
    {
     "data": {
      "text/plain": [
       "14"
      ]
     },
     "execution_count": 92,
     "metadata": {},
     "output_type": "execute_result"
    },
    {
     "name": "stdout",
     "output_type": "stream",
     "text": [
      "time: 1.48 ms (started: 2021-02-02 11:14:58 +09:00)\n"
     ]
    }
   ],
   "source": [
    "len('<start>  <end>')"
   ]
  },
  {
   "cell_type": "markdown",
   "id": "damaged-house",
   "metadata": {},
   "source": [
    "start와 end 토큰을 포함해서 공백이 있거나, 알파벳 하나로 이뤄진 문장을 제거합니다."
   ]
  },
  {
   "cell_type": "code",
   "execution_count": 93,
   "id": "lesbian-sheffield",
   "metadata": {},
   "outputs": [
    {
     "data": {
      "text/plain": [
       "['<start> can we forget about the things i said when i was drunk . . . <end>',\n",
       " \"<start> i didn't mean to call you that <end>\",\n",
       " \"<start> i can't remember what was said <end>\",\n",
       " '<start> or what you threw at me please tell me <end>',\n",
       " '<start> please tell me why <end>',\n",
       " '<start> my car is in the front yard <end>',\n",
       " '<start> and i am sleeping with my cloths on <end>',\n",
       " '<start> i came in throught the window . . . last night <end>',\n",
       " '<start> and your . . . gone <end>',\n",
       " \"<start> gone it's no suprise to me i am my own worst enemy <end>\"]"
      ]
     },
     "execution_count": 93,
     "metadata": {},
     "output_type": "execute_result"
    },
    {
     "name": "stdout",
     "output_type": "stream",
     "text": [
      "time: 1.69 s (started: 2021-02-02 11:15:50 +09:00)\n"
     ]
    }
   ],
   "source": [
    "corpus = []\n",
    "pre_corpus = []\n",
    "\n",
    "for sentence in raw_corpus:        \n",
    "    pre_corpus.append(preprocess_sentence(sentence)) # 위에서 정의한 전처리 함수를 사용합니다. \n",
    "\n",
    "for sentence in pre_corpus:             \n",
    "    if len(sentence) < 16: continue  # 전처리 후 모두 제외 대상에 속해 값이 있다가 공백이 되어버린 문장이 있을 수 있습니다.\n",
    "                                    # 그리고 추가적으로 글자가 1개 이하인 것은 삭제합니다. 영단어는 1개의 알파벳으로 이뤄진 문장은 없으니까요!\n",
    "    corpus.append(sentence)         # 그렇기 때문에 결측치를 한번더 제거해줍니다. \n",
    "        \n",
    "corpus[:10]"
   ]
  },
  {
   "cell_type": "markdown",
   "id": "blank-power",
   "metadata": {},
   "source": [
    "### Padding \n",
    "* padding을 하기 위해서 가장 먼저 해줘야할 점은 문장의 길이가 어떻게 분포되어있는지 확인하는 것입니다.   \n",
    "    왜 일까? padding은 corpus의 각 sentence(문장) 길이를 맞춰주기 위해 진행하는 작업이기 때문입니다. 길이를 너무 큰 문장에 맞춰주면 극단적으로 100이 최대길이라고 하면 문장길이가 1밖에 안되는 데이터는 99가 0으로 채워지기 떄문입니다. 그래서 주로 90% 분포에 위치하는 문장의 길이를 기준으로 padding해줍니다. "
   ]
  },
  {
   "cell_type": "markdown",
   "id": "romance-dodge",
   "metadata": {},
   "source": [
    "#### 문장 분포 확인 \n",
    "표준편차가 20이고, 문장길이의 평균이 51이면서 최대값은 1478이다. 굉장히 문장길이가 편중되어 분포되어있음을 알 수 있다. "
   ]
  },
  {
   "cell_type": "code",
   "execution_count": 94,
   "id": "alien-hazard",
   "metadata": {
    "scrolled": true
   },
   "outputs": [
    {
     "name": "stdout",
     "output_type": "stream",
     "text": [
      "문장길이 평균 :  51.36514704461083\n",
      "문장길이 최대 :  1495\n",
      "문장길이 표준편차 :  20.602708284145958\n",
      "time: 21 ms (started: 2021-02-02 11:15:54 +09:00)\n"
     ]
    }
   ],
   "source": [
    "# 텍스트데이터 문장길이의 리스트를 생성한 후\n",
    "num_tokens = [len(tokens) for tokens in corpus]\n",
    "num_tokens = np.array(num_tokens)\n",
    "\n",
    "# 문장길이의 평균값, 최대값, 표준편차를 계산해 본다. \n",
    "print('문장길이 평균 : ', np.mean(num_tokens))\n",
    "print('문장길이 최대 : ', np.max(num_tokens))\n",
    "print('문장길이 표준편차 : ', np.std(num_tokens))"
   ]
  },
  {
   "cell_type": "code",
   "execution_count": 95,
   "id": "ignored-hamburg",
   "metadata": {},
   "outputs": [
    {
     "name": "stdout",
     "output_type": "stream",
     "text": [
      "리뷰의 최대 길이 : 1495\n",
      "리뷰의 평균 길이 : 51.36514704461083\n"
     ]
    },
    {
     "data": {
      "image/png": "[encoded data removed]",
      "text/plain": [
       "<Figure size 432x288 with 1 Axes>"
      ]
     },
     "metadata": {
      "needs_background": "light"
     },
     "output_type": "display_data"
    },
    {
     "name": "stdout",
     "output_type": "stream",
     "text": [
      "time: 736 ms (started: 2021-02-02 11:15:55 +09:00)\n"
     ]
    }
   ],
   "source": [
    "print('리뷰의 최대 길이 :', np.max(num_tokens))\n",
    "print('리뷰의 평균 길이 :', np.mean(num_tokens))\n",
    "plt.hist([len(s) for s in corpus], bins=50)\n",
    "plt.xlabel('length of samples')\n",
    "plt.ylabel('number of samples')\n",
    "plt.show()"
   ]
  },
  {
   "cell_type": "markdown",
   "id": "assumed-translator",
   "metadata": {},
   "source": [
    "위에 히스토그램으로는 문장길이 분포를 살펴보기 어렵습니다. 히스토그램상에서 문장길이가 200이상인 경우가 대부분에 해당하는 것을 확인할 수 있기 떄문에 문장길이가 200이상인 문장에 대해서만 다시 한번 살펴봅니다."
   ]
  },
  {
   "cell_type": "code",
   "execution_count": 96,
   "id": "alert-chamber",
   "metadata": {
    "scrolled": true
   },
   "outputs": [
    {
     "data": {
      "image/png": "[encoded data removed]",
      "text/plain": [
       "<Figure size 432x288 with 1 Axes>"
      ]
     },
     "metadata": {
      "needs_background": "light"
     },
     "output_type": "display_data"
    },
    {
     "name": "stdout",
     "output_type": "stream",
     "text": [
      "time: 704 ms (started: 2021-02-02 11:15:55 +09:00)\n"
     ]
    }
   ],
   "source": [
    "plt.hist([len(s)  for s in corpus if len(s)<200], bins=50)\n",
    "plt.xlabel('length of samples')\n",
    "plt.ylabel('number of samples')\n",
    "plt.show()"
   ]
  },
  {
   "cell_type": "markdown",
   "id": "modern-mechanism",
   "metadata": {},
   "source": [
    "반대로 문장길이가 200이상이고 최대길이에 해당하기까지의 문장 분포는 어떻게 될지 살펴봅시다. y축의 샘플의 개수를 확인해보면 앞선 히스토그램에서 17500에 비해, 25정도로 개수의 편차가 매우 큰 것을 알 수 있습니다. "
   ]
  },
  {
   "cell_type": "code",
   "execution_count": 97,
   "id": "expanded-vienna",
   "metadata": {
    "scrolled": true
   },
   "outputs": [
    {
     "data": {
      "image/png": "[encoded data removed]",
      "text/plain": [
       "<Figure size 432x288 with 1 Axes>"
      ]
     },
     "metadata": {
      "needs_background": "light"
     },
     "output_type": "display_data"
    },
    {
     "name": "stdout",
     "output_type": "stream",
     "text": [
      "time: 176 ms (started: 2021-02-02 11:15:56 +09:00)\n"
     ]
    }
   ],
   "source": [
    "plt.hist([len(s)  for s in corpus if len(s)>200], bins=50)\n",
    "plt.xlabel('length of samples')\n",
    "plt.ylabel('number of samples')\n",
    "plt.show()"
   ]
  },
  {
   "cell_type": "markdown",
   "id": "rapid-competition",
   "metadata": {},
   "source": [
    "#### Corpus 문장 길이 분포\n",
    "* Corpus를 어떤 기준으로 padding해줄지에 대해서는 평균, 최대, 표준편차를 고려해줍니다.\n",
    "* 왜? 평균 + 2*표준편차일까, 평균 + 표준편차는?정규분포의 지수적인 꼬리 부분에 해당하는 부분을 확인해보면 평균 + 표준편차는 약68%, 평균 + 2*표준편차는 약 95%입니다. 이러한 점을 통해 덜 극단적인 패딩의 최대 문장 길이를 선정할 수 있습니다.\n",
    "* 출처: https://ko.wikipedia.org/wiki/68-95-99.7_%EA%B7%9C%EC%B9%99\n",
    "~max_tokens = 15 # 문제에서는 15로 주어졌는데 왜일까? 확인해보면 매우.. 낮은데..!?~"
   ]
  },
  {
   "cell_type": "code",
   "execution_count": 98,
   "id": "proud-entrance",
   "metadata": {},
   "outputs": [
    {
     "name": "stdout",
     "output_type": "stream",
     "text": [
      "pad_sequences maxlen: 71개\n",
      "전체 문장의 0.8801698702096089%가 maxlen 설정값 이내에 포함됩니다. \n",
      "time: 1.92 ms (started: 2021-02-02 11:15:57 +09:00)\n"
     ]
    }
   ],
   "source": [
    "max_tokens = np.mean(num_tokens) + np.std(num_tokens)\n",
    "\n",
    "max_len = int(max_tokens)\n",
    "print('pad_sequences maxlen: {}개'.format(max_len))\n",
    "print('전체 문장의 {}%가 maxlen 설정값 이내에 포함됩니다. '.format(np.sum(num_tokens < max_tokens) / len(num_tokens)))"
   ]
  },
  {
   "cell_type": "markdown",
   "id": "imported-frederick",
   "metadata": {},
   "source": [
    "--- \n",
    "\n",
    "#### **max_len은 몇으로 하는게 적당할까? 위에 나온 71개를 그대로 써도 괜찮을까?**    \n",
    ">우리가 목표하고 있는 결과물은 작사가입니다. 일반적으로 패딩의 길이를 정해줄 때, 위와 같은 방법으로 히스토그램을 살펴본 후 가장 일반적인 길이를 선정해줍니다. 그래서 되도록 길이를 20 정도로 일반적인 노랫말들이 문장길이가 20정도 된다고 생각하고 max_len을 30으로 지정해주겠습니다. start와 end를 생각하면 글자 수는 10개 정도가 빠지는 거니까요  "
   ]
  },
  {
   "cell_type": "code",
   "execution_count": 99,
   "id": "regular-theater",
   "metadata": {},
   "outputs": [
    {
     "name": "stdout",
     "output_type": "stream",
     "text": [
      "time: 188 µs (started: 2021-02-02 11:15:58 +09:00)\n"
     ]
    }
   ],
   "source": [
    "# max_len = 30 "
   ]
  },
  {
   "cell_type": "markdown",
   "id": "laughing-caution",
   "metadata": {},
   "source": [
    "#### 문장길이 기준으로 데이터셋 축소 "
   ]
  },
  {
   "cell_type": "code",
   "execution_count": 100,
   "id": "gentle-consensus",
   "metadata": {},
   "outputs": [
    {
     "data": {
      "text/plain": [
       "175899"
      ]
     },
     "execution_count": 100,
     "metadata": {},
     "output_type": "execute_result"
    },
    {
     "name": "stdout",
     "output_type": "stream",
     "text": [
      "time: 1.12 ms (started: 2021-02-02 11:15:59 +09:00)\n"
     ]
    }
   ],
   "source": [
    "len(corpus)"
   ]
  },
  {
   "cell_type": "code",
   "execution_count": 101,
   "id": "juvenile-headset",
   "metadata": {
    "scrolled": true
   },
   "outputs": [
    {
     "data": {
      "text/plain": [
       "[\"<start> i didn't mean to call you that <end>\",\n",
       " \"<start> i can't remember what was said <end>\",\n",
       " '<start> please tell me why <end>',\n",
       " '<start> my car is in the front yard <end>',\n",
       " '<start> and i am sleeping with my cloths on <end>',\n",
       " '<start> and your . . . gone <end>',\n",
       " '<start> still buring please tell me why <end>',\n",
       " '<start> my car is in the front yard <end>',\n",
       " \"<start> and i'm sleeping with my clothes on <end>\",\n",
       " '<start> and your gone <end>']"
      ]
     },
     "execution_count": 101,
     "metadata": {},
     "output_type": "execute_result"
    },
    {
     "name": "stdout",
     "output_type": "stream",
     "text": [
      "time: 27.4 ms (started: 2021-02-02 11:16:00 +09:00)\n"
     ]
    }
   ],
   "source": [
    "corpus_thr = []\n",
    "\n",
    "for sentence in corpus:\n",
    "    if len(sentence) > 50: continue\n",
    "        \n",
    "    corpus_thr.append(sentence)\n",
    "        \n",
    "corpus_thr[:10]"
   ]
  },
  {
   "cell_type": "code",
   "execution_count": 102,
   "id": "weekly-eating",
   "metadata": {},
   "outputs": [
    {
     "data": {
      "text/plain": [
       "96792"
      ]
     },
     "execution_count": 102,
     "metadata": {},
     "output_type": "execute_result"
    },
    {
     "name": "stdout",
     "output_type": "stream",
     "text": [
      "time: 1.33 ms (started: 2021-02-02 11:16:02 +09:00)\n"
     ]
    }
   ],
   "source": [
    "len(corpus_thr)"
   ]
  },
  {
   "cell_type": "code",
   "execution_count": 103,
   "id": "joint-location",
   "metadata": {
    "scrolled": false
   },
   "outputs": [
    {
     "name": "stdout",
     "output_type": "stream",
     "text": [
      "time: 1.9 ms (started: 2021-02-02 11:16:02 +09:00)\n"
     ]
    }
   ],
   "source": [
    "corpus = corpus_thr"
   ]
  },
  {
   "cell_type": "code",
   "execution_count": 104,
   "id": "removed-undergraduate",
   "metadata": {},
   "outputs": [
    {
     "name": "stdout",
     "output_type": "stream",
     "text": [
      "time: 256 µs (started: 2021-02-02 11:16:03 +09:00)\n"
     ]
    }
   ],
   "source": [
    "max_len = 20"
   ]
  },
  {
   "cell_type": "markdown",
   "id": "thick-river",
   "metadata": {},
   "source": [
    "### 토큰화와 벡터화 ( + 패딩)\n",
    "* keras를 활용해 데이터를 토큰화하고 단어 사전을 만들어 줍니다. 이 과정에서 데이터를 숫자로 인코딩해줍니다. \n",
    "* 여기서 index_word가 바로 단어 사전입니다. 말뭉치 -> 토큰화 -> 정수인코딩 -> 패딩의 과정을 거쳐 만들어집니다. "
   ]
  },
  {
   "cell_type": "markdown",
   "id": "voluntary-joyce",
   "metadata": {},
   "source": [
    "#### 토크나이저의 단어사전 크기 설정: Counter\n",
    "빈도수를 기준으로 자주 언급된 단어를 중심으로 데이터셋을 추릴 예정이다. 주로 자연어 처리에서 1번 언급된 문장은 제거해줍니다. 2번도 적은거 같아서 저는 여기서 3회 이상 언급된 문장만 살렸습니다. "
   ]
  },
  {
   "cell_type": "code",
   "execution_count": 105,
   "id": "second-heath",
   "metadata": {},
   "outputs": [
    {
     "data": {
      "text/plain": [
       "[\"<start> i didn't mean to call you that <end>\",\n",
       " \"<start> i can't remember what was said <end>\",\n",
       " '<start> please tell me why <end>',\n",
       " '<start> my car is in the front yard <end>',\n",
       " '<start> and i am sleeping with my cloths on <end>',\n",
       " '<start> and your . . . gone <end>',\n",
       " '<start> still buring please tell me why <end>',\n",
       " '<start> my car is in the front yard <end>',\n",
       " \"<start> and i'm sleeping with my clothes on <end>\",\n",
       " '<start> and your gone <end>']"
      ]
     },
     "execution_count": 105,
     "metadata": {},
     "output_type": "execute_result"
    },
    {
     "name": "stdout",
     "output_type": "stream",
     "text": [
      "time: 1.51 ms (started: 2021-02-02 11:16:06 +09:00)\n"
     ]
    }
   ],
   "source": [
    "corpus[:10]"
   ]
  },
  {
   "cell_type": "code",
   "execution_count": 106,
   "id": "celtic-socket",
   "metadata": {},
   "outputs": [
    {
     "name": "stdout",
     "output_type": "stream",
     "text": [
      "[('hey jude', 2), ('jyp', 2), ('dont be afraid', 1)]\n",
      "time: 761 µs (started: 2021-02-02 11:16:06 +09:00)\n"
     ]
    }
   ],
   "source": [
    "# Counter 사용 예시 \n",
    "print(Counter(['hey jude', 'dont be afraid', 'hey jude', 'chorus', 'jyp', 'jyp']).most_common(3)) # 빈도수가 3이상인 글자만? (X), 빈도수 상위 3위까지 딕셔너리로 출력한다."
   ]
  },
  {
   "cell_type": "code",
   "execution_count": 107,
   "id": "accepted-sharp",
   "metadata": {
    "scrolled": true
   },
   "outputs": [
    {
     "data": {
      "text/plain": [
       "[('<start> chorus <end>', 204),\n",
       " ('<start> yeah <end>', 120),\n",
       " ('<start> come <end>', 85),\n",
       " ('<start> you nasty boy you nasty <end>', 84),\n",
       " ('<start> go , get ur freak on <end>', 60),\n",
       " ('<start> come on motherfuckers come on <end>', 48),\n",
       " ('<start> oh <end>', 46),\n",
       " ('<start> its bone and biggie biggie <end>', 46),\n",
       " ('<start> just bone and biggie biggie <end>', 44),\n",
       " ('<start> refrain <end>', 44)]"
      ]
     },
     "execution_count": 107,
     "metadata": {},
     "output_type": "execute_result"
    },
    {
     "name": "stdout",
     "output_type": "stream",
     "text": [
      "time: 32 ms (started: 2021-02-02 11:16:08 +09:00)\n"
     ]
    }
   ],
   "source": [
    "counter = Counter(corpus)\n",
    "counter_for_vocabsize = counter.most_common() # counter는 key인 글자와 value인 빈도수(등장횟수)로 이뤄져있다. \n",
    "\n",
    "counter_for_vocabsize[:10] # 앞에 10개만 "
   ]
  },
  {
   "cell_type": "code",
   "execution_count": 108,
   "id": "bibliographic-saskatchewan",
   "metadata": {},
   "outputs": [
    {
     "name": "stdout",
     "output_type": "stream",
     "text": [
      "43533개의 2회 미만에 해당하는 단어가 있습니다.\n",
      "vocab size는 53259개 입니다.\n",
      "time: 9.25 ms (started: 2021-02-02 11:16:11 +09:00)\n"
     ]
    }
   ],
   "source": [
    "rare_cnt = 0\n",
    "\n",
    "# # 빈도수를 1회 이상을 기준으로 잡아준다. \n",
    "for index in range(len(counter_for_vocabsize)):\n",
    "    if counter_for_vocabsize[index][1] < 2: # 2회 이상\n",
    "        rare_cnt = rare_cnt + 1\n",
    "\n",
    "print(\"{}개의 2회 미만에 해당하는 단어가 있습니다.\".format(rare_cnt))\n",
    "\n",
    "vocab_size_ = len(corpus) - rare_cnt\n",
    "print(\"vocab size는 {}개 입니다.\".format(vocab_size_))"
   ]
  },
  {
   "cell_type": "code",
   "execution_count": 109,
   "id": "lonely-cement",
   "metadata": {
    "scrolled": true
   },
   "outputs": [
    {
     "name": "stdout",
     "output_type": "stream",
     "text": [
      "96792개의 글자 묶음에서 빈도수 상위 53259위에 속하는 단어만으로 단어사전을 만들었습니다\n",
      "time: 554 µs (started: 2021-02-02 11:16:12 +09:00)\n"
     ]
    }
   ],
   "source": [
    "print(\"{}개의 글자 묶음에서 빈도수 상위 {}위에 속하는 단어만으로 단어사전을 만들었습니다\".format(len(corpus), vocab_size_))"
   ]
  },
  {
   "cell_type": "code",
   "execution_count": 110,
   "id": "necessary-wagon",
   "metadata": {
    "scrolled": false
   },
   "outputs": [
    {
     "data": {
      "text/plain": [
       "['<start> chorus <end>',\n",
       " '<start> yeah <end>',\n",
       " '<start> come <end>',\n",
       " '<start> you nasty boy you nasty <end>',\n",
       " '<start> go , get ur freak on <end>',\n",
       " '<start> come on motherfuckers come on <end>',\n",
       " '<start> oh <end>',\n",
       " '<start> its bone and biggie biggie <end>',\n",
       " '<start> just bone and biggie biggie <end>',\n",
       " '<start> refrain <end>']"
      ]
     },
     "execution_count": 110,
     "metadata": {},
     "output_type": "execute_result"
    },
    {
     "name": "stdout",
     "output_type": "stream",
     "text": [
      "time: 5.84 ms (started: 2021-02-02 11:16:12 +09:00)\n"
     ]
    }
   ],
   "source": [
    "vocab = [key for key, _ in counter_for_vocabsize[:vocab_size_]]\n",
    "corpus = vocab # 개수를 줄인 corpus\n",
    "vocab[:10]"
   ]
  },
  {
   "cell_type": "markdown",
   "id": "governmental-burlington",
   "metadata": {},
   "source": [
    "### Tokenizer \n",
    "* tf.keras.preprocessing.text.Tokenizer를 이용해 corpus를 텐서로 변환\n",
    "```\n",
    "ResourceExhaustedError: OOM when allocating tensor with shape[17920,10001] and type float on /job:localhost/replica:0/task:0/device:GPU:0 by allocator GPU_0_bfc [Op:MatMul]\n",
    "```\n",
    "단어 사전 크기에 해당하는 num_words에는 6만개로 한다면 현재 RTX 2070 GPU는 out of memory가 될 확률이 높습니다. 그래서 임의로 좀더 줄여주는 것이 좋습니다.    \n",
    "그럼 위의 과정은 쓸모가 없어질까요? 그건 아니라고 생각됩니다. 빈도수가 많은 문장을 기준으로 살려뒀기 때문에 좀 더 일반적인 데이터셋이 됬다고 볼 수 있기 때문입니다.     "
   ]
  },
  {
   "cell_type": "code",
   "execution_count": 111,
   "id": "provincial-collar",
   "metadata": {},
   "outputs": [
    {
     "name": "stdout",
     "output_type": "stream",
     "text": [
      "[[  2 425   3 ...   0   0   0]\n",
      " [  2  47   3 ...   0   0   0]\n",
      " [  2  65   3 ...   0   0   0]\n",
      " ...\n",
      " [  2 176   9 ...   0   0   0]\n",
      " [  2   8  53 ...   0   0   0]\n",
      " [  2 110  53 ...   0   0   0]] <keras_preprocessing.text.Tokenizer object at 0x7f924b5304d0>\n",
      "time: 921 ms (started: 2021-02-02 11:16:13 +09:00)\n"
     ]
    }
   ],
   "source": [
    "def tokenize(corpus):\n",
    "    # 텐서플로우에서 제공하는 Tokenizer 패키지를 생성\n",
    "    tokenizer = tf.keras.preprocessing.text.Tokenizer(\n",
    "        num_words= 20000,  # 임의의 단어사전의 크기  \n",
    "        filters=' ',    # 별도로 전처리 로직을 추가할 수 있습니다. 이번에는 사용하지 않겠습니다.\n",
    "        oov_token=\"<unk>\"  # out-of-vocabulary, 사전에 없었던 단어는 <unk> 토큰으로 대체할지\n",
    "    )\n",
    "    tokenizer.fit_on_texts(corpus)   # 우리가 구축한 corpus로부터 Tokenizer가 사전을 자동구축하게 됩니다.\n",
    "\n",
    "    # 이후 tokenizer를 활용하여 모델에 입력할 데이터셋을 구축하게 됩니다.\n",
    "    tensor = tokenizer.texts_to_sequences(corpus)   # tokenizer는 구축한 사전으로부터 corpus를 해석해 Tensor로 변환합니다.\n",
    "\n",
    "    # 입력 데이터의 시퀀스 길이를 일정하게 맞추기 위한 padding  메소드를 제공합니다.\n",
    "    tensor = tf.keras.preprocessing.sequence.pad_sequences(tensor, \n",
    "                                                           maxlen = max_len, \n",
    "                                                           padding='post')  \n",
    "\n",
    "    print(tensor,tokenizer)\n",
    "    return tensor, tokenizer\n",
    "\n",
    "tensor, tokenizer = tokenize(corpus)"
   ]
  },
  {
   "cell_type": "markdown",
   "id": "finished-tuition",
   "metadata": {},
   "source": [
    "#### 패딩 확인\n",
    "확인 결과 토큰나이저에서 정수인코딩이 <start>는 2로, <end> 토큰은 3으로 인코딩했음을 알 수 있습니다. \n",
    "0은 패딩이고 아마 1은 unk 토큰일듯합니다. "
   ]
  },
  {
   "cell_type": "code",
   "execution_count": 112,
   "id": "challenging-tumor",
   "metadata": {
    "scrolled": true
   },
   "outputs": [
    {
     "name": "stdout",
     "output_type": "stream",
     "text": [
      "53259\n",
      "[[   2  425    3    0    0    0    0    0    0    0]\n",
      " [   2   47    3    0    0    0    0    0    0    0]\n",
      " [   2   65    3    0    0    0    0    0    0    0]\n",
      " [   2    7 1042  174    7 1042    3    0    0    0]\n",
      " [   2   48    4   43 1793 1322   18    3    0    0]\n",
      " [   2   65   18 1178   65   18    3    0    0    0]\n",
      " [   2   37    3    0    0    0    0    0    0    0]\n",
      " [   2  134  939    8  915  915    3    0    0    0]\n",
      " [   2   31  939    8  915  915    3    0    0    0]\n",
      " [   2 4637    3    0    0    0    0    0    0    0]]\n",
      "time: 953 µs (started: 2021-02-02 11:16:13 +09:00)\n"
     ]
    }
   ],
   "source": [
    "print(len(tensor))\n",
    "print(tensor[:10, :10])"
   ]
  },
  {
   "cell_type": "markdown",
   "id": "cooked-daily",
   "metadata": {},
   "source": [
    "## 4. 데이터셋 분리 "
   ]
  },
  {
   "cell_type": "code",
   "execution_count": 113,
   "id": "excellent-indie",
   "metadata": {
    "scrolled": false
   },
   "outputs": [
    {
     "name": "stdout",
     "output_type": "stream",
     "text": [
      "[  2 425   3   0   0   0   0   0   0   0   0   0   0   0   0   0   0   0\n",
      "   0]\n",
      "[425   3   0   0   0   0   0   0   0   0   0   0   0   0   0   0   0   0\n",
      "   0]\n",
      "time: 1.07 ms (started: 2021-02-02 11:16:14 +09:00)\n"
     ]
    }
   ],
   "source": [
    "src_input = tensor[:, :-1]  # tensor에서 마지막 토큰을 잘라내서 소스 문장을 생성합니다. 마지막 토큰은 <end>가 아니라 <pad>일 가능성이 높습니다.\n",
    "tgt_input = tensor[:, 1:]    # tensor에서 <start>를 잘라내서 타겟 문장을 생성합니다.\n",
    "\n",
    "print(src_input[0])\n",
    "print(tgt_input[0])"
   ]
  },
  {
   "cell_type": "markdown",
   "id": "acute-master",
   "metadata": {},
   "source": [
    "### 데이터셋 분리 \n",
    "데이터셋을 분리할 때 주의할 점은 우리가 텐서플로우를 사용한다면 입력은 텐서인 편이 더 잘 동작한다는 점입니다. 사이킷런의 train_test_split을 쓰면 그에 대한 타입을 확인헀을때 numpy.ndarray임을 확인할 수 있습니다. 그래서 이후에 텐서 데이터셋 객체로 변환해주는 작업을 진행합니다. 노드에서는 해당 순서가 반대로 되어 설명되어 있습니다.(?!)"
   ]
  },
  {
   "cell_type": "code",
   "execution_count": 121,
   "id": "reduced-vector",
   "metadata": {},
   "outputs": [
    {
     "name": "stdout",
     "output_type": "stream",
     "text": [
      "Source Train:  (42607, 19)\n",
      "Target Train:  (42607, 19)\n",
      "Source Test:  (10652, 19)\n",
      "Target Test:  (10652, 19)\n",
      "time: 9.12 ms (started: 2021-02-02 11:22:21 +09:00)\n"
     ]
    }
   ],
   "source": [
    "X_train, X_val, y_train, y_val = train_test_split(src_input,\n",
    "                                                  tgt_input,\n",
    "                                                  test_size = 0.2,\n",
    "                                                  shuffle = True\n",
    "                                                 )\n",
    "\n",
    "print(\"Source Train: \", X_train.shape)\n",
    "print(\"Target Train: \", y_train.shape)\n",
    "print(\"Source Test: \", X_val.shape)\n",
    "print(\"Target Test: \", y_val.shape)"
   ]
  },
  {
   "cell_type": "code",
   "execution_count": 122,
   "id": "stunning-apache",
   "metadata": {
    "scrolled": true
   },
   "outputs": [
    {
     "data": {
      "text/plain": [
       "numpy.ndarray"
      ]
     },
     "execution_count": 122,
     "metadata": {},
     "output_type": "execute_result"
    },
    {
     "name": "stdout",
     "output_type": "stream",
     "text": [
      "time: 1.2 ms (started: 2021-02-02 11:22:21 +09:00)\n"
     ]
    }
   ],
   "source": [
    "type(X_train)"
   ]
  },
  {
   "cell_type": "markdown",
   "id": "fifty-pride",
   "metadata": {},
   "source": [
    "### Hyper-parameter"
   ]
  },
  {
   "cell_type": "code",
   "execution_count": 123,
   "id": "christian-sculpture",
   "metadata": {},
   "outputs": [
    {
     "name": "stdout",
     "output_type": "stream",
     "text": [
      "time: 603 µs (started: 2021-02-02 11:22:22 +09:00)\n"
     ]
    }
   ],
   "source": [
    "BUFFER_SIZE = len(src_input)\n",
    "BATCH_SIZE = 256\n",
    "STEPS_PER_EPOCH = len(X_train) // BATCH_SIZE\n",
    "VALIDATION_STEPS = len(X_val) // BATCH_SIZE\n",
    "# steps_per_epoch = len(src_input) // BATCH_SIZE"
   ]
  },
  {
   "cell_type": "markdown",
   "id": "accurate-college",
   "metadata": {},
   "source": [
    "**하이퍼 파라미터에 vocab size도 추가요~**     \n",
    "위에서 Train set을 살펴보면 개수가 4만개 정도 됩니다. 나중에 단어사전 크기는 모델의 인자로서 쓰이며 우리가 몇개의 단어로 이뤄진 사전을 참고할지를 결정합니다. 그래서 Train 개수보다 너무 작지 않은 크기로 설정해줍니다. 하지만 너무 크게 잡아도 속도 측면에서 비효율적일 수 있습니다."
   ]
  },
  {
   "cell_type": "code",
   "execution_count": 124,
   "id": "thick-partner",
   "metadata": {
    "scrolled": true
   },
   "outputs": [
    {
     "name": "stdout",
     "output_type": "stream",
     "text": [
      "20000\n",
      "time: 371 µs (started: 2021-02-02 11:23:03 +09:00)\n"
     ]
    }
   ],
   "source": [
    "print(tokenizer.num_words)\n",
    "VOCAB_SIZE = tokenizer.num_words + 1    # tokenizer가 구축한 단어사전 내 7000개와, 여기 포함되지 않은 0:<pad>를 포함하여 7001개"
   ]
  },
  {
   "cell_type": "markdown",
   "id": "presidential-overhead",
   "metadata": {},
   "source": [
    "### 데이터셋 객체로 변환\n",
    "* tf.data.Dataset.from_tensor_slices()를 이용해 corpus 텐서를 tf.data.Dataset객체로 변환"
   ]
  },
  {
   "cell_type": "code",
   "execution_count": 125,
   "id": "square-accountability",
   "metadata": {
    "scrolled": false
   },
   "outputs": [
    {
     "data": {
      "text/plain": [
       "(<BatchDataset shapes: ((256, 19), (256, 19)), types: (tf.int32, tf.int32)>,\n",
       " <BatchDataset shapes: ((256, 19), (256, 19)), types: (tf.int32, tf.int32)>)"
      ]
     },
     "execution_count": 125,
     "metadata": {},
     "output_type": "execute_result"
    },
    {
     "name": "stdout",
     "output_type": "stream",
     "text": [
      "time: 21.8 ms (started: 2021-02-02 11:23:04 +09:00)\n"
     ]
    }
   ],
   "source": [
    "train_data = tf.data.Dataset.from_tensor_slices((X_train, y_train)).shuffle(BUFFER_SIZE)\n",
    "train_data = train_data.batch(BATCH_SIZE, drop_remainder=True)\n",
    "test_data = tf.data.Dataset.from_tensor_slices((X_val, y_val)).shuffle(BUFFER_SIZE)\n",
    "test_data = test_data.batch(BATCH_SIZE, drop_remainder=True)\n",
    "train_data, test_data"
   ]
  },
  {
   "cell_type": "markdown",
   "id": "liable-hypothetical",
   "metadata": {},
   "source": [
    "## 5. 모델 설계 및 학습\n",
    "Subclassing 방식으로 설계한 모델을 만들어봅니다. "
   ]
  },
  {
   "cell_type": "markdown",
   "id": "absolute-string",
   "metadata": {},
   "source": [
    "#### Hyper-parameter"
   ]
  },
  {
   "cell_type": "code",
   "execution_count": 126,
   "id": "general-regard",
   "metadata": {},
   "outputs": [
    {
     "name": "stdout",
     "output_type": "stream",
     "text": [
      "time: 348 µs (started: 2021-02-02 11:23:08 +09:00)\n"
     ]
    }
   ],
   "source": [
    "vocab_size = VOCAB_SIZE\n",
    "embedding_size = 256 # 단어가 추상적으로 표현되는 크기로서 CNN으로 생각하면 몇개의 특징을 추출할지 결정하는 인자입니다. \n",
    "hidden_size = 1024"
   ]
  },
  {
   "cell_type": "code",
   "execution_count": 127,
   "id": "chinese-people",
   "metadata": {},
   "outputs": [
    {
     "name": "stdout",
     "output_type": "stream",
     "text": [
      "time: 13.2 ms (started: 2021-02-02 11:23:09 +09:00)\n"
     ]
    }
   ],
   "source": [
    "class TextGenerator(tf.keras.Model):\n",
    "    def __init__(self, _vocab_size, _embedding_size, _hidden_size):\n",
    "        super(TextGenerator, self).__init__()\n",
    "        \n",
    "        # 인덱스 값을 해당 인덱스 번째의 워드 벡터로 바꿔줍니다. \n",
    "        self.embedding = tf.keras.layers.Embedding(_vocab_size, _embedding_size)\n",
    "        self.rnn_1 = tf.keras.layers.LSTM(_hidden_size, return_sequences=True)\n",
    "        self.rnn_2 = tf.keras.layers.LSTM(_hidden_size, return_sequences=True)\n",
    "        self.linear = tf.keras.layers.Dense(_vocab_size)\n",
    "        \n",
    "    def call(self, x):\n",
    "        out = self.embedding(x)\n",
    "        out = self.rnn_1(out)\n",
    "        out = self.rnn_2(out)\n",
    "        out = self.linear(out)\n",
    "        \n",
    "        return out\n",
    "\n",
    "model = TextGenerator(vocab_size, embedding_size , hidden_size) # 단어 사전의 크기 tokenizer.num_words + 1"
   ]
  },
  {
   "cell_type": "code",
   "execution_count": 128,
   "id": "needed-position",
   "metadata": {},
   "outputs": [
    {
     "data": {
      "text/plain": [
       "<tf.Tensor: shape=(256, 19, 20001), dtype=float32, numpy=\n",
       "array([[[-1.41869368e-05, -1.85266363e-05,  1.48976091e-04, ...,\n",
       "          2.50472658e-04,  3.34706565e-05, -2.21044029e-05],\n",
       "        [ 3.64154839e-05,  6.70620793e-05,  2.49300734e-04, ...,\n",
       "          4.11134853e-04,  3.60025988e-05, -4.15258546e-05],\n",
       "        [ 1.21329838e-04,  3.85174848e-04,  3.55860771e-04, ...,\n",
       "          2.93055462e-04,  1.15178365e-04, -3.58557241e-04],\n",
       "        ...,\n",
       "        [-1.37751584e-03, -6.08289964e-04,  6.15724362e-04, ...,\n",
       "         -1.21264791e-04, -1.29209971e-03,  2.08315774e-04],\n",
       "        [-1.53752544e-03, -6.85541716e-04,  7.04923645e-04, ...,\n",
       "         -1.29664157e-04, -1.42409233e-03,  3.61977698e-04],\n",
       "        [-1.68615743e-03, -7.50966661e-04,  7.75373483e-04, ...,\n",
       "         -1.37051233e-04, -1.54645112e-03,  5.02716692e-04]],\n",
       "\n",
       "       [[-1.41869368e-05, -1.85266363e-05,  1.48976091e-04, ...,\n",
       "          2.50472658e-04,  3.34706565e-05, -2.21044029e-05],\n",
       "        [-1.55847403e-04,  3.78088880e-05,  2.94730940e-04, ...,\n",
       "          4.94196545e-04, -3.03251090e-05,  2.21521128e-04],\n",
       "        [-2.66289630e-04, -1.08555745e-04,  4.48080100e-04, ...,\n",
       "          2.63465103e-04,  1.06428815e-04,  4.54105495e-04],\n",
       "        ...,\n",
       "        [-1.73564837e-03, -5.91596821e-04,  6.27589121e-04, ...,\n",
       "         -6.12802687e-05, -1.48973323e-03,  5.79237589e-04],\n",
       "        [-1.88154099e-03, -6.54522970e-04,  7.06663879e-04, ...,\n",
       "         -7.76013039e-05, -1.59404473e-03,  6.89452805e-04],\n",
       "        [-2.01314082e-03, -7.10711232e-04,  7.69978447e-04, ...,\n",
       "         -9.77159434e-05, -1.69109018e-03,  7.92908540e-04]],\n",
       "\n",
       "       [[-1.41869368e-05, -1.85266363e-05,  1.48976091e-04, ...,\n",
       "          2.50472658e-04,  3.34706565e-05, -2.21044029e-05],\n",
       "        [-8.35377214e-05,  1.13840306e-05,  6.41506776e-05, ...,\n",
       "          3.67924426e-04, -1.06340332e-04, -1.83656612e-05],\n",
       "        [-1.95304223e-04,  5.78079707e-05,  2.22109520e-05, ...,\n",
       "          5.06295182e-04, -1.84035714e-04,  6.17800979e-05],\n",
       "        ...,\n",
       "        [-1.58717157e-03, -5.57691208e-04,  4.93547181e-04, ...,\n",
       "         -1.04087310e-04, -1.65170874e-03,  3.37682781e-04],\n",
       "        [-1.75893435e-03, -6.36414567e-04,  5.81247965e-04, ...,\n",
       "         -1.22929792e-04, -1.74030033e-03,  4.55857313e-04],\n",
       "        [-1.91142864e-03, -7.04637729e-04,  6.53854921e-04, ...,\n",
       "         -1.42163408e-04, -1.82285474e-03,  5.70494682e-04]],\n",
       "\n",
       "       ...,\n",
       "\n",
       "       [[-1.41869368e-05, -1.85266363e-05,  1.48976091e-04, ...,\n",
       "          2.50472658e-04,  3.34706565e-05, -2.21044029e-05],\n",
       "        [ 9.65510553e-05, -2.34195599e-04,  1.92015199e-04, ...,\n",
       "          4.62363882e-04, -4.19403623e-05, -1.32559930e-04],\n",
       "        [ 1.09119501e-04, -4.22441342e-04,  1.81279494e-04, ...,\n",
       "          4.14701761e-04, -1.35353432e-04, -4.37006354e-04],\n",
       "        ...,\n",
       "        [-1.65219733e-03, -4.85610217e-04,  6.88453612e-04, ...,\n",
       "         -1.29961090e-05, -1.72624353e-03,  3.54638178e-04],\n",
       "        [-1.80079078e-03, -5.54613012e-04,  7.45238562e-04, ...,\n",
       "         -6.07780057e-05, -1.81495154e-03,  4.90155770e-04],\n",
       "        [-1.93482207e-03, -6.16653764e-04,  7.90352467e-04, ...,\n",
       "         -1.04043473e-04, -1.89810537e-03,  6.15691068e-04]],\n",
       "\n",
       "       [[-1.41869368e-05, -1.85266363e-05,  1.48976091e-04, ...,\n",
       "          2.50472658e-04,  3.34706565e-05, -2.21044029e-05],\n",
       "        [-1.08907108e-04, -1.87055382e-04,  2.27207798e-04, ...,\n",
       "          3.30100302e-04,  8.60735090e-05,  1.26423765e-04],\n",
       "        [-3.49163543e-04, -1.62066150e-04,  1.99474976e-04, ...,\n",
       "          1.29236956e-04,  2.21704395e-04,  2.33503320e-04],\n",
       "        ...,\n",
       "        [-8.51941062e-04, -6.42727886e-04,  3.57345183e-04, ...,\n",
       "          5.33595194e-05, -7.06678955e-04,  1.32284244e-04],\n",
       "        [-1.04317779e-03, -6.46576285e-04,  4.20742785e-04, ...,\n",
       "          3.32501877e-05, -9.11917596e-04,  2.15212436e-04],\n",
       "        [-1.22748176e-03, -6.62149920e-04,  4.87150362e-04, ...,\n",
       "          1.59343854e-05, -1.09864573e-03,  3.11832904e-04]],\n",
       "\n",
       "       [[-1.41869368e-05, -1.85266363e-05,  1.48976091e-04, ...,\n",
       "          2.50472658e-04,  3.34706565e-05, -2.21044029e-05],\n",
       "        [ 3.69995250e-05, -2.30248133e-05,  9.85756196e-05, ...,\n",
       "          2.63035647e-04,  9.50496178e-05,  2.35747415e-04],\n",
       "        [ 1.46554754e-04, -2.18407164e-04,  2.10586833e-04, ...,\n",
       "          2.33396364e-04,  9.77495001e-05,  4.86451434e-04],\n",
       "        ...,\n",
       "        [-1.65694160e-03, -6.31219416e-04,  6.92324014e-04, ...,\n",
       "         -1.58573079e-04, -1.54750573e-03,  6.59551122e-04],\n",
       "        [-1.79726607e-03, -6.74926036e-04,  7.41075317e-04, ...,\n",
       "         -1.58838797e-04, -1.64727739e-03,  7.38063420e-04],\n",
       "        [-1.92453747e-03, -7.17985968e-04,  7.79459835e-04, ...,\n",
       "         -1.64679775e-04, -1.73883291e-03,  8.17539403e-04]]],\n",
       "      dtype=float32)>"
      ]
     },
     "execution_count": 128,
     "metadata": {},
     "output_type": "execute_result"
    },
    {
     "name": "stdout",
     "output_type": "stream",
     "text": [
      "time: 4.18 s (started: 2021-02-02 11:23:09 +09:00)\n"
     ]
    }
   ],
   "source": [
    "for src_sample, tgt_sample in train_data.take(1): break\n",
    "model(src_sample)"
   ]
  },
  {
   "cell_type": "code",
   "execution_count": 129,
   "id": "dense-thursday",
   "metadata": {},
   "outputs": [
    {
     "name": "stdout",
     "output_type": "stream",
     "text": [
      "Model: \"text_generator\"\n",
      "_________________________________________________________________\n",
      "Layer (type)                 Output Shape              Param #   \n",
      "=================================================================\n",
      "embedding (Embedding)        multiple                  5120256   \n",
      "_________________________________________________________________\n",
      "lstm (LSTM)                  multiple                  5246976   \n",
      "_________________________________________________________________\n",
      "lstm_1 (LSTM)                multiple                  8392704   \n",
      "_________________________________________________________________\n",
      "dense (Dense)                multiple                  20501025  \n",
      "=================================================================\n",
      "Total params: 39,260,961\n",
      "Trainable params: 39,260,961\n",
      "Non-trainable params: 0\n",
      "_________________________________________________________________\n",
      "time: 1.27 ms (started: 2021-02-02 11:23:13 +09:00)\n"
     ]
    }
   ],
   "source": [
    "model.summary()"
   ]
  },
  {
   "cell_type": "markdown",
   "id": "invisible-secret",
   "metadata": {},
   "source": [
    "### Hyper-parameter \n",
    "목표하는 val_loss는 2.2% 수준으로 낮춰야한다. "
   ]
  },
  {
   "cell_type": "code",
   "execution_count": 130,
   "id": "precious-newark",
   "metadata": {},
   "outputs": [
    {
     "name": "stdout",
     "output_type": "stream",
     "text": [
      "time: 8.79 ms (started: 2021-02-02 11:23:13 +09:00)\n"
     ]
    }
   ],
   "source": [
    "# BUFFER_SIZE = len(src_input)\n",
    "# BATCH_SIZE = 256\n",
    "# steps_per_epoch = len(src_input) // BATCH_SIZE\n",
    "# 위에서 데이터셋 텐서로 바꿔줄 때 이미 정의한 파라미터들 \n",
    "\n",
    "MAX_EPOCHS = 10\n",
    "LEARNING_RATE = 1e-3 # 1e-4 => 1e-3"
   ]
  },
  {
   "cell_type": "markdown",
   "id": "suburban-newcastle",
   "metadata": {},
   "source": [
    "### 모델 학습 "
   ]
  },
  {
   "cell_type": "code",
   "execution_count": 131,
   "id": "existing-edmonton",
   "metadata": {},
   "outputs": [
    {
     "name": "stdout",
     "output_type": "stream",
     "text": [
      "time: 421 µs (started: 2021-02-02 11:23:13 +09:00)\n"
     ]
    }
   ],
   "source": [
    "es = EarlyStopping(monitor='val_loss', mode='min', verbose=1, patience=4)\n",
    "cp_callback = tf.keras.callbacks.ModelCheckpoint(chkpnt_path + '/lyrics',\n",
    "                                                 save_weights_only=True,\n",
    "                                                 monitor='val_loss',\n",
    "                                                 mode='auto',\n",
    "                                                 save_best_only=True,\n",
    "                                                 verbose=1)"
   ]
  },
  {
   "cell_type": "code",
   "execution_count": 132,
   "id": "human-notebook",
   "metadata": {},
   "outputs": [
    {
     "name": "stdout",
     "output_type": "stream",
     "text": [
      "time: 459 µs (started: 2021-02-02 11:23:13 +09:00)\n"
     ]
    }
   ],
   "source": [
    "optimizer = tf.keras.optimizers.Adam(LEARNING_RATE)\n",
    "loss = tf.keras.losses.SparseCategoricalCrossentropy(\n",
    "    from_logits=True,\n",
    "    reduction='none'\n",
    ")"
   ]
  },
  {
   "cell_type": "code",
   "execution_count": 133,
   "id": "worth-fourth",
   "metadata": {},
   "outputs": [
    {
     "name": "stdout",
     "output_type": "stream",
     "text": [
      "Epoch 1/10\n",
      "166/166 [==============================] - ETA: 0s - loss: 2.6057 - accuracy: 0.6740\n",
      "Epoch 00001: val_loss improved from inf to 2.04457, saving model to /home/aiffel-dj19/aiffel/lyricist/models/chkpnt/lyrics\n",
      "166/166 [==============================] - 54s 323ms/step - loss: 2.6057 - accuracy: 0.6740 - val_loss: 2.0446 - val_accuracy: 0.7152\n",
      "Epoch 2/10\n",
      "166/166 [==============================] - ETA: 0s - loss: 1.9889 - accuracy: 0.7149\n",
      "Epoch 00002: val_loss improved from 2.04457 to 1.98011, saving model to /home/aiffel-dj19/aiffel/lyricist/models/chkpnt/lyrics\n",
      "166/166 [==============================] - 52s 311ms/step - loss: 1.9889 - accuracy: 0.7149 - val_loss: 1.9801 - val_accuracy: 0.7177\n",
      "Epoch 3/10\n",
      "166/166 [==============================] - ETA: 0s - loss: 1.9042 - accuracy: 0.7175\n",
      "Epoch 00003: val_loss improved from 1.98011 to 1.93724, saving model to /home/aiffel-dj19/aiffel/lyricist/models/chkpnt/lyrics\n",
      "166/166 [==============================] - 50s 300ms/step - loss: 1.9042 - accuracy: 0.7175 - val_loss: 1.9372 - val_accuracy: 0.7204\n",
      "Epoch 4/10\n",
      "166/166 [==============================] - ETA: 0s - loss: 1.8415 - accuracy: 0.7204\n",
      "Epoch 00004: val_loss improved from 1.93724 to 1.90474, saving model to /home/aiffel-dj19/aiffel/lyricist/models/chkpnt/lyrics\n",
      "166/166 [==============================] - 50s 299ms/step - loss: 1.8415 - accuracy: 0.7204 - val_loss: 1.9047 - val_accuracy: 0.7230\n",
      "Epoch 5/10\n",
      "166/166 [==============================] - ETA: 0s - loss: 1.7852 - accuracy: 0.7237\n",
      "Epoch 00005: val_loss improved from 1.90474 to 1.88400, saving model to /home/aiffel-dj19/aiffel/lyricist/models/chkpnt/lyrics\n",
      "166/166 [==============================] - 49s 294ms/step - loss: 1.7852 - accuracy: 0.7237 - val_loss: 1.8840 - val_accuracy: 0.7251\n",
      "Epoch 6/10\n",
      "166/166 [==============================] - ETA: 0s - loss: 1.7372 - accuracy: 0.7266\n",
      "Epoch 00006: val_loss improved from 1.88400 to 1.86713, saving model to /home/aiffel-dj19/aiffel/lyricist/models/chkpnt/lyrics\n",
      "166/166 [==============================] - 49s 293ms/step - loss: 1.7372 - accuracy: 0.7266 - val_loss: 1.8671 - val_accuracy: 0.7266\n",
      "Epoch 7/10\n",
      "166/166 [==============================] - ETA: 0s - loss: 1.6938 - accuracy: 0.7284\n",
      "Epoch 00007: val_loss improved from 1.86713 to 1.86069, saving model to /home/aiffel-dj19/aiffel/lyricist/models/chkpnt/lyrics\n",
      "166/166 [==============================] - 49s 294ms/step - loss: 1.6938 - accuracy: 0.7284 - val_loss: 1.8607 - val_accuracy: 0.7274\n",
      "Epoch 8/10\n",
      "166/166 [==============================] - ETA: 0s - loss: 1.6530 - accuracy: 0.7303\n",
      "Epoch 00008: val_loss improved from 1.86069 to 1.85581, saving model to /home/aiffel-dj19/aiffel/lyricist/models/chkpnt/lyrics\n",
      "166/166 [==============================] - 49s 294ms/step - loss: 1.6530 - accuracy: 0.7303 - val_loss: 1.8558 - val_accuracy: 0.7289\n",
      "Epoch 9/10\n",
      "166/166 [==============================] - ETA: 0s - loss: 1.6136 - accuracy: 0.7324\n",
      "Epoch 00009: val_loss did not improve from 1.85581\n",
      "166/166 [==============================] - 48s 289ms/step - loss: 1.6136 - accuracy: 0.7324 - val_loss: 1.8559 - val_accuracy: 0.7290\n",
      "Epoch 10/10\n",
      "166/166 [==============================] - ETA: 0s - loss: 1.5762 - accuracy: 0.7341\n",
      "Epoch 00010: val_loss improved from 1.85581 to 1.85465, saving model to /home/aiffel-dj19/aiffel/lyricist/models/chkpnt/lyrics\n",
      "166/166 [==============================] - 49s 294ms/step - loss: 1.5762 - accuracy: 0.7341 - val_loss: 1.8547 - val_accuracy: 0.7296\n",
      "time: 8min 21s (started: 2021-02-02 11:23:13 +09:00)\n"
     ]
    }
   ],
   "source": [
    "model.compile(loss=loss, optimizer=optimizer,\n",
    "             metrics=['accuracy'])\n",
    "hist_model = model.fit(train_data, \n",
    "                       steps_per_epoch = STEPS_PER_EPOCH,\n",
    "                       validation_data = test_data, \n",
    "                       validation_steps = VALIDATION_STEPS,\n",
    "                       epochs= MAX_EPOCHS,\n",
    "                      callbacks = [es, cp_callback])"
   ]
  },
  {
   "cell_type": "markdown",
   "id": "dental-desire",
   "metadata": {},
   "source": [
    "### 학습 결과 시각화 "
   ]
  },
  {
   "cell_type": "code",
   "execution_count": 134,
   "id": "permanent-valley",
   "metadata": {},
   "outputs": [
    {
     "data": {
      "image/png": "[encoded data removed]",
      "text/plain": [
       "<Figure size 576x576 with 2 Axes>"
      ]
     },
     "metadata": {
      "needs_background": "light"
     },
     "output_type": "display_data"
    },
    {
     "name": "stdout",
     "output_type": "stream",
     "text": [
      "time: 211 ms (started: 2021-02-02 11:31:35 +09:00)\n"
     ]
    }
   ],
   "source": [
    "acc = hist_model.history['accuracy']\n",
    "val_acc = hist_model.history['val_accuracy']\n",
    "\n",
    "loss=hist_model.history['loss']\n",
    "val_loss=hist_model.history['val_loss']\n",
    "\n",
    "epochs_range = range(len(acc))\n",
    "\n",
    "plt.figure(figsize=(8, 8))\n",
    "plt.subplot(1, 2, 1)\n",
    "plt.plot(epochs_range, acc, label='Training Accuracy')\n",
    "plt.plot(epochs_range, val_acc, label='Validation Accuracy')\n",
    "plt.legend(loc='lower right')\n",
    "plt.title('Training and Validation Accuracy')\n",
    "\n",
    "plt.subplot(1, 2, 2)\n",
    "plt.plot(epochs_range, loss, label='Training Loss')\n",
    "plt.plot(epochs_range, val_loss, label='Validation Loss')\n",
    "plt.legend(loc='upper right')\n",
    "plt.title('Training and Validation Loss')\n",
    "plt.show()"
   ]
  },
  {
   "cell_type": "markdown",
   "id": "veterinary-diversity",
   "metadata": {},
   "source": [
    "## 6. 모델 Test"
   ]
  },
  {
   "cell_type": "code",
   "execution_count": 135,
   "id": "boxed-greeting",
   "metadata": {},
   "outputs": [
    {
     "name": "stdout",
     "output_type": "stream",
     "text": [
      "333/333 [==============================] - 6s 19ms/step - loss: 1.8550 - accuracy: 0.7296\n",
      "time: 6.98 s (started: 2021-02-02 11:31:35 +09:00)\n"
     ]
    }
   ],
   "source": [
    "model.load_weights(chkpnt_path + '/lyrics')\n",
    "results = model.evaluate(X_val, y_val)[1]"
   ]
  },
  {
   "cell_type": "code",
   "execution_count": 136,
   "id": "fallen-quarterly",
   "metadata": {},
   "outputs": [
    {
     "name": "stdout",
     "output_type": "stream",
     "text": [
      "time: 678 µs (started: 2021-02-02 11:31:42 +09:00)\n"
     ]
    }
   ],
   "source": [
    "def generate_text(_model, _tokenizer, init_sentence=\"<start>\", _max_len=25):\n",
    "    # 테스트를 위해서 입력받은 init_sentence도 일단 텐서로 변환합니다.\n",
    "    test_input = _tokenizer.texts_to_sequences([init_sentence])\n",
    "    test_tensor = tf.convert_to_tensor(test_input, dtype=tf.int64)\n",
    "    end_token = _tokenizer.word_index[\"<end>\"]\n",
    "\n",
    "    # 텍스트를 실제로 생성할때는 루프를 돌면서 단어 하나씩 생성해야 합니다. \n",
    "    while True:\n",
    "        predict = _model(test_tensor)  # 입력받은 문장의 텐서를 입력합니다. \n",
    "        predict_word = tf.argmax(tf.nn.softmax(predict, axis=-1), axis=-1)[:, -1]   # 우리 모델이 예측한 마지막 단어가 바로 새롭게 생성한 단어가 됩니다. \n",
    "\n",
    "        # 우리 모델이 새롭게 예측한 단어를 입력 문장의 뒤에 붙여 줍니다. \n",
    "        test_tensor = tf.concat([test_tensor, \n",
    "        tf.expand_dims(predict_word, axis=0)], axis=-1)\n",
    "\n",
    "        # 우리 모델이 <end>를 예측했거나, _max_len에 도달하지 않았다면  while 루프를 또 돌면서 다음 단어를 예측해야 합니다.\n",
    "        if predict_word.numpy()[0] == end_token: break\n",
    "        if test_tensor.shape[1] >= _max_len: break\n",
    "\n",
    "    generated = \"\"\n",
    "    \n",
    "    # 생성된 tensor 안에 있는 word index를 _tokenizer.index_word 사전을 통해 실제 단어로 하나씩 변환합니다. \n",
    "    for word_index in test_tensor[0].numpy():\n",
    "        generated += _tokenizer.index_word[word_index] + \" \"\n",
    "\n",
    "    return generated   # 이것이 최종적으로 모델이 생성한 자연어 문장입니다."
   ]
  },
  {
   "cell_type": "code",
   "execution_count": 56,
   "id": "upset-shame",
   "metadata": {
    "scrolled": true
   },
   "outputs": [
    {
     "data": {
      "text/plain": [
       "'<start> i love you to be <end> '"
      ]
     },
     "execution_count": 56,
     "metadata": {},
     "output_type": "execute_result"
    },
    {
     "name": "stdout",
     "output_type": "stream",
     "text": [
      "time: 46.9 ms (started: 2021-02-02 09:31:29 +09:00)\n"
     ]
    }
   ],
   "source": [
    "result_txt = generate_text(model, tokenizer, init_sentence=\"<start> i love\")\n",
    "len(result_txt)"
   ]
  },
  {
   "cell_type": "markdown",
   "id": "hungry-default",
   "metadata": {},
   "source": [
    "## 7. 루브릭\n",
    "* 가사 텍스트 생성 모델이 정상적으로 동작하는가?\n",
    "    - 텍스트 제너레이션 결과가 그럴듯한 문장으로 생성되는가?\n",
    "\n",
    "* 데이터의 전처리와 데이터셋 구성 과정이 체계적으로 진행되었는가?\n",
    "    - 특수문자 제거, 토크나이저 생성, 패딩처리 등의 과정이 빠짐없이 진행되었는가?\n",
    "\n",
    "* 텍스트 생성모델이 안정적으로 학습되었는가?\n",
    "    - 텍스트 생성모델의 validation loss가 2.2 이하로 낮아졌는가?"
   ]
  },
  {
   "cell_type": "markdown",
   "id": "worldwide-future",
   "metadata": {},
   "source": [
    "### 텍스트 제너레이션 결과 "
   ]
  },
  {
   "cell_type": "code",
   "execution_count": 53,
   "id": "reserved-wichita",
   "metadata": {},
   "outputs": [
    {
     "data": {
      "text/plain": [
       "'<start> love to be the same <end> '"
      ]
     },
     "execution_count": 53,
     "metadata": {},
     "output_type": "execute_result"
    },
    {
     "name": "stdout",
     "output_type": "stream",
     "text": [
      "time: 30.8 ms (started: 2021-02-02 09:24:55 +09:00)\n"
     ]
    }
   ],
   "source": [
    "generate_text(model, tokenizer, init_sentence=\"<start> Love to\")"
   ]
  },
  {
   "cell_type": "code",
   "execution_count": 54,
   "id": "friendly-cornell",
   "metadata": {},
   "outputs": [
    {
     "data": {
      "text/plain": [
       "'<start> just before you are <end> '"
      ]
     },
     "execution_count": 54,
     "metadata": {},
     "output_type": "execute_result"
    },
    {
     "name": "stdout",
     "output_type": "stream",
     "text": [
      "time: 21.9 ms (started: 2021-02-02 09:24:55 +09:00)\n"
     ]
    }
   ],
   "source": [
    "generate_text(model, tokenizer, init_sentence=\"<start> Just before\")"
   ]
  },
  {
   "cell_type": "markdown",
   "id": "danish-simple",
   "metadata": {},
   "source": [
    "### 전처리 테스트\n",
    "전처리는 위에서, data_preprocessing과 tokenizer 함수를 통해 특수문자 제거, 토크나이저 생성, 패딩처리를 적절히 진행했습니다."
   ]
  },
  {
   "cell_type": "markdown",
   "id": "cordless-seller",
   "metadata": {},
   "source": [
    "### 모델 학습 결과\n",
    "|parameters|accuracy|loss|\n",
    "|:--------:|:------:|:--:|\n",
    "|vocab_size=15000, max_len=30|0.7146|1.8715|"
   ]
  },
  {
   "cell_type": "markdown",
   "id": "uniform-ratio",
   "metadata": {},
   "source": [
    "## 8. 회고 "
   ]
  },
  {
   "cell_type": "markdown",
   "id": "arabic-canal",
   "metadata": {},
   "source": [
    "### 어려웠던 점\n",
    "* Class, 객체지향..!!.. 두둥..\n",
    "지금까지는 주로 모델을 설계할때 Sequential에 입출력을 쭉 쌓아가는 방식을 이용했는데 이번에는 클래스를 활용해서 모델을 설계해본 점이 어려웠습니다. 그래서 아는 선에서 주석으로 코드를 한줄씩 해석해봤습니다.\n",
    "     \n",
    "```\n",
    "# tf.keras.Model를 부모클래스로 두는 TextGenerator 클래스 객체를 선언\n",
    "class TextGenerator(tf.keras.Model): \n",
    "\n",
    "    # __init__ 메소드(= 생성자)를 통해 객체 초기화 \n",
    "    def __init__(self, _vocab_size, _embedding_size, _hidden_size):\n",
    "    \n",
    "        # 부모클래스 기준으로 변수 초기화 \n",
    "        super(TextGenerator, self).__init__() # super().__init__()와 동일 \n",
    "        \n",
    "        # 인덱스 값을 해당 인덱스 번째의 워드 벡터로 바꿔줍니다. \n",
    "        # self는 객체의 인스턴스를 의미\n",
    "        self.embedding = tf.keras.layers.Embedding(_vocab_size, embedding_size)\n",
    "        self.rnn_1 = tf.keras.layers.LSTM(_hidden_size, return_sequences=True)\n",
    "        self.rnn_2 = tf.keras.layers.LSTM(_hidden_size, return_sequences=True)\n",
    "        self.linear = tf.keras.layers.Dense(_vocab_size)\n",
    "        \n",
    "    # 호출될 때 자동 실행되는 메소드 \n",
    "    # Training할지 Evaluate할지 결정하기도 함.\n",
    "    def call(self, x):\n",
    "        out = self.embedding(x)\n",
    "        out = self.rnn_1(out)\n",
    "        out = self.rnn_2(out)\n",
    "        out = self.linear(out)\n",
    "        \n",
    "        return out\n",
    "```\n",
    "    \n",
    "위에서 상속받은 model 클래스의 특징은 다음과 같습니다. \n",
    "> Model 클래스는 Layer와 같은 API를 가지며, 다음과 같은 차이점이 있습니다.\n",
    "내장 훈련, 평가 및 예측 루프( model.fit() , model.evaluate(), model.predict())를 제공합니다.\n",
    "model.layers 속성을 통해 내부 레이어의 목록을 노출합니다.\n",
    "저장 및 직렬화 API(save(), save_weights()...)를 노출합니다.\n",
    "    \n",
    "따라서, fit과 save를 사용할 예정이라면 Model 클래스를 사용해야하고 이외에는 Layer클래스를 상속받아도 괜찮습니다.  \n",
    "     \n",
    "     \n",
    "* 문제점들.. 단어로 끊어져서 나오는 현상? 뭔가 반복된 단어만 나오는 현상 \n",
    "```\n",
    "'<start> i love you the t the be <end> '\n",
    "```\n",
    "결과를 확인할 때 완성된 단어보다 알파벳 하나씩 Generate되는 문제가 있었습니다. 입력을 바꾸더라도 같은 단어만 반복적으로 나타나는 것을 알 수 있습니다. \n",
    "```\n",
    "'<start> wow , the t a t a t <end> '\n",
    "'<start> lemon tree , the t a t a t <end> '\n",
    "'<start> hey hey , i m a t <end> '\n",
    "```\n",
    "단어가 반복되서 나오는 현상    \n",
    "```\n",
    "'<start> its just the the the the the the <end> '\n",
    "```\n",
    "'d, 've, 'm과 같은 '를 기준으로 쪼개진 알파벳이 많아서 이러한 결과가 나오는거 같아서 전처리 단계에서 특수문자 중 '는 제거하지 않도록 했습니다. \n",
    "    \n",
    "    \n",
    " * 특정 공백 문장이 안 사라지는 현상 \n",
    " ``` \n",
    " ['<start> chorus <end>',\n",
    " '<start> yeah <end>',\n",
    " '<start> come <end>',\n",
    " '<start>  <end>',\n",
    " '<start> oh <end>',\n",
    " '<start> refrain <end>',\n",
    " '<start> verse <end>',\n",
    " '<start> michael <end>',\n",
    " '<start> oh yeah <end>',\n",
    " '<start> check it out <end>']\n",
    " ```\n",
    "위에서 3번째 문장이 계속 공백이 안사라졌습니다. 어떤 문자값이 들어가있는지 모르겠습니다. (=> 해결하지 못한 부분)"
   ]
  },
  {
   "cell_type": "markdown",
   "id": "cognitive-happiness",
   "metadata": {},
   "source": [
    "### 추가시도 "
   ]
  },
  {
   "cell_type": "markdown",
   "id": "regulated-cookie",
   "metadata": {},
   "source": [
    "* padding에서 평균과 표준편차 활용해서 80% 데이터를 포함하는 최대문장길이를 살펴봤습니다. (padding 코드 쪽)    \n",
    "\n",
    "* Counter 모듈을 활용해서 단어사전의 크기를 결정해줬습니다. 하지만, 메모리 부족으로 사이즈를 줄여줘야했습니다. (토크나이저 이전단계 쪽)\n",
    "    \n",
    "* 문장의 길이가 30 이하인 텍스트 데이터로만 데이터셋을 구성해봤습니다.     \n",
    "일단 글자수를 제한해두고 데이터셋을 다시 구축했더니 약 7천개의 데이터로 개수가 확 줄었습니다. 그래서 단어 사전 크기도 그에 맞게 5000개 정도로 설정했습니다. 정확도나 손실을 봤을때는 더 증가하지만, 예측했을때 결과가 나오지 않았습니다.   "
   ]
  },
  {
   "cell_type": "markdown",
   "id": "daily-reverse",
   "metadata": {},
   "source": [
    "|                    |accuracy|loss|\n",
    "|:------------------:|:------:|:--:|\n",
    "|전체 문장길이 30으로 패딩|0.7146|1.8715|  \n",
    "|30초과 삭제 후 20으로 패딩|0.8157|1.2610|    "
   ]
  },
  {
   "cell_type": "markdown",
   "id": "contrary-rings",
   "metadata": {},
   "source": [
    "* 사전의 크기는 영향이 클까?   \n",
    "각 노드별로 설정하는 단어사전의 크기가 다름을 알 수 있습니다. 단어사전의 크기는 주로 사용자의 자원 상황에 따라 선택적인 요소인지, 정확도에도 큰 영향을 줄지 확인해봤습니다. 단어사전의 크기를 크게했을 때는 학습속도가 매우 느려졌습니다. 그리고 크기가 정확도 개선 측면에서 큰 영향이 없음을 확인할 수 있었습니다. 하지만 데이터 전체개수가 작아질 수록 단어사전의 크기를 5000 정도로 줄이니 결과값이 t the 등 특정갑이 반복해서 나타나는 현상이 있었습니다. 그래서 데이터를 길이 30을 기준으로 받아오고 20을 기준으로 길이 제한을 두었습니다. 그 결과 노래 가사를 만들어낼 수 있었습니다."
   ]
  },
  {
   "cell_type": "markdown",
   "id": "yellow-brunei",
   "metadata": {},
   "source": [
    "|vocab size|accuracy|loss|\n",
    "|:--------:|:------:|:--:|\n",
    "|15,000|0.7146|1.8715|\n",
    "|50,000|0.7173|1.9198|  "
   ]
  },
  {
   "cell_type": "markdown",
   "id": "continuous-words",
   "metadata": {},
   "source": [
    "### 시도해보지 못한 점\n",
    "* 유사도가 비슷한 단어들을 생성하면 좀 더 자연스러울까?   \n",
    "노래도 장르나 담고 있는 내용이 다르듯이 유사도가 비슷한 문장끼리 생성하면 더 자연스러운 노랫말을 만들 수 있을지 않으까하는 생각을 했지만 시간이 부족해 시도해보진 않았습니다. 기회가 된다면 유사도를 활용해서 분위기가 그럴싸한 노랫말을 만들어낼 수 있는지 확인해보고 싶습니다. "
   ]
  },
  {
   "cell_type": "markdown",
   "id": "steady-clone",
   "metadata": {},
   "source": [
    "### 결과에 대한 고찰 \n",
    "* 왜 t가 학습됐을까?    \n",
    "    \n",
    "```\n",
    "generate_text(model, tokenizer, init_sentence=\"<start> i love\")\n",
    "\n",
    "```    \n",
    "\n",
    "위에서 결과가 '<start> i love you the t the be <end> '로 나옵니다.    \n",
    "처음 학습 모델의 결과는 you the t the be를 생성했습니다. t가 뜬금없다는 생각이 들었는데 데이터를 살펴보니, 가삿말에는 don't처럼 t는 특수문자 뒤에 혼자 올 수 있는 상황들이 있었습니다. a나 t, d, ve처럼 ' 뒤에 알파벳 하나가 오는 경우가 학습되기 때문에 발생할 수 있는 부분이라고 생각됩니다.     \n",
    "이러한 경우 때문에 글자길이가 1인 문자를 공백으로 치환하기에는 케이스가 다양하고 가삿말에는 은유적인 표현이 있을 수 있기 떄문에 그대로 진행했습니다.     \n",
    "    \n",
    "* 정확도만 개선되면 프로젝트 성능이 더 좋아졌다고 볼 수 있을까?   \n",
    "정확도 개선도 중요하지만 무엇을 predict하는지 예측 결과를 확인하는 작업도 꼭 하는 것이 좋다는 것을 배울 수 있었습니다. "
   ]
  },
  {
   "cell_type": "markdown",
   "id": "adolescent-ordinance",
   "metadata": {},
   "source": [
    "### 배운 점과 자기 다짐 \n",
    "* 토큰화는 상대적이다는 점을 확실하게 알 수 있었습니다.    \n",
    "처음에 문제에서 문장 길이를 20으로 해주라고 하는 가정을 봤을때에는 데이터셋을 다 포괄적으로(90% 정도) 포함도 못 하는데 왜 max_len을 20으로 해주는게 좋은건지 이해가 어려웠는데, 작사가라는 프로젝트 특성을 고려 못했다는 것을 깨달았습니다. 실제로 90%를 차지하는 문장길이는 71 정도라도 프로젝트의 목적이 가사를 만들어내는 것이기 때문에 한 문장길이가 70은 너무 길기 때문에 부적절했습니다. 이를 통해서 토큰화는 프로젝트의 특성에 맞게 진행해줘야 한다는 점을 알 수 있었습니다. \n",
    "\n",
    "* GPT? \n",
    "GPT에 대해서는 잘 몰랐는데 해당 부분을 블로그로 정리하면 NLP가 단순히 말을 해석하는거 뿐만 아니라 새로운 문장을 만들어내고 창작활동에도 쓰이는 사례들을 볼 수 있을거같아 관련해서 블로그로 정리해보기로... 다짐합니다..!"
   ]
  }
 ],
 "metadata": {
  "kernelspec": {
   "display_name": "aiffel",
   "language": "python",
   "name": "aiffel"
  },
  "language_info": {
   "codemirror_mode": {
    "name": "ipython",
    "version": 3
   },
   "file_extension": ".py",
   "mimetype": "text/x-python",
   "name": "python",
   "nbconvert_exporter": "python",
   "pygments_lexer": "ipython3",
   "version": "3.7.9"
  }
 },
 "nbformat": 4,
 "nbformat_minor": 5
}

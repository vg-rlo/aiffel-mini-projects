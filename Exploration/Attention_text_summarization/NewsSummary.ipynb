{
 "cells": [
  {
   "cell_type": "markdown",
   "id": "nervous-sunset",
   "metadata": {},
   "source": [
    "# 프로젝트: 뉴스기사 요약해보기 \n",
    "\n",
    "* 목표: 추상적 요약과 추출적 요약을 할 수 있다.\n",
    "\n",
    "- 학습목표\n",
    "    * Extractive/Abstractive summarization 이해하기\n",
    "    * 단어장 크기를 줄이는 다양한 text normalization 적용해보기\n",
    "    * seq2seq의 성능을 Up시키는 Attention Mechanism 적용하기\n",
    "\n",
    "\n",
    "- 프로젝트 구현 순서 \n",
    "    * Attentional Seq2Seq를 활용한 추상적 요약하기 \n",
    "        * 데이터 수집하기 \n",
    "        * 데이터 전처리하기 \n",
    "            - 중복 샘플과 Null값 제거 \n",
    "            - 텍스트 정규화\n",
    "            - 불용어 제거 \n",
    "            - 데이터 Split \n",
    "            - 샘플의 최대 길이 정하기 \n",
    "            - 시작, 종료 토큰 추가 \n",
    "            - 단어집합 생성 및 정수 인코딩 \n",
    "            - 패딩 \n",
    "        * 모델 설계하기 \n",
    "        * 어텐션 메커니즘 사용하기 \n",
    "            - 모델 훈련하기 \n",
    "            - 인퍼런스 모델 훈련하기 \n",
    "            - 모델 테스트 하기 \n",
    "        * 실제 결과와 요약문 비교하기 \n",
    "    * Summa를 이용한 추출적 요약하기 "
   ]
  },
  {
   "cell_type": "code",
   "execution_count": 109,
   "id": "basic-religious",
   "metadata": {},
   "outputs": [
    {
     "name": "stderr",
     "output_type": "stream",
     "text": [
      "[nltk_data] Downloading package stopwords to /home/aiffel-\n",
      "[nltk_data]     dj19/nltk_data...\n",
      "[nltk_data]   Package stopwords is already up-to-date!\n"
     ]
    }
   ],
   "source": [
    "import nltk\n",
    "nltk.download('stopwords')\n",
    "\n",
    "import numpy as np\n",
    "import pandas as pd\n",
    "import os\n",
    "import re\n",
    "import matplotlib.pyplot as plt\n",
    "from nltk.corpus import stopwords\n",
    "from bs4 import BeautifulSoup \n",
    "from tensorflow.keras.preprocessing.text import Tokenizer \n",
    "from tensorflow.keras.preprocessing.sequence import pad_sequences\n",
    "import wget\n",
    "\n",
    "from tqdm import tqdm\n",
    "\n",
    "from tensorflow.keras.layers import Input, LSTM, Embedding, Dense, Concatenate\n",
    "from tensorflow.keras.models import Model\n",
    "from tensorflow.keras.callbacks import EarlyStopping, ModelCheckpoint\n",
    "\n",
    "import requests\n",
    "from summa.summarizer import summarize"
   ]
  },
  {
   "cell_type": "markdown",
   "id": "allied-grenada",
   "metadata": {},
   "source": [
    "## 데이터 수집하기 \n",
    "(수정사항) 기존에 있던 requests 라이브러리를 활용하면 인터넷이 끊기거나 했을때, 실행마다 에러가 발생할 수 있어 wget을 활용해서 로컬에 다운받았습니다. "
   ]
  },
  {
   "cell_type": "code",
   "execution_count": 110,
   "id": "present-royal",
   "metadata": {},
   "outputs": [
    {
     "name": "stdout",
     "output_type": "stream",
     "text": [
      "data가 이미 존재합니다.\n"
     ]
    }
   ],
   "source": [
    "url = \"https://raw.githubusercontent.com/sunnysai12345/News_headlines/master/news_headlines_more.csv\"\n",
    "\n",
    "data_path = os.getenv(\"HOME\")+'/aiffel/news_summarization/data/news_headlines_more.csv'\n",
    "\n",
    "if not os.path.isfile(data_path):\n",
    "    wget.download(url, out = data_path)\n",
    "\n",
    "else:\n",
    "    print(\"data가 이미 존재합니다.\")"
   ]
  },
  {
   "cell_type": "code",
   "execution_count": 111,
   "id": "invalid-moore",
   "metadata": {},
   "outputs": [
    {
     "name": "stdout",
     "output_type": "stream",
     "text": [
      "전체 샘플수 : 98401\n"
     ]
    }
   ],
   "source": [
    "news_data = pd.read_csv(data_path, encoding='iso-8859-1')\n",
    "print('전체 샘플수 :',(len(news_data)))"
   ]
  },
  {
   "cell_type": "code",
   "execution_count": 112,
   "id": "described-valuation",
   "metadata": {},
   "outputs": [
    {
     "data": {
      "text/html": [
       "<div>\n",
       "<style scoped>\n",
       "    .dataframe tbody tr th:only-of-type {\n",
       "        vertical-align: middle;\n",
       "    }\n",
       "\n",
       "    .dataframe tbody tr th {\n",
       "        vertical-align: top;\n",
       "    }\n",
       "\n",
       "    .dataframe thead th {\n",
       "        text-align: right;\n",
       "    }\n",
       "</style>\n",
       "<table border=\"1\" class=\"dataframe\">\n",
       "  <thead>\n",
       "    <tr style=\"text-align: right;\">\n",
       "      <th></th>\n",
       "      <th>headlines</th>\n",
       "      <th>text</th>\n",
       "    </tr>\n",
       "  </thead>\n",
       "  <tbody>\n",
       "    <tr>\n",
       "      <th>0</th>\n",
       "      <td>upGrad learner switches to career in ML &amp; Al w...</td>\n",
       "      <td>Saurav Kant, an alumnus of upGrad and IIIT-B's...</td>\n",
       "    </tr>\n",
       "    <tr>\n",
       "      <th>1</th>\n",
       "      <td>Delhi techie wins free food from Swiggy for on...</td>\n",
       "      <td>Kunal Shah's credit card bill payment platform...</td>\n",
       "    </tr>\n",
       "    <tr>\n",
       "      <th>2</th>\n",
       "      <td>New Zealand end Rohit Sharma-led India's 12-ma...</td>\n",
       "      <td>New Zealand defeated India by 8 wickets in the...</td>\n",
       "    </tr>\n",
       "    <tr>\n",
       "      <th>3</th>\n",
       "      <td>Aegon life iTerm insurance plan helps customer...</td>\n",
       "      <td>With Aegon Life iTerm Insurance plan, customer...</td>\n",
       "    </tr>\n",
       "    <tr>\n",
       "      <th>4</th>\n",
       "      <td>Have known Hirani for yrs, what if MeToo claim...</td>\n",
       "      <td>Speaking about the sexual harassment allegatio...</td>\n",
       "    </tr>\n",
       "  </tbody>\n",
       "</table>\n",
       "</div>"
      ],
      "text/plain": [
       "                                           headlines  \\\n",
       "0  upGrad learner switches to career in ML & Al w...   \n",
       "1  Delhi techie wins free food from Swiggy for on...   \n",
       "2  New Zealand end Rohit Sharma-led India's 12-ma...   \n",
       "3  Aegon life iTerm insurance plan helps customer...   \n",
       "4  Have known Hirani for yrs, what if MeToo claim...   \n",
       "\n",
       "                                                text  \n",
       "0  Saurav Kant, an alumnus of upGrad and IIIT-B's...  \n",
       "1  Kunal Shah's credit card bill payment platform...  \n",
       "2  New Zealand defeated India by 8 wickets in the...  \n",
       "3  With Aegon Life iTerm Insurance plan, customer...  \n",
       "4  Speaking about the sexual harassment allegatio...  "
      ]
     },
     "execution_count": 112,
     "metadata": {},
     "output_type": "execute_result"
    }
   ],
   "source": [
    "news_data.head()"
   ]
  },
  {
   "cell_type": "markdown",
   "id": "professional-punishment",
   "metadata": {},
   "source": [
    "data라는 데이터프레임을 살펴보면 뉴스 요약봇을 만들기 위해 사용할 수 있는 컬럼은 text열과 해당 열의 내용을 요약한 headlines열입니다. 인공 신경망을 통해 text 시퀀스를 입력받으면, headlines 시퀀스를 예측하도록 인공신경망을 훈련시킬 것입니다. "
   ]
  },
  {
   "cell_type": "code",
   "execution_count": 113,
   "id": "patent-trademark",
   "metadata": {},
   "outputs": [
    {
     "data": {
      "text/html": [
       "<div>\n",
       "<style scoped>\n",
       "    .dataframe tbody tr th:only-of-type {\n",
       "        vertical-align: middle;\n",
       "    }\n",
       "\n",
       "    .dataframe tbody tr th {\n",
       "        vertical-align: top;\n",
       "    }\n",
       "\n",
       "    .dataframe thead th {\n",
       "        text-align: right;\n",
       "    }\n",
       "</style>\n",
       "<table border=\"1\" class=\"dataframe\">\n",
       "  <thead>\n",
       "    <tr style=\"text-align: right;\">\n",
       "      <th></th>\n",
       "      <th>headlines</th>\n",
       "      <th>text</th>\n",
       "    </tr>\n",
       "  </thead>\n",
       "  <tbody>\n",
       "    <tr>\n",
       "      <th>0</th>\n",
       "      <td>upGrad learner switches to career in ML &amp; Al w...</td>\n",
       "      <td>Saurav Kant, an alumnus of upGrad and IIIT-B's...</td>\n",
       "    </tr>\n",
       "    <tr>\n",
       "      <th>1</th>\n",
       "      <td>Delhi techie wins free food from Swiggy for on...</td>\n",
       "      <td>Kunal Shah's credit card bill payment platform...</td>\n",
       "    </tr>\n",
       "    <tr>\n",
       "      <th>2</th>\n",
       "      <td>New Zealand end Rohit Sharma-led India's 12-ma...</td>\n",
       "      <td>New Zealand defeated India by 8 wickets in the...</td>\n",
       "    </tr>\n",
       "    <tr>\n",
       "      <th>3</th>\n",
       "      <td>Aegon life iTerm insurance plan helps customer...</td>\n",
       "      <td>With Aegon Life iTerm Insurance plan, customer...</td>\n",
       "    </tr>\n",
       "    <tr>\n",
       "      <th>4</th>\n",
       "      <td>Have known Hirani for yrs, what if MeToo claim...</td>\n",
       "      <td>Speaking about the sexual harassment allegatio...</td>\n",
       "    </tr>\n",
       "  </tbody>\n",
       "</table>\n",
       "</div>"
      ],
      "text/plain": [
       "                                           headlines  \\\n",
       "0  upGrad learner switches to career in ML & Al w...   \n",
       "1  Delhi techie wins free food from Swiggy for on...   \n",
       "2  New Zealand end Rohit Sharma-led India's 12-ma...   \n",
       "3  Aegon life iTerm insurance plan helps customer...   \n",
       "4  Have known Hirani for yrs, what if MeToo claim...   \n",
       "\n",
       "                                                text  \n",
       "0  Saurav Kant, an alumnus of upGrad and IIIT-B's...  \n",
       "1  Kunal Shah's credit card bill payment platform...  \n",
       "2  New Zealand defeated India by 8 wickets in the...  \n",
       "3  With Aegon Life iTerm Insurance plan, customer...  \n",
       "4  Speaking about the sexual harassment allegatio...  "
      ]
     },
     "execution_count": 113,
     "metadata": {},
     "output_type": "execute_result"
    }
   ],
   "source": [
    "tmp = news_data[['headlines','text']]\n",
    "tmp.head()"
   ]
  },
  {
   "cell_type": "code",
   "execution_count": 114,
   "id": "invisible-investment",
   "metadata": {},
   "outputs": [
    {
     "data": {
      "text/html": [
       "<div>\n",
       "<style scoped>\n",
       "    .dataframe tbody tr th:only-of-type {\n",
       "        vertical-align: middle;\n",
       "    }\n",
       "\n",
       "    .dataframe tbody tr th {\n",
       "        vertical-align: top;\n",
       "    }\n",
       "\n",
       "    .dataframe thead th {\n",
       "        text-align: right;\n",
       "    }\n",
       "</style>\n",
       "<table border=\"1\" class=\"dataframe\">\n",
       "  <thead>\n",
       "    <tr style=\"text-align: right;\">\n",
       "      <th></th>\n",
       "      <th>headlines</th>\n",
       "      <th>text</th>\n",
       "    </tr>\n",
       "  </thead>\n",
       "  <tbody>\n",
       "    <tr>\n",
       "      <th>94069</th>\n",
       "      <td>Guinness attempt for highest bike ride blocked...</td>\n",
       "      <td>A Cuban cyclist's Guinness World Record attemp...</td>\n",
       "    </tr>\n",
       "    <tr>\n",
       "      <th>53769</th>\n",
       "      <td>Journalism student murdered by mob named Pak P...</td>\n",
       "      <td>A journalism student at Abdul Wali Khan Univer...</td>\n",
       "    </tr>\n",
       "    <tr>\n",
       "      <th>75575</th>\n",
       "      <td>Firm that falsely claimed it was linked to Goo...</td>\n",
       "      <td>UK-based Movette, which falsely claimed to be ...</td>\n",
       "    </tr>\n",
       "    <tr>\n",
       "      <th>78965</th>\n",
       "      <td>Delhi Police share Bollywood-inspired memes on...</td>\n",
       "      <td>Delhi Police have been using Bollywood-inspire...</td>\n",
       "    </tr>\n",
       "    <tr>\n",
       "      <th>69434</th>\n",
       "      <td>Plane crashes into tree, pilot survives and wa...</td>\n",
       "      <td>Video footage has captured the moment a plane ...</td>\n",
       "    </tr>\n",
       "    <tr>\n",
       "      <th>61735</th>\n",
       "      <td>App to remind old people of medicine schedules...</td>\n",
       "      <td>Mobile app called 'Dawai Dost' has been develo...</td>\n",
       "    </tr>\n",
       "    <tr>\n",
       "      <th>35940</th>\n",
       "      <td>Ex-Google employee's startup valued at $15 bil...</td>\n",
       "      <td>Ex-Google employee Colin Huang's e-commerce si...</td>\n",
       "    </tr>\n",
       "    <tr>\n",
       "      <th>7467</th>\n",
       "      <td>Cleartrip fires 100 in India, focuses on Middl...</td>\n",
       "      <td>Online booking platform Cleartrip has fired ne...</td>\n",
       "    </tr>\n",
       "    <tr>\n",
       "      <th>27175</th>\n",
       "      <td>Rihanna changed my destiny: Indian model on re...</td>\n",
       "      <td>Talking about her supposed resemblance to sing...</td>\n",
       "    </tr>\n",
       "    <tr>\n",
       "      <th>21394</th>\n",
       "      <td>Indonesia's richest man to participate in Asia...</td>\n",
       "      <td>Billionaire tobacco tycoon Michael Bambang Har...</td>\n",
       "    </tr>\n",
       "    <tr>\n",
       "      <th>31746</th>\n",
       "      <td>I don't think BJP understands the term Hindu: ...</td>\n",
       "      <td>Addressing a press conference in Karnataka, Co...</td>\n",
       "    </tr>\n",
       "    <tr>\n",
       "      <th>9758</th>\n",
       "      <td>Taimur calls me 'gol', Kareena 'amma' and Saif...</td>\n",
       "      <td>Sara Ali Khan revealed that her half-brother T...</td>\n",
       "    </tr>\n",
       "    <tr>\n",
       "      <th>80681</th>\n",
       "      <td>Crew leaves woman sleeping as man masturbates ...</td>\n",
       "      <td>A female passenger on an American Airlines fli...</td>\n",
       "    </tr>\n",
       "    <tr>\n",
       "      <th>74804</th>\n",
       "      <td>Mumbai woman kills abusive son to save daughte...</td>\n",
       "      <td>A 45-year-old woman strangled her drug addict ...</td>\n",
       "    </tr>\n",
       "    <tr>\n",
       "      <th>76006</th>\n",
       "      <td>Azharuddin questions BCCI's treatment of forme...</td>\n",
       "      <td>Former Indian cricket team skipper Mohammad Az...</td>\n",
       "    </tr>\n",
       "  </tbody>\n",
       "</table>\n",
       "</div>"
      ],
      "text/plain": [
       "                                               headlines  \\\n",
       "94069  Guinness attempt for highest bike ride blocked...   \n",
       "53769  Journalism student murdered by mob named Pak P...   \n",
       "75575  Firm that falsely claimed it was linked to Goo...   \n",
       "78965  Delhi Police share Bollywood-inspired memes on...   \n",
       "69434  Plane crashes into tree, pilot survives and wa...   \n",
       "61735  App to remind old people of medicine schedules...   \n",
       "35940  Ex-Google employee's startup valued at $15 bil...   \n",
       "7467   Cleartrip fires 100 in India, focuses on Middl...   \n",
       "27175  Rihanna changed my destiny: Indian model on re...   \n",
       "21394  Indonesia's richest man to participate in Asia...   \n",
       "31746  I don't think BJP understands the term Hindu: ...   \n",
       "9758   Taimur calls me 'gol', Kareena 'amma' and Saif...   \n",
       "80681  Crew leaves woman sleeping as man masturbates ...   \n",
       "74804  Mumbai woman kills abusive son to save daughte...   \n",
       "76006  Azharuddin questions BCCI's treatment of forme...   \n",
       "\n",
       "                                                    text  \n",
       "94069  A Cuban cyclist's Guinness World Record attemp...  \n",
       "53769  A journalism student at Abdul Wali Khan Univer...  \n",
       "75575  UK-based Movette, which falsely claimed to be ...  \n",
       "78965  Delhi Police have been using Bollywood-inspire...  \n",
       "69434  Video footage has captured the moment a plane ...  \n",
       "61735  Mobile app called 'Dawai Dost' has been develo...  \n",
       "35940  Ex-Google employee Colin Huang's e-commerce si...  \n",
       "7467   Online booking platform Cleartrip has fired ne...  \n",
       "27175  Talking about her supposed resemblance to sing...  \n",
       "21394  Billionaire tobacco tycoon Michael Bambang Har...  \n",
       "31746  Addressing a press conference in Karnataka, Co...  \n",
       "9758   Sara Ali Khan revealed that her half-brother T...  \n",
       "80681  A female passenger on an American Airlines fli...  \n",
       "74804  A 45-year-old woman strangled her drug addict ...  \n",
       "76006  Former Indian cricket team skipper Mohammad Az...  "
      ]
     },
     "execution_count": 114,
     "metadata": {},
     "output_type": "execute_result"
    }
   ],
   "source": [
    "#랜덤한 15개 샘플 출력\n",
    "tmp.sample(15)"
   ]
  },
  {
   "cell_type": "code",
   "execution_count": 115,
   "id": "exterior-dayton",
   "metadata": {},
   "outputs": [
    {
     "data": {
      "text/html": [
       "<div>\n",
       "<style scoped>\n",
       "    .dataframe tbody tr th:only-of-type {\n",
       "        vertical-align: middle;\n",
       "    }\n",
       "\n",
       "    .dataframe tbody tr th {\n",
       "        vertical-align: top;\n",
       "    }\n",
       "\n",
       "    .dataframe thead th {\n",
       "        text-align: right;\n",
       "    }\n",
       "</style>\n",
       "<table border=\"1\" class=\"dataframe\">\n",
       "  <thead>\n",
       "    <tr style=\"text-align: right;\">\n",
       "      <th></th>\n",
       "      <th>headlines</th>\n",
       "      <th>text</th>\n",
       "    </tr>\n",
       "  </thead>\n",
       "  <tbody>\n",
       "    <tr>\n",
       "      <th>0</th>\n",
       "      <td>upGrad learner switches to career in ML &amp; Al w...</td>\n",
       "      <td>Saurav Kant, an alumnus of upGrad and IIIT-B's...</td>\n",
       "    </tr>\n",
       "    <tr>\n",
       "      <th>1</th>\n",
       "      <td>Delhi techie wins free food from Swiggy for on...</td>\n",
       "      <td>Kunal Shah's credit card bill payment platform...</td>\n",
       "    </tr>\n",
       "    <tr>\n",
       "      <th>2</th>\n",
       "      <td>New Zealand end Rohit Sharma-led India's 12-ma...</td>\n",
       "      <td>New Zealand defeated India by 8 wickets in the...</td>\n",
       "    </tr>\n",
       "    <tr>\n",
       "      <th>3</th>\n",
       "      <td>Aegon life iTerm insurance plan helps customer...</td>\n",
       "      <td>With Aegon Life iTerm Insurance plan, customer...</td>\n",
       "    </tr>\n",
       "    <tr>\n",
       "      <th>4</th>\n",
       "      <td>Have known Hirani for yrs, what if MeToo claim...</td>\n",
       "      <td>Speaking about the sexual harassment allegatio...</td>\n",
       "    </tr>\n",
       "  </tbody>\n",
       "</table>\n",
       "</div>"
      ],
      "text/plain": [
       "                                           headlines  \\\n",
       "0  upGrad learner switches to career in ML & Al w...   \n",
       "1  Delhi techie wins free food from Swiggy for on...   \n",
       "2  New Zealand end Rohit Sharma-led India's 12-ma...   \n",
       "3  Aegon life iTerm insurance plan helps customer...   \n",
       "4  Have known Hirani for yrs, what if MeToo claim...   \n",
       "\n",
       "                                                text  \n",
       "0  Saurav Kant, an alumnus of upGrad and IIIT-B's...  \n",
       "1  Kunal Shah's credit card bill payment platform...  \n",
       "2  New Zealand defeated India by 8 wickets in the...  \n",
       "3  With Aegon Life iTerm Insurance plan, customer...  \n",
       "4  Speaking about the sexual harassment allegatio...  "
      ]
     },
     "execution_count": 115,
     "metadata": {},
     "output_type": "execute_result"
    }
   ],
   "source": [
    "del news_data\n",
    "news_data = tmp\n",
    "\n",
    "news_data.head()"
   ]
  },
  {
   "cell_type": "markdown",
   "id": "younger-microwave",
   "metadata": {},
   "source": [
    "## 데이터 전처리하기 - 추상적 요약 \n",
    "텍스트를 정규화 또는 정제합니다. <br> \n",
    "(생각해볼 포인트) 만약, 불용어 제거를 선택한다면 상대적으로 길이가 짧은 요약 데이터에 대해서도 불용어를 제거하는 것이 좋을까? <br> \n",
    "그렇지 않을 수 있고, 상대적으로 불용어를 전부 제거하면, 요약이라는 프로젝트 특성상에 좋은 영향이 미치지 않을 수 있습니다. 해당 부분은 기존의 뉴스 요약봇이 어떤식으로 불용어 제거를 하고 있는 지 확인했습니다. 요약문에서는 굳이 불용어를 제거하는 것이 좋지 않기 때문에 짧은 문장인 요약문에서는 불용어 제거를 건너뛰었습니다. "
   ]
  },
  {
   "cell_type": "code",
   "execution_count": 117,
   "id": "passive-muslim",
   "metadata": {},
   "outputs": [
    {
     "data": {
      "text/html": [
       "<div>\n",
       "<style scoped>\n",
       "    .dataframe tbody tr th:only-of-type {\n",
       "        vertical-align: middle;\n",
       "    }\n",
       "\n",
       "    .dataframe tbody tr th {\n",
       "        vertical-align: top;\n",
       "    }\n",
       "\n",
       "    .dataframe thead th {\n",
       "        text-align: right;\n",
       "    }\n",
       "</style>\n",
       "<table border=\"1\" class=\"dataframe\">\n",
       "  <thead>\n",
       "    <tr style=\"text-align: right;\">\n",
       "      <th></th>\n",
       "      <th>headlines</th>\n",
       "      <th>text</th>\n",
       "    </tr>\n",
       "  </thead>\n",
       "  <tbody>\n",
       "    <tr>\n",
       "      <th>0</th>\n",
       "      <td>upGrad learner switches to career in ML &amp; Al w...</td>\n",
       "      <td>Saurav Kant, an alumnus of upGrad and IIIT-B's...</td>\n",
       "    </tr>\n",
       "    <tr>\n",
       "      <th>1</th>\n",
       "      <td>Delhi techie wins free food from Swiggy for on...</td>\n",
       "      <td>Kunal Shah's credit card bill payment platform...</td>\n",
       "    </tr>\n",
       "    <tr>\n",
       "      <th>2</th>\n",
       "      <td>New Zealand end Rohit Sharma-led India's 12-ma...</td>\n",
       "      <td>New Zealand defeated India by 8 wickets in the...</td>\n",
       "    </tr>\n",
       "    <tr>\n",
       "      <th>3</th>\n",
       "      <td>Aegon life iTerm insurance plan helps customer...</td>\n",
       "      <td>With Aegon Life iTerm Insurance plan, customer...</td>\n",
       "    </tr>\n",
       "    <tr>\n",
       "      <th>4</th>\n",
       "      <td>Have known Hirani for yrs, what if MeToo claim...</td>\n",
       "      <td>Speaking about the sexual harassment allegatio...</td>\n",
       "    </tr>\n",
       "  </tbody>\n",
       "</table>\n",
       "</div>"
      ],
      "text/plain": [
       "                                           headlines  \\\n",
       "0  upGrad learner switches to career in ML & Al w...   \n",
       "1  Delhi techie wins free food from Swiggy for on...   \n",
       "2  New Zealand end Rohit Sharma-led India's 12-ma...   \n",
       "3  Aegon life iTerm insurance plan helps customer...   \n",
       "4  Have known Hirani for yrs, what if MeToo claim...   \n",
       "\n",
       "                                                text  \n",
       "0  Saurav Kant, an alumnus of upGrad and IIIT-B's...  \n",
       "1  Kunal Shah's credit card bill payment platform...  \n",
       "2  New Zealand defeated India by 8 wickets in the...  \n",
       "3  With Aegon Life iTerm Insurance plan, customer...  \n",
       "4  Speaking about the sexual harassment allegatio...  "
      ]
     },
     "execution_count": 117,
     "metadata": {},
     "output_type": "execute_result"
    }
   ],
   "source": [
    "data = news_data\n",
    "data.head()"
   ]
  },
  {
   "cell_type": "markdown",
   "id": "confused-sheet",
   "metadata": {},
   "source": [
    "### 중복 샘플과 NULL 값이 존재하는 샘플 제거"
   ]
  },
  {
   "cell_type": "code",
   "execution_count": 119,
   "id": "missing-thriller",
   "metadata": {},
   "outputs": [
    {
     "name": "stdout",
     "output_type": "stream",
     "text": [
      "text 열에서 중복을 배제한 유일한 샘플의 수 : 98360\n",
      "headlines 열에서 중복을 배제한 유일한 샘플의 수 : 98280\n"
     ]
    }
   ],
   "source": [
    "print('text 열에서 중복을 배제한 유일한 샘플의 수 :', data['text'].nunique())\n",
    "print('headlines 열에서 중복을 배제한 유일한 샘플의 수 :', data['headlines'].nunique())"
   ]
  },
  {
   "cell_type": "code",
   "execution_count": 120,
   "id": "talented-diary",
   "metadata": {},
   "outputs": [
    {
     "name": "stdout",
     "output_type": "stream",
     "text": [
      "전체 샘플수 : 98360\n"
     ]
    }
   ],
   "source": [
    "# 중복 샘플 제거 \n",
    "data.drop_duplicates(subset = ['text'], inplace = True)\n",
    "print('전체 샘플수 :',(len(data)))"
   ]
  },
  {
   "cell_type": "code",
   "execution_count": 121,
   "id": "israeli-asthma",
   "metadata": {},
   "outputs": [
    {
     "name": "stdout",
     "output_type": "stream",
     "text": [
      "null 개수:  headlines    0\n",
      "text         0\n",
      "dtype: int64\n"
     ]
    }
   ],
   "source": [
    "print('null 개수: ', data.isnull().sum())"
   ]
  },
  {
   "cell_type": "code",
   "execution_count": 122,
   "id": "aboriginal-clone",
   "metadata": {},
   "outputs": [
    {
     "name": "stdout",
     "output_type": "stream",
     "text": [
      "null 개수:  headlines    0\n",
      "text         0\n",
      "dtype: int64\n",
      "전체 샘플수 : 98360\n"
     ]
    }
   ],
   "source": [
    "# 데이터프레임에서의 null값 제거 \n",
    "data.dropna(axis = 0, inplace = True)\n",
    "print('null 개수: ', data.isnull().sum())\n",
    "print('전체 샘플수 :',(len(data)))"
   ]
  },
  {
   "cell_type": "markdown",
   "id": "fifth-french",
   "metadata": {},
   "source": [
    "### 텍스트 정규화와 불용어 제거\n",
    "정규화를 통해 기계적 연산량을 줄여줍니다. "
   ]
  },
  {
   "cell_type": "code",
   "execution_count": 123,
   "id": "aware-louisville",
   "metadata": {},
   "outputs": [
    {
     "name": "stdout",
     "output_type": "stream",
     "text": [
      "정규화 사전의 수:  120\n"
     ]
    }
   ],
   "source": [
    "contractions = {\"ain't\": \"is not\", \"aren't\": \"are not\",\"can't\": \"cannot\", \"'cause\": \"because\", \"could've\": \"could have\", \"couldn't\": \"could not\",\n",
    "                           \"didn't\": \"did not\",  \"doesn't\": \"does not\", \"don't\": \"do not\", \"hadn't\": \"had not\", \"hasn't\": \"has not\", \"haven't\": \"have not\",\n",
    "                           \"he'd\": \"he would\",\"he'll\": \"he will\", \"he's\": \"he is\", \"how'd\": \"how did\", \"how'd'y\": \"how do you\", \"how'll\": \"how will\", \"how's\": \"how is\",\n",
    "                           \"I'd\": \"I would\", \"I'd've\": \"I would have\", \"I'll\": \"I will\", \"I'll've\": \"I will have\",\"I'm\": \"I am\", \"I've\": \"I have\", \"i'd\": \"i would\",\n",
    "                           \"i'd've\": \"i would have\", \"i'll\": \"i will\",  \"i'll've\": \"i will have\",\"i'm\": \"i am\", \"i've\": \"i have\", \"isn't\": \"is not\", \"it'd\": \"it would\",\n",
    "                           \"it'd've\": \"it would have\", \"it'll\": \"it will\", \"it'll've\": \"it will have\",\"it's\": \"it is\", \"let's\": \"let us\", \"ma'am\": \"madam\",\n",
    "                           \"mayn't\": \"may not\", \"might've\": \"might have\",\"mightn't\": \"might not\",\"mightn't've\": \"might not have\", \"must've\": \"must have\",\n",
    "                           \"mustn't\": \"must not\", \"mustn't've\": \"must not have\", \"needn't\": \"need not\", \"needn't've\": \"need not have\",\"o'clock\": \"of the clock\",\n",
    "                           \"oughtn't\": \"ought not\", \"oughtn't've\": \"ought not have\", \"shan't\": \"shall not\", \"sha'n't\": \"shall not\", \"shan't've\": \"shall not have\",\n",
    "                           \"she'd\": \"she would\", \"she'd've\": \"she would have\", \"she'll\": \"she will\", \"she'll've\": \"she will have\", \"she's\": \"she is\",\n",
    "                           \"should've\": \"should have\", \"shouldn't\": \"should not\", \"shouldn't've\": \"should not have\", \"so've\": \"so have\",\"so's\": \"so as\",\n",
    "                           \"this's\": \"this is\",\"that'd\": \"that would\", \"that'd've\": \"that would have\", \"that's\": \"that is\", \"there'd\": \"there would\",\n",
    "                           \"there'd've\": \"there would have\", \"there's\": \"there is\", \"here's\": \"here is\",\"they'd\": \"they would\", \"they'd've\": \"they would have\",\n",
    "                           \"they'll\": \"they will\", \"they'll've\": \"they will have\", \"they're\": \"they are\", \"they've\": \"they have\", \"to've\": \"to have\",\n",
    "                           \"wasn't\": \"was not\", \"we'd\": \"we would\", \"we'd've\": \"we would have\", \"we'll\": \"we will\", \"we'll've\": \"we will have\", \"we're\": \"we are\",\n",
    "                           \"we've\": \"we have\", \"weren't\": \"were not\", \"what'll\": \"what will\", \"what'll've\": \"what will have\", \"what're\": \"what are\",\n",
    "                           \"what's\": \"what is\", \"what've\": \"what have\", \"when's\": \"when is\", \"when've\": \"when have\", \"where'd\": \"where did\", \"where's\": \"where is\",\n",
    "                           \"where've\": \"where have\", \"who'll\": \"who will\", \"who'll've\": \"who will have\", \"who's\": \"who is\", \"who've\": \"who have\",\n",
    "                           \"why's\": \"why is\", \"why've\": \"why have\", \"will've\": \"will have\", \"won't\": \"will not\", \"won't've\": \"will not have\",\n",
    "                           \"would've\": \"would have\", \"wouldn't\": \"would not\", \"wouldn't've\": \"would not have\", \"y'all\": \"you all\",\n",
    "                           \"y'all'd\": \"you all would\",\"y'all'd've\": \"you all would have\",\"y'all're\": \"you all are\",\"y'all've\": \"you all have\",\n",
    "                           \"you'd\": \"you would\", \"you'd've\": \"you would have\", \"you'll\": \"you will\", \"you'll've\": \"you will have\",\n",
    "                           \"you're\": \"you are\", \"you've\": \"you have\"}\n",
    "\n",
    "print(\"정규화 사전의 수: \",len(contractions))"
   ]
  },
  {
   "cell_type": "markdown",
   "id": "effective-polls",
   "metadata": {},
   "source": [
    "from nltk.corpus import stopwords에서 nltk에 있는 말뭉치의 불용어 리스트를 참고합니다."
   ]
  },
  {
   "cell_type": "code",
   "execution_count": 124,
   "id": "underlying-effect",
   "metadata": {},
   "outputs": [
    {
     "name": "stdout",
     "output_type": "stream",
     "text": [
      "불용어 개수 : 179\n",
      "['i', 'me', 'my', 'myself', 'we', 'our', 'ours', 'ourselves', 'you', \"you're\", \"you've\", \"you'll\", \"you'd\", 'your', 'yours', 'yourself', 'yourselves', 'he', 'him', 'his', 'himself', 'she', \"she's\", 'her', 'hers', 'herself', 'it', \"it's\", 'its', 'itself', 'they', 'them', 'their', 'theirs', 'themselves', 'what', 'which', 'who', 'whom', 'this', 'that', \"that'll\", 'these', 'those', 'am', 'is', 'are', 'was', 'were', 'be', 'been', 'being', 'have', 'has', 'had', 'having', 'do', 'does', 'did', 'doing', 'a', 'an', 'the', 'and', 'but', 'if', 'or', 'because', 'as', 'until', 'while', 'of', 'at', 'by', 'for', 'with', 'about', 'against', 'between', 'into', 'through', 'during', 'before', 'after', 'above', 'below', 'to', 'from', 'up', 'down', 'in', 'out', 'on', 'off', 'over', 'under', 'again', 'further', 'then', 'once', 'here', 'there', 'when', 'where', 'why', 'how', 'all', 'any', 'both', 'each', 'few', 'more', 'most', 'other', 'some', 'such', 'no', 'nor', 'not', 'only', 'own', 'same', 'so', 'than', 'too', 'very', 's', 't', 'can', 'will', 'just', 'don', \"don't\", 'should', \"should've\", 'now', 'd', 'll', 'm', 'o', 're', 've', 'y', 'ain', 'aren', \"aren't\", 'couldn', \"couldn't\", 'didn', \"didn't\", 'doesn', \"doesn't\", 'hadn', \"hadn't\", 'hasn', \"hasn't\", 'haven', \"haven't\", 'isn', \"isn't\", 'ma', 'mightn', \"mightn't\", 'mustn', \"mustn't\", 'needn', \"needn't\", 'shan', \"shan't\", 'shouldn', \"shouldn't\", 'wasn', \"wasn't\", 'weren', \"weren't\", 'won', \"won't\", 'wouldn', \"wouldn't\"]\n"
     ]
    }
   ],
   "source": [
    "print('불용어 개수 :', len(stopwords.words('english') ))\n",
    "print(stopwords.words('english'))"
   ]
  },
  {
   "cell_type": "markdown",
   "id": "nominated-impossible",
   "metadata": {},
   "source": [
    "함수의 하단을 보면, NLTK를 이용해 불용어를 제거하는 파트가 있는데, 이는 text 전처리 시에서만 호출하고 이미 상대적으로 문장 길이가 짧은 headlines 전처리할 때는 호출하지 않을 예정이에요. Abstractive한 문장 요약 결과문이 자연스러운 문장이 되려면 이 불용어들이 headlines에는 남아 있는게 더 좋을 것 같습니다. "
   ]
  },
  {
   "cell_type": "code",
   "execution_count": 125,
   "id": "renewable-sacramento",
   "metadata": {},
   "outputs": [],
   "source": [
    "#데이터 전처리 함수\n",
    "def preprocess_sentence(sentence, remove_stopwords=True):\n",
    "    sentence = sentence.lower() # 텍스트 소문자화\n",
    "    sentence = BeautifulSoup(sentence, \"lxml\").text # <br />, <a href = ...> 등의 html 태그 제거\n",
    "    sentence = re.sub(r'\\([^)]*\\)', '', sentence) # 괄호로 닫힌 문자열 (...) 제거 Ex) my husband (and myself!) for => my husband for\n",
    "    sentence = re.sub('\"','', sentence) # 쌍따옴표 \" 제거\n",
    "    sentence = ' '.join([contractions[t] if t in contractions else t for t in sentence.split(\" \")]) # 약어 정규화\n",
    "    sentence = re.sub(r\"'s\\b\",\"\",sentence) # 소유격 제거. Ex) roland's -> roland\n",
    "    sentence = re.sub(\"[^a-zA-Z]\", \" \", sentence) # 영어 외 문자(숫자, 특수문자 등) 공백으로 변환\n",
    "    sentence = re.sub('[m]{2,}', 'mm', sentence) # m이 3개 이상이면 2개로 변경. Ex) ummmmmmm yeah -> umm yeah\n",
    "    \n",
    "    # 불용어 제거 (text)\n",
    "    if remove_stopwords:\n",
    "        tokens = ' '.join(word for word in sentence.split() if not word in stopwords.words('english') if len(word) > 1)\n",
    "    # 불용어 미제거 (headlines)\n",
    "    else:\n",
    "        tokens = ' '.join(word for word in sentence.split() if len(word) > 1)\n",
    "    return tokens"
   ]
  },
  {
   "cell_type": "code",
   "execution_count": 126,
   "id": "bigger-penalty",
   "metadata": {},
   "outputs": [
    {
     "name": "stdout",
     "output_type": "stream",
     "text": [
      "everything bought great infact ordered twice third ordered wasfor mother father\n",
      "great way to start the day\n"
     ]
    }
   ],
   "source": [
    "temp_text = 'Everything I bought was great, infact I ordered twice and the third ordered was<br />for my mother and father.'\n",
    "temp_headlines = 'Great way to start (or finish) the day!!!'\n",
    "\n",
    "print(preprocess_sentence(temp_text))\n",
    "print(preprocess_sentence(temp_headlines, False))  # 불용어를 제거하지 않습니다."
   ]
  },
  {
   "cell_type": "markdown",
   "id": "furnished-constraint",
   "metadata": {},
   "source": [
    "이때, text의 경우에는 불용어를 제거하고, headlines의 경우에는 불용어를 제거하지 않을 것이므로 따로 호출해서 진행합니다. 먼저 text를 전처리하고, 결과를 확인하기 위해서 상위 5개의 줄을 출력합니다. <br>\n",
    "**한번 수행한 후에 그 값들을 csv로 저장해둡니다.**"
   ]
  },
  {
   "cell_type": "code",
   "execution_count": 128,
   "id": "developing-orlando",
   "metadata": {},
   "outputs": [
    {
     "name": "stderr",
     "output_type": "stream",
     "text": [
      "100%|██████████| 98360/98360 [08:24<00:00, 195.08it/s]\n",
      "100%|██████████| 98360/98360 [00:17<00:00, 5590.07it/s]\n"
     ]
    }
   ],
   "source": [
    "# clean_text = []\n",
    "\n",
    "# # 전체 text 데이터에 대한 전처리 : 10분 이상 시간이 걸릴 수 있습니다. \n",
    "# for s in tqdm(data['text']):\n",
    "#     clean_text.append(preprocess_sentence(s))\n",
    "\n",
    "# clean_headlines = []\n",
    "\n",
    "# # 전체 headlines 데이터에 대한 전처리 : 5분 이상 시간이 걸릴 수 있습니다. \n",
    "# for s in tqdm(data['headlines']):\n",
    "#     clean_headlines.append(preprocess_sentence(s, False))"
   ]
  },
  {
   "cell_type": "code",
   "execution_count": 129,
   "id": "removed-helping",
   "metadata": {},
   "outputs": [
    {
     "data": {
      "text/plain": [
       "['upgrad learner switches to career in ml al with salary hike',\n",
       " 'delhi techie wins free food from swiggy for one year on cred',\n",
       " 'new zealand end rohit sharma led india match winning streak',\n",
       " 'aegon life iterm insurance plan helps customers save tax',\n",
       " 'have known hirani for yrs what if metoo claims are not true sonam']"
      ]
     },
     "execution_count": 129,
     "metadata": {},
     "output_type": "execute_result"
    }
   ],
   "source": [
    "# # 전처리 후 출력\n",
    "# clean_text[:5]\n",
    "# clean_headlines[:5]"
   ]
  },
  {
   "cell_type": "code",
   "execution_count": 130,
   "id": "conservative-greek",
   "metadata": {},
   "outputs": [],
   "source": [
    "# data['text'] = clean_text\n",
    "# data['headlines'] = clean_headlines\n",
    "\n",
    "# # 빈 값을 Null 값으로 변환\n",
    "# data.replace('', np.nan, inplace=True)"
   ]
  },
  {
   "cell_type": "code",
   "execution_count": 131,
   "id": "according-front",
   "metadata": {},
   "outputs": [],
   "source": [
    "project_path = os.getenv(\"HOME\")+\"/aiffel/news_summarization/\""
   ]
  },
  {
   "cell_type": "code",
   "execution_count": 132,
   "id": "specific-logic",
   "metadata": {},
   "outputs": [],
   "source": [
    "data['text'].to_csv(project_path + 'clean_text.csv')\n",
    "data['headlines'].to_csv(project_path + 'clean_headlines.csv')"
   ]
  },
  {
   "cell_type": "markdown",
   "id": "raised-chambers",
   "metadata": {},
   "source": [
    "저장해둔 clean_text와 clean_headlines를 불러옵니다. "
   ]
  },
  {
   "cell_type": "code",
   "execution_count": 133,
   "id": "focal-terminal",
   "metadata": {},
   "outputs": [
    {
     "data": {
      "text/html": [
       "<div>\n",
       "<style scoped>\n",
       "    .dataframe tbody tr th:only-of-type {\n",
       "        vertical-align: middle;\n",
       "    }\n",
       "\n",
       "    .dataframe tbody tr th {\n",
       "        vertical-align: top;\n",
       "    }\n",
       "\n",
       "    .dataframe thead th {\n",
       "        text-align: right;\n",
       "    }\n",
       "</style>\n",
       "<table border=\"1\" class=\"dataframe\">\n",
       "  <thead>\n",
       "    <tr style=\"text-align: right;\">\n",
       "      <th></th>\n",
       "      <th>Unnamed: 0</th>\n",
       "      <th>text</th>\n",
       "    </tr>\n",
       "  </thead>\n",
       "  <tbody>\n",
       "    <tr>\n",
       "      <th>0</th>\n",
       "      <td>0</td>\n",
       "      <td>saurav kant alumnus upgrad iiit pg program mac...</td>\n",
       "    </tr>\n",
       "    <tr>\n",
       "      <th>1</th>\n",
       "      <td>1</td>\n",
       "      <td>kunal shah credit card bill payment platform c...</td>\n",
       "    </tr>\n",
       "    <tr>\n",
       "      <th>2</th>\n",
       "      <td>2</td>\n",
       "      <td>new zealand defeated india wickets fourth odi ...</td>\n",
       "    </tr>\n",
       "    <tr>\n",
       "      <th>3</th>\n",
       "      <td>3</td>\n",
       "      <td>aegon life iterm insurance plan customers enjo...</td>\n",
       "    </tr>\n",
       "    <tr>\n",
       "      <th>4</th>\n",
       "      <td>4</td>\n",
       "      <td>speaking sexual harassment allegations rajkuma...</td>\n",
       "    </tr>\n",
       "  </tbody>\n",
       "</table>\n",
       "</div>"
      ],
      "text/plain": [
       "   Unnamed: 0                                               text\n",
       "0           0  saurav kant alumnus upgrad iiit pg program mac...\n",
       "1           1  kunal shah credit card bill payment platform c...\n",
       "2           2  new zealand defeated india wickets fourth odi ...\n",
       "3           3  aegon life iterm insurance plan customers enjo...\n",
       "4           4  speaking sexual harassment allegations rajkuma..."
      ]
     },
     "execution_count": 133,
     "metadata": {},
     "output_type": "execute_result"
    }
   ],
   "source": [
    "tmp = pd.read_csv(project_path + 'clean_text.csv', encoding='iso-8859-1')\n",
    "tmp.head()"
   ]
  },
  {
   "cell_type": "code",
   "execution_count": 134,
   "id": "alpha-wildlife",
   "metadata": {},
   "outputs": [
    {
     "data": {
      "text/plain": [
       "0    saurav kant alumnus upgrad iiit pg program mac...\n",
       "1    kunal shah credit card bill payment platform c...\n",
       "2    new zealand defeated india wickets fourth odi ...\n",
       "3    aegon life iterm insurance plan customers enjo...\n",
       "4    speaking sexual harassment allegations rajkuma...\n",
       "Name: text, dtype: object"
      ]
     },
     "execution_count": 134,
     "metadata": {},
     "output_type": "execute_result"
    }
   ],
   "source": [
    "data['text'] = tmp['text']\n",
    "data['text'].head()"
   ]
  },
  {
   "cell_type": "code",
   "execution_count": 135,
   "id": "french-sending",
   "metadata": {},
   "outputs": [
    {
     "data": {
      "text/html": [
       "<div>\n",
       "<style scoped>\n",
       "    .dataframe tbody tr th:only-of-type {\n",
       "        vertical-align: middle;\n",
       "    }\n",
       "\n",
       "    .dataframe tbody tr th {\n",
       "        vertical-align: top;\n",
       "    }\n",
       "\n",
       "    .dataframe thead th {\n",
       "        text-align: right;\n",
       "    }\n",
       "</style>\n",
       "<table border=\"1\" class=\"dataframe\">\n",
       "  <thead>\n",
       "    <tr style=\"text-align: right;\">\n",
       "      <th></th>\n",
       "      <th>Unnamed: 0</th>\n",
       "      <th>headlines</th>\n",
       "    </tr>\n",
       "  </thead>\n",
       "  <tbody>\n",
       "    <tr>\n",
       "      <th>0</th>\n",
       "      <td>0</td>\n",
       "      <td>upgrad learner switches to career in ml al wit...</td>\n",
       "    </tr>\n",
       "    <tr>\n",
       "      <th>1</th>\n",
       "      <td>1</td>\n",
       "      <td>delhi techie wins free food from swiggy for on...</td>\n",
       "    </tr>\n",
       "    <tr>\n",
       "      <th>2</th>\n",
       "      <td>2</td>\n",
       "      <td>new zealand end rohit sharma led india match w...</td>\n",
       "    </tr>\n",
       "    <tr>\n",
       "      <th>3</th>\n",
       "      <td>3</td>\n",
       "      <td>aegon life iterm insurance plan helps customer...</td>\n",
       "    </tr>\n",
       "    <tr>\n",
       "      <th>4</th>\n",
       "      <td>4</td>\n",
       "      <td>have known hirani for yrs what if metoo claims...</td>\n",
       "    </tr>\n",
       "  </tbody>\n",
       "</table>\n",
       "</div>"
      ],
      "text/plain": [
       "   Unnamed: 0                                          headlines\n",
       "0           0  upgrad learner switches to career in ml al wit...\n",
       "1           1  delhi techie wins free food from swiggy for on...\n",
       "2           2  new zealand end rohit sharma led india match w...\n",
       "3           3  aegon life iterm insurance plan helps customer...\n",
       "4           4  have known hirani for yrs what if metoo claims..."
      ]
     },
     "execution_count": 135,
     "metadata": {},
     "output_type": "execute_result"
    }
   ],
   "source": [
    "tmp = pd.read_csv(project_path + 'clean_headlines.csv', encoding='iso-8859-1')\n",
    "tmp.head()"
   ]
  },
  {
   "cell_type": "code",
   "execution_count": 136,
   "id": "welcome-gothic",
   "metadata": {},
   "outputs": [
    {
     "data": {
      "text/plain": [
       "0    upgrad learner switches to career in ml al wit...\n",
       "1    delhi techie wins free food from swiggy for on...\n",
       "2    new zealand end rohit sharma led india match w...\n",
       "3    aegon life iterm insurance plan helps customer...\n",
       "4    have known hirani for yrs what if metoo claims...\n",
       "Name: headlines, dtype: object"
      ]
     },
     "execution_count": 136,
     "metadata": {},
     "output_type": "execute_result"
    }
   ],
   "source": [
    "data['headlines'] = tmp['headlines']\n",
    "data['headlines'].head()"
   ]
  },
  {
   "cell_type": "code",
   "execution_count": 137,
   "id": "processed-nothing",
   "metadata": {},
   "outputs": [
    {
     "data": {
      "text/plain": [
       "headlines    41\n",
       "text         41\n",
       "dtype: int64"
      ]
     },
     "execution_count": 137,
     "metadata": {},
     "output_type": "execute_result"
    }
   ],
   "source": [
    "data.isnull().sum()"
   ]
  },
  {
   "cell_type": "code",
   "execution_count": 138,
   "id": "verified-asset",
   "metadata": {},
   "outputs": [
    {
     "name": "stdout",
     "output_type": "stream",
     "text": [
      "전체 샘플수 : 98319\n"
     ]
    }
   ],
   "source": [
    "data.dropna(axis=0, inplace=True)\n",
    "print('전체 샘플수 :',(len(data)))#데이터 전처리 함수"
   ]
  },
  {
   "cell_type": "markdown",
   "id": "stopped-boost",
   "metadata": {},
   "source": [
    "### 훈련데이터와 테스트데이터 나누기\n",
    "#### 샘플의 최대 길이 정하기"
   ]
  },
  {
   "cell_type": "code",
   "execution_count": 139,
   "id": "published-holly",
   "metadata": {},
   "outputs": [
    {
     "data": {
      "text/html": [
       "<div>\n",
       "<style scoped>\n",
       "    .dataframe tbody tr th:only-of-type {\n",
       "        vertical-align: middle;\n",
       "    }\n",
       "\n",
       "    .dataframe tbody tr th {\n",
       "        vertical-align: top;\n",
       "    }\n",
       "\n",
       "    .dataframe thead th {\n",
       "        text-align: right;\n",
       "    }\n",
       "</style>\n",
       "<table border=\"1\" class=\"dataframe\">\n",
       "  <thead>\n",
       "    <tr style=\"text-align: right;\">\n",
       "      <th></th>\n",
       "      <th>headlines</th>\n",
       "      <th>text</th>\n",
       "    </tr>\n",
       "  </thead>\n",
       "  <tbody>\n",
       "    <tr>\n",
       "      <th>0</th>\n",
       "      <td>upgrad learner switches to career in ml al wit...</td>\n",
       "      <td>saurav kant alumnus upgrad iiit pg program mac...</td>\n",
       "    </tr>\n",
       "    <tr>\n",
       "      <th>1</th>\n",
       "      <td>delhi techie wins free food from swiggy for on...</td>\n",
       "      <td>kunal shah credit card bill payment platform c...</td>\n",
       "    </tr>\n",
       "    <tr>\n",
       "      <th>2</th>\n",
       "      <td>new zealand end rohit sharma led india match w...</td>\n",
       "      <td>new zealand defeated india wickets fourth odi ...</td>\n",
       "    </tr>\n",
       "    <tr>\n",
       "      <th>3</th>\n",
       "      <td>aegon life iterm insurance plan helps customer...</td>\n",
       "      <td>aegon life iterm insurance plan customers enjo...</td>\n",
       "    </tr>\n",
       "    <tr>\n",
       "      <th>4</th>\n",
       "      <td>have known hirani for yrs what if metoo claims...</td>\n",
       "      <td>speaking sexual harassment allegations rajkuma...</td>\n",
       "    </tr>\n",
       "  </tbody>\n",
       "</table>\n",
       "</div>"
      ],
      "text/plain": [
       "                                           headlines  \\\n",
       "0  upgrad learner switches to career in ml al wit...   \n",
       "1  delhi techie wins free food from swiggy for on...   \n",
       "2  new zealand end rohit sharma led india match w...   \n",
       "3  aegon life iterm insurance plan helps customer...   \n",
       "4  have known hirani for yrs what if metoo claims...   \n",
       "\n",
       "                                                text  \n",
       "0  saurav kant alumnus upgrad iiit pg program mac...  \n",
       "1  kunal shah credit card bill payment platform c...  \n",
       "2  new zealand defeated india wickets fourth odi ...  \n",
       "3  aegon life iterm insurance plan customers enjo...  \n",
       "4  speaking sexual harassment allegations rajkuma...  "
      ]
     },
     "execution_count": 139,
     "metadata": {},
     "output_type": "execute_result"
    }
   ],
   "source": [
    "data.head()"
   ]
  },
  {
   "cell_type": "code",
   "execution_count": 140,
   "id": "upset-aerospace",
   "metadata": {},
   "outputs": [
    {
     "name": "stdout",
     "output_type": "stream",
     "text": [
      "텍스트의 최소 길이 : 1\n",
      "텍스트의 최대 길이 : 60\n",
      "텍스트의 평균 길이 : 35.0997670846937\n",
      "요약의 최소 길이 : 1\n",
      "요약의 최대 길이 : 16\n",
      "요약의 평균 길이 : 9.29977928986259\n"
     ]
    },
    {
     "data": {
      "image/png": "[encoded data removed]",
      "text/plain": [
       "<Figure size 432x288 with 2 Axes>"
      ]
     },
     "metadata": {
      "needs_background": "light"
     },
     "output_type": "display_data"
    },
    {
     "data": {
      "image/png": "[encoded data removed]",
      "text/plain": [
       "<Figure size 432x288 with 1 Axes>"
      ]
     },
     "metadata": {
      "needs_background": "light"
     },
     "output_type": "display_data"
    },
    {
     "data": {
      "image/png": "[encoded data removed]",
      "text/plain": [
       "<Figure size 432x288 with 1 Axes>"
      ]
     },
     "metadata": {
      "needs_background": "light"
     },
     "output_type": "display_data"
    }
   ],
   "source": [
    "text_len = [len(s.split()) for s in data['text']]\n",
    "headlines_len = [len(s.split()) for s in data['headlines']]\n",
    "\n",
    "print('텍스트의 최소 길이 : {}'.format(np.min(text_len)))\n",
    "print('텍스트의 최대 길이 : {}'.format(np.max(text_len)))\n",
    "print('텍스트의 평균 길이 : {}'.format(np.mean(text_len)))\n",
    "print('요약의 최소 길이 : {}'.format(np.min(headlines_len)))\n",
    "print('요약의 최대 길이 : {}'.format(np.max(headlines_len)))\n",
    "print('요약의 평균 길이 : {}'.format(np.mean(headlines_len)))\n",
    "\n",
    "plt.subplot(1,2,1)\n",
    "plt.boxplot(headlines_len)\n",
    "plt.title('headlines')\n",
    "plt.subplot(1,2,2)\n",
    "plt.boxplot(text_len)\n",
    "plt.title('text')\n",
    "plt.tight_layout()\n",
    "plt.show()\n",
    "\n",
    "plt.title('headlines')\n",
    "plt.hist(headlines_len, bins = 40)\n",
    "plt.xlabel('length of samples')\n",
    "plt.ylabel('number of samples')\n",
    "plt.show()\n",
    "\n",
    "plt.title('text')\n",
    "plt.hist(text_len, bins = 40)\n",
    "plt.xlabel('length of samples')\n",
    "plt.ylabel('number of samples')\n",
    "plt.show()"
   ]
  },
  {
   "cell_type": "markdown",
   "id": "incorporate-strength",
   "metadata": {},
   "source": [
    "위의 결과에서 요약의 최대길이는 16이나, 실제적으로 평균은 4로 12까지의 값들이 몰려서 분포하고 있음을 알 수 있습니다. <br>\n",
    "또한 text에서는 평균은 35로 60보다 작은 값들에 분포가 몰려있음을 알 수 있었습니다. 따라서, 위의 분포를 확인했을때 임의적으로 각각의 max_len을 요약 특성과, 분포 특성을 기반으로 하여 35과 13으로 맞추겠습니다. 35길이를 가지는 문장을 받고, 13길이를 가지는 요약문으로 끊어낸다고 판단하겠습니다. "
   ]
  },
  {
   "cell_type": "code",
   "execution_count": 159,
   "id": "killing-saver",
   "metadata": {},
   "outputs": [],
   "source": [
    "text_max_len = 37\n",
    "headlines_max_len = 13"
   ]
  },
  {
   "cell_type": "code",
   "execution_count": 160,
   "id": "surprised-glory",
   "metadata": {},
   "outputs": [],
   "source": [
    "def below_threshold_len(max_len, nested_list):\n",
    "    cnt = 0\n",
    "    for s in nested_list:\n",
    "        if(len(s.split()) <= max_len):\n",
    "            cnt = cnt + 1\n",
    "    print('전체 샘플 중 길이가 %s 이하인 샘플의 비율: %s'%(max_len, (cnt / len(nested_list))))"
   ]
  },
  {
   "cell_type": "code",
   "execution_count": 161,
   "id": "champion-python",
   "metadata": {},
   "outputs": [
    {
     "name": "stdout",
     "output_type": "stream",
     "text": [
      "전체 샘플 중 길이가 37 이하인 샘플의 비율: 0.7986216614923927\n",
      "전체 샘플 중 길이가 13 이하인 샘플의 비율: 0.9981064359160666\n"
     ]
    }
   ],
   "source": [
    "below_threshold_len(text_max_len, data['text'])\n",
    "below_threshold_len(headlines_max_len,  data['headlines'])"
   ]
  },
  {
   "cell_type": "code",
   "execution_count": 162,
   "id": "junior-liechtenstein",
   "metadata": {},
   "outputs": [
    {
     "name": "stdout",
     "output_type": "stream",
     "text": [
      "전체 샘플수 : 72392\n"
     ]
    }
   ],
   "source": [
    "data = data[data['text'].apply(lambda x: len(x.split()) <= text_max_len)]\n",
    "data = data[data['headlines'].apply(lambda x: len(x.split()) <= headlines_max_len)]\n",
    "print('전체 샘플수 :',(len(data)))"
   ]
  },
  {
   "cell_type": "markdown",
   "id": "satisfactory-spencer",
   "metadata": {},
   "source": [
    "(시도 사항) 본문이 원래 짧으면 상관없지만, 요약문이 너무 짧은 경우엔 정확도에 부정적인 영향을 미칠 수 있으므로 삭제하겠습니다. <br>\n",
    "(결과) 너무 많은 데이터가 날라갔습니다. 5만개에서 약 1만개정도 데이터가 남아서 해당 사항을 적용해주지 않았습니다. "
   ]
  },
  {
   "cell_type": "code",
   "execution_count": 163,
   "id": "trying-rover",
   "metadata": {},
   "outputs": [],
   "source": [
    "# data = data[data['headlines'].apply(lambda x: len(x.split()) >= 2)]\n",
    "# print('전체 샘플수 :',(len(data)))"
   ]
  },
  {
   "cell_type": "markdown",
   "id": "occupied-subsection",
   "metadata": {},
   "source": [
    "#### 시작 토큰과 종료 토큰 추가하기"
   ]
  },
  {
   "cell_type": "code",
   "execution_count": 164,
   "id": "certain-comparison",
   "metadata": {},
   "outputs": [
    {
     "data": {
      "text/html": [
       "<div>\n",
       "<style scoped>\n",
       "    .dataframe tbody tr th:only-of-type {\n",
       "        vertical-align: middle;\n",
       "    }\n",
       "\n",
       "    .dataframe tbody tr th {\n",
       "        vertical-align: top;\n",
       "    }\n",
       "\n",
       "    .dataframe thead th {\n",
       "        text-align: right;\n",
       "    }\n",
       "</style>\n",
       "<table border=\"1\" class=\"dataframe\">\n",
       "  <thead>\n",
       "    <tr style=\"text-align: right;\">\n",
       "      <th></th>\n",
       "      <th>headlines</th>\n",
       "      <th>text</th>\n",
       "      <th>decoder_input</th>\n",
       "      <th>decoder_target</th>\n",
       "    </tr>\n",
       "  </thead>\n",
       "  <tbody>\n",
       "    <tr>\n",
       "      <th>3</th>\n",
       "      <td>aegon life iterm insurance plan helps customer...</td>\n",
       "      <td>aegon life iterm insurance plan customers enjo...</td>\n",
       "      <td>sostoken aegon life iterm insurance plan helps...</td>\n",
       "      <td>aegon life iterm insurance plan helps customer...</td>\n",
       "    </tr>\n",
       "    <tr>\n",
       "      <th>4</th>\n",
       "      <td>have known hirani for yrs what if metoo claims...</td>\n",
       "      <td>speaking sexual harassment allegations rajkuma...</td>\n",
       "      <td>sostoken have known hirani for yrs what if met...</td>\n",
       "      <td>have known hirani for yrs what if metoo claims...</td>\n",
       "    </tr>\n",
       "    <tr>\n",
       "      <th>5</th>\n",
       "      <td>rahat fateh ali khan denies getting notice for...</td>\n",
       "      <td>pakistani singer rahat fateh ali khan denied r...</td>\n",
       "      <td>sostoken rahat fateh ali khan denies getting n...</td>\n",
       "      <td>rahat fateh ali khan denies getting notice for...</td>\n",
       "    </tr>\n",
       "    <tr>\n",
       "      <th>6</th>\n",
       "      <td>india get all out for their lowest odi total i...</td>\n",
       "      <td>india recorded lowest odi total new zealand ge...</td>\n",
       "      <td>sostoken india get all out for their lowest od...</td>\n",
       "      <td>india get all out for their lowest odi total i...</td>\n",
       "    </tr>\n",
       "    <tr>\n",
       "      <th>7</th>\n",
       "      <td>govt directs alok verma to join work day befor...</td>\n",
       "      <td>weeks ex cbi director alok verma told departme...</td>\n",
       "      <td>sostoken govt directs alok verma to join work ...</td>\n",
       "      <td>govt directs alok verma to join work day befor...</td>\n",
       "    </tr>\n",
       "  </tbody>\n",
       "</table>\n",
       "</div>"
      ],
      "text/plain": [
       "                                           headlines  \\\n",
       "3  aegon life iterm insurance plan helps customer...   \n",
       "4  have known hirani for yrs what if metoo claims...   \n",
       "5  rahat fateh ali khan denies getting notice for...   \n",
       "6  india get all out for their lowest odi total i...   \n",
       "7  govt directs alok verma to join work day befor...   \n",
       "\n",
       "                                                text  \\\n",
       "3  aegon life iterm insurance plan customers enjo...   \n",
       "4  speaking sexual harassment allegations rajkuma...   \n",
       "5  pakistani singer rahat fateh ali khan denied r...   \n",
       "6  india recorded lowest odi total new zealand ge...   \n",
       "7  weeks ex cbi director alok verma told departme...   \n",
       "\n",
       "                                       decoder_input  \\\n",
       "3  sostoken aegon life iterm insurance plan helps...   \n",
       "4  sostoken have known hirani for yrs what if met...   \n",
       "5  sostoken rahat fateh ali khan denies getting n...   \n",
       "6  sostoken india get all out for their lowest od...   \n",
       "7  sostoken govt directs alok verma to join work ...   \n",
       "\n",
       "                                      decoder_target  \n",
       "3  aegon life iterm insurance plan helps customer...  \n",
       "4  have known hirani for yrs what if metoo claims...  \n",
       "5  rahat fateh ali khan denies getting notice for...  \n",
       "6  india get all out for their lowest odi total i...  \n",
       "7  govt directs alok verma to join work day befor...  "
      ]
     },
     "execution_count": 164,
     "metadata": {},
     "output_type": "execute_result"
    }
   ],
   "source": [
    "#요약 데이터에는 시작 토큰과 종료 토큰을 추가한다.\n",
    "data['decoder_input'] = data['headlines'].apply(lambda x : 'sostoken '+ x)\n",
    "data['decoder_target'] = data['headlines'].apply(lambda x : x + ' eostoken')\n",
    "data.head()"
   ]
  },
  {
   "cell_type": "code",
   "execution_count": 165,
   "id": "charged-brief",
   "metadata": {},
   "outputs": [],
   "source": [
    "encoder_input = np.array(data['text']) # 인코더의 입력\n",
    "decoder_input = np.array(data['decoder_input']) # 디코더의 입력\n",
    "decoder_target = np.array(data['decoder_target']) # 디코더의 레이블"
   ]
  },
  {
   "cell_type": "code",
   "execution_count": 166,
   "id": "hazardous-personal",
   "metadata": {},
   "outputs": [
    {
     "name": "stdout",
     "output_type": "stream",
     "text": [
      "[23345 37042 17801 ... 66450 52281 40970]\n"
     ]
    }
   ],
   "source": [
    "indices = np.arange(encoder_input.shape[0])\n",
    "np.random.shuffle(indices)\n",
    "print(indices)"
   ]
  },
  {
   "cell_type": "code",
   "execution_count": 167,
   "id": "initial-arcade",
   "metadata": {},
   "outputs": [],
   "source": [
    "encoder_input = encoder_input[indices]\n",
    "decoder_input = decoder_input[indices]\n",
    "decoder_target = decoder_target[indices]"
   ]
  },
  {
   "cell_type": "code",
   "execution_count": 168,
   "id": "conventional-trout",
   "metadata": {},
   "outputs": [
    {
     "name": "stdout",
     "output_type": "stream",
     "text": [
      "테스트 데이터의 수 : 7239\n"
     ]
    }
   ],
   "source": [
    "n_of_val = int(len(encoder_input)*0.1)\n",
    "print('테스트 데이터의 수 :',n_of_val)"
   ]
  },
  {
   "cell_type": "code",
   "execution_count": 169,
   "id": "responsible-rogers",
   "metadata": {},
   "outputs": [
    {
     "name": "stdout",
     "output_type": "stream",
     "text": [
      "훈련 데이터의 개수 : 65153\n",
      "훈련 레이블의 개수 : 65153\n",
      "테스트 데이터의 개수 : 7239\n",
      "테스트 레이블의 개수 : 7239\n"
     ]
    }
   ],
   "source": [
    "encoder_input_train = encoder_input[:-n_of_val]\n",
    "decoder_input_train = decoder_input[:-n_of_val]\n",
    "decoder_target_train = decoder_target[:-n_of_val]\n",
    "\n",
    "encoder_input_test = encoder_input[-n_of_val:]\n",
    "decoder_input_test = decoder_input[-n_of_val:]\n",
    "decoder_target_test = decoder_target[-n_of_val:]\n",
    "\n",
    "print('훈련 데이터의 개수 :', len(encoder_input_train))\n",
    "print('훈련 레이블의 개수 :',len(decoder_input_train))\n",
    "print('테스트 데이터의 개수 :',len(encoder_input_test))\n",
    "print('테스트 레이블의 개수 :',len(decoder_input_test))"
   ]
  },
  {
   "cell_type": "markdown",
   "id": "boolean-linux",
   "metadata": {},
   "source": [
    "#### 단어 집합(vocaburary) 만들기 및 정수 인코딩\n",
    "이제 단어 집합이 생성되는 동시에 각 단어에 고유한 정수가 부여되었어요. 현재 생성된 단어 집합은 src_tokenizer.word_index에 저장되어있어요. "
   ]
  },
  {
   "cell_type": "code",
   "execution_count": 170,
   "id": "instant-number",
   "metadata": {},
   "outputs": [],
   "source": [
    "src_tokenizer = Tokenizer() # 토크나이저 정의\n",
    "src_tokenizer.fit_on_texts(encoder_input_train) # 입력된 데이터로부터 단어 집합 생성"
   ]
  },
  {
   "cell_type": "markdown",
   "id": "pacific-child",
   "metadata": {},
   "source": [
    "등장 빈도수가 8회 미만인 단어들이 이 데이터에서 얼만큼의 비중을 차지하는지 확인해볼게요. src_tokenizer.word_counts.items()에는 단어와 각 단어의 등장 빈도수가 저장되어져 있는데, 이를 통해서 통계적인 정보를 얻을 수 있어요."
   ]
  },
  {
   "cell_type": "code",
   "execution_count": 175,
   "id": "standing-reggae",
   "metadata": {},
   "outputs": [
    {
     "name": "stdout",
     "output_type": "stream",
     "text": [
      "단어 집합(vocabulary)의 크기 : 60993\n",
      "등장 빈도가 7번 이하인 희귀 단어의 수: 42927\n",
      "단어 집합에서 희귀 단어를 제외시킬 경우의 단어 집합의 크기 18066\n",
      "단어 집합에서 희귀 단어의 비율: 70.38020756480252\n",
      "전체 등장 빈도에서 희귀 단어 등장 빈도 비율: 4.320420965036076\n"
     ]
    }
   ],
   "source": [
    "threshold = 8\n",
    "total_cnt = len(src_tokenizer.word_index) # 단어의 수\n",
    "rare_cnt = 0 # 등장 빈도수가 threshold보다 작은 단어의 개수를 카운트\n",
    "total_freq = 0 # 훈련 데이터의 전체 단어 빈도수 총 합\n",
    "rare_freq = 0 # 등장 빈도수가 threshold보다 작은 단어의 등장 빈도수의 총 합\n",
    "\n",
    "# 단어와 빈도수의 쌍(pair)을 key와 value로 받는다.\n",
    "for key, value in src_tokenizer.word_counts.items():\n",
    "    total_freq = total_freq + value\n",
    "\n",
    "    # 단어의 등장 빈도수가 threshold보다 작으면\n",
    "    if(value < threshold):\n",
    "        rare_cnt = rare_cnt + 1\n",
    "        rare_freq = rare_freq + value\n",
    "\n",
    "print('단어 집합(vocabulary)의 크기 :',total_cnt)\n",
    "print('등장 빈도가 %s번 이하인 희귀 단어의 수: %s'%(threshold - 1, rare_cnt))\n",
    "print('단어 집합에서 희귀 단어를 제외시킬 경우의 단어 집합의 크기 %s'%(total_cnt - rare_cnt))\n",
    "print(\"단어 집합에서 희귀 단어의 비율:\", (rare_cnt / total_cnt)*100)\n",
    "print(\"전체 등장 빈도에서 희귀 단어 등장 빈도 비율:\", (rare_freq / total_freq)*100)"
   ]
  },
  {
   "cell_type": "markdown",
   "id": "color-tolerance",
   "metadata": {},
   "source": [
    "등장 빈도가 7회 이하인 단어들은 정수 인코딩 과정에서 빼고, 훈련 데이터에서 제거하고자 합니다. 위에서 이를 제외한 단어 집합의 크기를 18066으로 계산했는데, 이와 비슷한 값으로 어림잡아 단어 집합의 크기를 15000으로 제한합니다. 토크나이저를 정의할 때 num_words의 값을 정해주면, 단어 집합의 크기를 제한할 수 있습니다. "
   ]
  },
  {
   "cell_type": "code",
   "execution_count": 176,
   "id": "undefined-karen",
   "metadata": {},
   "outputs": [],
   "source": [
    "src_vocab = 15000 # 8000 to 15000\n",
    "src_tokenizer = Tokenizer(num_words = src_vocab) # 단어 집합의 크기를 8,000 to 15000으로 제한\n",
    "src_tokenizer.fit_on_texts(encoder_input_train) # 단어 집합 재생성."
   ]
  },
  {
   "cell_type": "markdown",
   "id": "serious-georgia",
   "metadata": {},
   "source": [
    "texts_to_sequences()는 생성된 단어 집합에 기반하여 입력으로 주어진 텍스트 데이터의 단어들을 모두 정수로 변환하는 정수 인코딩을 수행합니다. 현재 단어 집합의 크기를 11,000으로 제한했으니까 이제 11,000이 넘는 숫자들은 정수 인코딩 후에는 데이터에 존재하지 않게 됩니다."
   ]
  },
  {
   "cell_type": "code",
   "execution_count": 177,
   "id": "recovered-tribe",
   "metadata": {},
   "outputs": [
    {
     "name": "stdout",
     "output_type": "stream",
     "text": [
      "[[32, 477, 117, 11493, 6173, 7310, 64, 6854, 386, 3140, 4, 660, 278, 24, 11493, 2, 316, 386, 2094, 111, 363, 50, 955, 133, 85, 1347, 11493, 166, 671, 1148, 759, 1825], [158, 16, 70, 203, 295, 182, 4876, 3579, 574, 1501, 6639, 423, 339, 31, 177, 2456, 16, 662, 1003, 566, 2699, 323, 9, 295, 3579, 4114, 423, 30, 3, 16, 55, 295, 1774, 423], [928, 787, 705, 1136, 3115, 9429, 9430, 8282, 3098, 187, 13312, 206, 214, 5042, 3541, 8283, 9430, 3080, 7438, 370, 1656, 2372, 6965, 7809, 12787, 3950, 13858, 8283, 5707, 3098]]\n"
     ]
    }
   ],
   "source": [
    "# 텍스트 시퀀스를 정수 시퀀스로 변환\n",
    "encoder_input_train = src_tokenizer.texts_to_sequences(encoder_input_train) \n",
    "encoder_input_test = src_tokenizer.texts_to_sequences(encoder_input_test)\n",
    "\n",
    "#잘 진행되었는지 샘플 출력\n",
    "print(encoder_input_train[:3])"
   ]
  },
  {
   "cell_type": "markdown",
   "id": "solid-underwear",
   "metadata": {},
   "source": [
    "headlines 데이터에 대해서도 동일한 작업을 수행합니다.. 케라스의 토크나이저를 사용하여 decoder_input_train을 입력으로 전체 단어 집합과 각 단어에 대한 빈도수를 계산합니다."
   ]
  },
  {
   "cell_type": "code",
   "execution_count": 178,
   "id": "hawaiian-rapid",
   "metadata": {},
   "outputs": [],
   "source": [
    "tar_tokenizer = Tokenizer()\n",
    "tar_tokenizer.fit_on_texts(decoder_input_train)"
   ]
  },
  {
   "cell_type": "markdown",
   "id": "varied-needle",
   "metadata": {},
   "source": [
    "tar_tokenizer.word_counts.items()에는 단어와 각 단어의 등장 빈도수가 저장되어져 있는데, 이를 통해서 통계적인 정보를 얻어서, 등장 빈도수가 6회 미만인 단어들이 이 데이터에서 얼만큼의 비중을 차지하는지 확인합니다. "
   ]
  },
  {
   "cell_type": "code",
   "execution_count": 180,
   "id": "trying-organizer",
   "metadata": {},
   "outputs": [
    {
     "name": "stdout",
     "output_type": "stream",
     "text": [
      "단어 집합(vocabulary)의 크기 : 27362\n",
      "등장 빈도가 4번 이하인 희귀 단어의 수: 16988\n",
      "단어 집합에서 희귀 단어를 제외시킬 경우의 단어 집합의 크기 10374\n",
      "단어 집합에서 희귀 단어의 비율: 62.08610481689934\n",
      "전체 등장 빈도에서 희귀 단어 등장 빈도 비율: 4.375959346079907\n"
     ]
    }
   ],
   "source": [
    "threshold = 5\n",
    "total_cnt = len(tar_tokenizer.word_index) # 단어의 수\n",
    "rare_cnt = 0 # 등장 빈도수가 threshold보다 작은 단어의 개수를 카운트\n",
    "total_freq = 0 # 훈련 데이터의 전체 단어 빈도수 총 합\n",
    "rare_freq = 0 # 등장 빈도수가 threshold보다 작은 단어의 등장 빈도수의 총 합\n",
    "\n",
    "# 단어와 빈도수의 쌍(pair)을 key와 value로 받는다.\n",
    "for key, value in tar_tokenizer.word_counts.items():\n",
    "    total_freq = total_freq + value\n",
    "\n",
    "    # 단어의 등장 빈도수가 threshold보다 작으면\n",
    "    if(value < threshold):\n",
    "        rare_cnt = rare_cnt + 1\n",
    "        rare_freq = rare_freq + value\n",
    "\n",
    "print('단어 집합(vocabulary)의 크기 :',total_cnt)\n",
    "print('등장 빈도가 %s번 이하인 희귀 단어의 수: %s'%(threshold - 1, rare_cnt))\n",
    "print('단어 집합에서 희귀 단어를 제외시킬 경우의 단어 집합의 크기 %s'%(total_cnt - rare_cnt))\n",
    "print(\"단어 집합에서 희귀 단어의 비율:\", (rare_cnt / total_cnt)*100)\n",
    "print(\"전체 등장 빈도에서 희귀 단어 등장 빈도 비율:\", (rare_freq / total_freq)*100)"
   ]
  },
  {
   "cell_type": "markdown",
   "id": "magnetic-lambda",
   "metadata": {},
   "source": [
    "등장 빈도가 4회 이하인 단어들은 단어 집합에서 약 62%를 차지하고있네요. 하지만, 실제로 훈련 데이터에서 등장 빈도로 차지하는 비중은 상대적으로 매우 적은 수치인 4.37%정도 입니다. 요약도 아까와 같이 희귀 단어를 제외한 단어 집합의 크기를 참고해서 단어집합의 크기를 지정합니다. "
   ]
  },
  {
   "cell_type": "code",
   "execution_count": 181,
   "id": "polyphonic-language",
   "metadata": {},
   "outputs": [
    {
     "name": "stdout",
     "output_type": "stream",
     "text": [
      "input\n",
      "input  [[1, 40, 5369, 141, 5668, 429, 289, 7836, 7837], [1, 4209, 302, 7, 7838, 970, 4, 246, 63, 3, 673], [1, 715, 4745, 7266, 3, 274, 1455, 103], [1, 99, 19, 3141, 5, 53, 155, 1435, 2602, 5129, 40, 1867, 724], [1, 49, 98, 187, 12, 170, 14, 56, 283, 660]]\n",
      "target\n",
      "decoder  [[40, 5369, 141, 5668, 429, 289, 7836, 7837, 2], [4209, 302, 7, 7838, 970, 4, 246, 63, 3, 673, 2], [715, 4745, 7266, 3, 274, 1455, 103, 2], [99, 19, 3141, 5, 53, 155, 1435, 2602, 5129, 40, 1867, 724, 2], [49, 98, 187, 12, 170, 14, 56, 283, 660, 2]]\n"
     ]
    }
   ],
   "source": [
    "tar_vocab = 8000\n",
    "tar_tokenizer = Tokenizer(num_words = tar_vocab) \n",
    "tar_tokenizer.fit_on_texts(decoder_input_train)\n",
    "tar_tokenizer.fit_on_texts(decoder_target_train)\n",
    "\n",
    "# 텍스트 시퀀스를 정수 시퀀스로 변환\n",
    "decoder_input_train = tar_tokenizer.texts_to_sequences(decoder_input_train) \n",
    "decoder_target_train = tar_tokenizer.texts_to_sequences(decoder_target_train)\n",
    "decoder_input_test = tar_tokenizer.texts_to_sequences(decoder_input_test)\n",
    "decoder_target_test = tar_tokenizer.texts_to_sequences(decoder_target_test)\n",
    "\n",
    "#잘 변환되었는지 확인\n",
    "print('input')\n",
    "print('input ',decoder_input_train[:5])\n",
    "print('target')\n",
    "print('decoder ',decoder_target_train[:5])"
   ]
  },
  {
   "cell_type": "markdown",
   "id": "baking-rachel",
   "metadata": {},
   "source": [
    "전체 데이터에서 빈도수가 낮은 단어가 삭제되었다는 것은 빈도수가 낮은 단어만으로 구성되었던 샘플들은 이제 빈(empty) 샘플이 되었을 가능성이 있습니다. 이 현상은 길이가 상대적으로 길었던 원문(text)의 경우에는 문제가 별로 없겠지만, 애초에 평균 길이가 4밖에 되지 않았던 요약문(headlines)의 경우에는 이 현상이 굉장히 두드러졌을 가능성이 큽니다.<br>\n",
    "여기서 주의할 점은 요약문인 decoder_input에는 sos token 또는 decoder_target에는 eos token이 추가된 상태이고, 이 두 토큰은 모든 샘플에서 등장하므로 빈도수가 샘플수와 동일하게 매우 높으므로 단어 집합 제한에도 삭제 되지 않습니다. 그래서 이제 길이가 0이 된 요약문의 실제길이는 1로 나올거에요. 길이 0이 된 decoder_input에는 sostoken, decoder_target에는 eostoken만 남아있을겁니다. <br>\n",
    "훈련 데이터와 테스트 데이터에 대해서 요약문의 길이가 1인 경우의 인덱스를 각각 drop_train과 drop_test에 라는 변수에 저장하고 모두 삭제하겠습니다."
   ]
  },
  {
   "cell_type": "code",
   "execution_count": 182,
   "id": "conceptual-amber",
   "metadata": {},
   "outputs": [
    {
     "name": "stdout",
     "output_type": "stream",
     "text": [
      "삭제할 훈련 데이터의 개수 : 1\n",
      "삭제할 테스트 데이터의 개수 : 0\n",
      "훈련 데이터의 개수 : 65152\n",
      "훈련 레이블의 개수 : 65152\n",
      "테스트 데이터의 개수 : 7239\n",
      "테스트 레이블의 개수 : 7239\n"
     ]
    }
   ],
   "source": [
    "drop_train = [index for index, sentence in enumerate(decoder_input_train) if len(sentence) == 1]\n",
    "drop_test = [index for index, sentence in enumerate(decoder_input_test) if len(sentence) == 1]\n",
    "\n",
    "print('삭제할 훈련 데이터의 개수 :',len(drop_train))\n",
    "print('삭제할 테스트 데이터의 개수 :',len(drop_test))\n",
    "\n",
    "encoder_input_train = np.delete(encoder_input_train, drop_train, axis=0)\n",
    "decoder_input_train = np.delete(decoder_input_train, drop_train, axis=0)\n",
    "decoder_target_train = np.delete(decoder_target_train, drop_train, axis=0)\n",
    "\n",
    "encoder_input_test = np.delete(encoder_input_test, drop_test, axis=0)\n",
    "decoder_input_test = np.delete(decoder_input_test, drop_test, axis=0)\n",
    "decoder_target_test = np.delete(decoder_target_test, drop_test, axis=0)\n",
    "\n",
    "print('훈련 데이터의 개수 :', len(encoder_input_train))\n",
    "print('훈련 레이블의 개수 :',len(decoder_input_train))\n",
    "print('테스트 데이터의 개수 :',len(encoder_input_test))\n",
    "print('테스트 레이블의 개수 :',len(decoder_input_test))"
   ]
  },
  {
   "cell_type": "markdown",
   "id": "selective-housing",
   "metadata": {},
   "source": [
    "#### 패딩하기\n",
    "최대 길이보다 짧은 데이터들은 뒤의 공간에 숫자 0을 넣어 최대 길이로 길이를 맞춰줄게요."
   ]
  },
  {
   "cell_type": "code",
   "execution_count": 183,
   "id": "generic-ability",
   "metadata": {},
   "outputs": [],
   "source": [
    "encoder_input_train = pad_sequences(encoder_input_train, maxlen = text_max_len, padding='post')\n",
    "encoder_input_test = pad_sequences(encoder_input_test, maxlen = text_max_len, padding='post')\n",
    "decoder_input_train = pad_sequences(decoder_input_train, maxlen = headlines_max_len, padding='post')\n",
    "decoder_target_train = pad_sequences(decoder_target_train, maxlen = headlines_max_len, padding='post')\n",
    "decoder_input_test = pad_sequences(decoder_input_test, maxlen = headlines_max_len, padding='post')\n",
    "decoder_target_test = pad_sequences(decoder_target_test, maxlen = headlines_max_len, padding='post')"
   ]
  },
  {
   "cell_type": "markdown",
   "id": "humanitarian-fisher",
   "metadata": {},
   "source": [
    "## 모델 설계하기"
   ]
  },
  {
   "cell_type": "code",
   "execution_count": 184,
   "id": "internal-collect",
   "metadata": {},
   "outputs": [
    {
     "name": "stdout",
     "output_type": "stream",
     "text": [
      "WARNING:tensorflow:Layer lstm_11 will not use cuDNN kernel since it doesn't meet the cuDNN kernel criteria. It will use generic GPU kernel as fallback when running on GPU\n",
      "WARNING:tensorflow:Layer lstm_12 will not use cuDNN kernel since it doesn't meet the cuDNN kernel criteria. It will use generic GPU kernel as fallback when running on GPU\n",
      "WARNING:tensorflow:Layer lstm_13 will not use cuDNN kernel since it doesn't meet the cuDNN kernel criteria. It will use generic GPU kernel as fallback when running on GPU\n"
     ]
    }
   ],
   "source": [
    "# 인코더 설계 시작\n",
    "embedding_dim = 128 # 128 to 64\n",
    "hidden_size = 256\n",
    "\n",
    "# 인코더\n",
    "encoder_inputs = Input(shape=(text_max_len,))\n",
    "\n",
    "# 인코더의 임베딩 층\n",
    "enc_emb = Embedding(src_vocab, embedding_dim)(encoder_inputs)\n",
    "\n",
    "# 인코더의 LSTM 1\n",
    "encoder_lstm1 = LSTM(hidden_size, return_sequences=True, return_state=True ,dropout = 0.4, recurrent_dropout = 0.4)\n",
    "encoder_output1, state_h1, state_c1 = encoder_lstm1(enc_emb)\n",
    "\n",
    "# 인코더의 LSTM 2\n",
    "encoder_lstm2 = LSTM(hidden_size, return_sequences=True, return_state=True, dropout=0.4, recurrent_dropout=0.4)\n",
    "encoder_output2, state_h2, state_c2 = encoder_lstm2(encoder_output1)\n",
    "\n",
    "# 인코더의 LSTM 3\n",
    "encoder_lstm3 = LSTM(hidden_size, return_state=True, return_sequences=True, dropout=0.4, recurrent_dropout=0.4)\n",
    "encoder_outputs, state_h, state_c= encoder_lstm3(encoder_output2)"
   ]
  },
  {
   "cell_type": "markdown",
   "id": "round-switzerland",
   "metadata": {},
   "source": [
    "인코더의 LSTM은 총 3개의 층으로 구성해서 모델의 복잡도를 높였어요. hidden state의 크기를 늘리는 것이 LSTM 층 1개의 용량을 늘린다면, 3개의 층을 사용하는 것은 모델의 용량을 늘린다고 볼 수 있죠. 3개의 층을 지나서 인코더로부터 나온 출력 벡터는 디코더로 보내줘야겠죠? 디코더를 설계해볼게요!"
   ]
  },
  {
   "cell_type": "code",
   "execution_count": 185,
   "id": "south-declaration",
   "metadata": {},
   "outputs": [
    {
     "name": "stdout",
     "output_type": "stream",
     "text": [
      "WARNING:tensorflow:Layer lstm_14 will not use cuDNN kernel since it doesn't meet the cuDNN kernel criteria. It will use generic GPU kernel as fallback when running on GPU\n"
     ]
    }
   ],
   "source": [
    "# 디코더 설계\n",
    "decoder_inputs = Input(shape=(None,))\n",
    "\n",
    "# 디코더의 임베딩 층\n",
    "dec_emb_layer = Embedding(tar_vocab, embedding_dim)\n",
    "dec_emb = dec_emb_layer(decoder_inputs)\n",
    "\n",
    "# 디코더의 LSTM\n",
    "decoder_lstm = LSTM(hidden_size, return_sequences = True, return_state = True, dropout = 0.4, recurrent_dropout=0.2)\n",
    "decoder_outputs, _, _ = decoder_lstm(dec_emb, initial_state = [state_h, state_c])"
   ]
  },
  {
   "cell_type": "markdown",
   "id": "accepting-crystal",
   "metadata": {},
   "source": [
    "디코더의 임베딩 층과 LSTM을 설계하는 것은 인코더와 거의 동일해요. 하지만 LSTM의 입력을 정의할 때, initial_state의 인자값으로 인코더의 hidden state와 cell state의 값을 넣어줘야 해요. 디코더의 출력층을 설계해볼게요."
   ]
  },
  {
   "cell_type": "code",
   "execution_count": 187,
   "id": "developed-mouth",
   "metadata": {},
   "outputs": [
    {
     "name": "stdout",
     "output_type": "stream",
     "text": [
      "Model: \"model_6\"\n",
      "__________________________________________________________________________________________________\n",
      "Layer (type)                    Output Shape         Param #     Connected to                     \n",
      "==================================================================================================\n",
      "input_9 (InputLayer)            [(None, 37)]         0                                            \n",
      "__________________________________________________________________________________________________\n",
      "embedding_5 (Embedding)         (None, 37, 128)      1920000     input_9[0][0]                    \n",
      "__________________________________________________________________________________________________\n",
      "lstm_11 (LSTM)                  [(None, 37, 256), (N 394240      embedding_5[0][0]                \n",
      "__________________________________________________________________________________________________\n",
      "input_10 (InputLayer)           [(None, None)]       0                                            \n",
      "__________________________________________________________________________________________________\n",
      "lstm_12 (LSTM)                  [(None, 37, 256), (N 525312      lstm_11[0][0]                    \n",
      "__________________________________________________________________________________________________\n",
      "embedding_6 (Embedding)         (None, None, 128)    1024000     input_10[0][0]                   \n",
      "__________________________________________________________________________________________________\n",
      "lstm_13 (LSTM)                  [(None, 37, 256), (N 525312      lstm_12[0][0]                    \n",
      "__________________________________________________________________________________________________\n",
      "lstm_14 (LSTM)                  [(None, None, 256),  394240      embedding_6[0][0]                \n",
      "                                                                 lstm_13[0][1]                    \n",
      "                                                                 lstm_13[0][2]                    \n",
      "__________________________________________________________________________________________________\n",
      "dense_4 (Dense)                 (None, None, 8000)   2056000     lstm_14[0][0]                    \n",
      "==================================================================================================\n",
      "Total params: 6,839,104\n",
      "Trainable params: 6,839,104\n",
      "Non-trainable params: 0\n",
      "__________________________________________________________________________________________________\n"
     ]
    }
   ],
   "source": [
    "# 디코더의 출력층\n",
    "decoder_softmax_layer = Dense(tar_vocab, activation = 'softmax')\n",
    "decoder_softmax_outputs = decoder_softmax_layer(decoder_outputs) \n",
    "\n",
    "# 모델 정의\n",
    "model = Model([encoder_inputs, decoder_inputs], decoder_softmax_outputs)\n",
    "model.summary()"
   ]
  },
  {
   "cell_type": "markdown",
   "id": "occupational-router",
   "metadata": {},
   "source": [
    "## 어텐션 메커니즘 사용하기 - 추상적 요약\n",
    "일반적인 seq2seq보다는 어텐션 메커니즘을 사용한 seq2seq를 사용하는 것이 더 나은 성능을 얻을 수 있어요. 실습 내용을 참고하여 어텐션 메커니즘을 사용한 seq2seq를 설계해 보세요."
   ]
  },
  {
   "cell_type": "code",
   "execution_count": 188,
   "id": "oriental-corporation",
   "metadata": {},
   "outputs": [
    {
     "name": "stdout",
     "output_type": "stream",
     "text": [
      "library가 이미 존재합니다.\n"
     ]
    }
   ],
   "source": [
    "url = \"https://raw.githubusercontent.com/thushv89/attention_keras/master/src/layers/attention.py\"\n",
    "\n",
    "library_path = os.getenv(\"HOME\")+'/aiffel/news_summarization/attention.py'\n",
    "\n",
    "if not os.path.isfile(library_path):\n",
    "    wget.download(url, out = library_path)\n",
    "\n",
    "else:\n",
    "    print(\"library가 이미 존재합니다.\")"
   ]
  },
  {
   "cell_type": "code",
   "execution_count": 61,
   "id": "distinguished-melbourne",
   "metadata": {},
   "outputs": [],
   "source": [
    "from attention import AttentionLayer"
   ]
  },
  {
   "cell_type": "code",
   "execution_count": 190,
   "id": "equal-centre",
   "metadata": {},
   "outputs": [
    {
     "name": "stdout",
     "output_type": "stream",
     "text": [
      "Model: \"model_8\"\n",
      "__________________________________________________________________________________________________\n",
      "Layer (type)                    Output Shape         Param #     Connected to                     \n",
      "==================================================================================================\n",
      "input_9 (InputLayer)            [(None, 37)]         0                                            \n",
      "__________________________________________________________________________________________________\n",
      "embedding_5 (Embedding)         (None, 37, 128)      1920000     input_9[0][0]                    \n",
      "__________________________________________________________________________________________________\n",
      "lstm_11 (LSTM)                  [(None, 37, 256), (N 394240      embedding_5[0][0]                \n",
      "__________________________________________________________________________________________________\n",
      "input_10 (InputLayer)           [(None, None)]       0                                            \n",
      "__________________________________________________________________________________________________\n",
      "lstm_12 (LSTM)                  [(None, 37, 256), (N 525312      lstm_11[0][0]                    \n",
      "__________________________________________________________________________________________________\n",
      "embedding_6 (Embedding)         (None, None, 128)    1024000     input_10[0][0]                   \n",
      "__________________________________________________________________________________________________\n",
      "lstm_13 (LSTM)                  [(None, 37, 256), (N 525312      lstm_12[0][0]                    \n",
      "__________________________________________________________________________________________________\n",
      "lstm_14 (LSTM)                  [(None, None, 256),  394240      embedding_6[0][0]                \n",
      "                                                                 lstm_13[0][1]                    \n",
      "                                                                 lstm_13[0][2]                    \n",
      "__________________________________________________________________________________________________\n",
      "attention_layer (AttentionLayer ((None, None, 256),  131328      lstm_13[0][0]                    \n",
      "                                                                 lstm_14[0][0]                    \n",
      "__________________________________________________________________________________________________\n",
      "concat_layer (Concatenate)      (None, None, 512)    0           lstm_14[0][0]                    \n",
      "                                                                 attention_layer[0][0]            \n",
      "__________________________________________________________________________________________________\n",
      "dense_6 (Dense)                 (None, None, 8000)   4104000     concat_layer[0][0]               \n",
      "==================================================================================================\n",
      "Total params: 9,018,432\n",
      "Trainable params: 9,018,432\n",
      "Non-trainable params: 0\n",
      "__________________________________________________________________________________________________\n"
     ]
    }
   ],
   "source": [
    "# 어텐션 층(어텐션 함수)\n",
    "attn_layer = AttentionLayer(name='attention_layer')\n",
    "# 인코더와 디코더의 모든 time step의 hidden state를 어텐션 층에 전달하고 결과를 리턴\n",
    "attn_out, attn_states = attn_layer([encoder_outputs, decoder_outputs])\n",
    "\n",
    "# 어텐션의 결과와 디코더의 hidden state들을 연결\n",
    "decoder_concat_input = Concatenate(axis = -1, name='concat_layer')([decoder_outputs, attn_out])\n",
    "\n",
    "# 디코더의 출력층\n",
    "decoder_softmax_layer = Dense(tar_vocab, activation='softmax')\n",
    "decoder_softmax_outputs = decoder_softmax_layer(decoder_concat_input)\n",
    "\n",
    "# 모델 정의\n",
    "model = Model([encoder_inputs, decoder_inputs], decoder_softmax_outputs)\n",
    "model.summary()"
   ]
  },
  {
   "cell_type": "markdown",
   "id": "mounted-ribbon",
   "metadata": {},
   "source": [
    "### 모델 훈련하기\n",
    "실험적으로 확인했을때, epochs는 20회차 주변에서 멈추는 것을 확인해서 epochs는 기존 50에서 30으로 줄였습니다. "
   ]
  },
  {
   "cell_type": "code",
   "execution_count": 191,
   "id": "small-reach",
   "metadata": {},
   "outputs": [
    {
     "name": "stdout",
     "output_type": "stream",
     "text": [
      "Epoch 1/30\n",
      "255/255 [==============================] - 85s 333ms/step - loss: 5.1143 - val_loss: 4.7155\n",
      "Epoch 2/30\n",
      "255/255 [==============================] - 83s 324ms/step - loss: 4.6069 - val_loss: 4.3900\n",
      "Epoch 3/30\n",
      "255/255 [==============================] - 83s 327ms/step - loss: 4.2935 - val_loss: 4.1329\n",
      "Epoch 4/30\n",
      "255/255 [==============================] - 85s 334ms/step - loss: 4.0580 - val_loss: 3.9703\n",
      "Epoch 5/30\n",
      "255/255 [==============================] - 86s 336ms/step - loss: 3.8713 - val_loss: 3.8317\n",
      "Epoch 6/30\n",
      "255/255 [==============================] - 86s 337ms/step - loss: 3.7192 - val_loss: 3.7436\n",
      "Epoch 7/30\n",
      "255/255 [==============================] - 86s 337ms/step - loss: 3.5886 - val_loss: 3.6667\n",
      "Epoch 8/30\n",
      "255/255 [==============================] - 85s 335ms/step - loss: 3.4736 - val_loss: 3.5943\n",
      "Epoch 9/30\n",
      "255/255 [==============================] - 87s 341ms/step - loss: 3.3706 - val_loss: 3.5490\n",
      "Epoch 10/30\n",
      "255/255 [==============================] - 83s 327ms/step - loss: 3.2761 - val_loss: 3.4944\n",
      "Epoch 11/30\n",
      "255/255 [==============================] - 83s 324ms/step - loss: 3.1917 - val_loss: 3.4533\n",
      "Epoch 12/30\n",
      "255/255 [==============================] - 83s 327ms/step - loss: 3.1143 - val_loss: 3.4272\n",
      "Epoch 13/30\n",
      "255/255 [==============================] - 78s 307ms/step - loss: 3.0449 - val_loss: 3.3922\n",
      "Epoch 14/30\n",
      "255/255 [==============================] - 77s 301ms/step - loss: 2.9804 - val_loss: 3.3635\n",
      "Epoch 15/30\n",
      "255/255 [==============================] - 77s 302ms/step - loss: 2.9177 - val_loss: 3.3420\n",
      "Epoch 16/30\n",
      "255/255 [==============================] - 77s 302ms/step - loss: 2.8628 - val_loss: 3.3360\n",
      "Epoch 17/30\n",
      "255/255 [==============================] - 77s 300ms/step - loss: 2.8094 - val_loss: 3.3208\n",
      "Epoch 18/30\n",
      "255/255 [==============================] - 76s 298ms/step - loss: 2.7612 - val_loss: 3.3080\n",
      "Epoch 19/30\n",
      "255/255 [==============================] - 77s 300ms/step - loss: 2.7157 - val_loss: 3.2952\n",
      "Epoch 20/30\n",
      "255/255 [==============================] - 77s 300ms/step - loss: 2.6714 - val_loss: 3.2826\n",
      "Epoch 21/30\n",
      "255/255 [==============================] - 77s 301ms/step - loss: 2.6304 - val_loss: 3.2734\n",
      "Epoch 22/30\n",
      "255/255 [==============================] - 77s 301ms/step - loss: 2.5923 - val_loss: 3.2682\n",
      "Epoch 23/30\n",
      "255/255 [==============================] - 77s 301ms/step - loss: 2.5557 - val_loss: 3.2701\n",
      "Epoch 24/30\n",
      "255/255 [==============================] - 77s 301ms/step - loss: 2.5219 - val_loss: 3.2675\n",
      "Epoch 25/30\n",
      "255/255 [==============================] - 77s 302ms/step - loss: 2.4934 - val_loss: 3.2568\n",
      "Epoch 26/30\n",
      "255/255 [==============================] - 77s 302ms/step - loss: 2.4618 - val_loss: 3.2525\n",
      "Epoch 27/30\n",
      "255/255 [==============================] - 77s 304ms/step - loss: 2.4320 - val_loss: 3.2534\n",
      "Epoch 28/30\n",
      "255/255 [==============================] - 77s 304ms/step - loss: 2.4025 - val_loss: 3.2528\n",
      "Epoch 00028: early stopping\n"
     ]
    }
   ],
   "source": [
    "model.compile(optimizer='rmsprop', loss='sparse_categorical_crossentropy')\n",
    "\n",
    "es = EarlyStopping(monitor='val_loss', mode='min', verbose=1, patience = 2)\n",
    "history =  model.fit(x = [encoder_input_train, decoder_input_train], y = decoder_target_train, \\\n",
    "          validation_data = ([encoder_input_test, decoder_input_test], decoder_target_test),\n",
    "          batch_size = 256, callbacks=[es], epochs = 30)"
   ]
  },
  {
   "cell_type": "code",
   "execution_count": 192,
   "id": "durable-cassette",
   "metadata": {},
   "outputs": [
    {
     "name": "stdout",
     "output_type": "stream",
     "text": [
      "INFO:tensorflow:Assets written to: /home/aiffel-dj19/aiffel/news_summarization/my_model/assets\n"
     ]
    }
   ],
   "source": [
    "model.save(project_path + 'my_model')"
   ]
  },
  {
   "cell_type": "code",
   "execution_count": 193,
   "id": "victorian-communication",
   "metadata": {},
   "outputs": [
    {
     "name": "stdout",
     "output_type": "stream",
     "text": [
      "WARNING:tensorflow:Layer lstm_11 will not use cuDNN kernel since it doesn't meet the cuDNN kernel criteria. It will use generic GPU kernel as fallback when running on GPU\n",
      "WARNING:tensorflow:Layer lstm_12 will not use cuDNN kernel since it doesn't meet the cuDNN kernel criteria. It will use generic GPU kernel as fallback when running on GPU\n",
      "WARNING:tensorflow:Layer lstm_13 will not use cuDNN kernel since it doesn't meet the cuDNN kernel criteria. It will use generic GPU kernel as fallback when running on GPU\n",
      "WARNING:tensorflow:Layer lstm_14 will not use cuDNN kernel since it doesn't meet the cuDNN kernel criteria. It will use generic GPU kernel as fallback when running on GPU\n"
     ]
    }
   ],
   "source": [
    "from tensorflow.keras import models\n",
    "\n",
    "save_model = models.load_model(project_path + 'my_model')"
   ]
  },
  {
   "cell_type": "code",
   "execution_count": 194,
   "id": "unlike-accessory",
   "metadata": {},
   "outputs": [
    {
     "data": {
      "image/png": "[encoded data removed]",
      "text/plain": [
       "<Figure size 432x288 with 1 Axes>"
      ]
     },
     "metadata": {
      "needs_background": "light"
     },
     "output_type": "display_data"
    }
   ],
   "source": [
    "plt.plot(history.history['loss'], label='train')\n",
    "plt.plot(history.history['val_loss'], label='test')\n",
    "plt.legend()\n",
    "plt.show()"
   ]
  },
  {
   "cell_type": "markdown",
   "id": "competitive-superior",
   "metadata": {},
   "source": [
    "### 인퍼런스 모델 훈련하기 \n",
    "seq2seq는 훈련할 때와 실제 동작할 때(인퍼런스 단계)의 방식이 다르므로 그에 맞게 모델 설계를 별개로 진행해야합니다. 훈련 단계에서는 디코더의 입력부에 정답이 되는 문장 전체를 한꺼번에 넣고 디코더의 출력과 한번에 비교할 수 있으므로, 인코더와 디코더를 엮은 통짜 모델 하나만 준비합니다. 그러나 정답 문장이 없는 인퍼런스 단계에서는 만들어야 할 문장의 길이만큼 디코더가 반복 구조로 동작해야 하기 때문에 부득이하게 인퍼런스를 위한 모델 설계를 별도로 해주어야 합니다. 이때는 인코더 모델과 디코더 모델을 분리해서 설계합니다."
   ]
  },
  {
   "cell_type": "code",
   "execution_count": 195,
   "id": "separate-construction",
   "metadata": {},
   "outputs": [],
   "source": [
    "src_index_to_word = src_tokenizer.index_word # 원문 단어 집합에서 정수 -> 단어를 얻음\n",
    "tar_word_to_index = tar_tokenizer.word_index # 요약 단어 집합에서 단어 -> 정수를 얻음\n",
    "tar_index_to_word = tar_tokenizer.index_word # 요약 단어 집합에서 정수 -> 단어를 얻음"
   ]
  },
  {
   "cell_type": "code",
   "execution_count": 196,
   "id": "latin-geography",
   "metadata": {},
   "outputs": [],
   "source": [
    "# 인코더 설계\n",
    "encoder_model = Model(inputs=encoder_inputs, outputs=[encoder_outputs, state_h, state_c])\n",
    "\n",
    "# 이전 시점의 상태들을 저장하는 텐서\n",
    "decoder_state_input_h = Input(shape=(hidden_size,))\n",
    "decoder_state_input_c = Input(shape=(hidden_size,))\n",
    "\n",
    "dec_emb2 = dec_emb_layer(decoder_inputs)\n",
    "\n",
    "# 문장의 다음 단어를 예측하기 위해서 초기 상태(initial_state)를 이전 시점의 상태로 사용. 이는 뒤의 함수 decode_sequence()에 구현\n",
    "# 훈련 과정에서와 달리 LSTM의 리턴하는 은닉 상태와 셀 상태인 state_h와 state_c를 버리지 않음.\n",
    "decoder_outputs2, state_h2, state_c2 = decoder_lstm(dec_emb2, initial_state=[decoder_state_input_h, decoder_state_input_c])"
   ]
  },
  {
   "cell_type": "code",
   "execution_count": 197,
   "id": "immune-intention",
   "metadata": {},
   "outputs": [],
   "source": [
    "# 어텐션 함수\n",
    "decoder_hidden_state_input = Input(shape=(text_max_len, hidden_size))\n",
    "attn_out_inf, attn_states_inf = attn_layer([decoder_hidden_state_input, decoder_outputs2])\n",
    "decoder_inf_concat = Concatenate(axis=-1, name='concat')([decoder_outputs2, attn_out_inf])\n",
    "\n",
    "# 디코더의 출력층\n",
    "decoder_outputs2 = decoder_softmax_layer(decoder_inf_concat) \n",
    "\n",
    "# 최종 디코더 모델\n",
    "decoder_model = Model(\n",
    "    [decoder_inputs] + [decoder_hidden_state_input,decoder_state_input_h, decoder_state_input_c],\n",
    "    [decoder_outputs2] + [state_h2, state_c2])"
   ]
  },
  {
   "cell_type": "code",
   "execution_count": 198,
   "id": "comic-chart",
   "metadata": {},
   "outputs": [],
   "source": [
    "def decode_sequence(input_seq):\n",
    "    # 입력으로부터 인코더의 상태를 얻음\n",
    "    e_out, e_h, e_c = encoder_model.predict(input_seq)\n",
    "\n",
    "     # <SOS>에 해당하는 토큰 생성\n",
    "    target_seq = np.zeros((1,1))\n",
    "    target_seq[0, 0] = tar_word_to_index['sostoken']\n",
    "\n",
    "    stop_condition = False\n",
    "    decoded_sentence = ''\n",
    "    while not stop_condition: # stop_condition이 True가 될 때까지 루프 반복\n",
    "\n",
    "        output_tokens, h, c = decoder_model.predict([target_seq] + [e_out, e_h, e_c])\n",
    "        sampled_token_index = np.argmax(output_tokens[0, -1, :])\n",
    "        sampled_token = tar_index_to_word[sampled_token_index]\n",
    "\n",
    "        if(sampled_token!='eostoken'):\n",
    "            decoded_sentence += ' '+sampled_token\n",
    "\n",
    "        #  <eos>에 도달하거나 최대 길이를 넘으면 중단.\n",
    "        if (sampled_token == 'eostoken'  or len(decoded_sentence.split()) >= (headlines_max_len-1)):\n",
    "            stop_condition = True\n",
    "\n",
    "        # 길이가 1인 타겟 시퀀스를 업데이트\n",
    "        target_seq = np.zeros((1,1))\n",
    "        target_seq[0, 0] = sampled_token_index\n",
    "\n",
    "        # 상태를 업데이트 합니다.\n",
    "        e_h, e_c = h, c\n",
    "\n",
    "    return decoded_sentence"
   ]
  },
  {
   "cell_type": "markdown",
   "id": "august-amber",
   "metadata": {},
   "source": [
    "### 모델 테스트하기 "
   ]
  },
  {
   "cell_type": "code",
   "execution_count": 199,
   "id": "opposite-enzyme",
   "metadata": {},
   "outputs": [],
   "source": [
    "# 원문의 정수 시퀀스를 텍스트 시퀀스로 변환\n",
    "def seq2text(input_seq):\n",
    "    temp=''\n",
    "    for i in input_seq:\n",
    "        if(i!=0):\n",
    "            temp = temp + src_index_to_word[i]+' '\n",
    "    return temp\n",
    "\n",
    "# 요약문의 정수 시퀀스를 텍스트 시퀀스로 변환\n",
    "def seq2headlines(input_seq):\n",
    "    temp=''\n",
    "    for i in input_seq:\n",
    "        if((i!=0 and i!=tar_word_to_index['sostoken']) and i!=tar_word_to_index['eostoken']):\n",
    "            temp = temp + tar_index_to_word[i] + ' '\n",
    "    return temp"
   ]
  },
  {
   "cell_type": "markdown",
   "id": "guided-conference",
   "metadata": {},
   "source": [
    "## 실제 결과와 요약문 비교하기 (추상적 요약)\n",
    "원래의 요약문(headlines 열)과 학습을 통해 얻은 추상적 요약의 결과를 비교해보세요."
   ]
  },
  {
   "cell_type": "code",
   "execution_count": 200,
   "id": "damaged-grocery",
   "metadata": {},
   "outputs": [
    {
     "name": "stdout",
     "output_type": "stream",
     "text": [
      "원문 : london based institute public policy research announced cash prize radical ideas boost uk economic growth think tank said prize believed third biggest international economics announcement comes week official predicted uk grow faster next five years \n",
      "실제 요약 : lakh prize offered for ideas to solve weak uk growth \n",
      "예측 요약 :  uk to host its own award for nobel\n",
      "\n",
      "\n",
      "원문 : google completed billion deal electronics company htc google acquired part htc engineering design teams deal also includes employees worked google pixel smartphones announced september last year also included non exclusive license htc intellectual property \n",
      "실제 요약 : google completes billion deal to buy engineers from \n",
      "예측 요약 :  google to invest billion in google retail market\n",
      "\n",
      "\n",
      "원문 : year old dalit boy allegedly assaulted sporting moustache gujarat village staged attack garner publicity police probe revealed investigators failed find weapon perpetrators alleged assault upon questioning boy confessed inflicted wounds along two school friends \n",
      "실제 요약 : dalit boy attack over moustache for publicity probe \n",
      "예측 요약 :  dalit youth thrashed for trying to stop attack in\n",
      "\n",
      "\n",
      "원문 : pepsico india charged fine customer found dead insects floating bottle according customer bought bottle bar saw insects floating inside filed case consumer forum said manufacturer cannot escape liability bottle sealed \n",
      "실제 요약 : pepsico fined as customer finds dead in bottle \n",
      "예측 요약 :  indian eatery fined lakh for lakh in bottle\n",
      "\n",
      "\n",
      "원문 : madhur bhandarkar said understand people objecting film emergency indu sarkar books published topic made past years comes woman claiming sanjay gandhi daughter asked film release stopped watches \n",
      "실제 요약 : lot written on emergency why object to my film madhur \n",
      "예측 요약 :  no one of the film that will not be able to do\n",
      "\n",
      "\n",
      "원문 : police northern belgian city thursday arrested french man tried drive crowd shopping area reports said police reportedly found rifle weapons car incident comes day belgium marked first anniversary twin bomb attacks brussels killed people \n",
      "실제 요약 : man arrested for trying to drive into crowd in belgium \n",
      "예측 요약 :  police arrest in shooting at police station\n",
      "\n",
      "\n",
      "원문 : faces covered dried banana leaves saturday celebrate religious festival locally known mud people festival honour st john tradition represents way disguised jesus christ occasion roots japan occupation country second world war \n",
      "실제 요약 : in pictures philippines celebrates mud people festival \n",
      "예측 요약 :  festival to be celebrated as independence day\n",
      "\n",
      "\n",
      "원문 : first look actor prabhas upcoming film saaho unveiled occasion th birthday monday film also stars shraddha kapoor jackie shroff neil nitin mukesh chunky pandey action thriller released telugu tamil hindi malayalam simultaneously \n",
      "실제 요약 : first look of prabhas from saaho unveiled on his day \n",
      "예측 요약 :  first look poster of first poster of varun dhawan starrer october out\n",
      "\n",
      "\n",
      "원문 : actress swara bhaskar said possible reason women reporting sexual harassment due culture shaming women indian society added fear believed process fear particularly people challenged powerful reasons women reporting sexual harassment \n",
      "실제 요약 : women do not report sexual harassment due to shame swara \n",
      "예측 요약 :  sexual assault is important swara\n",
      "\n",
      "\n",
      "원문 : occasion world environment day tuesday actress kangana ranaut featured video seen covering face plastic bag urging followers stop using single use plastic bags kangana said years plastic ocean fish notably year theme beat plastic pollution \n",
      "실제 요약 : kangana covers face with plastic bag on environment day \n",
      "예측 요약 :  kangana to make people in paris\n",
      "\n",
      "\n"
     ]
    }
   ],
   "source": [
    "for i in range(100, 110):\n",
    "    print(\"원문 :\", seq2text(encoder_input_test[i]))\n",
    "    print(\"실제 요약 :\", seq2headlines(decoder_input_test[i]))\n",
    "    print(\"예측 요약 :\", decode_sequence(encoder_input_test[i].reshape(1, text_max_len)))\n",
    "    print(\"\\n\")"
   ]
  },
  {
   "cell_type": "markdown",
   "id": "injured-institute",
   "metadata": {},
   "source": [
    "## Summa을 이용하기 - 추출적 요약\n",
    "추상적 요약은 추출적 요약과는 달리 문장의 표현력을 다양하게 가져갈 수 있지만, 추출적 요약에 비해서 어렵습니다. 반대로 말하면 추출적 요약은 추상적 요약에 비해 난이도가 낮고 기존 문장에서 문장을 꺼내오는 것이므로 잘못된 요약이 나올 가능성이 낮습니다. Summarize 모듈을 활용하면 추출적 요약을 할 수 있습니다. <br>\n",
    "해당 라이브러리는 내부적으로 토큰화를 진행하므로 토큰화된 문장을 넣어주면 동작이 제대로 결과를 내놓지 못합니다. 그래서 토큰화되지 않은 상태로 입력 문장을 줍니다. \n",
    "* text (str) : 요약할 테스트.\n",
    "* ratio (float, optional) – 요약문에서 원본에서 선택되는 문장 비율. 0~1 사이값\n",
    "* words (int or None, optional) – 출력에 포함할 단어 수. 만약, ratio와 함께 두 파라미터가 모두 제공되는 경우 ratio는 무시한다.\n",
    "* split (bool, optional) – True면 문장 list / False는 조인(join)된 문자열을 반환"
   ]
  },
  {
   "cell_type": "code",
   "execution_count": 220,
   "id": "brutal-burning",
   "metadata": {},
   "outputs": [
    {
     "data": {
      "text/plain": [
       "0    Saurav Kant, an alumnus of upGrad and IIIT-B's...\n",
       "1    Kunal Shah's credit card bill payment platform...\n",
       "2    New Zealand defeated India by 8 wickets in the...\n",
       "3    With Aegon Life iTerm Insurance plan, customer...\n",
       "4    Speaking about the sexual harassment allegatio...\n",
       "Name: text, dtype: object"
      ]
     },
     "execution_count": 220,
     "metadata": {},
     "output_type": "execute_result"
    }
   ],
   "source": [
    "news_data = pd.read_csv(data_path, encoding='iso-8859-1')\n",
    "news_data['text'].head()"
   ]
  },
  {
   "cell_type": "code",
   "execution_count": 212,
   "id": "spectacular-stanford",
   "metadata": {},
   "outputs": [
    {
     "name": "stdout",
     "output_type": "stream",
     "text": [
      "Kunal Shah's credit card bill payment platform, CRED, gave users a chance to win free food from Swiggy for one year. Pranav Kaushik, a Delhi techie, bagged this reward after spending 2000 CRED coins. Users get one CRED coin per rupee of bill paid, which can be used to avail rewards from brands like Ixigo, BookMyShow, UberEats, Cult.Fit and more.\n"
     ]
    }
   ],
   "source": [
    "text = news_data['text'][1]\n",
    "print(text[:])"
   ]
  },
  {
   "cell_type": "code",
   "execution_count": 213,
   "id": "statewide-joshua",
   "metadata": {},
   "outputs": [
    {
     "name": "stdout",
     "output_type": "stream",
     "text": [
      "347\n"
     ]
    }
   ],
   "source": [
    "print(len(text))"
   ]
  },
  {
   "cell_type": "code",
   "execution_count": 214,
   "id": "inappropriate-tomorrow",
   "metadata": {},
   "outputs": [
    {
     "name": "stdout",
     "output_type": "stream",
     "text": [
      "60\n"
     ]
    }
   ],
   "source": [
    "print(len(text.split(\" \")))"
   ]
  },
  {
   "cell_type": "code",
   "execution_count": 215,
   "id": "unexpected-canberra",
   "metadata": {},
   "outputs": [
    {
     "name": "stdout",
     "output_type": "stream",
     "text": [
      "headlines:\n",
      "Users get one CRED coin per rupee of bill paid, which can be used to avail rewards from brands like Ixigo, BookMyShow, UberEats, Cult.Fit and more.\n"
     ]
    }
   ],
   "source": [
    "print('headlines:')\n",
    "print(summarize(text, ratio=0.5))"
   ]
  },
  {
   "cell_type": "code",
   "execution_count": 216,
   "id": "ranking-norwegian",
   "metadata": {},
   "outputs": [
    {
     "name": "stdout",
     "output_type": "stream",
     "text": [
      "headlines:\n",
      "['Users get one CRED coin per rupee of bill paid, which can be used to avail rewards from brands like Ixigo, BookMyShow, UberEats, Cult.Fit and more.']\n"
     ]
    }
   ],
   "source": [
    "print('headlines:')\n",
    "print(summarize(text, ratio=0.5, split=True))"
   ]
  },
  {
   "cell_type": "code",
   "execution_count": 217,
   "id": "oriental-capacity",
   "metadata": {},
   "outputs": [
    {
     "name": "stdout",
     "output_type": "stream",
     "text": [
      "headlines:\n",
      "Users get one CRED coin per rupee of bill paid, which can be used to avail rewards from brands like Ixigo, BookMyShow, UberEats, Cult.Fit and more.\n"
     ]
    }
   ],
   "source": [
    "print('headlines:')\n",
    "print(summarize(text, words=20))"
   ]
  },
  {
   "attachments": {
    "9e4c867a-9bd8-42e4-b59b-9e642761d718.png": {
     "image/png": "[encoded data removed]"
    }
   },
   "cell_type": "markdown",
   "id": "missing-consistency",
   "metadata": {},
   "source": [
    "#### 추상적 요약과 추출적 요약 비교하기\n",
    "다른 데이터를 넣어줌으로써 비교해보면 추상적 요약은 문장에서 사용된 데이터로만 예측 요약이 이뤄지지 않는 점을 알 수 있습니다. 추출적 요약은 입력 문장에 의존적이지만, 추상적 요약은 상대적으로 자유롭습니다. <br> \n",
    "![image.png](attachment:9e4c867a-9bd8-42e4-b59b-9e642761d718.png)"
   ]
  },
  {
   "cell_type": "code",
   "execution_count": 237,
   "id": "bound-multiple",
   "metadata": {},
   "outputs": [
    {
     "name": "stdout",
     "output_type": "stream",
     "text": [
      ">> 원문 : year old man monday approached delhi hc seeking police protection wife year old son alleged alcohol addict claimed son harassing paying daily expenses alcohol court directed police file report regard allegations \n",
      ">> 실제 요약 : yr old delhi man seeks protection from alcohol addict son \n",
      ">> 예측 요약 :  delhi man booked for killing wife in wife\n",
      "\n",
      "\n",
      ">> 원문 : nasa shared image wildfires california us killed least people wildfires erupted kilometres north california thursday destroyed homes several commercial buildings fire officials estimate lakh people evacuated homes due wildfires \n",
      ">> 실제 요약 : nasa shares image of california wildfires from space \n",
      ">> 예측 요약 :  nasa opens us hurricane irma in california hurricane\n",
      "\n",
      "\n",
      ">> 원문 : passengers reportedly fainted suffered panic attacks friday thailand australia flight runway two hours air stopped working passenger claimed people continued scream open doors decision made let passengers flight delayed day passengers provided accommodation \n",
      ">> 실제 요약 : passengers have panic attacks on flight with no ac \n",
      ">> 예측 요약 :  passengers fall sick after plane hits mid air\n",
      "\n",
      "\n"
     ]
    }
   ],
   "source": [
    "for i in range(202, 205):\n",
    "    print(\">> 원문 :\", seq2text(encoder_input_test[i]))\n",
    "    print(\">> 실제 요약 :\", seq2headlines(decoder_input_test[i]))\n",
    "    print(\">> 예측 요약 :\", decode_sequence(encoder_input_test[i].reshape(1, text_max_len)))\n",
    "    print(\"\\n\")"
   ]
  },
  {
   "attachments": {
    "85d391c2-b365-41ea-b033-ed018263a462.png": {
     "image/png": "[encoded data removed]"
    }
   },
   "cell_type": "markdown",
   "id": "juvenile-granny",
   "metadata": {},
   "source": [
    "추출적 요약 같은 경우 입력 문장에 담겨있는 단어와 ratio, words의 인자를 바탕으로 내부적으로 토큰화를 수행한 후 요약이 진행되기 때문에 입력 문장에 의존적입니다. 또한 어떤 문맥상의 중요성을 기준으로 잡아 특정 문장쪽에 중심되어 요약되는 경우가 더 많습니다. <br>\n",
    "다만 문장을 그대로 추출하는 경우가 많아 추상적 요약에 비해 문법적 오류는 적었습니다. \n",
    "![image.png](attachment:85d391c2-b365-41ea-b033-ed018263a462.png)"
   ]
  },
  {
   "cell_type": "code",
   "execution_count": 229,
   "id": "binding-spelling",
   "metadata": {},
   "outputs": [],
   "source": [
    "headlines = news_data['headlines']"
   ]
  },
  {
   "cell_type": "code",
   "execution_count": 236,
   "id": "classified-washer",
   "metadata": {},
   "outputs": [
    {
     "name": "stdout",
     "output_type": "stream",
     "text": [
      ">> 정답 요약문:\n",
      "Tata Motors shares plunge 4% after S&P rating downgrade\n",
      "-------------------------------------------------------------\n",
      ">> 정답 요약문:\n",
      "May use FordÃ¢ÂÂs US plants to build cars: Volkswagen CEO\n",
      "-------------------------------------------------------------\n",
      ">> 정답 요약문:\n",
      "Cash-strapped Faraday Future sends some staff on unpaid leave\n",
      "-------------------------------------------------------------\n"
     ]
    }
   ],
   "source": [
    "for i in range(n_of_val + 202, n_of_val + 205):\n",
    "    t_headlines = headlines[i]\n",
    "    print('>> 정답 요약문:')\n",
    "    print(t_headlines)\n",
    "    print('-------------------------------------------------------------')"
   ]
  },
  {
   "cell_type": "code",
   "execution_count": 231,
   "id": "continent-jesus",
   "metadata": {},
   "outputs": [],
   "source": [
    "text = news_data['text']"
   ]
  },
  {
   "cell_type": "code",
   "execution_count": 235,
   "id": "executed-terrorism",
   "metadata": {},
   "outputs": [
    {
     "name": "stdout",
     "output_type": "stream",
     "text": [
      ">> 원문:\n",
      "Shares of Tata Motors on Wednesday plunged as much as 4% after S&P Global Ratings downgraded the credit rating of the automaker and its British arm Jaguar Land Rover (JLR). The rating was downgraded citing weak profitability at JLR. In November, MoodyÃ¢ÂÂs had changed the automaker's rating outlook to negative from stable, citing expectations of JLR's weak operating performance.\n",
      ">> Ratio headlines:\n",
      "The rating was downgraded citing weak profitability at JLR.\n",
      "-------------------------------------------------------------\n",
      ">> 원문:\n",
      "Volkswagen CEO Herbert Diess on Tuesday said the German automaker was building an alliance with Ford Motor and might use the US automaker's plants to build cars. Speaking after a meeting at the White House, he also said the company may build a second plant in the US. Volkswagen is \"in quite advanced negotiations\" with Ford, he further said.\n",
      ">> Ratio headlines:\n",
      "Volkswagen CEO Herbert Diess on Tuesday said the German automaker was building an alliance with Ford Motor and might use the US automaker's plants to build cars.\n",
      "-------------------------------------------------------------\n",
      ">> 원문:\n",
      "Cash-strapped automaker Faraday Future on Tuesday said it will send some employees on a temporary unpaid leave due to an ongoing dispute with investor Evergrande Health. According to the company, the investor failed to provide scheduled payments and refused to release company assets. Ã¢ÂÂWe recognise the...financial strain this puts on peopleÃ¢ÂÂs personal lives,Ã¢ÂÂ Faraday Future said in its statement.\n",
      ">> Ratio headlines:\n",
      "Cash-strapped automaker Faraday Future on Tuesday said it will send some employees on a temporary unpaid leave due to an ongoing dispute with investor Evergrande Health.\n",
      "-------------------------------------------------------------\n"
     ]
    }
   ],
   "source": [
    "for i in range(n_of_val + 202, n_of_val + 205):\n",
    "    t_text = text[i]\n",
    "    print('>> 원문:')\n",
    "    print(t_text)\n",
    "    print('>> Ratio headlines:')\n",
    "    print(summarize(t_text, ratio=0.4))\n",
    "    print('-------------------------------------------------------------')"
   ]
  },
  {
   "attachments": {
    "2c7dd5a5-3351-4a33-be6f-86349e442f34.png": {
     "image/png": "[encoded data removed]"
    }
   },
   "cell_type": "markdown",
   "id": "harmful-romance",
   "metadata": {},
   "source": [
    "# 루브릭 \n",
    "\n",
    "1. Abstractive 모델 구성을 위한 텍스트 전처리 단계가 체계적으로 진행되었다. <br>\n",
    "✅ 분석단계\n",
    "✅ 정제단계\n",
    "✅ 정규화와 불용어 제거\n",
    "✅ 데이터셋 분리\n",
    "✅ 인코딩 과정이 빠짐없이 체계적으로 진행되었다.\n",
    "2. 텍스트 요약 모델이 성공적으로 학습되었음을 확인하였다. <br>\n",
    "![image.png](attachment:2c7dd5a5-3351-4a33-be6f-86349e442f34.png) <br>\n",
    "✅ 모델 학습이 안정적으로 수렴되었음을 그래프를 통해 확인하였으며, 실제 요약문과 유사한 요약문장을 얻을 수 있었다.\n",
    "3. Extractive 요약을 시도해 보고 Abstractive 요약 결과과 함께 비교해 보았다. <br>\n",
    "✅ 두 요약 결과를 문법완성도 측면과 핵심단어 포함 측면으로 나누어 비교분석 결과를 제시하였다."
   ]
  },
  {
   "cell_type": "markdown",
   "id": "stuffed-surname",
   "metadata": {},
   "source": [
    "## 회고 \n",
    "1. 어려웠던 점 \n",
    "어텐션에 대한 개념은 이해했으나, 코드상에서 어텐션 메커니즘이 적용된 디코더 파트가 이해가 덜 되었습니다. 그리고 디코더의 입력부로 들어가는 연산과정에 대해 Seq2seq를 다시 살펴볼 필요성을 느꼈습니다. <br>\n",
    "\n",
    "2. 프로젝트 난이도  \n",
    "프로젝트를 하면서 이전에 해왔던 프로젝트에 있던 자연어 처리 프로젝트를 다시 상기시킬 수 있어서 좋았습니다. 실제로 이전 프로젝트할때 이번 노드 작성자 분의 위키독스를 많이 참고했었는데, 구성이 비슷해 프로젝트에서 전처리나 모델 설계 부분을 제외하고는 이해하기 쉬웠습니다. \n",
    "\n",
    "3. 프로젝트하면서 마주한 오류나 실수 \n",
    "일단 이번 프로젝트는 저번 네이버 영화리뷰와 큰 흐름의 차이없이 코딩해서 코딩에서의 오류는 없었습니다. 다만, 데이터셋에 대한 부분을 잘못 파악해서 모두 학습한 후에 재학습하는 .. 상황이 되었었습니다. 데이터셋을 잘 확인하자..는 다짐을 하게되었습니다.\n",
    "\n",
    "4. 프로젝트 하면서..  \n",
    "수희님께서 올려주신 질문이지만, 요약에 대한 결과를 평가하는 것이 어떤 기준으로 가능할까? 하는 부분이 좀 어려운 부분이라고 생각됩니다. 이전에 논문 라벨링 구축에 참여한 적이 있는데 텍스트 데이터들도 앞으로 이미지처럼 라벨링된 데이터가 활성화되면 사람보다 요약을 잘하는 요약봇이 등장하지 않을까 하는 생각이 들었습니다. 추후 해커톤에서 자연어 데이터셋도 잘 만들어보면서? 프로젝트를 진행해보고 싶다는 생각이 들었습니다.  "
   ]
  }
 ],
 "metadata": {
  "kernelspec": {
   "display_name": "aiffel",
   "language": "python",
   "name": "aiffel"
  },
  "language_info": {
   "codemirror_mode": {
    "name": "ipython",
    "version": 3
   },
   "file_extension": ".py",
   "mimetype": "text/x-python",
   "name": "python",
   "nbconvert_exporter": "python",
   "pygments_lexer": "ipython3",
   "version": "3.7.9"
  }
 },
 "nbformat": 4,
 "nbformat_minor": 5
}

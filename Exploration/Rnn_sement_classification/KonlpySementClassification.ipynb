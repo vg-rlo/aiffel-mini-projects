{
 "cells": [
  {
   "cell_type": "markdown",
   "id": "quantitative-christopher",
   "metadata": {},
   "source": [
    "# 프로젝트: 네이버 영화리뷰 감성분석"
   ]
  },
  {
   "cell_type": "markdown",
   "id": "forced-exchange",
   "metadata": {},
   "source": [
    "* 데이터셋 출처: 네이버영화리뷰(nsmc), https://github.com/e9t/nsmc\n",
    "* 참고한 튜토리얼: https://wikidocs.net/44249\n",
    "* label: 0(부정), 1(긍정)"
   ]
  },
  {
   "cell_type": "code",
   "execution_count": 75,
   "id": "lovely-catch",
   "metadata": {},
   "outputs": [
    {
     "name": "stdout",
     "output_type": "stream",
     "text": [
      "Requirement already satisfied: ipython-autotime in /home/aiffel-dj19/anaconda3/envs/aiffel/lib/python3.7/site-packages (0.3.1)\n",
      "Requirement already satisfied: ipython in /home/aiffel-dj19/anaconda3/envs/aiffel/lib/python3.7/site-packages (from ipython-autotime) (7.19.0)\n",
      "Requirement already satisfied: decorator in /home/aiffel-dj19/anaconda3/envs/aiffel/lib/python3.7/site-packages (from ipython->ipython-autotime) (4.4.2)\n",
      "Requirement already satisfied: pickleshare in /home/aiffel-dj19/anaconda3/envs/aiffel/lib/python3.7/site-packages (from ipython->ipython-autotime) (0.7.5)\n",
      "Requirement already satisfied: backcall in /home/aiffel-dj19/anaconda3/envs/aiffel/lib/python3.7/site-packages (from ipython->ipython-autotime) (0.2.0)\n",
      "Requirement already satisfied: pexpect>4.3 in /home/aiffel-dj19/anaconda3/envs/aiffel/lib/python3.7/site-packages (from ipython->ipython-autotime) (4.8.0)\n",
      "Requirement already satisfied: pygments in /home/aiffel-dj19/anaconda3/envs/aiffel/lib/python3.7/site-packages (from ipython->ipython-autotime) (2.7.4)\n",
      "Requirement already satisfied: prompt-toolkit!=3.0.0,!=3.0.1,<3.1.0,>=2.0.0 in /home/aiffel-dj19/anaconda3/envs/aiffel/lib/python3.7/site-packages (from ipython->ipython-autotime) (3.0.8)\n",
      "Requirement already satisfied: jedi>=0.10 in /home/aiffel-dj19/anaconda3/envs/aiffel/lib/python3.7/site-packages (from ipython->ipython-autotime) (0.18.0)\n",
      "Requirement already satisfied: traitlets>=4.2 in /home/aiffel-dj19/anaconda3/envs/aiffel/lib/python3.7/site-packages (from ipython->ipython-autotime) (5.0.5)\n",
      "Requirement already satisfied: setuptools>=18.5 in /home/aiffel-dj19/anaconda3/envs/aiffel/lib/python3.7/site-packages (from ipython->ipython-autotime) (51.3.3.post20210118)\n",
      "Requirement already satisfied: parso<0.9.0,>=0.8.0 in /home/aiffel-dj19/anaconda3/envs/aiffel/lib/python3.7/site-packages (from jedi>=0.10->ipython->ipython-autotime) (0.8.1)\n",
      "Requirement already satisfied: ptyprocess>=0.5 in /home/aiffel-dj19/anaconda3/envs/aiffel/lib/python3.7/site-packages (from pexpect>4.3->ipython->ipython-autotime) (0.7.0)\n",
      "Requirement already satisfied: wcwidth in /home/aiffel-dj19/anaconda3/envs/aiffel/lib/python3.7/site-packages (from prompt-toolkit!=3.0.0,!=3.0.1,<3.1.0,>=2.0.0->ipython->ipython-autotime) (0.2.5)\n",
      "Requirement already satisfied: ipython-genutils in /home/aiffel-dj19/anaconda3/envs/aiffel/lib/python3.7/site-packages (from traitlets>=4.2->ipython->ipython-autotime) (0.2.0)\n",
      "The autotime extension is already loaded. To reload it, use:\n",
      "  %reload_ext autotime\n",
      "time: 1.18 s (started: 2021-01-21 09:53:59 +09:00)\n"
     ]
    }
   ],
   "source": [
    "# 시간 측정 \n",
    "!pip install ipython-autotime\n",
    "%load_ext autotime"
   ]
  },
  {
   "cell_type": "code",
   "execution_count": 76,
   "id": "buried-threat",
   "metadata": {},
   "outputs": [
    {
     "name": "stdout",
     "output_type": "stream",
     "text": [
      "time: 4.12 ms (started: 2021-01-21 09:54:00 +09:00)\n"
     ]
    }
   ],
   "source": [
    "# 사용 라이브러리\n",
    "import pandas as pd\n",
    "import urllib.request\n",
    "%matplotlib inline\n",
    "import matplotlib.pyplot as plt\n",
    "import re\n",
    "from konlpy.tag import Okt\n",
    "from tensorflow import keras\n",
    "from tensorflow.keras.preprocessing.text import Tokenizer\n",
    "import numpy as np\n",
    "from tensorflow.keras.preprocessing.sequence import pad_sequences\n",
    "from collections import Counter\n",
    "import os, random\n",
    "import tensorflow as tf"
   ]
  },
  {
   "cell_type": "code",
   "execution_count": 77,
   "id": "recovered-professional",
   "metadata": {},
   "outputs": [
    {
     "name": "stdout",
     "output_type": "stream",
     "text": [
      "time: 31.7 ms (started: 2021-01-21 09:54:00 +09:00)\n"
     ]
    }
   ],
   "source": [
    "# random seed \n",
    "def set_seeds(seed):\n",
    "    os.environ['PYTHONHASHSEED'] = str(seed)\n",
    "    random.seed(seed)\n",
    "    tf.random.set_seed(seed)\n",
    "    np.random.seed(seed)\n",
    "    \n",
    "SEED = 225\n",
    "set_seeds(SEED)"
   ]
  },
  {
   "cell_type": "markdown",
   "id": "mighty-reliance",
   "metadata": {},
   "source": [
    "## 1. 데이터 준비와 확인"
   ]
  },
  {
   "cell_type": "code",
   "execution_count": 78,
   "id": "stock-lucas",
   "metadata": {},
   "outputs": [
    {
     "name": "stdout",
     "output_type": "stream",
     "text": [
      "time: 263 ms (started: 2021-01-21 09:54:00 +09:00)\n"
     ]
    }
   ],
   "source": [
    "# 데이터를 읽어봅시다. \n",
    "train_data = pd.read_table('~/aiffel/sentiment_classification/ratings_train.txt')\n",
    "test_data = pd.read_table('~/aiffel/sentiment_classification/ratings_test.txt')"
   ]
  },
  {
   "cell_type": "markdown",
   "id": "illegal-treasurer",
   "metadata": {},
   "source": [
    "### 1.1. 데이터 개수 확인"
   ]
  },
  {
   "cell_type": "code",
   "execution_count": 79,
   "id": "animal-trail",
   "metadata": {},
   "outputs": [
    {
     "name": "stdout",
     "output_type": "stream",
     "text": [
      "train set: 150000개\n",
      "test set: 50000개\n",
      "time: 1.45 ms (started: 2021-01-21 09:54:01 +09:00)\n"
     ]
    }
   ],
   "source": [
    "print(\"train set: {}개\".format(len(train_data)))\n",
    "print(\"test set: {}개\".format(len(test_data)))"
   ]
  },
  {
   "cell_type": "markdown",
   "id": "level-mitchell",
   "metadata": {},
   "source": [
    "### 1.2. 상위 5개 출력\n",
    "* train과 test data를 각각 살펴보면서 columns에 해당하는 데이터의 속성(특징, feature)는 어떤 것이 있는지 확인한다. \n",
    "    - 여기서 주의할 점은 이미지 분류에서 생각해보면 valid set은 전처리를 해주면 안된다라는 개념과 결측치 처리는 다르다. 이때 말하는 전처리는 데이터 증강(augmentation)이나, 밝기 변화와 같은 직접적으로 데이터에 변화를 주는 것이다. 결측치 처리는 데이터 전처리라기 보단, 데이터 정제에 해당한다. 그래서 train, test 둘다 적용해주는 것이다. => 더 알아보자"
   ]
  },
  {
   "cell_type": "code",
   "execution_count": 80,
   "id": "handed-circumstances",
   "metadata": {
    "scrolled": true
   },
   "outputs": [
    {
     "data": {
      "text/html": [
       "<div>\n",
       "<style scoped>\n",
       "    .dataframe tbody tr th:only-of-type {\n",
       "        vertical-align: middle;\n",
       "    }\n",
       "\n",
       "    .dataframe tbody tr th {\n",
       "        vertical-align: top;\n",
       "    }\n",
       "\n",
       "    .dataframe thead th {\n",
       "        text-align: right;\n",
       "    }\n",
       "</style>\n",
       "<table border=\"1\" class=\"dataframe\">\n",
       "  <thead>\n",
       "    <tr style=\"text-align: right;\">\n",
       "      <th></th>\n",
       "      <th>id</th>\n",
       "      <th>document</th>\n",
       "      <th>label</th>\n",
       "    </tr>\n",
       "  </thead>\n",
       "  <tbody>\n",
       "    <tr>\n",
       "      <th>0</th>\n",
       "      <td>9976970</td>\n",
       "      <td>아 더빙.. 진짜 짜증나네요 목소리</td>\n",
       "      <td>0</td>\n",
       "    </tr>\n",
       "    <tr>\n",
       "      <th>1</th>\n",
       "      <td>3819312</td>\n",
       "      <td>흠...포스터보고 초딩영화줄....오버연기조차 가볍지 않구나</td>\n",
       "      <td>1</td>\n",
       "    </tr>\n",
       "    <tr>\n",
       "      <th>2</th>\n",
       "      <td>10265843</td>\n",
       "      <td>너무재밓었다그래서보는것을추천한다</td>\n",
       "      <td>0</td>\n",
       "    </tr>\n",
       "    <tr>\n",
       "      <th>3</th>\n",
       "      <td>9045019</td>\n",
       "      <td>교도소 이야기구먼 ..솔직히 재미는 없다..평점 조정</td>\n",
       "      <td>0</td>\n",
       "    </tr>\n",
       "    <tr>\n",
       "      <th>4</th>\n",
       "      <td>6483659</td>\n",
       "      <td>사이몬페그의 익살스런 연기가 돋보였던 영화!스파이더맨에서 늙어보이기만 했던 커스틴 ...</td>\n",
       "      <td>1</td>\n",
       "    </tr>\n",
       "  </tbody>\n",
       "</table>\n",
       "</div>"
      ],
      "text/plain": [
       "         id                                           document  label\n",
       "0   9976970                                아 더빙.. 진짜 짜증나네요 목소리      0\n",
       "1   3819312                  흠...포스터보고 초딩영화줄....오버연기조차 가볍지 않구나      1\n",
       "2  10265843                                  너무재밓었다그래서보는것을추천한다      0\n",
       "3   9045019                      교도소 이야기구먼 ..솔직히 재미는 없다..평점 조정      0\n",
       "4   6483659  사이몬페그의 익살스런 연기가 돋보였던 영화!스파이더맨에서 늙어보이기만 했던 커스틴 ...      1"
      ]
     },
     "execution_count": 80,
     "metadata": {},
     "output_type": "execute_result"
    },
    {
     "name": "stdout",
     "output_type": "stream",
     "text": [
      "time: 16.7 ms (started: 2021-01-21 09:54:01 +09:00)\n"
     ]
    }
   ],
   "source": [
    "train_data.head()"
   ]
  },
  {
   "cell_type": "code",
   "execution_count": 81,
   "id": "developmental-vanilla",
   "metadata": {},
   "outputs": [
    {
     "data": {
      "text/html": [
       "<div>\n",
       "<style scoped>\n",
       "    .dataframe tbody tr th:only-of-type {\n",
       "        vertical-align: middle;\n",
       "    }\n",
       "\n",
       "    .dataframe tbody tr th {\n",
       "        vertical-align: top;\n",
       "    }\n",
       "\n",
       "    .dataframe thead th {\n",
       "        text-align: right;\n",
       "    }\n",
       "</style>\n",
       "<table border=\"1\" class=\"dataframe\">\n",
       "  <thead>\n",
       "    <tr style=\"text-align: right;\">\n",
       "      <th></th>\n",
       "      <th>id</th>\n",
       "      <th>document</th>\n",
       "      <th>label</th>\n",
       "    </tr>\n",
       "  </thead>\n",
       "  <tbody>\n",
       "    <tr>\n",
       "      <th>0</th>\n",
       "      <td>6270596</td>\n",
       "      <td>굳 ㅋ</td>\n",
       "      <td>1</td>\n",
       "    </tr>\n",
       "    <tr>\n",
       "      <th>1</th>\n",
       "      <td>9274899</td>\n",
       "      <td>GDNTOPCLASSINTHECLUB</td>\n",
       "      <td>0</td>\n",
       "    </tr>\n",
       "    <tr>\n",
       "      <th>2</th>\n",
       "      <td>8544678</td>\n",
       "      <td>뭐야 이 평점들은.... 나쁘진 않지만 10점 짜리는 더더욱 아니잖아</td>\n",
       "      <td>0</td>\n",
       "    </tr>\n",
       "    <tr>\n",
       "      <th>3</th>\n",
       "      <td>6825595</td>\n",
       "      <td>지루하지는 않은데 완전 막장임... 돈주고 보기에는....</td>\n",
       "      <td>0</td>\n",
       "    </tr>\n",
       "    <tr>\n",
       "      <th>4</th>\n",
       "      <td>6723715</td>\n",
       "      <td>3D만 아니었어도 별 다섯 개 줬을텐데.. 왜 3D로 나와서 제 심기를 불편하게 하죠??</td>\n",
       "      <td>0</td>\n",
       "    </tr>\n",
       "  </tbody>\n",
       "</table>\n",
       "</div>"
      ],
      "text/plain": [
       "        id                                           document  label\n",
       "0  6270596                                                굳 ㅋ      1\n",
       "1  9274899                               GDNTOPCLASSINTHECLUB      0\n",
       "2  8544678             뭐야 이 평점들은.... 나쁘진 않지만 10점 짜리는 더더욱 아니잖아      0\n",
       "3  6825595                   지루하지는 않은데 완전 막장임... 돈주고 보기에는....      0\n",
       "4  6723715  3D만 아니었어도 별 다섯 개 줬을텐데.. 왜 3D로 나와서 제 심기를 불편하게 하죠??      0"
      ]
     },
     "execution_count": 81,
     "metadata": {},
     "output_type": "execute_result"
    },
    {
     "name": "stdout",
     "output_type": "stream",
     "text": [
      "time: 13.3 ms (started: 2021-01-21 09:54:01 +09:00)\n"
     ]
    }
   ],
   "source": [
    "test_data.head()"
   ]
  },
  {
   "cell_type": "markdown",
   "id": "sitting-lighting",
   "metadata": {},
   "source": [
    "### 1.3. Label 분포  확인"
   ]
  },
  {
   "cell_type": "code",
   "execution_count": 82,
   "id": "theoretical-selling",
   "metadata": {},
   "outputs": [
    {
     "data": {
      "text/plain": [
       "<AxesSubplot:>"
      ]
     },
     "execution_count": 82,
     "metadata": {},
     "output_type": "execute_result"
    },
    {
     "data": {
      "image/png": "[encoded data removed]",
      "text/plain": [
       "<Figure size 432x288 with 1 Axes>"
      ]
     },
     "metadata": {
      "needs_background": "light"
     },
     "output_type": "display_data"
    },
    {
     "name": "stdout",
     "output_type": "stream",
     "text": [
      "time: 109 ms (started: 2021-01-21 09:54:02 +09:00)\n"
     ]
    }
   ],
   "source": [
    "train_data['label'].value_counts().plot(kind = 'bar')"
   ]
  },
  {
   "cell_type": "markdown",
   "id": "computational-monster",
   "metadata": {},
   "source": [
    "## 2. 데이터 로더 구성 \n",
    "*  imdb.data_loader를 참고하면 숫자 인덱스로 변환된 텍스트와 딕셔너리를 제공한다. 가공되지 않은 nsmc 데이터셋을 데이터 전처리 해준다. "
   ]
  },
  {
   "cell_type": "code",
   "execution_count": 83,
   "id": "adjacent-conspiracy",
   "metadata": {},
   "outputs": [
    {
     "name": "stdout",
     "output_type": "stream",
     "text": [
      "time: 1.53 ms (started: 2021-01-21 09:54:02 +09:00)\n"
     ]
    }
   ],
   "source": [
    "X_train = []\n",
    "X_test = []\n",
    "y_train = []\n",
    "y_test = []"
   ]
  },
  {
   "cell_type": "markdown",
   "id": "blocked-mechanism",
   "metadata": {},
   "source": [
    "### 2.1. 데이터의 중복 제거 \n",
    "* data의 내용에서 중복이 되면 지워도 되는 데이터는 document열을 기준으로 할 수 있다. label은 0, 1로 분류를 하는 것이고, id는 고유할 것으로 예상되기 때문이다. \n",
    "* pandas의 unique(), value_counts() 함수는 유일한 값을 찾거나, 유일한 값별로 개수를 세준다. \n",
    "* 참고 블로그:https://rfriend.tistory.com/267"
   ]
  },
  {
   "cell_type": "markdown",
   "id": "expired-texture",
   "metadata": {},
   "source": [
    "#### 중복값 확인 "
   ]
  },
  {
   "cell_type": "code",
   "execution_count": 84,
   "id": "innovative-plymouth",
   "metadata": {},
   "outputs": [
    {
     "data": {
      "text/plain": [
       "3818"
      ]
     },
     "execution_count": 84,
     "metadata": {},
     "output_type": "execute_result"
    },
    {
     "name": "stdout",
     "output_type": "stream",
     "text": [
      "time: 118 ms (started: 2021-01-21 09:54:03 +09:00)\n"
     ]
    }
   ],
   "source": [
    "# train 중복 개수 \n",
    "len(train_data)-len(train_data['document'].value_counts())"
   ]
  },
  {
   "cell_type": "code",
   "execution_count": 85,
   "id": "fantastic-falls",
   "metadata": {
    "scrolled": false
   },
   "outputs": [
    {
     "name": "stdout",
     "output_type": "stream",
     "text": [
      "굿                                                                                          181\n",
      "good                                                                                        92\n",
      "최고                                                                                          85\n",
      "쓰레기                                                                                         79\n",
      "별로                                                                                          66\n",
      "                                                                                          ... \n",
      "제임스완 감독 팔아먹지마라.어디가 제임스완 감독이냐?                                                                1\n",
      "조승우♥♥♥♥ 그냥 말이 필요없다                                                                           1\n",
      "기억나는건 닭털뿐 ㅋㅋㅋㅋㅋㅋㅋ 쓰레기 공포영화보단 웃겨줘서 괜찮네.                                                       1\n",
      "예전에 tv에서 봤던것 같은데.....분위기가 참 좋음......흔한 내용의 영화는 아니니 재미를 떠나서 영화를 좋아한다면 한번 봐도 후회하진 않을듯....      1\n",
      "액션은 첩혈쌍웅보다 화려해 졌지만 감동은 확실히 떨어진다                                                              1\n",
      "Name: document, Length: 146182, dtype: int64\n",
      "time: 104 ms (started: 2021-01-21 09:54:03 +09:00)\n"
     ]
    }
   ],
   "source": [
    "print(train_data['document'].value_counts())"
   ]
  },
  {
   "cell_type": "code",
   "execution_count": 86,
   "id": "moved-crack",
   "metadata": {},
   "outputs": [
    {
     "data": {
      "text/plain": [
       "843"
      ]
     },
     "execution_count": 86,
     "metadata": {},
     "output_type": "execute_result"
    },
    {
     "name": "stdout",
     "output_type": "stream",
     "text": [
      "time: 41.4 ms (started: 2021-01-21 09:54:04 +09:00)\n"
     ]
    }
   ],
   "source": [
    "# test 중복 개수 \n",
    "len(test_data)-len(test_data['document'].value_counts())"
   ]
  },
  {
   "cell_type": "code",
   "execution_count": 87,
   "id": "younger-change",
   "metadata": {
    "scrolled": false
   },
   "outputs": [
    {
     "name": "stdout",
     "output_type": "stream",
     "text": [
      "굿                                                                                                                                            56\n",
      "good                                                                                                                                         35\n",
      "최고                                                                                                                                           30\n",
      "별로                                                                                                                                           20\n",
      "tv 전기세가 아깝다!!!                                                                                                                               20\n",
      "                                                                                                                                             ..\n",
      "\"마지막 대위가 일왕앞에가서 한 대사가 자꾸 생각나네. \"\"이 칼로 나라를 지켰던 사람들 ...\"\"머시기 하는데, 그칼로 나라를 지켰다고? 남에나라 침략하는데 썼겠지 . 쨌든모티브가 된 줄거리가 정한론을 주장한 놈이 일으킨 반란이라 평점 낮게줌\"     1\n",
      "빌어먹을 내가 이제껏 본영화중에 가장 루즈한 영화다. 말도 안돼고, 웃기지도 않고, 빌어먹을 내시간 다잡아 쳐먹고,                                                                              1\n",
      "각자의 삶을 있는 그대로 담은 영화. 깔끔하다!                                                                                                                    1\n",
      "헐...오늘 TV서 한다길래 볼까했더만..영아닌가보네 ㅋ                                                                                                               1\n",
      "진정한 선장의 모습을 보여준 영화                                                                                                                            1\n",
      "Name: document, Length: 49157, dtype: int64\n",
      "time: 35.9 ms (started: 2021-01-21 09:54:04 +09:00)\n"
     ]
    }
   ],
   "source": [
    "print(test_data['document'].value_counts())"
   ]
  },
  {
   "cell_type": "markdown",
   "id": "figured-spokesman",
   "metadata": {},
   "source": [
    "#### 중복 제거\n",
    "* 중복을 제거하기 위해서는 내장함수를 활용하거나 pandas를 활용할 수 있다. \n",
    "    - 내장함수에는 set(순서 중요하지 않을때)을 사용하거나 for문으로 요소를 확인 후 append하는 방식을 적용할 수 있다. \n",
    "    - 참고한 자료에서는 drop_duplicates이라는 함수를 사용했다. \n",
    "* 참고 출처: https://nittaku.tistory.com/124"
   ]
  },
  {
   "cell_type": "code",
   "execution_count": 88,
   "id": "acquired-application",
   "metadata": {
    "scrolled": true
   },
   "outputs": [
    {
     "name": "stdout",
     "output_type": "stream",
     "text": [
      "time: 47.8 ms (started: 2021-01-21 09:54:05 +09:00)\n"
     ]
    }
   ],
   "source": [
    "#document열을 기준으로 중복행 제거\n",
    "train_data.drop_duplicates(['document'],inplace = True) #inplace = False: None 반환, True: df에 적용 "
   ]
  },
  {
   "cell_type": "code",
   "execution_count": 89,
   "id": "caring-provider",
   "metadata": {
    "scrolled": true
   },
   "outputs": [
    {
     "name": "stdout",
     "output_type": "stream",
     "text": [
      "time: 27.5 ms (started: 2021-01-21 09:54:05 +09:00)\n"
     ]
    }
   ],
   "source": [
    "#document열을 기준으로 중복행 제거\n",
    "test_data.drop_duplicates(['document'], inplace = True) "
   ]
  },
  {
   "cell_type": "code",
   "execution_count": 90,
   "id": "consecutive-chinese",
   "metadata": {},
   "outputs": [
    {
     "name": "stdout",
     "output_type": "stream",
     "text": [
      "146183\n",
      "49158\n",
      "time: 1.47 ms (started: 2021-01-21 09:54:06 +09:00)\n"
     ]
    }
   ],
   "source": [
    "print(len(train_data)) # 중복 개수만큼 줄어든 Train dataset: 15000 -> 146183\n",
    "print(len(test_data)) # 50000 -> 49158"
   ]
  },
  {
   "cell_type": "markdown",
   "id": "immune-kennedy",
   "metadata": {},
   "source": [
    "### 2.x. 특수문자 제외 (추가 시도)"
   ]
  },
  {
   "cell_type": "code",
   "execution_count": 91,
   "id": "injured-prairie",
   "metadata": {},
   "outputs": [
    {
     "data": {
      "text/html": [
       "<div>\n",
       "<style scoped>\n",
       "    .dataframe tbody tr th:only-of-type {\n",
       "        vertical-align: middle;\n",
       "    }\n",
       "\n",
       "    .dataframe tbody tr th {\n",
       "        vertical-align: top;\n",
       "    }\n",
       "\n",
       "    .dataframe thead th {\n",
       "        text-align: right;\n",
       "    }\n",
       "</style>\n",
       "<table border=\"1\" class=\"dataframe\">\n",
       "  <thead>\n",
       "    <tr style=\"text-align: right;\">\n",
       "      <th></th>\n",
       "      <th>id</th>\n",
       "      <th>document</th>\n",
       "      <th>label</th>\n",
       "    </tr>\n",
       "  </thead>\n",
       "  <tbody>\n",
       "    <tr>\n",
       "      <th>0</th>\n",
       "      <td>9976970</td>\n",
       "      <td>아 더빙 진짜 짜증나네요 목소리</td>\n",
       "      <td>0</td>\n",
       "    </tr>\n",
       "    <tr>\n",
       "      <th>1</th>\n",
       "      <td>3819312</td>\n",
       "      <td>흠포스터보고 초딩영화줄오버연기조차 가볍지 않구나</td>\n",
       "      <td>1</td>\n",
       "    </tr>\n",
       "    <tr>\n",
       "      <th>2</th>\n",
       "      <td>10265843</td>\n",
       "      <td>너무재밓었다그래서보는것을추천한다</td>\n",
       "      <td>0</td>\n",
       "    </tr>\n",
       "    <tr>\n",
       "      <th>3</th>\n",
       "      <td>9045019</td>\n",
       "      <td>교도소 이야기구먼 솔직히 재미는 없다평점 조정</td>\n",
       "      <td>0</td>\n",
       "    </tr>\n",
       "    <tr>\n",
       "      <th>4</th>\n",
       "      <td>6483659</td>\n",
       "      <td>사이몬페그의 익살스런 연기가 돋보였던 영화스파이더맨에서 늙어보이기만 했던 커스틴 던...</td>\n",
       "      <td>1</td>\n",
       "    </tr>\n",
       "  </tbody>\n",
       "</table>\n",
       "</div>"
      ],
      "text/plain": [
       "         id                                           document  label\n",
       "0   9976970                                  아 더빙 진짜 짜증나네요 목소리      0\n",
       "1   3819312                         흠포스터보고 초딩영화줄오버연기조차 가볍지 않구나      1\n",
       "2  10265843                                  너무재밓었다그래서보는것을추천한다      0\n",
       "3   9045019                          교도소 이야기구먼 솔직히 재미는 없다평점 조정      0\n",
       "4   6483659  사이몬페그의 익살스런 연기가 돋보였던 영화스파이더맨에서 늙어보이기만 했던 커스틴 던...      1"
      ]
     },
     "execution_count": 91,
     "metadata": {},
     "output_type": "execute_result"
    },
    {
     "name": "stdout",
     "output_type": "stream",
     "text": [
      "time: 218 ms (started: 2021-01-21 09:54:07 +09:00)\n"
     ]
    }
   ],
   "source": [
    "train_data['document'] = train_data['document'].str.replace(\"[^ㄱ-ㅎㅏ-ㅣ가-힣 ]\",\"\")\n",
    "train_data[:5]"
   ]
  },
  {
   "cell_type": "markdown",
   "id": "reasonable-paint",
   "metadata": {},
   "source": [
    "### 2.2. NaN 결측치 제거"
   ]
  },
  {
   "cell_type": "markdown",
   "id": "tamil-bulgaria",
   "metadata": {},
   "source": [
    "#### NaN(Null값) 확인 \n",
    "* 확인 결과, 결측치는 없었음 \n",
    "* 데이터 양이 많을 때는 비율로 보기도 하나, Null이 적게 분포할때는 0%로 분석하게 될 수 있다. 영향은 미미하지만 결측치 여부를 종합하기 위해선 sum()으로 판단하는 것이 좋다고 판단했다. "
   ]
  },
  {
   "cell_type": "code",
   "execution_count": 92,
   "id": "promising-display",
   "metadata": {},
   "outputs": [
    {
     "name": "stdout",
     "output_type": "stream",
     "text": [
      "column:         id\t Percent of NULL: 0.00%\n",
      "column:   document\t Percent of NULL: 0.00%\n",
      "column:      label\t Percent of NULL: 0.00%\n",
      "time: 17.5 ms (started: 2021-01-21 09:54:08 +09:00)\n"
     ]
    }
   ],
   "source": [
    "# null 비율 \n",
    "for col in train_data.columns:\n",
    "    print('column: {:>10}\\t Percent of NULL: {:.2f}%'.format(col, \n",
    "          100 * (train_data[col].isnull().sum() / train_data[col].shape[0])))"
   ]
  },
  {
   "cell_type": "code",
   "execution_count": 93,
   "id": "recognized-christian",
   "metadata": {
    "scrolled": true
   },
   "outputs": [
    {
     "name": "stdout",
     "output_type": "stream",
     "text": [
      "column:         id\t NULL value 개수: 0개\n",
      "column:   document\t NULL value 개수: 1개\n",
      "column:      label\t NULL value 개수: 0개\n",
      "time: 14.9 ms (started: 2021-01-21 09:54:08 +09:00)\n"
     ]
    }
   ],
   "source": [
    "# null 개수\n",
    "for col in train_data.columns:\n",
    "    print('column: {:>10}\\t NULL value 개수: {}개'.format(col, \n",
    "          train_data[col].isnull().sum()))"
   ]
  },
  {
   "cell_type": "code",
   "execution_count": 94,
   "id": "frozen-french",
   "metadata": {},
   "outputs": [
    {
     "name": "stdout",
     "output_type": "stream",
     "text": [
      "column:         id\t NULL value 개수: 0개\n",
      "column:   document\t NULL value 개수: 1개\n",
      "column:      label\t NULL value 개수: 0개\n",
      "time: 13.6 ms (started: 2021-01-21 09:54:08 +09:00)\n"
     ]
    }
   ],
   "source": [
    "# null 개수\n",
    "for col in test_data.columns:\n",
    "    print('column: {:>10}\\t NULL value 개수: {}개'.format(col, \n",
    "          test_data[col].isnull().sum()))"
   ]
  },
  {
   "cell_type": "markdown",
   "id": "requested-framing",
   "metadata": {},
   "source": [
    "#### 결측치 제거\n",
    "* 제거 말고 평균이나 0으로 넣어주는 경우가 있으나 해당 경우는 1개로 매우 적으므로 제거한다. "
   ]
  },
  {
   "cell_type": "code",
   "execution_count": 95,
   "id": "continuing-vertical",
   "metadata": {},
   "outputs": [
    {
     "name": "stdout",
     "output_type": "stream",
     "text": [
      "time: 27.9 ms (started: 2021-01-21 09:54:09 +09:00)\n"
     ]
    }
   ],
   "source": [
    "train_data.dropna(inplace = True)"
   ]
  },
  {
   "cell_type": "code",
   "execution_count": 96,
   "id": "refined-blackjack",
   "metadata": {
    "scrolled": true
   },
   "outputs": [
    {
     "name": "stdout",
     "output_type": "stream",
     "text": [
      "column:         id\t NULL value 개수: 0개\n",
      "column:   document\t NULL value 개수: 0개\n",
      "column:      label\t NULL value 개수: 0개\n",
      "time: 19.5 ms (started: 2021-01-21 09:54:09 +09:00)\n"
     ]
    }
   ],
   "source": [
    "# null 개수\n",
    "for col in train_data.columns:\n",
    "    print('column: {:>10}\\t NULL value 개수: {}개'.format(col, \n",
    "          train_data[col].isnull().sum()))"
   ]
  },
  {
   "cell_type": "code",
   "execution_count": 97,
   "id": "computational-poultry",
   "metadata": {},
   "outputs": [
    {
     "name": "stdout",
     "output_type": "stream",
     "text": [
      "time: 18 ms (started: 2021-01-21 09:54:09 +09:00)\n"
     ]
    }
   ],
   "source": [
    "test_data.dropna(inplace = True)"
   ]
  },
  {
   "cell_type": "code",
   "execution_count": 98,
   "id": "contrary-living",
   "metadata": {
    "scrolled": true
   },
   "outputs": [
    {
     "name": "stdout",
     "output_type": "stream",
     "text": [
      "column:         id\t NULL value 개수: 0개\n",
      "column:   document\t NULL value 개수: 0개\n",
      "column:      label\t NULL value 개수: 0개\n",
      "time: 11 ms (started: 2021-01-21 09:54:09 +09:00)\n"
     ]
    }
   ],
   "source": [
    "# null 개수\n",
    "for col in train_data.columns:\n",
    "    print('column: {:>10}\\t NULL value 개수: {}개'.format(col, \n",
    "          train_data[col].isnull().sum()))"
   ]
  },
  {
   "cell_type": "markdown",
   "id": "descending-interference",
   "metadata": {},
   "source": [
    "### 2.3. 한국어 토크나이저로 토큰화\n",
    "* 왜 토큰화가 필요한가? 한국어는 영어와 다르게 띄어쓰기만으로 각 형태소가 구분되지 않는다. 단어에는 조사도 있고 동사도 있어서 Mecab은 형태소 분석기고 stopwords는 영어에서 띄어쓰기가 단어를 구분하듯이 한국어 전용 형태소 분석기이다.\n",
    "* 참고 교재에서는 Okt라는 토크나이저를 쓰는데 stem 같은 정규화 기능이 있어서 과거형이나 수동/피동형들을 원래의? 날것?의 단어로 바꿔준다. e.g. 만들었다 > 만들다"
   ]
  },
  {
   "cell_type": "code",
   "execution_count": 99,
   "id": "sought-summer",
   "metadata": {
    "scrolled": true
   },
   "outputs": [
    {
     "name": "stdout",
     "output_type": "stream",
     "text": [
      "time: 9.46 ms (started: 2021-01-21 09:54:10 +09:00)\n"
     ]
    }
   ],
   "source": [
    "from konlpy.tag import Mecab\n",
    "\n",
    "tokenizer = Mecab()\n",
    "stopwords = ['의','가','이','은','들','는','좀','잘','걍','과','도','를','으로','자','에','와','한','하다']\n",
    "\n",
    "num_words  = 10000"
   ]
  },
  {
   "cell_type": "markdown",
   "id": "revised-spoke",
   "metadata": {},
   "source": [
    "* 아래 코드를 수행할 때 append하니까 오래걸리는 느낌이 들어서 예제 코드 실행해봄 "
   ]
  },
  {
   "cell_type": "markdown",
   "id": "intended-brand",
   "metadata": {},
   "source": [
    "### 2.4. 불용어(Stopwords) 제거\n",
    "* document열의 한 행 요소를 문장 단위로 임시 리스트에 저장한 후 train에 append한다."
   ]
  },
  {
   "cell_type": "code",
   "execution_count": 100,
   "id": "arbitrary-genome",
   "metadata": {},
   "outputs": [
    {
     "name": "stdout",
     "output_type": "stream",
     "text": [
      "time: 10.8 s (started: 2021-01-21 09:54:11 +09:00)\n"
     ]
    }
   ],
   "source": [
    "# 10초 정도 소요\n",
    "for sentence in train_data['document']:\n",
    "    X_tmp = []\n",
    "    X_tmp = tokenizer.morphs(sentence) # 토큰화 \n",
    "    X_tmp = [word for word in X_tmp if not word in stopwords] #불용어 제거 \n",
    "    X_train.append(X_tmp)"
   ]
  },
  {
   "cell_type": "code",
   "execution_count": 101,
   "id": "flush-gamma",
   "metadata": {},
   "outputs": [
    {
     "data": {
      "text/plain": [
       "[['아', '더', '빙', '진짜', '짜증', '나', '네요', '목소리'],\n",
       " ['흠', '포스터', '보고', '초딩', '영화', '줄', '오버', '연기', '조차', '가볍', '지', '않', '구나'],\n",
       " ['너무', '재', '밓었다그래서보는것을추천한다']]"
      ]
     },
     "execution_count": 101,
     "metadata": {},
     "output_type": "execute_result"
    },
    {
     "name": "stdout",
     "output_type": "stream",
     "text": [
      "time: 1.61 ms (started: 2021-01-21 09:54:22 +09:00)\n"
     ]
    }
   ],
   "source": [
    "X_train[:3]"
   ]
  },
  {
   "cell_type": "code",
   "execution_count": 102,
   "id": "reasonable-register",
   "metadata": {},
   "outputs": [
    {
     "name": "stdout",
     "output_type": "stream",
     "text": [
      "time: 3.59 s (started: 2021-01-21 09:54:22 +09:00)\n"
     ]
    }
   ],
   "source": [
    "# 4초 정도 소요\n",
    "for sentence in test_data['document']:\n",
    "    X_tmp = []\n",
    "    X_tmp = tokenizer.morphs(sentence) # 토큰화 \n",
    "    X_tmp = [word for word in X_tmp if not word in stopwords] #불용어 제거 \n",
    "    X_test.append(X_tmp)"
   ]
  },
  {
   "cell_type": "code",
   "execution_count": 103,
   "id": "arranged-idaho",
   "metadata": {},
   "outputs": [
    {
     "data": {
      "text/plain": [
       "[['굳', 'ㅋ'],\n",
       " ['GDNTOPCLASSINTHECLUB'],\n",
       " ['뭐',\n",
       "  '야',\n",
       "  '평점',\n",
       "  '.',\n",
       "  '...',\n",
       "  '나쁘',\n",
       "  '진',\n",
       "  '않',\n",
       "  '지만',\n",
       "  '10',\n",
       "  '점',\n",
       "  '짜리',\n",
       "  '더더욱',\n",
       "  '아니',\n",
       "  '잖아']]"
      ]
     },
     "execution_count": 103,
     "metadata": {},
     "output_type": "execute_result"
    },
    {
     "name": "stdout",
     "output_type": "stream",
     "text": [
      "time: 1.48 ms (started: 2021-01-21 09:54:26 +09:00)\n"
     ]
    }
   ],
   "source": [
    "X_test[:3]"
   ]
  },
  {
   "cell_type": "markdown",
   "id": "consistent-planet",
   "metadata": {},
   "source": [
    "### 2.5. 사전word_to_index 구성\n",
    "* Counter를 사용해도 되고, Tokenizer로 fit_on_texts를 사용해도 정수 인코딩을 할 수 있다."
   ]
  },
  {
   "cell_type": "code",
   "execution_count": 104,
   "id": "ethical-chuck",
   "metadata": {
    "scrolled": false
   },
   "outputs": [
    {
     "name": "stdout",
     "output_type": "stream",
     "text": [
      "time: 894 ms (started: 2021-01-21 09:54:26 +09:00)\n"
     ]
    }
   ],
   "source": [
    "words = np.concatenate(X_train).tolist()\n",
    "counter = Counter(words)\n",
    "counter = counter.most_common(10000-4)\n",
    "vocab = ['<PAD>', '<BOS>', '<UNK>', '<UNUSED>'] + [key for key, _ in counter]\n",
    "\n",
    "word_to_index = {word:index for index, word in enumerate(vocab)}"
   ]
  },
  {
   "cell_type": "markdown",
   "id": "specified-poker",
   "metadata": {},
   "source": [
    "### 2.6. 텍스트 스트링을 사전 인덱스 스트링으로 변환"
   ]
  },
  {
   "cell_type": "code",
   "execution_count": 105,
   "id": "worst-comparison",
   "metadata": {
    "scrolled": true
   },
   "outputs": [
    {
     "name": "stdout",
     "output_type": "stream",
     "text": [
      "time: 415 µs (started: 2021-01-21 09:54:27 +09:00)\n"
     ]
    }
   ],
   "source": [
    "def wordlist_to_indexlist(wordlist):\n",
    "    return [word_to_index[word] if word in word_to_index else word_to_index['<UNK>'] for word in wordlist]"
   ]
  },
  {
   "cell_type": "code",
   "execution_count": 106,
   "id": "metric-advocate",
   "metadata": {
    "scrolled": true
   },
   "outputs": [
    {
     "data": {
      "text/plain": [
       "['아', '더', '빙', '진짜', '짜증', '나', '네요', '목소리']"
      ]
     },
     "execution_count": 106,
     "metadata": {},
     "output_type": "execute_result"
    },
    {
     "name": "stdout",
     "output_type": "stream",
     "text": [
      "time: 1.41 ms (started: 2021-01-21 09:54:27 +09:00)\n"
     ]
    }
   ],
   "source": [
    "X_train[0]"
   ]
  },
  {
   "cell_type": "markdown",
   "id": "posted-trailer",
   "metadata": {},
   "source": [
    "### 2.7. X_train, y_train, X_test, y_test"
   ]
  },
  {
   "cell_type": "code",
   "execution_count": 107,
   "id": "technological-judge",
   "metadata": {
    "scrolled": true
   },
   "outputs": [
    {
     "name": "stdout",
     "output_type": "stream",
     "text": [
      "time: 947 ms (started: 2021-01-21 09:54:27 +09:00)\n"
     ]
    }
   ],
   "source": [
    "X_train = list(map(wordlist_to_indexlist, X_train))\n",
    "X_test = list(map(wordlist_to_indexlist, X_test))"
   ]
  },
  {
   "cell_type": "code",
   "execution_count": 108,
   "id": "exotic-diameter",
   "metadata": {},
   "outputs": [
    {
     "data": {
      "text/plain": [
       "[[27, 67, 895, 33, 214, 15, 28, 699],\n",
       " [977, 481, 491, 636, 4, 110, 1554, 48, 866, 949, 11, 38, 364],\n",
       " [19, 192, 2]]"
      ]
     },
     "execution_count": 108,
     "metadata": {},
     "output_type": "execute_result"
    },
    {
     "name": "stdout",
     "output_type": "stream",
     "text": [
      "time: 1.59 ms (started: 2021-01-21 09:54:28 +09:00)\n"
     ]
    }
   ],
   "source": [
    "X_train[:3]"
   ]
  },
  {
   "cell_type": "code",
   "execution_count": 109,
   "id": "outer-hindu",
   "metadata": {},
   "outputs": [
    {
     "name": "stdout",
     "output_type": "stream",
     "text": [
      "time: 22.8 ms (started: 2021-01-21 09:54:28 +09:00)\n"
     ]
    }
   ],
   "source": [
    "y_train = np.array(list(train_data['label']))\n",
    "y_test = np.array(list(test_data['label']))"
   ]
  },
  {
   "cell_type": "markdown",
   "id": "primary-hawaii",
   "metadata": {},
   "source": [
    "#### index to word"
   ]
  },
  {
   "cell_type": "code",
   "execution_count": 110,
   "id": "right-reynolds",
   "metadata": {},
   "outputs": [
    {
     "name": "stdout",
     "output_type": "stream",
     "text": [
      "time: 3.05 ms (started: 2021-01-21 09:54:28 +09:00)\n"
     ]
    }
   ],
   "source": [
    "index_to_word = {index:word for word, index in word_to_index.items()}"
   ]
  },
  {
   "cell_type": "code",
   "execution_count": 111,
   "id": "advance-module",
   "metadata": {},
   "outputs": [
    {
     "name": "stdout",
     "output_type": "stream",
     "text": [
      "time: 1.23 ms (started: 2021-01-21 09:54:28 +09:00)\n"
     ]
    }
   ],
   "source": [
    "# 문장 1개를 활용할 딕셔너리와 함께 주면, 단어 인덱스 리스트 벡터로 변환해 주는 함수입니다. \n",
    "# 단, 모든 문장은 <BOS>로 시작하는 것으로 합니다. \n",
    "def get_encoded_sentence(sentence, word_to_index):\n",
    "    return [word_to_index['<BOS>']]+[word_to_index[word] if word in word_to_index else word_to_index['<UNK>'] for word in sentence.split()]\n",
    "\n",
    "# 여러 개의 문장 리스트를 한꺼번에 단어 인덱스 리스트 벡터로 encode해 주는 함수입니다. \n",
    "def get_encoded_sentences(sentences, word_to_index):\n",
    "    return [get_encoded_sentence(sentence, word_to_index) for sentence in sentences]\n",
    "\n",
    "# 숫자 벡터로 encode된 문장을 원래대로 decode하는 함수입니다. \n",
    "def get_decoded_sentence(encoded_sentence, index_to_word):\n",
    "    return ' '.join(index_to_word[index] if index in index_to_word else '<UNK>' for index in encoded_sentence[1:])  #[1:]를 통해 <BOS>를 제외\n",
    "\n",
    "# 여러개의 숫자 벡터로 encode된 문장을 한꺼번에 원래대로 decode하는 함수입니다. \n",
    "def get_decoded_sentences(encoded_sentences, index_to_word):\n",
    "    return [get_decoded_sentence(encoded_sentence, index_to_word) for encoded_sentence in encoded_sentences]"
   ]
  },
  {
   "cell_type": "markdown",
   "id": "optical-happiness",
   "metadata": {},
   "source": [
    "## 3. 모델 구성을 위한 데이터 분석 및 가공\n",
    "\n",
    "### 데이터셋 내 문장 길이 분포 "
   ]
  },
  {
   "cell_type": "code",
   "execution_count": 112,
   "id": "secure-chess",
   "metadata": {
    "scrolled": true
   },
   "outputs": [
    {
     "name": "stdout",
     "output_type": "stream",
     "text": [
      "[27, 67, 895, 33, 214, 15, 28, 699]\n",
      "라벨:  0\n",
      "1번째 리뷰 문장 길이:  8\n",
      "2번째 리뷰 문장 길이:  13\n",
      "time: 733 µs (started: 2021-01-21 09:54:28 +09:00)\n"
     ]
    }
   ],
   "source": [
    "print(X_train[0])  # 1번째 리뷰데이터\n",
    "print('라벨: ', y_train[0])  # 1번째 리뷰데이터의 라벨\n",
    "print('1번째 리뷰 문장 길이: ', len(X_train[0]))\n",
    "print('2번째 리뷰 문장 길이: ', len(X_train[1]))"
   ]
  },
  {
   "cell_type": "code",
   "execution_count": 113,
   "id": "historic-shirt",
   "metadata": {
    "scrolled": false
   },
   "outputs": [
    {
     "name": "stdout",
     "output_type": "stream",
     "text": [
      "문장길이 평균 :  14.281080582986501\n",
      "문장길이 최대 :  105\n",
      "문장길이 표준편차 :  11.87192323676208\n",
      "time: 45 ms (started: 2021-01-21 09:54:28 +09:00)\n"
     ]
    }
   ],
   "source": [
    "total_data_text = list(X_train) + list(X_test)\n",
    "# 텍스트데이터 문장길이의 리스트를 생성한 후\n",
    "num_tokens = [len(tokens) for tokens in total_data_text]\n",
    "num_tokens = np.array(num_tokens)\n",
    "# 문장길이의 평균값, 최대값, 표준편차를 계산해 본다. \n",
    "print('문장길이 평균 : ', np.mean(num_tokens))\n",
    "print('문장길이 최대 : ', np.max(num_tokens))\n",
    "print('문장길이 표준편차 : ', np.std(num_tokens))"
   ]
  },
  {
   "cell_type": "markdown",
   "id": "portable-vehicle",
   "metadata": {},
   "source": [
    "### 적절한 문장 최대 길이 지정 \n",
    "* 분포를 통해 확인했을 때 문장의 최대 길이는 40정도가 적당해 보인다. "
   ]
  },
  {
   "cell_type": "code",
   "execution_count": 114,
   "id": "increased-locator",
   "metadata": {
    "scrolled": true
   },
   "outputs": [
    {
     "name": "stdout",
     "output_type": "stream",
     "text": [
      "리뷰의 최대 길이 : 105\n",
      "리뷰의 평균 길이 : 14.281080582986501\n"
     ]
    },
    {
     "data": {
      "image/png": "[encoded data removed]",
      "text/plain": [
       "<Figure size 432x288 with 1 Axes>"
      ]
     },
     "metadata": {
      "needs_background": "light"
     },
     "output_type": "display_data"
    },
    {
     "name": "stdout",
     "output_type": "stream",
     "text": [
      "time: 582 ms (started: 2021-01-21 09:54:28 +09:00)\n"
     ]
    }
   ],
   "source": [
    "print('리뷰의 최대 길이 :', np.max(num_tokens))\n",
    "print('리뷰의 평균 길이 :', np.mean(num_tokens))\n",
    "plt.hist([len(s) for s in X_train], bins=50)\n",
    "plt.xlabel('length of samples')\n",
    "plt.ylabel('number of samples')\n",
    "plt.show()"
   ]
  },
  {
   "cell_type": "markdown",
   "id": "tired-orleans",
   "metadata": {},
   "source": [
    "* 분포와 비슷한 계산수치를 사용해도 41 정도가 최대 길이로 보이고, 90%이상을 포함하므로 최대 길이를 41로 선정한다. "
   ]
  },
  {
   "cell_type": "code",
   "execution_count": 115,
   "id": "certified-cargo",
   "metadata": {},
   "outputs": [
    {
     "name": "stdout",
     "output_type": "stream",
     "text": [
      "pad_sequences maxlen :  38\n",
      "전체 문장의 0.9366588341293853%가 maxlen 설정값 이내에 포함됩니다. \n",
      "time: 1.8 ms (started: 2021-01-21 09:54:28 +09:00)\n"
     ]
    }
   ],
   "source": [
    "# 예를들어, 최대 길이를 (평균 + 2*표준편차)로 한다면,  \n",
    "max_tokens = np.mean(num_tokens) + 2 * np.std(num_tokens)\n",
    "max_len = int(max_tokens)\n",
    "print('pad_sequences maxlen : ', max_len)\n",
    "print('전체 문장의 {}%가 maxlen 설정값 이내에 포함됩니다. '.format(np.sum(num_tokens < max_tokens) / len(num_tokens)))"
   ]
  },
  {
   "cell_type": "markdown",
   "id": "optical-sarah",
   "metadata": {},
   "source": [
    "### keras.preprocessing.sequence.pad_sequences 을 활용한 패딩 추가"
   ]
  },
  {
   "cell_type": "code",
   "execution_count": 116,
   "id": "working-silly",
   "metadata": {},
   "outputs": [
    {
     "name": "stdout",
     "output_type": "stream",
     "text": [
      "time: 717 ms (started: 2021-01-21 09:54:29 +09:00)\n"
     ]
    }
   ],
   "source": [
    "from tensorflow.keras.preprocessing.sequence import pad_sequences\n",
    "\n",
    "X_train = pad_sequences(X_train, \n",
    "                        maxlen = max_len,\n",
    "                        value=word_to_index[\"<PAD>\"],\n",
    "                        padding='pre')\n",
    "X_test = pad_sequences(X_test, \n",
    "                       maxlen = max_len,\n",
    "                       value=word_to_index[\"<PAD>\"],\n",
    "                       padding='pre')"
   ]
  },
  {
   "cell_type": "code",
   "execution_count": 117,
   "id": "selected-blond",
   "metadata": {},
   "outputs": [
    {
     "name": "stdout",
     "output_type": "stream",
     "text": [
      "(146182, 38)\n",
      "(49157, 38)\n",
      "time: 1.46 ms (started: 2021-01-21 09:54:35 +09:00)\n"
     ]
    }
   ],
   "source": [
    "print(X_train.shape)\n",
    "print(X_test.shape)"
   ]
  },
  {
   "cell_type": "raw",
   "id": "universal-stuart",
   "metadata": {},
   "source": [
    "## 4. 모델 구성 및 Validation set 구성 "
   ]
  },
  {
   "cell_type": "markdown",
   "id": "through-matter",
   "metadata": {},
   "source": [
    "### 4.1. 모델 구성 "
   ]
  },
  {
   "cell_type": "code",
   "execution_count": 43,
   "id": "optional-chinese",
   "metadata": {
    "scrolled": true
   },
   "outputs": [
    {
     "name": "stdout",
     "output_type": "stream",
     "text": [
      "time: 300 µs (started: 2021-01-21 08:21:38 +09:00)\n"
     ]
    }
   ],
   "source": [
    "total_cnt = len(word_to_index)\n",
    "vocab_size = total_cnt    # 어휘 사전의 크기입니다(10,000개의 단어)\n"
   ]
  },
  {
   "cell_type": "code",
   "execution_count": 44,
   "id": "infrared-calculation",
   "metadata": {},
   "outputs": [
    {
     "name": "stdout",
     "output_type": "stream",
     "text": [
      "time: 236 µs (started: 2021-01-21 08:21:38 +09:00)\n"
     ]
    }
   ],
   "source": [
    "word_vector_dim = 16  # 워드 벡터의 차원수 (변경가능한 하이퍼파라미터)\n",
    "                                             #  # 단어 하나를 표현하는 임베딩 벡터의 차원수입니다. "
   ]
  },
  {
   "cell_type": "markdown",
   "id": "acoustic-lottery",
   "metadata": {},
   "source": [
    "* LSTM 모델 구성\n",
    "    - 기존에 차원 8에서 64로 높임"
   ]
  },
  {
   "cell_type": "code",
   "execution_count": 45,
   "id": "floating-glance",
   "metadata": {
    "scrolled": true
   },
   "outputs": [
    {
     "name": "stdout",
     "output_type": "stream",
     "text": [
      "Model: \"sequential\"\n",
      "_________________________________________________________________\n",
      "Layer (type)                 Output Shape              Param #   \n",
      "=================================================================\n",
      "embedding (Embedding)        (None, None, 16)          160000    \n",
      "_________________________________________________________________\n",
      "lstm (LSTM)                  (None, 64)                20736     \n",
      "_________________________________________________________________\n",
      "dense (Dense)                (None, 1)                 65        \n",
      "=================================================================\n",
      "Total params: 180,801\n",
      "Trainable params: 180,801\n",
      "Non-trainable params: 0\n",
      "_________________________________________________________________\n",
      "time: 605 ms (started: 2021-01-21 08:21:38 +09:00)\n"
     ]
    }
   ],
   "source": [
    "model = keras.Sequential()\n",
    "model.add(keras.layers.Embedding(vocab_size, word_vector_dim, input_shape=(None,)))\n",
    "model.add(keras.layers.LSTM(64))   # 가장 널리 쓰이는 RNN인 LSTM 레이어를 사용하였습니다. 이때 LSTM state 벡터의 차원수는 64로 하였습니다. (변경가능)\n",
    "# model.add(keras.layers.Dense(8, activation='relu')) # 안해도 됨\n",
    "model.add(keras.layers.Dense(1, activation='sigmoid'))  # 최종 출력은 긍정/부정을 나타내는 1dim 입니다.\n",
    "\n",
    "model.summary()"
   ]
  },
  {
   "cell_type": "markdown",
   "id": "annual-methodology",
   "metadata": {},
   "source": [
    "* GlobalMaxPooling1D() 레이어 하나만 사용"
   ]
  },
  {
   "cell_type": "code",
   "execution_count": 46,
   "id": "parliamentary-gallery",
   "metadata": {},
   "outputs": [
    {
     "name": "stdout",
     "output_type": "stream",
     "text": [
      "Model: \"sequential_1\"\n",
      "_________________________________________________________________\n",
      "Layer (type)                 Output Shape              Param #   \n",
      "=================================================================\n",
      "embedding_1 (Embedding)      (None, None, 16)          160000    \n",
      "_________________________________________________________________\n",
      "global_max_pooling1d (Global (None, 16)                0         \n",
      "_________________________________________________________________\n",
      "dense_1 (Dense)              (None, 8)                 136       \n",
      "_________________________________________________________________\n",
      "dense_2 (Dense)              (None, 1)                 9         \n",
      "=================================================================\n",
      "Total params: 160,145\n",
      "Trainable params: 160,145\n",
      "Non-trainable params: 0\n",
      "_________________________________________________________________\n",
      "time: 26.5 ms (started: 2021-01-21 08:21:39 +09:00)\n"
     ]
    }
   ],
   "source": [
    "# model = keras.Sequential()\n",
    "# model.add(keras.layers.Embedding(vocab_size, word_vector_dim, input_shape=(None,)))\n",
    "# model.add(keras.layers.GlobalMaxPooling1D())\n",
    "# model.add(keras.layers.Dense(8, activation='relu'))\n",
    "# model.add(keras.layers.Dense(1, activation='sigmoid'))  # 최종 출력은 긍정/부정을 나타내는 1dim 입니다.\n",
    "\n",
    "# model.summary()"
   ]
  },
  {
   "cell_type": "markdown",
   "id": "sixth-bracelet",
   "metadata": {},
   "source": [
    "### 4.2. 데이터셋 분리\n",
    "* 테스트가 약 15000여개가 있으므로 4:1 비율로 Valid를 할당한다. \n",
    "* 따라서 valid set은 전체 train set에서 약 20%에 해당하는 29300만건 정도 할당한다"
   ]
  },
  {
   "cell_type": "code",
   "execution_count": 47,
   "id": "neither-blade",
   "metadata": {
    "scrolled": true
   },
   "outputs": [
    {
     "name": "stdout",
     "output_type": "stream",
     "text": [
      "29236.4\n",
      "time: 415 µs (started: 2021-01-21 08:21:39 +09:00)\n"
     ]
    }
   ],
   "source": [
    "print(X_train.shape[0]*0.2)"
   ]
  },
  {
   "cell_type": "code",
   "execution_count": 48,
   "id": "stylish-street",
   "metadata": {},
   "outputs": [
    {
     "name": "stdout",
     "output_type": "stream",
     "text": [
      "(116882, 38)\n",
      "(116882,)\n",
      "time: 584 µs (started: 2021-01-21 08:21:39 +09:00)\n"
     ]
    }
   ],
   "source": [
    "# validation set 29300건 분리\n",
    "X_val = X_train[:29300]   \n",
    "y_val = y_train[:29300]\n",
    "\n",
    "# validation set을 제외한 나머지 \n",
    "partial_X_train = X_train[29300:]  \n",
    "partial_y_train = y_train[29300:]\n",
    "\n",
    "print(partial_X_train.shape)\n",
    "print(partial_y_train.shape)"
   ]
  },
  {
   "cell_type": "markdown",
   "id": "august-comparison",
   "metadata": {},
   "source": [
    "## 5. 모델 훈련 개시 \n",
    "* 최고 점수 나오는 모델을 저장할 수 있도록 함 (추가 시도)"
   ]
  },
  {
   "cell_type": "code",
   "execution_count": 50,
   "id": "included-split",
   "metadata": {},
   "outputs": [
    {
     "name": "stdout",
     "output_type": "stream",
     "text": [
      "time: 713 µs (started: 2021-01-21 08:22:10 +09:00)\n"
     ]
    }
   ],
   "source": [
    "from tensorflow.keras.models import load_model\n",
    "from tensorflow.keras.callbacks import EarlyStopping, ModelCheckpoint\n",
    "\n",
    "es = EarlyStopping(monitor='val_loss', mode='min', verbose=1, patience=5)\n",
    "mc = ModelCheckpoint('best_model.h5', monitor='val_acc', mode='max', verbose=1, save_best_only=True)"
   ]
  },
  {
   "cell_type": "markdown",
   "id": "authentic-ottawa",
   "metadata": {},
   "source": [
    "* batch size는 얼마만큼 묶음지어서 학습시킬 것이냐이기 때문에 512는 너무 커서 100정도로 줄여서 시도했다. 값은 일반적으로 60, 80정도 잡길래 일단 100으로 줄였다.(추가 시도)"
   ]
  },
  {
   "cell_type": "code",
   "execution_count": 51,
   "id": "controlling-radical",
   "metadata": {},
   "outputs": [
    {
     "name": "stdout",
     "output_type": "stream",
     "text": [
      "Epoch 1/20\n",
      "1156/1169 [============================>.] - ETA: 0s - loss: 0.4625 - accuracy: 0.7966WARNING:tensorflow:Can save best model only with val_acc available, skipping.\n",
      "1169/1169 [==============================] - 3s 2ms/step - loss: 0.4614 - accuracy: 0.7971 - val_loss: 0.3666 - val_accuracy: 0.8340\n",
      "Epoch 2/20\n",
      "1157/1169 [============================>.] - ETA: 0s - loss: 0.3385 - accuracy: 0.8535WARNING:tensorflow:Can save best model only with val_acc available, skipping.\n",
      "1169/1169 [==============================] - 3s 2ms/step - loss: 0.3383 - accuracy: 0.8536 - val_loss: 0.3579 - val_accuracy: 0.8397\n",
      "Epoch 3/20\n",
      "1165/1169 [============================>.] - ETA: 0s - loss: 0.3020 - accuracy: 0.8728WARNING:tensorflow:Can save best model only with val_acc available, skipping.\n",
      "1169/1169 [==============================] - 3s 2ms/step - loss: 0.3021 - accuracy: 0.8728 - val_loss: 0.3608 - val_accuracy: 0.8404\n",
      "Epoch 4/20\n",
      "1164/1169 [============================>.] - ETA: 0s - loss: 0.2770 - accuracy: 0.8847WARNING:tensorflow:Can save best model only with val_acc available, skipping.\n",
      "1169/1169 [==============================] - 3s 2ms/step - loss: 0.2771 - accuracy: 0.8846 - val_loss: 0.3682 - val_accuracy: 0.8417\n",
      "Epoch 5/20\n",
      "1165/1169 [============================>.] - ETA: 0s - loss: 0.2572 - accuracy: 0.8949WARNING:tensorflow:Can save best model only with val_acc available, skipping.\n",
      "1169/1169 [==============================] - 3s 3ms/step - loss: 0.2572 - accuracy: 0.8949 - val_loss: 0.3813 - val_accuracy: 0.8408\n",
      "Epoch 6/20\n",
      "1162/1169 [============================>.] - ETA: 0s - loss: 0.2416 - accuracy: 0.9029WARNING:tensorflow:Can save best model only with val_acc available, skipping.\n",
      "1169/1169 [==============================] - 3s 3ms/step - loss: 0.2417 - accuracy: 0.9029 - val_loss: 0.3927 - val_accuracy: 0.8401\n",
      "Epoch 7/20\n",
      "1162/1169 [============================>.] - ETA: 0s - loss: 0.2274 - accuracy: 0.9092WARNING:tensorflow:Can save best model only with val_acc available, skipping.\n",
      "1169/1169 [==============================] - 3s 3ms/step - loss: 0.2275 - accuracy: 0.9092 - val_loss: 0.4095 - val_accuracy: 0.8384\n",
      "Epoch 00007: early stopping\n",
      "time: 21.6 s (started: 2021-01-21 08:22:18 +09:00)\n"
     ]
    }
   ],
   "source": [
    "model.compile(optimizer='adam',\n",
    "              loss='binary_crossentropy',\n",
    "              metrics=['accuracy'])\n",
    "              \n",
    "epochs=20  # 몇 epoch를 훈련하면 좋을지 결과를 보면서 바꾸어 봅시다. \n",
    "\n",
    "history = model.fit(partial_X_train,\n",
    "                    partial_y_train,\n",
    "                    epochs=epochs,\n",
    "                    batch_size=512, # 512, 100 \n",
    "                    validation_data=(X_val, y_val),\n",
    "                    verbose=1,\n",
    "                    callbacks = [es, mc])"
   ]
  },
  {
   "cell_type": "markdown",
   "id": "drawn-victorian",
   "metadata": {},
   "source": [
    "## 6. Loss, Accuracy 그래프 시각화"
   ]
  },
  {
   "cell_type": "code",
   "execution_count": 52,
   "id": "isolated-tamil",
   "metadata": {
    "scrolled": true
   },
   "outputs": [
    {
     "name": "stdout",
     "output_type": "stream",
     "text": [
      "1537/1537 - 2s - loss: 0.4235 - accuracy: 0.8277\n",
      "[0.423517107963562, 0.8277356028556824]\n",
      "time: 1.83 s (started: 2021-01-21 08:22:40 +09:00)\n"
     ]
    }
   ],
   "source": [
    "results = model.evaluate(X_test,  y_test, verbose=2)\n",
    "\n",
    "print(results)"
   ]
  },
  {
   "cell_type": "code",
   "execution_count": 53,
   "id": "stuck-microphone",
   "metadata": {},
   "outputs": [
    {
     "name": "stdout",
     "output_type": "stream",
     "text": [
      "dict_keys(['loss', 'accuracy', 'val_loss', 'val_accuracy'])\n",
      "time: 679 µs (started: 2021-01-21 08:22:41 +09:00)\n"
     ]
    }
   ],
   "source": [
    "history_dict = history.history\n",
    "print(history_dict.keys()) # epoch에 따른 그래프를 그려볼 수 있는 항목들"
   ]
  },
  {
   "cell_type": "code",
   "execution_count": 54,
   "id": "economic-density",
   "metadata": {},
   "outputs": [
    {
     "data": {
      "image/png": "[encoded data removed]",
      "text/plain": [
       "<Figure size 432x288 with 1 Axes>"
      ]
     },
     "metadata": {
      "needs_background": "light"
     },
     "output_type": "display_data"
    },
    {
     "name": "stdout",
     "output_type": "stream",
     "text": [
      "time: 131 ms (started: 2021-01-21 08:22:41 +09:00)\n"
     ]
    }
   ],
   "source": [
    "\n",
    "acc = history_dict['accuracy']\n",
    "val_acc = history_dict['val_accuracy']\n",
    "loss = history_dict['loss']\n",
    "val_loss = history_dict['val_loss']\n",
    "\n",
    "epochs = range(1, len(acc) + 1)\n",
    "\n",
    "# \"bo\"는 \"파란색 점\"입니다\n",
    "plt.plot(epochs, loss, 'bo', label='Training loss')\n",
    "# b는 \"파란 실선\"입니다\n",
    "plt.plot(epochs, val_loss, 'b', label='Validation loss')\n",
    "plt.title('Training and validation loss')\n",
    "plt.xlabel('Epochs')\n",
    "plt.ylabel('Loss')\n",
    "plt.legend()\n",
    "\n",
    "plt.show()"
   ]
  },
  {
   "cell_type": "code",
   "execution_count": 55,
   "id": "ethical-gender",
   "metadata": {},
   "outputs": [
    {
     "data": {
      "image/png": "[encoded data removed]",
      "text/plain": [
       "<Figure size 432x288 with 1 Axes>"
      ]
     },
     "metadata": {
      "needs_background": "light"
     },
     "output_type": "display_data"
    },
    {
     "name": "stdout",
     "output_type": "stream",
     "text": [
      "time: 116 ms (started: 2021-01-21 08:22:42 +09:00)\n"
     ]
    }
   ],
   "source": [
    "plt.clf()   # 그림을 초기화합니다\n",
    "\n",
    "plt.plot(epochs, acc, 'bo', label='Training acc')\n",
    "plt.plot(epochs, val_acc, 'b', label='Validation acc')\n",
    "plt.title('Training and validation accuracy')\n",
    "plt.xlabel('Epochs')\n",
    "plt.ylabel('Accuracy')\n",
    "plt.legend()\n",
    "\n",
    "plt.show()"
   ]
  },
  {
   "cell_type": "markdown",
   "id": "tamil-radical",
   "metadata": {},
   "source": [
    "## 7. 학습된 Embedding 레이어 분석"
   ]
  },
  {
   "cell_type": "code",
   "execution_count": 56,
   "id": "upper-orbit",
   "metadata": {},
   "outputs": [
    {
     "name": "stdout",
     "output_type": "stream",
     "text": [
      "(10000, 16)\n",
      "time: 2.59 ms (started: 2021-01-21 08:22:42 +09:00)\n"
     ]
    }
   ],
   "source": [
    "embedding_layer = model.layers[0]\n",
    "weights = embedding_layer.get_weights()[0]\n",
    "print(weights.shape)    # shape: (vocab_size, embedding_dim)"
   ]
  },
  {
   "cell_type": "code",
   "execution_count": 57,
   "id": "silver-thousand",
   "metadata": {},
   "outputs": [
    {
     "name": "stdout",
     "output_type": "stream",
     "text": [
      "time: 115 ms (started: 2021-01-21 08:22:42 +09:00)\n"
     ]
    }
   ],
   "source": [
    "# 학습한 Embedding 파라미터를 파일에 써서 저장합니다. \n",
    "word2vec_file_path = os.getenv('HOME')+'/aiffel/sentiment_classification/word2vec.txt'\n",
    "f = open(word2vec_file_path, 'w')\n",
    "f.write('{} {}\\n'.format(vocab_size-4, word_vector_dim))  # 몇개의 벡터를 얼마 사이즈로 기재할지 타이틀을 씁니다.\n",
    "\n",
    "# 단어 개수(에서 특수문자 4개는 제외하고)만큼의 워드 벡터를 파일에 기록합니다. \n",
    "vectors = model.get_weights()[0]\n",
    "for i in range(4,vocab_size):\n",
    "    f.write('{} {}\\n'.format(index_to_word[i], ' '.join(map(str, list(vectors[i, :])))))\n",
    "f.close()"
   ]
  },
  {
   "cell_type": "markdown",
   "id": "south-motorcycle",
   "metadata": {},
   "source": [
    "## 8. 한국어 Word2Vec 임베딩 활용하여 성능개선"
   ]
  },
  {
   "cell_type": "code",
   "execution_count": null,
   "id": "precious-adjustment",
   "metadata": {},
   "outputs": [],
   "source": [
    "from gensim.models import KeyedVectors\n",
    "word2vec_path = os.getenv('HOME')+'/aiffel/sentiment_classification/GoogleNews-vectors-negative300.bin.gz'\n",
    "word2vec = KeyedVectors.load_word2vec_format(word2vec_path, binary=True, limit=1000000)\n",
    "vector = word2vec['computer']"
   ]
  },
  {
   "cell_type": "code",
   "execution_count": null,
   "id": "million-carbon",
   "metadata": {},
   "outputs": [],
   "source": [
    "vocab_size = 10000    # 어휘 사전의 크기입니다(10,000개의 단어)\n",
    "word_vector_dim = 300  # 워드 벡터의 차원수 (변경가능한 하이퍼파라미터)"
   ]
  },
  {
   "cell_type": "code",
   "execution_count": null,
   "id": "complicated-bonus",
   "metadata": {},
   "outputs": [],
   "source": [
    "embedding_matrix = np.random.rand(vocab_size, word_vector_dim)\n",
    "\n",
    "# embedding_matrix에 Word2Vec 워드벡터를 단어 하나씩마다 차례차례 카피한다.\n",
    "for i in range(4,vocab_size):\n",
    "    if index_to_word[i] in word2vec:\n",
    "        embedding_matrix[i] = word2vec[index_to_word[i]]"
   ]
  },
  {
   "cell_type": "markdown",
   "id": "likely-folder",
   "metadata": {},
   "source": [
    "### 8.1. CNN에 임베딩벡터를 적용 "
   ]
  },
  {
   "cell_type": "code",
   "execution_count": null,
   "id": "textile-spread",
   "metadata": {
    "scrolled": true
   },
   "outputs": [],
   "source": [
    "# from tensorflow.keras.initializers import Constant\n",
    "\n",
    "# # 모델 구성\n",
    "# model = keras.Sequential()\n",
    "# model.add(keras.layers.Embedding(vocab_size, \n",
    "#                                  word_vector_dim, \n",
    "#                                  embeddings_initializer=Constant(embedding_matrix),  # 카피한 임베딩을 여기서 활용\n",
    "#                                  input_length=max_len, \n",
    "#                                  trainable=True))   # trainable을 True로 주면 Fine-tuning\n",
    "# model.add(keras.layers.Conv1D(16, 5, activation='relu')) #16, 32 (추가시도)\n",
    "# model.add(keras.layers.MaxPooling1D(5))\n",
    "# model.add(keras.layers.Conv1D(16, 5, activation='relu')) #negative error가 떠서 커널 사이즈를 줄여줬다. (추가 시도)\n",
    "# model.add(keras.layers.GlobalMaxPooling1D())\n",
    "# model.add(keras.layers.Dense(16, activation='relu'))\n",
    "# model.add(keras.layers.Dense(1, activation='sigmoid')) \n",
    "\n",
    "# model.summary()"
   ]
  },
  {
   "cell_type": "markdown",
   "id": "amateur-beginning",
   "metadata": {},
   "source": [
    "### 8.2. LSTM에 임베딩 벡터 적용 "
   ]
  },
  {
   "cell_type": "code",
   "execution_count": null,
   "id": "legislative-sampling",
   "metadata": {},
   "outputs": [],
   "source": [
    "from tensorflow.keras.initializers import Constant\n",
    "\n",
    "model = keras.Sequential()\n",
    "model.add(vocab_size, \n",
    "                                 word_vector_dim, \n",
    "                                 embeddings_initializer=Constant(embedding_matrix),  # 카피한 임베딩을 여기서 활용\n",
    "                                 input_length=max_len, \n",
    "                                 trainable=True))\n",
    "model.add(keras.layers.LSTM(64))   # 가장 널리 쓰이는 RNN인 LSTM 레이어를 사용하였습니다. 이때 LSTM state 벡터의 차원수는 64로 하였습니다. (변경가능)\n",
    "# model.add(keras.layers.Dense(8, activation='relu')) # 안해도 됨\n",
    "model.add(keras.layers.Dense(1, activation='sigmoid'))  # 최종 출력은 긍정/부정을 나타내는 1dim 입니다.\n",
    "\n",
    "model.summary()"
   ]
  },
  {
   "cell_type": "code",
   "execution_count": null,
   "id": "small-service",
   "metadata": {},
   "outputs": [],
   "source": [
    "# 학습의 진행\n",
    "model.compile(optimizer='adam',\n",
    "              loss='binary_crossentropy',\n",
    "              metrics=['accuracy'])\n",
    "              \n",
    "epochs = 15\n",
    "\n",
    "history = model.fit(partial_X_train,\n",
    "                    partial_y_train,\n",
    "                    epochs=epochs,\n",
    "                    batch_size=100,\n",
    "                    validation_data=(X_val, y_val),\n",
    "                    verbose=1)"
   ]
  },
  {
   "cell_type": "code",
   "execution_count": null,
   "id": "falling-belfast",
   "metadata": {},
   "outputs": [],
   "source": [
    "# 테스트셋을 통한 모델 평가\n",
    "results = model.evaluate(X_test,  y_test, verbose=2)\n",
    "\n",
    "print(results)"
   ]
  },
  {
   "cell_type": "markdown",
   "id": "computational-classification",
   "metadata": {},
   "source": [
    "## 10. 루브릭 및 회고"
   ]
  },
  {
   "cell_type": "markdown",
   "id": "creative-trigger",
   "metadata": {},
   "source": [
    "### 10.1. 루브릭\n",
    "* 3가지 이상의 모델이 성공적으로 시도됨\n",
    "* gensim의 유사단어 찾기를 활용하여 자체학습한 임베딩과 사전학습 임베딩을 적절히 분석함\n",
    "* 네이버 영화리뷰 데이터 감성분석 정확도를 85% 이상 달성함"
   ]
  },
  {
   "cell_type": "markdown",
   "id": "pretty-ebony",
   "metadata": {},
   "source": [
    "### 10.2. 회고"
   ]
  }
 ],
 "metadata": {
  "kernelspec": {
   "display_name": "aiffel",
   "language": "python",
   "name": "aiffel"
  },
  "language_info": {
   "codemirror_mode": {
    "name": "ipython",
    "version": 3
   },
   "file_extension": ".py",
   "mimetype": "text/x-python",
   "name": "python",
   "nbconvert_exporter": "python",
   "pygments_lexer": "ipython3",
   "version": "3.7.9"
  }
 },
 "nbformat": 4,
 "nbformat_minor": 5
}

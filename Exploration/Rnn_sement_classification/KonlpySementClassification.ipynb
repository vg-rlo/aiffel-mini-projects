{
 "cells": [
  {
   "cell_type": "markdown",
   "id": "immediate-toner",
   "metadata": {},
   "source": [
    "# 프로젝트: 네이버 영화리뷰 감성분석"
   ]
  },
  {
   "cell_type": "markdown",
   "id": "bridal-bulgarian",
   "metadata": {},
   "source": [
    "* 데이터셋 출처: 네이버영화리뷰(nsmc), https://github.com/e9t/nsmc\n",
    "* 참고한 튜토리얼: https://wikidocs.net/44249\n",
    "* label: 0(부정), 1(긍정)"
   ]
  },
  {
   "cell_type": "markdown",
   "id": "competent-climb",
   "metadata": {},
   "source": [
    "## 0. 기본 셋팅 \n",
    "- 시간 측정 라이브러리 설치, 랜덤시드 고정, 사용 라이브러리 import"
   ]
  },
  {
   "cell_type": "code",
   "execution_count": 1,
   "id": "going-personal",
   "metadata": {},
   "outputs": [
    {
     "name": "stdout",
     "output_type": "stream",
     "text": [
      "Requirement already satisfied: ipython-autotime in /home/aiffel-dj19/anaconda3/envs/aiffel/lib/python3.7/site-packages (0.3.1)\n",
      "Requirement already satisfied: ipython in /home/aiffel-dj19/anaconda3/envs/aiffel/lib/python3.7/site-packages (from ipython-autotime) (7.19.0)\n",
      "Requirement already satisfied: setuptools>=18.5 in /home/aiffel-dj19/anaconda3/envs/aiffel/lib/python3.7/site-packages (from ipython->ipython-autotime) (51.3.3.post20210118)\n",
      "Requirement already satisfied: traitlets>=4.2 in /home/aiffel-dj19/anaconda3/envs/aiffel/lib/python3.7/site-packages (from ipython->ipython-autotime) (5.0.5)\n",
      "Requirement already satisfied: jedi>=0.10 in /home/aiffel-dj19/anaconda3/envs/aiffel/lib/python3.7/site-packages (from ipython->ipython-autotime) (0.18.0)\n",
      "Requirement already satisfied: pickleshare in /home/aiffel-dj19/anaconda3/envs/aiffel/lib/python3.7/site-packages (from ipython->ipython-autotime) (0.7.5)\n",
      "Requirement already satisfied: pexpect>4.3 in /home/aiffel-dj19/anaconda3/envs/aiffel/lib/python3.7/site-packages (from ipython->ipython-autotime) (4.8.0)\n",
      "Requirement already satisfied: prompt-toolkit!=3.0.0,!=3.0.1,<3.1.0,>=2.0.0 in /home/aiffel-dj19/anaconda3/envs/aiffel/lib/python3.7/site-packages (from ipython->ipython-autotime) (3.0.8)\n",
      "Requirement already satisfied: backcall in /home/aiffel-dj19/anaconda3/envs/aiffel/lib/python3.7/site-packages (from ipython->ipython-autotime) (0.2.0)\n",
      "Requirement already satisfied: pygments in /home/aiffel-dj19/anaconda3/envs/aiffel/lib/python3.7/site-packages (from ipython->ipython-autotime) (2.7.4)\n",
      "Requirement already satisfied: decorator in /home/aiffel-dj19/anaconda3/envs/aiffel/lib/python3.7/site-packages (from ipython->ipython-autotime) (4.4.2)\n",
      "Requirement already satisfied: parso<0.9.0,>=0.8.0 in /home/aiffel-dj19/anaconda3/envs/aiffel/lib/python3.7/site-packages (from jedi>=0.10->ipython->ipython-autotime) (0.8.1)\n",
      "Requirement already satisfied: ptyprocess>=0.5 in /home/aiffel-dj19/anaconda3/envs/aiffel/lib/python3.7/site-packages (from pexpect>4.3->ipython->ipython-autotime) (0.7.0)\n",
      "Requirement already satisfied: wcwidth in /home/aiffel-dj19/anaconda3/envs/aiffel/lib/python3.7/site-packages (from prompt-toolkit!=3.0.0,!=3.0.1,<3.1.0,>=2.0.0->ipython->ipython-autotime) (0.2.5)\n",
      "Requirement already satisfied: ipython-genutils in /home/aiffel-dj19/anaconda3/envs/aiffel/lib/python3.7/site-packages (from traitlets>=4.2->ipython->ipython-autotime) (0.2.0)\n",
      "time: 300 µs (started: 2021-01-22 10:26:24 +09:00)\n"
     ]
    }
   ],
   "source": [
    "# 시간 측정 \n",
    "!pip install ipython-autotime\n",
    "%load_ext autotime"
   ]
  },
  {
   "cell_type": "code",
   "execution_count": 2,
   "id": "brief-track",
   "metadata": {},
   "outputs": [
    {
     "name": "stdout",
     "output_type": "stream",
     "text": [
      "time: 1.51 s (started: 2021-01-22 10:26:24 +09:00)\n"
     ]
    }
   ],
   "source": [
    "# 사용 라이브러리\n",
    "import pandas as pd\n",
    "import urllib.request\n",
    "%matplotlib inline\n",
    "import matplotlib.pyplot as plt\n",
    "import re\n",
    "from konlpy.tag import Okt\n",
    "from tensorflow import keras\n",
    "from tensorflow.keras.preprocessing.text import Tokenizer\n",
    "import numpy as np\n",
    "from tensorflow.keras.preprocessing.sequence import pad_sequences\n",
    "from collections import Counter\n",
    "import os, random\n",
    "import tensorflow as tf"
   ]
  },
  {
   "cell_type": "markdown",
   "id": "stone-wallace",
   "metadata": {},
   "source": [
    "### Random seed 설정 \n",
    "- 같은 결과를 유지하기 위해 설정해준다. 튜닝으로 개선할 수 도 있으나 기존 RNN을 사용한 사례에서 seed값을 일단 참고했다."
   ]
  },
  {
   "cell_type": "code",
   "execution_count": 3,
   "id": "initial-swedish",
   "metadata": {},
   "outputs": [
    {
     "name": "stdout",
     "output_type": "stream",
     "text": [
      "time: 554 µs (started: 2021-01-22 10:26:26 +09:00)\n"
     ]
    }
   ],
   "source": [
    "# random seed \n",
    "def set_seeds(seed):\n",
    "    os.environ['PYTHONHASHSEED'] = str(seed)\n",
    "    random.seed(seed)\n",
    "    tf.random.set_seed(seed)\n",
    "    np.random.seed(seed)\n",
    "    \n",
    "SEED = 1234\n",
    "set_seeds(SEED)"
   ]
  },
  {
   "cell_type": "markdown",
   "id": "minute-static",
   "metadata": {},
   "source": [
    "## 1. 데이터 준비와 확인"
   ]
  },
  {
   "cell_type": "code",
   "execution_count": 4,
   "id": "imposed-parameter",
   "metadata": {},
   "outputs": [
    {
     "name": "stdout",
     "output_type": "stream",
     "text": [
      "time: 262 ms (started: 2021-01-22 10:26:26 +09:00)\n"
     ]
    }
   ],
   "source": [
    "# 데이터를 읽어봅시다. \n",
    "train_data = pd.read_table('~/aiffel/sentiment_classification/ratings_train.txt')\n",
    "test_data = pd.read_table('~/aiffel/sentiment_classification/ratings_test.txt')"
   ]
  },
  {
   "cell_type": "markdown",
   "id": "allied-disaster",
   "metadata": {},
   "source": [
    "### 1.1. 데이터 개수 확인"
   ]
  },
  {
   "cell_type": "code",
   "execution_count": 5,
   "id": "pediatric-qualification",
   "metadata": {},
   "outputs": [
    {
     "name": "stdout",
     "output_type": "stream",
     "text": [
      "train set: 150000개\n",
      "test set: 50000개\n",
      "time: 442 µs (started: 2021-01-22 10:26:26 +09:00)\n"
     ]
    }
   ],
   "source": [
    "print(\"train set: {}개\".format(len(train_data)))\n",
    "print(\"test set: {}개\".format(len(test_data)))"
   ]
  },
  {
   "cell_type": "markdown",
   "id": "automated-wellington",
   "metadata": {},
   "source": [
    "### 1.2. 상위 5개 출력\n",
    "* train과 test data를 각각 살펴보면서 columns에 해당하는 데이터의 속성(특징, feature)는 어떤 것이 있는지 확인한다. \n",
    "    - 여기서 주의할 점은 이미지 분류에서 생각해보면 valid set은 전처리를 해주면 안된다라는 개념과 결측치 처리는 다르다. 이때 말하는 전처리는 데이터 증강(augmentation)이나, 밝기 변화와 같은 직접적으로 데이터에 변화를 주는 것이다. 결측치 처리는 데이터 전처리라기 보단, 데이터 정제에 해당한다. 그래서 train, test 둘다 적용해주는 것이다. => 더 알아보자"
   ]
  },
  {
   "cell_type": "code",
   "execution_count": 6,
   "id": "significant-degree",
   "metadata": {
    "scrolled": true
   },
   "outputs": [
    {
     "data": {
      "text/html": [
       "<div>\n",
       "<style scoped>\n",
       "    .dataframe tbody tr th:only-of-type {\n",
       "        vertical-align: middle;\n",
       "    }\n",
       "\n",
       "    .dataframe tbody tr th {\n",
       "        vertical-align: top;\n",
       "    }\n",
       "\n",
       "    .dataframe thead th {\n",
       "        text-align: right;\n",
       "    }\n",
       "</style>\n",
       "<table border=\"1\" class=\"dataframe\">\n",
       "  <thead>\n",
       "    <tr style=\"text-align: right;\">\n",
       "      <th></th>\n",
       "      <th>id</th>\n",
       "      <th>document</th>\n",
       "      <th>label</th>\n",
       "    </tr>\n",
       "  </thead>\n",
       "  <tbody>\n",
       "    <tr>\n",
       "      <th>0</th>\n",
       "      <td>9976970</td>\n",
       "      <td>아 더빙.. 진짜 짜증나네요 목소리</td>\n",
       "      <td>0</td>\n",
       "    </tr>\n",
       "    <tr>\n",
       "      <th>1</th>\n",
       "      <td>3819312</td>\n",
       "      <td>흠...포스터보고 초딩영화줄....오버연기조차 가볍지 않구나</td>\n",
       "      <td>1</td>\n",
       "    </tr>\n",
       "    <tr>\n",
       "      <th>2</th>\n",
       "      <td>10265843</td>\n",
       "      <td>너무재밓었다그래서보는것을추천한다</td>\n",
       "      <td>0</td>\n",
       "    </tr>\n",
       "    <tr>\n",
       "      <th>3</th>\n",
       "      <td>9045019</td>\n",
       "      <td>교도소 이야기구먼 ..솔직히 재미는 없다..평점 조정</td>\n",
       "      <td>0</td>\n",
       "    </tr>\n",
       "    <tr>\n",
       "      <th>4</th>\n",
       "      <td>6483659</td>\n",
       "      <td>사이몬페그의 익살스런 연기가 돋보였던 영화!스파이더맨에서 늙어보이기만 했던 커스틴 ...</td>\n",
       "      <td>1</td>\n",
       "    </tr>\n",
       "  </tbody>\n",
       "</table>\n",
       "</div>"
      ],
      "text/plain": [
       "         id                                           document  label\n",
       "0   9976970                                아 더빙.. 진짜 짜증나네요 목소리      0\n",
       "1   3819312                  흠...포스터보고 초딩영화줄....오버연기조차 가볍지 않구나      1\n",
       "2  10265843                                  너무재밓었다그래서보는것을추천한다      0\n",
       "3   9045019                      교도소 이야기구먼 ..솔직히 재미는 없다..평점 조정      0\n",
       "4   6483659  사이몬페그의 익살스런 연기가 돋보였던 영화!스파이더맨에서 늙어보이기만 했던 커스틴 ...      1"
      ]
     },
     "execution_count": 6,
     "metadata": {},
     "output_type": "execute_result"
    },
    {
     "name": "stdout",
     "output_type": "stream",
     "text": [
      "time: 6.74 ms (started: 2021-01-22 10:26:26 +09:00)\n"
     ]
    }
   ],
   "source": [
    "train_data.head()"
   ]
  },
  {
   "cell_type": "code",
   "execution_count": 7,
   "id": "present-parcel",
   "metadata": {},
   "outputs": [
    {
     "data": {
      "text/html": [
       "<div>\n",
       "<style scoped>\n",
       "    .dataframe tbody tr th:only-of-type {\n",
       "        vertical-align: middle;\n",
       "    }\n",
       "\n",
       "    .dataframe tbody tr th {\n",
       "        vertical-align: top;\n",
       "    }\n",
       "\n",
       "    .dataframe thead th {\n",
       "        text-align: right;\n",
       "    }\n",
       "</style>\n",
       "<table border=\"1\" class=\"dataframe\">\n",
       "  <thead>\n",
       "    <tr style=\"text-align: right;\">\n",
       "      <th></th>\n",
       "      <th>id</th>\n",
       "      <th>document</th>\n",
       "      <th>label</th>\n",
       "    </tr>\n",
       "  </thead>\n",
       "  <tbody>\n",
       "    <tr>\n",
       "      <th>0</th>\n",
       "      <td>6270596</td>\n",
       "      <td>굳 ㅋ</td>\n",
       "      <td>1</td>\n",
       "    </tr>\n",
       "    <tr>\n",
       "      <th>1</th>\n",
       "      <td>9274899</td>\n",
       "      <td>GDNTOPCLASSINTHECLUB</td>\n",
       "      <td>0</td>\n",
       "    </tr>\n",
       "    <tr>\n",
       "      <th>2</th>\n",
       "      <td>8544678</td>\n",
       "      <td>뭐야 이 평점들은.... 나쁘진 않지만 10점 짜리는 더더욱 아니잖아</td>\n",
       "      <td>0</td>\n",
       "    </tr>\n",
       "    <tr>\n",
       "      <th>3</th>\n",
       "      <td>6825595</td>\n",
       "      <td>지루하지는 않은데 완전 막장임... 돈주고 보기에는....</td>\n",
       "      <td>0</td>\n",
       "    </tr>\n",
       "    <tr>\n",
       "      <th>4</th>\n",
       "      <td>6723715</td>\n",
       "      <td>3D만 아니었어도 별 다섯 개 줬을텐데.. 왜 3D로 나와서 제 심기를 불편하게 하죠??</td>\n",
       "      <td>0</td>\n",
       "    </tr>\n",
       "  </tbody>\n",
       "</table>\n",
       "</div>"
      ],
      "text/plain": [
       "        id                                           document  label\n",
       "0  6270596                                                굳 ㅋ      1\n",
       "1  9274899                               GDNTOPCLASSINTHECLUB      0\n",
       "2  8544678             뭐야 이 평점들은.... 나쁘진 않지만 10점 짜리는 더더욱 아니잖아      0\n",
       "3  6825595                   지루하지는 않은데 완전 막장임... 돈주고 보기에는....      0\n",
       "4  6723715  3D만 아니었어도 별 다섯 개 줬을텐데.. 왜 3D로 나와서 제 심기를 불편하게 하죠??      0"
      ]
     },
     "execution_count": 7,
     "metadata": {},
     "output_type": "execute_result"
    },
    {
     "name": "stdout",
     "output_type": "stream",
     "text": [
      "time: 6.57 ms (started: 2021-01-22 10:26:26 +09:00)\n"
     ]
    }
   ],
   "source": [
    "test_data.head()"
   ]
  },
  {
   "cell_type": "markdown",
   "id": "stupid-gates",
   "metadata": {},
   "source": [
    "### 1.3. Label 분포  확인"
   ]
  },
  {
   "cell_type": "code",
   "execution_count": 8,
   "id": "smaller-smell",
   "metadata": {},
   "outputs": [
    {
     "data": {
      "text/plain": [
       "<AxesSubplot:>"
      ]
     },
     "execution_count": 8,
     "metadata": {},
     "output_type": "execute_result"
    },
    {
     "data": {
      "image/png": "[encoded data removed]",
      "text/plain": [
       "<Figure size 432x288 with 1 Axes>"
      ]
     },
     "metadata": {
      "needs_background": "light"
     },
     "output_type": "display_data"
    },
    {
     "name": "stdout",
     "output_type": "stream",
     "text": [
      "time: 117 ms (started: 2021-01-22 10:26:26 +09:00)\n"
     ]
    }
   ],
   "source": [
    "train_data['label'].value_counts().plot(kind = 'bar')"
   ]
  },
  {
   "cell_type": "markdown",
   "id": "amended-warner",
   "metadata": {},
   "source": [
    "## 2. 데이터 로더 구성 \n",
    "*  imdb.data_loader를 참고하면 숫자 인덱스로 변환된 텍스트와 딕셔너리를 제공한다. 가공되지 않은 nsmc 데이터셋을 데이터 전처리 해준다. "
   ]
  },
  {
   "cell_type": "code",
   "execution_count": 9,
   "id": "organic-registrar",
   "metadata": {},
   "outputs": [
    {
     "name": "stdout",
     "output_type": "stream",
     "text": [
      "time: 416 µs (started: 2021-01-22 10:26:26 +09:00)\n"
     ]
    }
   ],
   "source": [
    "# Split하기 위한 리스트 \n",
    "X_train = []\n",
    "X_test = []\n",
    "y_train = []\n",
    "y_test = []"
   ]
  },
  {
   "cell_type": "markdown",
   "id": "recovered-republic",
   "metadata": {},
   "source": [
    "### 2.1. 데이터의 중복 제거 \n",
    "* data의 내용에서 중복이 되면 지워도 되는 데이터는 document열을 기준으로 할 수 있다. label은 0, 1로 분류를 하는 것이고, id는 고유할 것으로 예상되기 때문이다. \n",
    "* pandas의 unique(), value_counts() 함수는 유일한 값을 찾거나, 유일한 값별로 개수를 세준다. \n",
    "* 참고 블로그:https://rfriend.tistory.com/267"
   ]
  },
  {
   "cell_type": "markdown",
   "id": "split-italic",
   "metadata": {},
   "source": [
    "#### 중복값 확인 "
   ]
  },
  {
   "cell_type": "code",
   "execution_count": 10,
   "id": "median-rebound",
   "metadata": {},
   "outputs": [
    {
     "name": "stdout",
     "output_type": "stream",
     "text": [
      "3818 개\n",
      "time: 97.4 ms (started: 2021-01-22 10:26:26 +09:00)\n"
     ]
    }
   ],
   "source": [
    "# train 중복 개수 확인\n",
    "print(len(train_data)-len(train_data['document'].value_counts()),\"개\")"
   ]
  },
  {
   "cell_type": "code",
   "execution_count": 11,
   "id": "banned-compatibility",
   "metadata": {
    "scrolled": false
   },
   "outputs": [
    {
     "name": "stdout",
     "output_type": "stream",
     "text": [
      "굿                                               181\n",
      "good                                             92\n",
      "최고                                               85\n",
      "쓰레기                                              79\n",
      "별로                                               66\n",
      "                                               ... \n",
      "볼 가치가 없는 쓰래기 영화다. 원작과 1편의 명성을 완전히 망쳤다. 볼가치없다      1\n",
      "bomb는 아니다                                         1\n",
      "진짜 김남주때문에 암걸리는 영화ㅡㅡ                               1\n",
      "영화보는내내암걸릴뻔함                                       1\n",
      "지금보기엔 촌스럽다                                        1\n",
      "Name: document, Length: 146182, dtype: int64\n",
      "time: 109 ms (started: 2021-01-22 10:26:26 +09:00)\n"
     ]
    }
   ],
   "source": [
    "print(train_data['document'].value_counts())"
   ]
  },
  {
   "cell_type": "code",
   "execution_count": 12,
   "id": "baking-incentive",
   "metadata": {},
   "outputs": [
    {
     "name": "stdout",
     "output_type": "stream",
     "text": [
      "843 개\n",
      "time: 30.9 ms (started: 2021-01-22 10:26:26 +09:00)\n"
     ]
    }
   ],
   "source": [
    "# test 중복 개수 \n",
    "print(len(test_data)-len(test_data['document'].value_counts()),\"개\")"
   ]
  },
  {
   "cell_type": "code",
   "execution_count": 13,
   "id": "technological-blade",
   "metadata": {
    "scrolled": false
   },
   "outputs": [
    {
     "name": "stdout",
     "output_type": "stream",
     "text": [
      "굿                                   56\n",
      "good                                35\n",
      "최고                                  30\n",
      "tv 전기세가 아깝다!!!                      20\n",
      "별로                                  20\n",
      "                                    ..\n",
      "이런 찝찝함이라니....                        1\n",
      "좀 더 재밌게 아야기를 끌어 나갈수 있었지만 아쉬운 전개.     1\n",
      "넘 재밌구여 주인공이 너무 잘생겼어요,음양사3는 없어요       1\n",
      "비장함이 넘치는 영화                          1\n",
      "안봤지만 낚시를 위해~                         1\n",
      "Name: document, Length: 49157, dtype: int64\n",
      "time: 28.1 ms (started: 2021-01-22 10:26:26 +09:00)\n"
     ]
    }
   ],
   "source": [
    "print(test_data['document'].value_counts())"
   ]
  },
  {
   "cell_type": "markdown",
   "id": "following-compact",
   "metadata": {},
   "source": [
    "#### 중복 제거\n",
    "* 중복을 제거하기 위해서는 내장함수를 활용하거나 pandas를 활용할 수 있다. \n",
    "    - 내장함수에는 set(순서 중요하지 않을때)을 사용하거나 for문으로 요소를 확인 후 append하는 방식을 적용할 수 있다. \n",
    "    - 참고한 자료에서는 drop_duplicates이라는 함수를 사용했다. \n",
    "* 참고 출처: https://nittaku.tistory.com/124"
   ]
  },
  {
   "cell_type": "code",
   "execution_count": 14,
   "id": "intelligent-disco",
   "metadata": {
    "scrolled": true
   },
   "outputs": [
    {
     "name": "stdout",
     "output_type": "stream",
     "text": [
      "time: 41.4 ms (started: 2021-01-22 10:26:26 +09:00)\n"
     ]
    }
   ],
   "source": [
    "#document열을 기준으로 중복행 제거\n",
    "train_data.drop_duplicates(['document'],inplace = True) #inplace = False: None 반환, True: df에 적용 "
   ]
  },
  {
   "cell_type": "code",
   "execution_count": 15,
   "id": "sized-protest",
   "metadata": {
    "scrolled": true
   },
   "outputs": [
    {
     "name": "stdout",
     "output_type": "stream",
     "text": [
      "time: 14.5 ms (started: 2021-01-22 10:26:27 +09:00)\n"
     ]
    }
   ],
   "source": [
    "#document열을 기준으로 중복행 제거\n",
    "test_data.drop_duplicates(['document'], inplace = True) "
   ]
  },
  {
   "cell_type": "code",
   "execution_count": 16,
   "id": "micro-shelter",
   "metadata": {},
   "outputs": [
    {
     "name": "stdout",
     "output_type": "stream",
     "text": [
      "146183\n",
      "49158\n",
      "time: 521 µs (started: 2021-01-22 10:26:27 +09:00)\n"
     ]
    }
   ],
   "source": [
    "print(len(train_data)) # 중복 개수만큼 줄어든 Train dataset: 15000 -> 146183\n",
    "print(len(test_data)) # 50000 -> 49158"
   ]
  },
  {
   "cell_type": "markdown",
   "id": "fundamental-circular",
   "metadata": {},
   "source": [
    "### 2.x. 특수문자 제외 (추가 시도)\n",
    "* ㄱ ~ ㅎ: 3131 ~ 314E, ㅏ ~ ㅣ: 314F ~ 3163이며 완성형 한글의 범위는 가 ~ 힣을 사용한다. \n",
    "* 한글과 공백을 제외하고 모두 제거하는 정규화를 시도한다. "
   ]
  },
  {
   "cell_type": "code",
   "execution_count": 17,
   "id": "posted-nevada",
   "metadata": {},
   "outputs": [
    {
     "data": {
      "text/html": [
       "<div>\n",
       "<style scoped>\n",
       "    .dataframe tbody tr th:only-of-type {\n",
       "        vertical-align: middle;\n",
       "    }\n",
       "\n",
       "    .dataframe tbody tr th {\n",
       "        vertical-align: top;\n",
       "    }\n",
       "\n",
       "    .dataframe thead th {\n",
       "        text-align: right;\n",
       "    }\n",
       "</style>\n",
       "<table border=\"1\" class=\"dataframe\">\n",
       "  <thead>\n",
       "    <tr style=\"text-align: right;\">\n",
       "      <th></th>\n",
       "      <th>id</th>\n",
       "      <th>document</th>\n",
       "      <th>label</th>\n",
       "    </tr>\n",
       "  </thead>\n",
       "  <tbody>\n",
       "    <tr>\n",
       "      <th>0</th>\n",
       "      <td>9976970</td>\n",
       "      <td>아 더빙 진짜 짜증나네요 목소리</td>\n",
       "      <td>0</td>\n",
       "    </tr>\n",
       "    <tr>\n",
       "      <th>1</th>\n",
       "      <td>3819312</td>\n",
       "      <td>흠포스터보고 초딩영화줄오버연기조차 가볍지 않구나</td>\n",
       "      <td>1</td>\n",
       "    </tr>\n",
       "    <tr>\n",
       "      <th>2</th>\n",
       "      <td>10265843</td>\n",
       "      <td>너무재밓었다그래서보는것을추천한다</td>\n",
       "      <td>0</td>\n",
       "    </tr>\n",
       "    <tr>\n",
       "      <th>3</th>\n",
       "      <td>9045019</td>\n",
       "      <td>교도소 이야기구먼 솔직히 재미는 없다평점 조정</td>\n",
       "      <td>0</td>\n",
       "    </tr>\n",
       "    <tr>\n",
       "      <th>4</th>\n",
       "      <td>6483659</td>\n",
       "      <td>사이몬페그의 익살스런 연기가 돋보였던 영화스파이더맨에서 늙어보이기만 했던 커스틴 던...</td>\n",
       "      <td>1</td>\n",
       "    </tr>\n",
       "  </tbody>\n",
       "</table>\n",
       "</div>"
      ],
      "text/plain": [
       "         id                                           document  label\n",
       "0   9976970                                  아 더빙 진짜 짜증나네요 목소리      0\n",
       "1   3819312                         흠포스터보고 초딩영화줄오버연기조차 가볍지 않구나      1\n",
       "2  10265843                                  너무재밓었다그래서보는것을추천한다      0\n",
       "3   9045019                          교도소 이야기구먼 솔직히 재미는 없다평점 조정      0\n",
       "4   6483659  사이몬페그의 익살스런 연기가 돋보였던 영화스파이더맨에서 늙어보이기만 했던 커스틴 던...      1"
      ]
     },
     "execution_count": 17,
     "metadata": {},
     "output_type": "execute_result"
    },
    {
     "name": "stdout",
     "output_type": "stream",
     "text": [
      "time: 204 ms (started: 2021-01-22 10:26:27 +09:00)\n"
     ]
    }
   ],
   "source": [
    "train_data['document'] = train_data['document'].str.replace(\"[^ㄱ-ㅎㅏ-ㅣ가-힣 ]\",\"\")\n",
    "train_data[:5]"
   ]
  },
  {
   "cell_type": "markdown",
   "id": "pretty-impossible",
   "metadata": {},
   "source": [
    "### 2.2. NaN 결측치 제거"
   ]
  },
  {
   "cell_type": "markdown",
   "id": "peaceful-oakland",
   "metadata": {},
   "source": [
    "#### NaN(Null값) 확인 \n",
    "* 확인 결과, 결측치는 없었음 \n",
    "* 데이터 양이 많을 때는 비율로 보기도 하나, Null이 적게 분포할때는 0%로 분석하게 될 수 있다. 영향은 미미하지만 결측치 여부를 종합하기 위해선 sum()으로 판단하는 것이 좋다고 판단했다. "
   ]
  },
  {
   "cell_type": "code",
   "execution_count": 18,
   "id": "parliamentary-pontiac",
   "metadata": {},
   "outputs": [
    {
     "name": "stdout",
     "output_type": "stream",
     "text": [
      "column:         id\t Percent of NULL: 0.00%\n",
      "column:   document\t Percent of NULL: 0.00%\n",
      "column:      label\t Percent of NULL: 0.00%\n",
      "time: 9.75 ms (started: 2021-01-22 10:26:27 +09:00)\n"
     ]
    }
   ],
   "source": [
    "# null 비율 \n",
    "for col in train_data.columns:\n",
    "    print('column: {:>10}\\t Percent of NULL: {:.2f}%'.format(col, \n",
    "          100 * (train_data[col].isnull().sum() / train_data[col].shape[0])))"
   ]
  },
  {
   "cell_type": "code",
   "execution_count": 19,
   "id": "fatty-regular",
   "metadata": {
    "scrolled": true
   },
   "outputs": [
    {
     "name": "stdout",
     "output_type": "stream",
     "text": [
      "column:         id\t NULL value 개수: 0개\n",
      "column:   document\t NULL value 개수: 1개\n",
      "column:      label\t NULL value 개수: 0개\n",
      "time: 8.76 ms (started: 2021-01-22 10:26:27 +09:00)\n"
     ]
    }
   ],
   "source": [
    "# null 개수\n",
    "for col in train_data.columns:\n",
    "    print('column: {:>10}\\t NULL value 개수: {}개'.format(col, \n",
    "          train_data[col].isnull().sum()))"
   ]
  },
  {
   "cell_type": "code",
   "execution_count": 20,
   "id": "complimentary-testimony",
   "metadata": {},
   "outputs": [
    {
     "name": "stdout",
     "output_type": "stream",
     "text": [
      "column:         id\t NULL value 개수: 0개\n",
      "column:   document\t NULL value 개수: 1개\n",
      "column:      label\t NULL value 개수: 0개\n",
      "time: 3.69 ms (started: 2021-01-22 10:26:27 +09:00)\n"
     ]
    }
   ],
   "source": [
    "# null 개수\n",
    "for col in test_data.columns:\n",
    "    print('column: {:>10}\\t NULL value 개수: {}개'.format(col, \n",
    "          test_data[col].isnull().sum()))"
   ]
  },
  {
   "cell_type": "markdown",
   "id": "academic-configuration",
   "metadata": {},
   "source": [
    "#### 결측치 제거\n",
    "* 제거 말고 평균이나 0으로 넣어주는 경우가 있으나 해당 경우는 1개로 매우 적으므로 제거한다. "
   ]
  },
  {
   "cell_type": "code",
   "execution_count": 21,
   "id": "prospective-paris",
   "metadata": {},
   "outputs": [
    {
     "name": "stdout",
     "output_type": "stream",
     "text": [
      "time: 14.6 ms (started: 2021-01-22 10:26:27 +09:00)\n"
     ]
    }
   ],
   "source": [
    "train_data.dropna(inplace = True)"
   ]
  },
  {
   "cell_type": "code",
   "execution_count": 22,
   "id": "alpine-adoption",
   "metadata": {
    "scrolled": true
   },
   "outputs": [
    {
     "name": "stdout",
     "output_type": "stream",
     "text": [
      "column:         id\t NULL value 개수: 0개\n",
      "column:   document\t NULL value 개수: 0개\n",
      "column:      label\t NULL value 개수: 0개\n",
      "time: 9.33 ms (started: 2021-01-22 10:26:27 +09:00)\n"
     ]
    }
   ],
   "source": [
    "# null 개수\n",
    "for col in train_data.columns:\n",
    "    print('column: {:>10}\\t NULL value 개수: {}개'.format(col, \n",
    "          train_data[col].isnull().sum()))"
   ]
  },
  {
   "cell_type": "code",
   "execution_count": 23,
   "id": "textile-directory",
   "metadata": {},
   "outputs": [
    {
     "name": "stdout",
     "output_type": "stream",
     "text": [
      "time: 6.78 ms (started: 2021-01-22 10:26:27 +09:00)\n"
     ]
    }
   ],
   "source": [
    "test_data.dropna(inplace = True)"
   ]
  },
  {
   "cell_type": "code",
   "execution_count": 24,
   "id": "educated-satellite",
   "metadata": {
    "scrolled": true
   },
   "outputs": [
    {
     "name": "stdout",
     "output_type": "stream",
     "text": [
      "column:         id\t NULL value 개수: 0개\n",
      "column:   document\t NULL value 개수: 0개\n",
      "column:      label\t NULL value 개수: 0개\n",
      "time: 8.86 ms (started: 2021-01-22 10:26:27 +09:00)\n"
     ]
    }
   ],
   "source": [
    "# null 개수\n",
    "for col in train_data.columns:\n",
    "    print('column: {:>10}\\t NULL value 개수: {}개'.format(col, \n",
    "          train_data[col].isnull().sum()))"
   ]
  },
  {
   "cell_type": "markdown",
   "id": "indian-noise",
   "metadata": {},
   "source": [
    "### 2.3. 한국어 토크나이저로 토큰화\n",
    "* 왜 토큰화가 필요한가? 한국어는 영어와 다르게 띄어쓰기만으로 각 형태소가 구분되지 않는다. 단어에는 조사도 있고 동사도 있어서 Mecab은 형태소 분석기고 불용어(stopwords)는 영어에서 띄어쓰기가 단어를 구분하듯이 한국어 전용 형태소 분석기이다.\n",
    "* 참고 교재에서는 Okt라는 토크나이저를 쓰는데 stem 같은 정규화 기능이 있어서 과거형이나 수동/피동형들을 원래의? 날것?의 단어로 바꿔준다. e.g. 만들었다 > 만들다\n",
    "\n",
    "* (추가시도) 불용어를 몇개 추가해보자!, 을,에서, 해서 "
   ]
  },
  {
   "cell_type": "code",
   "execution_count": 25,
   "id": "heavy-retrieval",
   "metadata": {
    "scrolled": true
   },
   "outputs": [
    {
     "name": "stdout",
     "output_type": "stream",
     "text": [
      "time: 995 µs (started: 2021-01-22 10:26:27 +09:00)\n"
     ]
    }
   ],
   "source": [
    "from konlpy.tag import Mecab\n",
    "\n",
    "tokenizer = Mecab()\n",
    "stopwords = ['의','가','이','은','들','는','좀','잘','걍','과','도', '를','으로','자','에','와','한','하다','을','에서','해서']"
   ]
  },
  {
   "cell_type": "markdown",
   "id": "tribal-friendly",
   "metadata": {},
   "source": [
    "* 아래 코드를 수행할 때 append하니까 오래걸리는 느낌이 들어서 예제 코드 실행해봄 "
   ]
  },
  {
   "cell_type": "markdown",
   "id": "preliminary-mountain",
   "metadata": {},
   "source": [
    "### 2.4. 불용어(Stopwords) 제거\n",
    "* document열의 한 행 요소를 문장 단위로 임시 리스트에 저장한 후 train에 append한다."
   ]
  },
  {
   "cell_type": "code",
   "execution_count": 26,
   "id": "behind-distributor",
   "metadata": {},
   "outputs": [
    {
     "name": "stdout",
     "output_type": "stream",
     "text": [
      "time: 10.6 s (started: 2021-01-22 10:26:27 +09:00)\n"
     ]
    }
   ],
   "source": [
    "# 10초 정도 소요\n",
    "for sentence in train_data['document']:\n",
    "    X_tmp = []\n",
    "    X_tmp = tokenizer.morphs(sentence) # 토큰화 \n",
    "    X_tmp = [word for word in X_tmp if not word in stopwords] #불용어 제거 \n",
    "    X_train.append(X_tmp)"
   ]
  },
  {
   "cell_type": "code",
   "execution_count": 27,
   "id": "driving-hungarian",
   "metadata": {},
   "outputs": [
    {
     "data": {
      "text/plain": [
       "[['아', '더', '빙', '진짜', '짜증', '나', '네요', '목소리'],\n",
       " ['흠', '포스터', '보고', '초딩', '영화', '줄', '오버', '연기', '조차', '가볍', '지', '않', '구나'],\n",
       " ['너무', '재', '밓었다그래서보는것을추천한다']]"
      ]
     },
     "execution_count": 27,
     "metadata": {},
     "output_type": "execute_result"
    },
    {
     "name": "stdout",
     "output_type": "stream",
     "text": [
      "time: 1.59 ms (started: 2021-01-22 10:26:37 +09:00)\n"
     ]
    }
   ],
   "source": [
    "X_train[:3]"
   ]
  },
  {
   "cell_type": "code",
   "execution_count": 28,
   "id": "formal-sentence",
   "metadata": {},
   "outputs": [
    {
     "name": "stdout",
     "output_type": "stream",
     "text": [
      "time: 3.54 s (started: 2021-01-22 10:26:37 +09:00)\n"
     ]
    }
   ],
   "source": [
    "# 4초 정도 소요\n",
    "for sentence in test_data['document']:\n",
    "    X_tmp = []\n",
    "    X_tmp = tokenizer.morphs(sentence) # 토큰화 \n",
    "    X_tmp = [word for word in X_tmp if not word in stopwords] #불용어 제거 \n",
    "    X_test.append(X_tmp)"
   ]
  },
  {
   "cell_type": "code",
   "execution_count": 29,
   "id": "respiratory-lloyd",
   "metadata": {},
   "outputs": [
    {
     "data": {
      "text/plain": [
       "[['굳', 'ㅋ'],\n",
       " ['GDNTOPCLASSINTHECLUB'],\n",
       " ['뭐',\n",
       "  '야',\n",
       "  '평점',\n",
       "  '.',\n",
       "  '...',\n",
       "  '나쁘',\n",
       "  '진',\n",
       "  '않',\n",
       "  '지만',\n",
       "  '10',\n",
       "  '점',\n",
       "  '짜리',\n",
       "  '더더욱',\n",
       "  '아니',\n",
       "  '잖아']]"
      ]
     },
     "execution_count": 29,
     "metadata": {},
     "output_type": "execute_result"
    },
    {
     "name": "stdout",
     "output_type": "stream",
     "text": [
      "time: 1.6 ms (started: 2021-01-22 10:26:41 +09:00)\n"
     ]
    }
   ],
   "source": [
    "X_test[:3]"
   ]
  },
  {
   "cell_type": "markdown",
   "id": "functioning-orleans",
   "metadata": {},
   "source": [
    "### 2.5. 사전(vocab) word_to_index 구성\n",
    "* 다양한 Tokenizer를 활용해서 데이터를 분석하기 위해 문자 데이터를 숫자로 바꿔줘야한다. \n",
    "* Counter를 사용해도 되고, okt Tokenizer로 fit_on_texts를 사용해도 정수 인코딩을 할 수 있다.\n",
    "* word_to_index는 사전의 크기를 결정하는 인자이다. 따라서 words가 몇개 정도 있는지 보고 그에 따라 사전의 크기를 결정해주면 된다. "
   ]
  },
  {
   "cell_type": "code",
   "execution_count": 30,
   "id": "recreational-recovery",
   "metadata": {},
   "outputs": [
    {
     "data": {
      "text/plain": [
       "1965664"
      ]
     },
     "execution_count": 30,
     "metadata": {},
     "output_type": "execute_result"
    },
    {
     "name": "stdout",
     "output_type": "stream",
     "text": [
      "time: 604 ms (started: 2021-01-22 10:26:41 +09:00)\n"
     ]
    }
   ],
   "source": [
    "words = np.concatenate(X_train).tolist()\n",
    "len(words)"
   ]
  },
  {
   "cell_type": "markdown",
   "id": "sublime-performance",
   "metadata": {},
   "source": [
    "### 사전 크기 설정 \n",
    "* 사전 크기 또한 조절할 수 있는 부분이다. 하지만 너무 크게하면 학습이 느려진다. "
   ]
  },
  {
   "cell_type": "code",
   "execution_count": 31,
   "id": "assisted-amendment",
   "metadata": {
    "scrolled": true
   },
   "outputs": [
    {
     "name": "stdout",
     "output_type": "stream",
     "text": [
      "time: 287 ms (started: 2021-01-22 10:26:42 +09:00)\n"
     ]
    }
   ],
   "source": [
    "# 사전 크기 설정\n",
    "vocab_size = 43800\n",
    "counter = Counter(words)\n",
    "counter = counter.most_common(vocab_size-4)\n",
    "vocab = ['<PAD>', '<BOS>', '<UNK>', '<UNUSED>'] + [key for key, _ in counter]\n",
    "\n",
    "word_to_index = {word:index for index, word in enumerate(vocab)}"
   ]
  },
  {
   "cell_type": "code",
   "execution_count": 32,
   "id": "signal-character",
   "metadata": {},
   "outputs": [
    {
     "data": {
      "text/plain": [
       "dict"
      ]
     },
     "execution_count": 32,
     "metadata": {},
     "output_type": "execute_result"
    },
    {
     "name": "stdout",
     "output_type": "stream",
     "text": [
      "time: 1.66 ms (started: 2021-01-22 10:26:42 +09:00)\n"
     ]
    }
   ],
   "source": [
    "type(word_to_index)"
   ]
  },
  {
   "cell_type": "code",
   "execution_count": 33,
   "id": "ruled-short",
   "metadata": {
    "scrolled": true
   },
   "outputs": [
    {
     "data": {
      "text/plain": [
       "43800"
      ]
     },
     "execution_count": 33,
     "metadata": {},
     "output_type": "execute_result"
    },
    {
     "name": "stdout",
     "output_type": "stream",
     "text": [
      "time: 1.4 ms (started: 2021-01-22 10:26:42 +09:00)\n"
     ]
    }
   ],
   "source": [
    "len(word_to_index)"
   ]
  },
  {
   "cell_type": "code",
   "execution_count": 34,
   "id": "blind-large",
   "metadata": {},
   "outputs": [
    {
     "data": {
      "text/plain": [
       "{'<PAD>': 0,\n",
       " '<BOS>': 1,\n",
       " '<UNK>': 2,\n",
       " '<UNUSED>': 3,\n",
       " '영화': 4,\n",
       " '다': 5,\n",
       " '고': 6,\n",
       " '하': 7,\n",
       " '보': 8,\n",
       " '게': 9,\n",
       " '지': 10,\n",
       " '있': 11,\n",
       " '없': 12,\n",
       " '좋': 13,\n",
       " '나': 14,\n",
       " '었': 15,\n",
       " '만': 16,\n",
       " '는데': 17,\n",
       " '너무': 18,\n",
       " '봤': 19,\n",
       " '적': 20,\n",
       " '안': 21,\n",
       " '정말': 22,\n",
       " '로': 23,\n",
       " '것': 24,\n",
       " '음': 25,\n",
       " '아': 26,\n",
       " '네요': 27,\n",
       " '어': 28,\n",
       " '재밌': 29,\n",
       " '지만': 30,\n",
       " '같': 31,\n",
       " '진짜': 32,\n",
       " '했': 33,\n",
       " '기': 34,\n",
       " '네': 35,\n",
       " '않': 36,\n",
       " '점': 37,\n",
       " '거': 38,\n",
       " '았': 39,\n",
       " '수': 40,\n",
       " '되': 41,\n",
       " '면': 42,\n",
       " 'ㅋㅋ': 43,\n",
       " '인': 44,\n",
       " '말': 45,\n",
       " '연기': 46,\n",
       " '주': 47,\n",
       " '최고': 48,\n",
       " '내': 49,\n",
       " '평점': 50,\n",
       " '이런': 51,\n",
       " '던': 52,\n",
       " '어요': 53,\n",
       " '할': 54,\n",
       " '왜': 55,\n",
       " '겠': 56,\n",
       " '스토리': 57,\n",
       " '해': 58,\n",
       " 'ㅋㅋㅋ': 59,\n",
       " '습니다': 60,\n",
       " '듯': 61,\n",
       " '아니': 62,\n",
       " '드라마': 63,\n",
       " '생각': 64,\n",
       " '더': 65,\n",
       " '그': 66,\n",
       " '싶': 67,\n",
       " '사람': 68,\n",
       " '때': 69,\n",
       " '감동': 70,\n",
       " '배우': 71,\n",
       " '함': 72,\n",
       " '본': 73,\n",
       " '까지': 74,\n",
       " '뭐': 75,\n",
       " '알': 76,\n",
       " '만들': 77,\n",
       " '내용': 78,\n",
       " '볼': 79,\n",
       " '보다': 80,\n",
       " '감독': 81,\n",
       " '라': 82,\n",
       " '재미': 83,\n",
       " '그냥': 84,\n",
       " '시간': 85,\n",
       " '지루': 86,\n",
       " '중': 87,\n",
       " '재미있': 88,\n",
       " '였': 89,\n",
       " '잼': 90,\n",
       " '년': 91,\n",
       " '사랑': 92,\n",
       " '못': 93,\n",
       " '재미없': 94,\n",
       " '냐': 95,\n",
       " '쓰레기': 96,\n",
       " '서': 97,\n",
       " '라고': 98,\n",
       " '니': 99,\n",
       " '면서': 100,\n",
       " '다시': 101,\n",
       " '번': 102,\n",
       " '나오': 103,\n",
       " '하나': 104,\n",
       " '작품': 105,\n",
       " '야': 106,\n",
       " '이거': 107,\n",
       " '줄': 108,\n",
       " '남': 109,\n",
       " '마지막': 110,\n",
       " '끝': 111,\n",
       " '정도': 112,\n",
       " '이건': 113,\n",
       " '액션': 114,\n",
       " '개': 115,\n",
       " '임': 116,\n",
       " '건': 117,\n",
       " '기대': 118,\n",
       " '다는': 119,\n",
       " '입니다': 120,\n",
       " '라는': 121,\n",
       " '완전': 122,\n",
       " '참': 123,\n",
       " '많': 124,\n",
       " 'ㅋ': 125,\n",
       " '처음': 126,\n",
       " '장면': 127,\n",
       " '다가': 128,\n",
       " '아깝': 129,\n",
       " '으면': 130,\n",
       " '모르': 131,\n",
       " '지금': 132,\n",
       " '이렇게': 133,\n",
       " '분': 134,\n",
       " '돈': 135,\n",
       " '이게': 136,\n",
       " 'ㅠㅠ': 137,\n",
       " '성': 138,\n",
       " '느낌': 139,\n",
       " '이야기': 140,\n",
       " '일': 141,\n",
       " '최악': 142,\n",
       " '된': 143,\n",
       " '시': 144,\n",
       " '봐도': 145,\n",
       " '님': 146,\n",
       " '어서': 147,\n",
       " '애': 148,\n",
       " '편': 149,\n",
       " '다고': 150,\n",
       " '넘': 151,\n",
       " '인데': 152,\n",
       " '이해': 153,\n",
       " '전': 154,\n",
       " '별로': 155,\n",
       " '걸': 156,\n",
       " '그리고': 157,\n",
       " '명작': 158,\n",
       " '난': 159,\n",
       " '또': 160,\n",
       " '역시': 161,\n",
       " '여자': 162,\n",
       " '한국': 163,\n",
       " '이상': 164,\n",
       " '는지': 165,\n",
       " '많이': 166,\n",
       " '에게': 167,\n",
       " '부터': 168,\n",
       " '주인공': 169,\n",
       " '받': 170,\n",
       " '합니다': 171,\n",
       " '대': 172,\n",
       " '두': 173,\n",
       " '우리': 174,\n",
       " '만든': 175,\n",
       " '길': 176,\n",
       " '엔': 177,\n",
       " '살': 178,\n",
       " '괜찮': 179,\n",
       " '요': 180,\n",
       " '기억': 181,\n",
       " 'ㅡㅡ': 182,\n",
       " '한다': 183,\n",
       " '연출': 184,\n",
       " 'ㅎㅎ': 185,\n",
       " '때문': 186,\n",
       " '저': 187,\n",
       " '이나': 188,\n",
       " '재': 189,\n",
       " '꼭': 190,\n",
       " '며': 191,\n",
       " '현실': 192,\n",
       " '랑': 193,\n",
       " '긴': 194,\n",
       " '무슨': 195,\n",
       " '내내': 196,\n",
       " '죽': 197,\n",
       " '결말': 198,\n",
       " '남자': 199,\n",
       " '전개': 200,\n",
       " '마음': 201,\n",
       " '세요': 202,\n",
       " '소재': 203,\n",
       " '속': 204,\n",
       " '아서': 205,\n",
       " '공포': 206,\n",
       " '데': 207,\n",
       " '다른': 208,\n",
       " '인생': 209,\n",
       " '씨': 210,\n",
       " '짜증': 211,\n",
       " '뿐': 212,\n",
       " '짱': 213,\n",
       " '은데': 214,\n",
       " '아요': 215,\n",
       " '아이': 216,\n",
       " '필요': 217,\n",
       " '유치': 218,\n",
       " '가장': 219,\n",
       " '음악': 220,\n",
       " '일본': 221,\n",
       " '낮': 222,\n",
       " '오': 223,\n",
       " '반전': 224,\n",
       " '수준': 225,\n",
       " '웃': 226,\n",
       " '다니': 227,\n",
       " '매력': 228,\n",
       " '별': 229,\n",
       " '인지': 230,\n",
       " '맞': 231,\n",
       " '가슴': 232,\n",
       " '없이': 233,\n",
       " '원작': 234,\n",
       " '인간': 235,\n",
       " '굿': 236,\n",
       " '높': 237,\n",
       " 'ㄷ': 238,\n",
       " '밋': 239,\n",
       " '만드': 240,\n",
       " '눈물': 241,\n",
       " '급': 242,\n",
       " '보여': 243,\n",
       " '준': 244,\n",
       " '찍': 245,\n",
       " '인가': 246,\n",
       " '노': 247,\n",
       " '코미디': 248,\n",
       " '신': 249,\n",
       " '용': 250,\n",
       " '모든': 251,\n",
       " '마': 252,\n",
       " '화': 253,\n",
       " '추천': 254,\n",
       " '아직': 255,\n",
       " '아닌': 256,\n",
       " '처럼': 257,\n",
       " '쓰': 258,\n",
       " '눈': 259,\n",
       " '자체': 260,\n",
       " '울': 261,\n",
       " '몰입': 262,\n",
       " '대박': 263,\n",
       " '란': 264,\n",
       " '스럽': 265,\n",
       " '몇': 266,\n",
       " '을까': 267,\n",
       " '실망': 268,\n",
       " '대한': 269,\n",
       " '는다': 270,\n",
       " '여': 271,\n",
       " '그런': 272,\n",
       " '죠': 273,\n",
       " '솔직히': 274,\n",
       " '캐릭터': 275,\n",
       " '아주': 276,\n",
       " '모두': 277,\n",
       " '전혀': 278,\n",
       " '가족': 279,\n",
       " '여운': 280,\n",
       " '건지': 281,\n",
       " '연기력': 282,\n",
       " '될': 283,\n",
       " '다면': 284,\n",
       " '뭔가': 285,\n",
       " '그래도': 286,\n",
       " '후': 287,\n",
       " '나라': 288,\n",
       " '시리즈': 289,\n",
       " 'ㅎ': 290,\n",
       " '근데': 291,\n",
       " '표현': 292,\n",
       " '모습': 293,\n",
       " '계속': 294,\n",
       " '작': 295,\n",
       " '공감': 296,\n",
       " '먹': 297,\n",
       " '제목': 298,\n",
       " '비': 299,\n",
       " '이랑': 300,\n",
       " '극장': 301,\n",
       " '치': 302,\n",
       " '이걸': 303,\n",
       " '부분': 304,\n",
       " '그렇': 305,\n",
       " '대사': 306,\n",
       " '바': 307,\n",
       " '대단': 308,\n",
       " '어디': 309,\n",
       " '개봉': 310,\n",
       " '진': 311,\n",
       " '아쉽': 312,\n",
       " '된다': 313,\n",
       " '기분': 314,\n",
       " '작가': 315,\n",
       " '진심': 316,\n",
       " '구': 317,\n",
       " '해도': 318,\n",
       " '놓': 319,\n",
       " '타임': 320,\n",
       " '봐야': 321,\n",
       " '제': 322,\n",
       " '보이': 323,\n",
       " '웃기': 324,\n",
       " '막장': 325,\n",
       " '삶': 326,\n",
       " '물': 327,\n",
       " '친구': 328,\n",
       " '잔잔': 329,\n",
       " '이제': 330,\n",
       " '조금': 331,\n",
       " '억지': 332,\n",
       " '가지': 333,\n",
       " 'ㅠ': 334,\n",
       " '영상': 335,\n",
       " '찾': 336,\n",
       " '라도': 337,\n",
       " '씬': 338,\n",
       " '딱': 339,\n",
       " '요즘': 340,\n",
       " '같이': 341,\n",
       " '스릴러': 342,\n",
       " '믿': 343,\n",
       " '싫': 344,\n",
       " '나왔': 345,\n",
       " '아까운': 346,\n",
       " '중간': 347,\n",
       " '긴장감': 348,\n",
       " '어떻게': 349,\n",
       " '개인': 350,\n",
       " '제대로': 351,\n",
       " '점수': 352,\n",
       " '부족': 353,\n",
       " '이유': 354,\n",
       " '노래': 355,\n",
       " '만큼': 356,\n",
       " 'ㅜㅜ': 357,\n",
       " '라면': 358,\n",
       " '시작': 359,\n",
       " '잇': 360,\n",
       " '구나': 361,\n",
       " '한테': 362,\n",
       " '특히': 363,\n",
       " '려고': 364,\n",
       " '날': 365,\n",
       " '제일': 366,\n",
       " '아름다운': 367,\n",
       " '시대': 368,\n",
       " '니까': 369,\n",
       " '엔딩': 370,\n",
       " '당시': 371,\n",
       " '나름': 372,\n",
       " '무섭': 373,\n",
       " '오랜만': 374,\n",
       " '나온': 375,\n",
       " '이것': 376,\n",
       " '봐': 377,\n",
       " '팬': 378,\n",
       " '해요': 379,\n",
       " '사': 380,\n",
       " '차라리': 381,\n",
       " '절대': 382,\n",
       " '세상': 383,\n",
       " '못하': 384,\n",
       " '감': 385,\n",
       " '의미': 386,\n",
       " '봄': 387,\n",
       " '훌륭': 388,\n",
       " '욕': 389,\n",
       " '너무나': 390,\n",
       " '강추': 391,\n",
       " '드': 392,\n",
       " '따뜻': 393,\n",
       " '됨': 394,\n",
       " '빼': 395,\n",
       " '느끼': 396,\n",
       " '해야': 397,\n",
       " '명': 398,\n",
       " '글': 399,\n",
       " '던데': 400,\n",
       " '뻔': 401,\n",
       " '도대체': 402,\n",
       " '어야': 403,\n",
       " '마다': 404,\n",
       " '답답': 405,\n",
       " '전쟁': 406,\n",
       " '놈': 407,\n",
       " '무엇': 408,\n",
       " '설정': 409,\n",
       " '흥미': 410,\n",
       " '만화': 411,\n",
       " '그저': 412,\n",
       " '감정': 413,\n",
       " '준다': 414,\n",
       " '수작': 415,\n",
       " '행복': 416,\n",
       " '신선': 417,\n",
       " '미국': 418,\n",
       " '앞': 419,\n",
       " '허접': 420,\n",
       " '형': 421,\n",
       " '세': 422,\n",
       " '시절': 423,\n",
       " '관객': 424,\n",
       " '사실': 425,\n",
       " '배경': 426,\n",
       " '어도': 427,\n",
       " '답': 428,\n",
       " '초반': 429,\n",
       " '웃음': 430,\n",
       " '엄청': 431,\n",
       " '자신': 432,\n",
       " '더라': 433,\n",
       " '추억': 434,\n",
       " '군': 435,\n",
       " '질': 436,\n",
       " '캐스팅': 437,\n",
       " '멋있': 438,\n",
       " '라니': 439,\n",
       " '시나리오': 440,\n",
       " '정신': 441,\n",
       " '어색': 442,\n",
       " '첨': 443,\n",
       " '머': 444,\n",
       " '슬프': 445,\n",
       " '밖에': 446,\n",
       " '분위기': 447,\n",
       " '소름': 448,\n",
       " '멋진': 449,\n",
       " '힘들': 450,\n",
       " '오늘': 451,\n",
       " '어이없': 452,\n",
       " '봐서': 453,\n",
       " '간': 454,\n",
       " '집': 455,\n",
       " '구성': 456,\n",
       " '잡': 457,\n",
       " '엄마': 458,\n",
       " '함께': 459,\n",
       " '위해': 460,\n",
       " '잊': 461,\n",
       " '졸작': 462,\n",
       " '류': 463,\n",
       " '이딴': 464,\n",
       " '문제': 465,\n",
       " '등': 466,\n",
       " '유쾌': 467,\n",
       " '킬링': 468,\n",
       " '스러운': 469,\n",
       " '결국': 470,\n",
       " '소리': 471,\n",
       " '낫': 472,\n",
       " '뭘': 473,\n",
       " '뭔': 474,\n",
       " '한데': 475,\n",
       " '역사': 476,\n",
       " '제발': 477,\n",
       " '포스터': 478,\n",
       " '아무리': 479,\n",
       " '코믹': 480,\n",
       " '어떤': 481,\n",
       " '얼마나': 482,\n",
       " '완벽': 483,\n",
       " '맘': 484,\n",
       " '애니메이션': 485,\n",
       " '러': 486,\n",
       " '주연': 487,\n",
       " '보고': 488,\n",
       " '후회': 489,\n",
       " '버리': 490,\n",
       " '뻔한': 491,\n",
       " '나요': 492,\n",
       " '어릴': 493,\n",
       " '진부': 494,\n",
       " '나올': 495,\n",
       " '장난': 496,\n",
       " '출연': 497,\n",
       " '보단': 498,\n",
       " '큰': 499,\n",
       " '책': 500,\n",
       " '됐': 501,\n",
       " '영화관': 502,\n",
       " '밖': 503,\n",
       " '더니': 504,\n",
       " '개연': 505,\n",
       " '둘': 506,\n",
       " 'ㅅ': 507,\n",
       " '충격': 508,\n",
       " '여기': 509,\n",
       " '극': 510,\n",
       " '난다': 511,\n",
       " '평가': 512,\n",
       " '잔인': 513,\n",
       " '아름답': 514,\n",
       " '줬': 515,\n",
       " '얘기': 516,\n",
       " '예술': 517,\n",
       " '갈수록': 518,\n",
       " '매우': 519,\n",
       " '든': 520,\n",
       " '위한': 521,\n",
       " '불': 522,\n",
       " '꺼': 523,\n",
       " '이후': 524,\n",
       " '이리': 525,\n",
       " '자기': 526,\n",
       " '읽': 527,\n",
       " '꽤': 528,\n",
       " '얼굴': 529,\n",
       " '반': 530,\n",
       " '옛날': 531,\n",
       " '깊': 532,\n",
       " '점대': 533,\n",
       " '티비': 534,\n",
       " '이쁘': 535,\n",
       " '원': 536,\n",
       " '시청': 537,\n",
       " '불쌍': 538,\n",
       " '못한': 539,\n",
       " '순수': 540,\n",
       " '별점': 541,\n",
       " '텐데': 542,\n",
       " '겟': 543,\n",
       " '으나': 544,\n",
       " '봐라': 545,\n",
       " '언제': 546,\n",
       " '낭비': 547,\n",
       " '비디오': 548,\n",
       " '라서': 549,\n",
       " '배': 550,\n",
       " '건가': 551,\n",
       " '장르': 552,\n",
       " '머리': 553,\n",
       " '엇': 554,\n",
       " '그래서': 555,\n",
       " '주제': 556,\n",
       " '다음': 557,\n",
       " '생각나': 558,\n",
       " '다운': 559,\n",
       " '다큐': 560,\n",
       " '궁금': 561,\n",
       " '아님': 562,\n",
       " '존나': 563,\n",
       " '그렇게': 564,\n",
       " '하지만': 565,\n",
       " '시키': 566,\n",
       " '애니': 567,\n",
       " '예전': 568,\n",
       " '누구': 569,\n",
       " '미친': 570,\n",
       " '아무': 571,\n",
       " '그만': 572,\n",
       " '미': 573,\n",
       " '진정': 574,\n",
       " '크': 575,\n",
       " '인상': 576,\n",
       " '상황': 577,\n",
       " '그러': 578,\n",
       " '뒤': 579,\n",
       " '감사': 580,\n",
       " '스릴': 581,\n",
       " '이름': 582,\n",
       " '오래': 583,\n",
       " '집중': 584,\n",
       " '본다': 585,\n",
       " '어느': 586,\n",
       " '시즌': 587,\n",
       " '약간': 588,\n",
       " '나와서': 589,\n",
       " '로맨스': 590,\n",
       " '방송': 591,\n",
       " '그나마': 592,\n",
       " '식': 593,\n",
       " '짜리': 594,\n",
       " '마세요': 595,\n",
       " '났': 596,\n",
       " '소설': 597,\n",
       " '까': 598,\n",
       " '그대로': 599,\n",
       " '여주인공': 600,\n",
       " '인물': 601,\n",
       " '걸작': 602,\n",
       " '떨어지': 603,\n",
       " '훨씬': 604,\n",
       " '그것': 605,\n",
       " '힘': 606,\n",
       " '동안': 607,\n",
       " '몰': 608,\n",
       " '케': 609,\n",
       " '죽이': 610,\n",
       " '꿈': 611,\n",
       " '너': 612,\n",
       " '대체': 613,\n",
       " '실화': 614,\n",
       " '만점': 615,\n",
       " '사회': 616,\n",
       " '평': 617,\n",
       " '짓': 618,\n",
       " '해라': 619,\n",
       " '에요': 620,\n",
       " '누가': 621,\n",
       " '전체': 622,\n",
       " '비슷': 623,\n",
       " '막': 624,\n",
       " '발연기': 625,\n",
       " '엉성': 626,\n",
       " '왔': 627,\n",
       " '입': 628,\n",
       " '귀엽': 629,\n",
       " '끝나': 630,\n",
       " '중국': 631,\n",
       " '햇': 632,\n",
       " '초딩': 633,\n",
       " '여주': 634,\n",
       " '비교': 635,\n",
       " '세계': 636,\n",
       " '여배우': 637,\n",
       " '영상미': 638,\n",
       " '감성': 639,\n",
       " '네이버': 640,\n",
       " '는가': 641,\n",
       " '구만': 642,\n",
       " '느껴': 643,\n",
       " '단': 644,\n",
       " '상': 645,\n",
       " 'ㅎㅎㅎ': 646,\n",
       " '순간': 647,\n",
       " '나이': 648,\n",
       " '려는': 649,\n",
       " '대해': 650,\n",
       " '무': 651,\n",
       " '어렸': 652,\n",
       " '첫': 653,\n",
       " '쯤': 654,\n",
       " '꿀': 655,\n",
       " '망': 656,\n",
       " '판': 657,\n",
       " '학교': 658,\n",
       " '갔': 659,\n",
       " '어설픈': 660,\n",
       " '더럽': 661,\n",
       " '생': 662,\n",
       " '돋': 663,\n",
       " '셨': 664,\n",
       " '회': 665,\n",
       " '아야': 666,\n",
       " '느낄': 667,\n",
       " '혼자': 668,\n",
       " '아들': 669,\n",
       " '어린': 670,\n",
       " '가능': 671,\n",
       " '성룡': 672,\n",
       " '졸': 673,\n",
       " '타': 674,\n",
       " '멋지': 675,\n",
       " '바로': 676,\n",
       " '교훈': 677,\n",
       " '잘못': 678,\n",
       " '한마디': 679,\n",
       " '나가': 680,\n",
       " '맛': 681,\n",
       " '당신': 682,\n",
       " '끌': 683,\n",
       " '딸': 684,\n",
       " '화려': 685,\n",
       " '길래': 686,\n",
       " '티': 687,\n",
       " '판타지': 688,\n",
       " '땜': 689,\n",
       " '달': 690,\n",
       " '맨': 691,\n",
       " '잠': 692,\n",
       " '빨리': 693,\n",
       " '똥': 694,\n",
       " '거의': 695,\n",
       " '목소리': 696,\n",
       " '든다': 697,\n",
       " '삼류': 698,\n",
       " '듣': 699,\n",
       " '전부': 700,\n",
       " '봤었': 701,\n",
       " '나온다': 702,\n",
       " '건데': 703,\n",
       " '지루함': 704,\n",
       " '독특': 705,\n",
       " '다르': 706,\n",
       " '한번': 707,\n",
       " '어른': 708,\n",
       " '질질': 709,\n",
       " 'ㅉㅉ': 710,\n",
       " '률': 711,\n",
       " '상당히': 712,\n",
       " '가치': 713,\n",
       " '씩': 714,\n",
       " '아까움': 715,\n",
       " '넣': 716,\n",
       " '아버지': 717,\n",
       " '차': 718,\n",
       " '영': 719,\n",
       " '줄거리': 720,\n",
       " '스타일': 721,\n",
       " '평론가': 722,\n",
       " '대로': 723,\n",
       " '다만': 724,\n",
       " '여러': 725,\n",
       " '갑자기': 726,\n",
       " '이번': 727,\n",
       " '군요': 728,\n",
       " '허무': 729,\n",
       " '의도': 730,\n",
       " '그러나': 731,\n",
       " '저런': 732,\n",
       " '존재': 733,\n",
       " 'ㅂ': 734,\n",
       " '존': 735,\n",
       " '밑': 736,\n",
       " '초': 737,\n",
       " '위': 738,\n",
       " '에선': 739,\n",
       " '너무너무': 740,\n",
       " '째': 741,\n",
       " '당': 742,\n",
       " '예상': 743,\n",
       " '으면서': 744,\n",
       " '성우': 745,\n",
       " '버린': 746,\n",
       " '각본': 747,\n",
       " '이러': 748,\n",
       " '그녀': 749,\n",
       " '화면': 750,\n",
       " 'ㄱ': 751,\n",
       " '비해': 752,\n",
       " '점점': 753,\n",
       " '떠나': 754,\n",
       " '자연': 755,\n",
       " '뻔하': 756,\n",
       " '평범': 757,\n",
       " '굉장히': 758,\n",
       " '만나': 759,\n",
       " '담': 760,\n",
       " '슬픈': 761,\n",
       " '그런지': 762,\n",
       " '예쁘': 763,\n",
       " '복수': 764,\n",
       " '단순': 765,\n",
       " '중요': 766,\n",
       " '낸': 767,\n",
       " '줌': 768,\n",
       " '갖': 769,\n",
       " '댓글': 770,\n",
       " '극장판': 771,\n",
       " '돼': 772,\n",
       " '새로운': 773,\n",
       " '제작': 774,\n",
       " '피': 775,\n",
       " '만족': 776,\n",
       " '못했': 777,\n",
       " '앗': 778,\n",
       " '일단': 779,\n",
       " '쉽': 780,\n",
       " '선택': 781,\n",
       " '한편': 782,\n",
       " '쓴': 783,\n",
       " '버렸': 784,\n",
       " '굳': 785,\n",
       " '아빠': 786,\n",
       " '관람': 787,\n",
       " '요소': 788,\n",
       " '불편': 789,\n",
       " '항상': 790,\n",
       " '스': 791,\n",
       " '지나': 792,\n",
       " '거기': 793,\n",
       " '한다는': 794,\n",
       " '나옴': 795,\n",
       " '연출력': 796,\n",
       " '그때': 797,\n",
       " '탄탄': 798,\n",
       " '롭': 799,\n",
       " '잃': 800,\n",
       " '에로': 801,\n",
       " '려': 802,\n",
       " '흥행': 803,\n",
       " '한심': 804,\n",
       " '부': 805,\n",
       " '물론': 806,\n",
       " '거나': 807,\n",
       " '예요': 808,\n",
       " '역대': 809,\n",
       " '편집': 810,\n",
       " '따라': 811,\n",
       " '관계': 812,\n",
       " '전형': 813,\n",
       " '산': 814,\n",
       " '진행': 815,\n",
       " '삼': 816,\n",
       " '짧': 817,\n",
       " '아닌가': 818,\n",
       " '충분히': 819,\n",
       " '멜': 820,\n",
       " '법': 821,\n",
       " '총': 822,\n",
       " '에겐': 823,\n",
       " '조': 824,\n",
       " '던가': 825,\n",
       " '안타깝': 826,\n",
       " '이하': 827,\n",
       " '따': 828,\n",
       " '식상': 829,\n",
       " '자꾸': 830,\n",
       " '훈훈': 831,\n",
       " '도록': 832,\n",
       " '게임': 833,\n",
       " '미안': 834,\n",
       " '아까워': 835,\n",
       " '화이팅': 836,\n",
       " '곳': 837,\n",
       " '김': 838,\n",
       " '원래': 839,\n",
       " '그게': 840,\n",
       " '구요': 841,\n",
       " '자극': 842,\n",
       " '몰랐': 843,\n",
       " '몸': 844,\n",
       " '손': 845,\n",
       " '어쩔': 846,\n",
       " '풀': 847,\n",
       " '사건': 848,\n",
       " '똑같': 849,\n",
       " '뭔지': 850,\n",
       " '설명': 851,\n",
       " '잖아': 852,\n",
       " '어울리': 853,\n",
       " '나쁜': 854,\n",
       " '팔': 855,\n",
       " '그래픽': 856,\n",
       " '노력': 857,\n",
       " '귀신': 858,\n",
       " '짐': 859,\n",
       " '도저히': 860,\n",
       " '상상': 861,\n",
       " '과거': 862,\n",
       " '조차': 863,\n",
       " '간다': 864,\n",
       " '됬': 865,\n",
       " '아프': 866,\n",
       " '닿': 867,\n",
       " '장': 868,\n",
       " '개그': 869,\n",
       " '황당': 870,\n",
       " '프랑스': 871,\n",
       " '무조건': 872,\n",
       " '홍콩': 873,\n",
       " '취향': 874,\n",
       " '죽음': 875,\n",
       " '듬': 876,\n",
       " '코메디': 877,\n",
       " '미치': 878,\n",
       " '발': 879,\n",
       " '중반': 880,\n",
       " '빠': 881,\n",
       " '속편': 882,\n",
       " '새끼': 883,\n",
       " '했었': 884,\n",
       " '빠져': 885,\n",
       " '소중': 886,\n",
       " '프로': 887,\n",
       " '짱짱': 888,\n",
       " '무비': 889,\n",
       " '병맛': 890,\n",
       " '더빙': 891,\n",
       " '빙': 892,\n",
       " '역': 893,\n",
       " 'ㅜ': 894,\n",
       " '나쁘': 895,\n",
       " '간만에': 896,\n",
       " '좋아하': 897,\n",
       " '아쉬운': 898,\n",
       " '멋': 899,\n",
       " '넘치': 900,\n",
       " '상영': 901,\n",
       " '진지': 902,\n",
       " '빠지': 903,\n",
       " '끝내': 904,\n",
       " '더욱': 905,\n",
       " '참신': 906,\n",
       " '괜히': 907,\n",
       " '쳐': 908,\n",
       " '무서운': 909,\n",
       " '특유': 910,\n",
       " '유명': 911,\n",
       " '척': 912,\n",
       " '심리': 913,\n",
       " '결혼': 914,\n",
       " '전설': 915,\n",
       " '엄청난': 916,\n",
       " '숨': 917,\n",
       " '오히려': 918,\n",
       " '헐': 919,\n",
       " '예고편': 920,\n",
       " '짜': 921,\n",
       " '또한': 922,\n",
       " '고자': 923,\n",
       " '후반부': 924,\n",
       " '틀': 925,\n",
       " '아저씨': 926,\n",
       " '바보': 927,\n",
       " '심하': 928,\n",
       " '왕': 929,\n",
       " '연기자': 930,\n",
       " '촬영': 931,\n",
       " '리': 932,\n",
       " '아도': 933,\n",
       " '천재': 934,\n",
       " '소녀': 935,\n",
       " '느꼈': 936,\n",
       " '그리': 937,\n",
       " '로맨틱': 938,\n",
       " '조연': 939,\n",
       " '비추': 940,\n",
       " '최근': 941,\n",
       " '이란': 942,\n",
       " '희망': 943,\n",
       " '으니': 944,\n",
       " '억지로': 945,\n",
       " '가볍': 946,\n",
       " '는구나': 947,\n",
       " 'ㄴ': 948,\n",
       " '마무리': 949,\n",
       " '표정': 950,\n",
       " '쩔': 951,\n",
       " '현재': 952,\n",
       " '전편': 953,\n",
       " '아무것': 954,\n",
       " '온': 955,\n",
       " '힘든': 956,\n",
       " '로서': 957,\n",
       " '부모': 958,\n",
       " '어라': 959,\n",
       " '이야': 960,\n",
       " '던지': 961,\n",
       " '동화': 962,\n",
       " '순': 963,\n",
       " '대작': 964,\n",
       " '아쉬움': 965,\n",
       " '점주': 966,\n",
       " '서로': 967,\n",
       " '저질': 968,\n",
       " '진실': 969,\n",
       " '즐겁': 970,\n",
       " '노출': 971,\n",
       " '대한민국': 972,\n",
       " '빨': 973,\n",
       " '흠': 974,\n",
       " '메세지': 975,\n",
       " '우연히': 976,\n",
       " '적당': 977,\n",
       " '그림': 978,\n",
       " '묘사': 979,\n",
       " '여성': 980,\n",
       " '이미': 981,\n",
       " '그런데': 982,\n",
       " '땐': 983,\n",
       " '지난': 984,\n",
       " '엉망': 985,\n",
       " '이래': 986,\n",
       " '경찰': 987,\n",
       " '그닥': 988,\n",
       " '프로그램': 989,\n",
       " '살인': 990,\n",
       " '쩌': 991,\n",
       " '유머': 992,\n",
       " '오빠': 993,\n",
       " '남기': 994,\n",
       " '어설프': 995,\n",
       " '십': 996,\n",
       " '네여': 997,\n",
       " '돌': 998,\n",
       " '청춘': 999,\n",
       " ...}"
      ]
     },
     "execution_count": 34,
     "metadata": {},
     "output_type": "execute_result"
    },
    {
     "name": "stdout",
     "output_type": "stream",
     "text": [
      "time: 23.4 ms (started: 2021-01-22 10:26:42 +09:00)\n"
     ]
    }
   ],
   "source": [
    "word_to_index"
   ]
  },
  {
   "cell_type": "markdown",
   "id": "roman-referral",
   "metadata": {},
   "source": [
    "* word_to_index는 key값이 텍스트 스트링이다. 따라서 인덱스 역할을 하는 key값을 숫자이기 때문에 해당 값에서 숫자를 추출하기 위한 함수가 필요하다. => wordlist_to_indexlist"
   ]
  },
  {
   "cell_type": "code",
   "execution_count": 35,
   "id": "tracked-protest",
   "metadata": {},
   "outputs": [
    {
     "data": {
      "text/plain": [
       "83"
      ]
     },
     "execution_count": 35,
     "metadata": {},
     "output_type": "execute_result"
    },
    {
     "name": "stdout",
     "output_type": "stream",
     "text": [
      "time: 1.39 ms (started: 2021-01-22 10:26:42 +09:00)\n"
     ]
    }
   ],
   "source": [
    "word_to_index['재미']"
   ]
  },
  {
   "cell_type": "markdown",
   "id": "identical-dealer",
   "metadata": {},
   "source": [
    "### 2.6. 텍스트 스트링을 사전 인덱스 스트링으로 변환"
   ]
  },
  {
   "cell_type": "code",
   "execution_count": 36,
   "id": "reported-decline",
   "metadata": {
    "scrolled": true
   },
   "outputs": [
    {
     "name": "stdout",
     "output_type": "stream",
     "text": [
      "time: 506 µs (started: 2021-01-22 10:26:42 +09:00)\n"
     ]
    }
   ],
   "source": [
    "def wordlist_to_indexlist(wordlist):\n",
    "    return [word_to_index[word] if word in word_to_index else word_to_index['<UNK>'] for word in wordlist]"
   ]
  },
  {
   "cell_type": "code",
   "execution_count": 37,
   "id": "radio-baking",
   "metadata": {},
   "outputs": [
    {
     "data": {
      "text/plain": [
       "[83]"
      ]
     },
     "execution_count": 37,
     "metadata": {},
     "output_type": "execute_result"
    },
    {
     "name": "stdout",
     "output_type": "stream",
     "text": [
      "time: 1.39 ms (started: 2021-01-22 10:26:42 +09:00)\n"
     ]
    }
   ],
   "source": [
    "wordlist_to_indexlist({'재미':85})"
   ]
  },
  {
   "cell_type": "code",
   "execution_count": 38,
   "id": "adapted-cancer",
   "metadata": {
    "scrolled": true
   },
   "outputs": [
    {
     "data": {
      "text/plain": [
       "['아', '더', '빙', '진짜', '짜증', '나', '네요', '목소리']"
      ]
     },
     "execution_count": 38,
     "metadata": {},
     "output_type": "execute_result"
    },
    {
     "name": "stdout",
     "output_type": "stream",
     "text": [
      "time: 1.61 ms (started: 2021-01-22 10:26:42 +09:00)\n"
     ]
    }
   ],
   "source": [
    "X_train[0]"
   ]
  },
  {
   "cell_type": "markdown",
   "id": "political-princess",
   "metadata": {},
   "source": [
    "### 2.7. X_train, y_train, X_test, y_test"
   ]
  },
  {
   "cell_type": "code",
   "execution_count": 39,
   "id": "intended-proceeding",
   "metadata": {
    "scrolled": true
   },
   "outputs": [
    {
     "name": "stdout",
     "output_type": "stream",
     "text": [
      "time: 960 ms (started: 2021-01-22 10:26:42 +09:00)\n"
     ]
    }
   ],
   "source": [
    "X_train = list(map(wordlist_to_indexlist, X_train))\n",
    "X_test = list(map(wordlist_to_indexlist, X_test))"
   ]
  },
  {
   "cell_type": "code",
   "execution_count": 40,
   "id": "cheap-forum",
   "metadata": {},
   "outputs": [
    {
     "data": {
      "text/plain": [
       "[[26, 65, 892, 32, 211, 14, 27, 696],\n",
       " [974, 478, 488, 633, 4, 108, 1551, 46, 863, 946, 10, 36, 361],\n",
       " [18, 189, 28634]]"
      ]
     },
     "execution_count": 40,
     "metadata": {},
     "output_type": "execute_result"
    },
    {
     "name": "stdout",
     "output_type": "stream",
     "text": [
      "time: 1.87 ms (started: 2021-01-22 10:26:43 +09:00)\n"
     ]
    }
   ],
   "source": [
    "X_train[:3]"
   ]
  },
  {
   "cell_type": "code",
   "execution_count": 41,
   "id": "stock-printing",
   "metadata": {},
   "outputs": [
    {
     "name": "stdout",
     "output_type": "stream",
     "text": [
      "time: 29.8 ms (started: 2021-01-22 10:26:43 +09:00)\n"
     ]
    }
   ],
   "source": [
    "y_train = np.array(list(train_data['label']))\n",
    "y_test = np.array(list(test_data['label']))"
   ]
  },
  {
   "cell_type": "markdown",
   "id": "considered-drunk",
   "metadata": {},
   "source": [
    "#### index to word"
   ]
  },
  {
   "cell_type": "code",
   "execution_count": 42,
   "id": "suburban-dominican",
   "metadata": {},
   "outputs": [
    {
     "name": "stdout",
     "output_type": "stream",
     "text": [
      "time: 6.14 ms (started: 2021-01-22 10:26:43 +09:00)\n"
     ]
    }
   ],
   "source": [
    "index_to_word = {index:word for word, index in word_to_index.items()}"
   ]
  },
  {
   "cell_type": "code",
   "execution_count": 43,
   "id": "hawaiian-distinction",
   "metadata": {},
   "outputs": [
    {
     "name": "stdout",
     "output_type": "stream",
     "text": [
      "time: 692 µs (started: 2021-01-22 10:26:43 +09:00)\n"
     ]
    }
   ],
   "source": [
    "# 문장 1개를 활용할 딕셔너리와 함께 주면, 단어 인덱스 리스트 벡터로 변환해 주는 함수입니다. \n",
    "# 단, 모든 문장은 <BOS>로 시작하는 것으로 합니다. \n",
    "def get_encoded_sentence(sentence, word_to_index):\n",
    "    return [word_to_index['<BOS>']]+[word_to_index[word] if word in word_to_index else word_to_index['<UNK>'] for word in sentence.split()]\n",
    "\n",
    "# 여러 개의 문장 리스트를 한꺼번에 단어 인덱스 리스트 벡터로 encode해 주는 함수입니다. \n",
    "def get_encoded_sentences(sentences, word_to_index):\n",
    "    return [get_encoded_sentence(sentence, word_to_index) for sentence in sentences]\n",
    "\n",
    "# 숫자 벡터로 encode된 문장을 원래대로 decode하는 함수입니다. \n",
    "def get_decoded_sentence(encoded_sentence, index_to_word):\n",
    "    return ' '.join(index_to_word[index] if index in index_to_word else '<UNK>' for index in encoded_sentence[1:])  #[1:]를 통해 <BOS>를 제외\n",
    "\n",
    "# 여러개의 숫자 벡터로 encode된 문장을 한꺼번에 원래대로 decode하는 함수입니다. \n",
    "def get_decoded_sentences(encoded_sentences, index_to_word):\n",
    "    return [get_decoded_sentence(encoded_sentence, index_to_word) for encoded_sentence in encoded_sentences]"
   ]
  },
  {
   "cell_type": "markdown",
   "id": "short-religious",
   "metadata": {},
   "source": [
    "## 3. 모델 구성을 위한 데이터 분석 및 가공\n",
    "\n",
    "### 데이터셋 내 문장 길이 분포 "
   ]
  },
  {
   "cell_type": "code",
   "execution_count": 44,
   "id": "incomplete-pointer",
   "metadata": {
    "scrolled": true
   },
   "outputs": [
    {
     "name": "stdout",
     "output_type": "stream",
     "text": [
      "[26, 65, 892, 32, 211, 14, 27, 696]\n",
      "라벨:  0\n",
      "1번째 리뷰 문장 길이:  8\n",
      "2번째 리뷰 문장 길이:  13\n",
      "time: 897 µs (started: 2021-01-22 10:26:43 +09:00)\n"
     ]
    }
   ],
   "source": [
    "print(X_train[0])  # 1번째 리뷰데이터\n",
    "print('라벨: ', y_train[0])  # 1번째 리뷰데이터의 라벨\n",
    "print('1번째 리뷰 문장 길이: ', len(X_train[0]))\n",
    "print('2번째 리뷰 문장 길이: ', len(X_train[1]))"
   ]
  },
  {
   "cell_type": "code",
   "execution_count": 45,
   "id": "adjusted-modern",
   "metadata": {
    "scrolled": false
   },
   "outputs": [
    {
     "name": "stdout",
     "output_type": "stream",
     "text": [
      "문장길이 평균 :  14.002897526863554\n",
      "문장길이 최대 :  105\n",
      "문장길이 표준편차 :  11.58026473323271\n",
      "time: 28 ms (started: 2021-01-22 10:26:43 +09:00)\n"
     ]
    }
   ],
   "source": [
    "total_data_text = list(X_train) + list(X_test)\n",
    "\n",
    "# 텍스트데이터 문장길이의 리스트를 생성한 후\n",
    "num_tokens = [len(tokens) for tokens in total_data_text]\n",
    "num_tokens = np.array(num_tokens)\n",
    "\n",
    "# 문장길이의 평균값, 최대값, 표준편차를 계산해 본다. \n",
    "print('문장길이 평균 : ', np.mean(num_tokens))\n",
    "print('문장길이 최대 : ', np.max(num_tokens))\n",
    "print('문장길이 표준편차 : ', np.std(num_tokens))"
   ]
  },
  {
   "cell_type": "markdown",
   "id": "modified-batman",
   "metadata": {},
   "source": [
    "### 적절한 문장 최대 길이 지정 \n",
    "* 분포를 통해 확인했을 때 문장의 최대 길이는 40정도가 적당해 보인다. \n",
    "* 추가 시도인 2.x.에서 특수문자를 지워주고 나니까 문장의 최대길이와 평균 길이가 줄었다."
   ]
  },
  {
   "cell_type": "code",
   "execution_count": 46,
   "id": "satisfactory-auditor",
   "metadata": {
    "scrolled": true
   },
   "outputs": [
    {
     "name": "stdout",
     "output_type": "stream",
     "text": [
      "리뷰의 최대 길이 : 105\n",
      "리뷰의 평균 길이 : 14.002897526863554\n"
     ]
    },
    {
     "data": {
      "image/png": "[encoded data removed]",
      "text/plain": [
       "<Figure size 432x288 with 1 Axes>"
      ]
     },
     "metadata": {
      "needs_background": "light"
     },
     "output_type": "display_data"
    },
    {
     "name": "stdout",
     "output_type": "stream",
     "text": [
      "time: 576 ms (started: 2021-01-22 10:26:43 +09:00)\n"
     ]
    }
   ],
   "source": [
    "print('리뷰의 최대 길이 :', np.max(num_tokens))\n",
    "print('리뷰의 평균 길이 :', np.mean(num_tokens))\n",
    "plt.hist([len(s) for s in X_train], bins=50)\n",
    "plt.xlabel('length of samples')\n",
    "plt.ylabel('number of samples')\n",
    "plt.show()"
   ]
  },
  {
   "cell_type": "markdown",
   "id": "thousand-clark",
   "metadata": {},
   "source": [
    "* 분포와 비슷한 계산수치를 사용해도 41 정도가 최대 길이로 보이고, 90%이상을 포함하므로 최대 길이를 41이다. \n",
    "* 특수문자 처리와 불용어를 추가준 후에는 37이 나왔다. padding은 37에 맞춰주도록 한다."
   ]
  },
  {
   "cell_type": "code",
   "execution_count": 47,
   "id": "shared-corruption",
   "metadata": {},
   "outputs": [
    {
     "name": "stdout",
     "output_type": "stream",
     "text": [
      "pad_sequences maxlen :  37\n",
      "전체 문장의 0.9363823916371027%가 maxlen 설정값 이내에 포함됩니다. \n",
      "time: 2.11 ms (started: 2021-01-22 10:26:44 +09:00)\n"
     ]
    }
   ],
   "source": [
    "# 예를들어, 최대 길이를 (평균 + 2*표준편차)로 한다면,  \n",
    "max_tokens = np.mean(num_tokens) + 2 * np.std(num_tokens)\n",
    "max_len = int(max_tokens)\n",
    "print('pad_sequences maxlen : ', max_len)\n",
    "print('전체 문장의 {}%가 maxlen 설정값 이내에 포함됩니다. '.format(np.sum(num_tokens < max_tokens) / len(num_tokens)))"
   ]
  },
  {
   "cell_type": "markdown",
   "id": "lesbian-stylus",
   "metadata": {},
   "source": [
    "### keras.preprocessing.sequence.pad_sequences 을 활용한 패딩 추가"
   ]
  },
  {
   "cell_type": "markdown",
   "id": "bright-video",
   "metadata": {},
   "source": [
    "* 왜 padding을 해주는가? 자연어 처리에서 입력 데이터인 문장은 서로 길이가 다를 수 있다. 따라서, 문장의 길이를 어느 정도의 기준을 가지고 임의로 동일하게 맞춰주는 작업이 필요하다. "
   ]
  },
  {
   "cell_type": "code",
   "execution_count": 48,
   "id": "offshore-antique",
   "metadata": {},
   "outputs": [
    {
     "name": "stdout",
     "output_type": "stream",
     "text": [
      "time: 737 ms (started: 2021-01-22 10:26:44 +09:00)\n"
     ]
    }
   ],
   "source": [
    "from tensorflow.keras.preprocessing.sequence import pad_sequences\n",
    "\n",
    "X_train = pad_sequences(X_train, \n",
    "                        maxlen = max_len,\n",
    "                        value=word_to_index[\"<PAD>\"],\n",
    "                        padding='pre')\n",
    "X_test = pad_sequences(X_test, \n",
    "                       maxlen = max_len,\n",
    "                       value=word_to_index[\"<PAD>\"],\n",
    "                       padding='pre')"
   ]
  },
  {
   "cell_type": "markdown",
   "id": "complimentary-latino",
   "metadata": {},
   "source": [
    "* 최대 길이에 맞춰 shape가 일괄적으로 맞춰졌음을 확인했다. "
   ]
  },
  {
   "cell_type": "code",
   "execution_count": 49,
   "id": "uniform-combination",
   "metadata": {},
   "outputs": [
    {
     "name": "stdout",
     "output_type": "stream",
     "text": [
      "(146182, 37)\n",
      "(49157, 37)\n",
      "time: 395 µs (started: 2021-01-22 10:26:44 +09:00)\n"
     ]
    }
   ],
   "source": [
    "# 데이터셋 정제 후 데이터셋 shape 확인\n",
    "print(X_train.shape)\n",
    "print(X_test.shape)"
   ]
  },
  {
   "cell_type": "markdown",
   "id": "decent-alabama",
   "metadata": {},
   "source": [
    "## 4. 모델 구성 및 Validation set 구성 "
   ]
  },
  {
   "cell_type": "markdown",
   "id": "exact-omaha",
   "metadata": {},
   "source": [
    "### 4.1. 모델 구성 "
   ]
  },
  {
   "cell_type": "markdown",
   "id": "alternative-recipe",
   "metadata": {},
   "source": [
    "### 단어 집합(vocab size) 계산"
   ]
  },
  {
   "cell_type": "code",
   "execution_count": 50,
   "id": "detailed-virtue",
   "metadata": {
    "scrolled": true
   },
   "outputs": [
    {
     "name": "stdout",
     "output_type": "stream",
     "text": [
      "43800 개\n",
      "time: 448 µs (started: 2021-01-22 10:26:44 +09:00)\n"
     ]
    }
   ],
   "source": [
    "total_cnt = len(word_to_index)  # 어휘 사전의 크기입니다\n",
    "\n",
    "print(total_cnt, '개')"
   ]
  },
  {
   "cell_type": "code",
   "execution_count": 51,
   "id": "demanding-wales",
   "metadata": {},
   "outputs": [
    {
     "name": "stdout",
     "output_type": "stream",
     "text": [
      "time: 246 µs (started: 2021-01-22 10:26:44 +09:00)\n"
     ]
    }
   ],
   "source": [
    "word_vector_dim = 200  \n",
    "# 워드 벡터의 차원수 (변경가능한 하이퍼파라미터)\n",
    "#  # 단어 하나를 표현하는 임베딩 벡터의 차원수입니다. \n",
    "# 이후 사용되는 ko의 차원수에 맞춰준다. "
   ]
  },
  {
   "cell_type": "markdown",
   "id": "domestic-florist",
   "metadata": {},
   "source": [
    "* LSTM 모델 구성\n",
    "    - 기존에 차원 8에서 64로 높임"
   ]
  },
  {
   "cell_type": "code",
   "execution_count": 52,
   "id": "regulated-regulation",
   "metadata": {
    "scrolled": true
   },
   "outputs": [
    {
     "name": "stdout",
     "output_type": "stream",
     "text": [
      "Model: \"sequential\"\n",
      "_________________________________________________________________\n",
      "Layer (type)                 Output Shape              Param #   \n",
      "=================================================================\n",
      "embedding (Embedding)        (None, None, 200)         8760000   \n",
      "_________________________________________________________________\n",
      "lstm (LSTM)                  (None, 128)               168448    \n",
      "_________________________________________________________________\n",
      "dense (Dense)                (None, 1)                 129       \n",
      "=================================================================\n",
      "Total params: 8,928,577\n",
      "Trainable params: 8,928,577\n",
      "Non-trainable params: 0\n",
      "_________________________________________________________________\n",
      "time: 647 ms (started: 2021-01-22 10:26:44 +09:00)\n"
     ]
    }
   ],
   "source": [
    "model = keras.Sequential()\n",
    "model.add(keras.layers.Embedding(vocab_size, word_vector_dim, input_shape=(None,)))\n",
    "model.add(keras.layers.LSTM(128))   # 가장 널리 쓰이는 RNN인 LSTM 레이어를 사용하였습니다. 이때 LSTM state 벡터의 차원수는 64로 하였습니다. (변경가능)\n",
    "# model.add(keras.layers.Dense(8, activation='relu')) # 안해도 됨\n",
    "model.add(keras.layers.Dense(1, activation='sigmoid'))  # 최종 출력은 긍정/부정을 나타내는 1dim 입니다.\n",
    "\n",
    "model.summary()"
   ]
  },
  {
   "cell_type": "markdown",
   "id": "therapeutic-perception",
   "metadata": {},
   "source": [
    "### 4.2. 데이터셋 분리\n",
    "* 테스트가 약 15000여개가 있으므로 4:1 비율로 Valid를 할당한다. \n",
    "* 따라서 valid set은 전체 train set에서 약 20%에 해당하는 29300만건 정도 할당한다"
   ]
  },
  {
   "cell_type": "code",
   "execution_count": 53,
   "id": "proud-research",
   "metadata": {
    "scrolled": true
   },
   "outputs": [
    {
     "name": "stdout",
     "output_type": "stream",
     "text": [
      "29236.4\n",
      "time: 384 µs (started: 2021-01-22 10:26:45 +09:00)\n"
     ]
    }
   ],
   "source": [
    "print(X_train.shape[0]*0.2)"
   ]
  },
  {
   "cell_type": "code",
   "execution_count": 54,
   "id": "respected-barbados",
   "metadata": {},
   "outputs": [
    {
     "name": "stdout",
     "output_type": "stream",
     "text": [
      "(116882, 37)\n",
      "(116882,)\n",
      "time: 585 µs (started: 2021-01-22 10:26:45 +09:00)\n"
     ]
    }
   ],
   "source": [
    "# validation set 29300건 분리\n",
    "X_val = X_train[:29300]   \n",
    "y_val = y_train[:29300]\n",
    "\n",
    "# validation set을 제외한 나머지 \n",
    "partial_X_train = X_train[29300:]  \n",
    "partial_y_train = y_train[29300:]\n",
    "\n",
    "print(partial_X_train.shape)\n",
    "print(partial_y_train.shape)"
   ]
  },
  {
   "cell_type": "markdown",
   "id": "juvenile-cardiff",
   "metadata": {},
   "source": [
    "## 5. 모델 훈련 개시 \n",
    "* 최고 점수 나오는 모델을 저장할 수 있도록 함 (추가 시도)"
   ]
  },
  {
   "cell_type": "code",
   "execution_count": 55,
   "id": "pressed-impact",
   "metadata": {},
   "outputs": [
    {
     "name": "stdout",
     "output_type": "stream",
     "text": [
      "time: 440 µs (started: 2021-01-22 10:26:45 +09:00)\n"
     ]
    }
   ],
   "source": [
    "from tensorflow.keras.models import load_model\n",
    "from tensorflow.keras.callbacks import EarlyStopping, ModelCheckpoint\n",
    "\n",
    "es = EarlyStopping(monitor='val_loss', mode='min', verbose=1, patience=5)\n",
    "mc = ModelCheckpoint('best_model.h5', monitor='val_acc', mode='max', verbose=1, save_best_only=True)"
   ]
  },
  {
   "cell_type": "markdown",
   "id": "rental-shepherd",
   "metadata": {},
   "source": [
    "* batch size는 얼마만큼 묶음지어서 학습시킬 것이냐이기 때문에 512는 너무 커서 100정도로 줄여서 시도했다. 값은 일반적으로 60, 80정도 잡길래 일단 100으로 줄였다.(추가 시도)"
   ]
  },
  {
   "cell_type": "code",
   "execution_count": 56,
   "id": "twenty-promise",
   "metadata": {},
   "outputs": [
    {
     "name": "stdout",
     "output_type": "stream",
     "text": [
      "Epoch 1/20\n",
      "1949/1949 [==============================] - ETA: 0s - loss: 0.3817 - accuracy: 0.8269WARNING:tensorflow:Can save best model only with val_acc available, skipping.\n",
      "1949/1949 [==============================] - 167s 86ms/step - loss: 0.3817 - accuracy: 0.8269 - val_loss: 0.3342 - val_accuracy: 0.8517\n",
      "Epoch 2/20\n",
      "1949/1949 [==============================] - ETA: 0s - loss: 0.2705 - accuracy: 0.8872WARNING:tensorflow:Can save best model only with val_acc available, skipping.\n",
      "1949/1949 [==============================] - 166s 85ms/step - loss: 0.2705 - accuracy: 0.8872 - val_loss: 0.3333 - val_accuracy: 0.8578\n",
      "Epoch 3/20\n",
      "1949/1949 [==============================] - ETA: 0s - loss: 0.2030 - accuracy: 0.9178WARNING:tensorflow:Can save best model only with val_acc available, skipping.\n",
      "1949/1949 [==============================] - 168s 86ms/step - loss: 0.2030 - accuracy: 0.9178 - val_loss: 0.3674 - val_accuracy: 0.8502\n",
      "Epoch 4/20\n",
      "1949/1949 [==============================] - ETA: 0s - loss: 0.1519 - accuracy: 0.9403WARNING:tensorflow:Can save best model only with val_acc available, skipping.\n",
      "1949/1949 [==============================] - 169s 87ms/step - loss: 0.1519 - accuracy: 0.9403 - val_loss: 0.4408 - val_accuracy: 0.8492\n",
      "Epoch 5/20\n",
      "1949/1949 [==============================] - ETA: 0s - loss: 0.1151 - accuracy: 0.9550WARNING:tensorflow:Can save best model only with val_acc available, skipping.\n",
      "1949/1949 [==============================] - 168s 86ms/step - loss: 0.1151 - accuracy: 0.9550 - val_loss: 0.5072 - val_accuracy: 0.8456\n",
      "Epoch 6/20\n",
      "1949/1949 [==============================] - ETA: 0s - loss: 0.0883 - accuracy: 0.9659WARNING:tensorflow:Can save best model only with val_acc available, skipping.\n",
      "1949/1949 [==============================] - 168s 86ms/step - loss: 0.0883 - accuracy: 0.9659 - val_loss: 0.5764 - val_accuracy: 0.8397\n",
      "Epoch 7/20\n",
      "1949/1949 [==============================] - ETA: 0s - loss: 0.0713 - accuracy: 0.9726WARNING:tensorflow:Can save best model only with val_acc available, skipping.\n",
      "1949/1949 [==============================] - 172s 88ms/step - loss: 0.0713 - accuracy: 0.9726 - val_loss: 0.6958 - val_accuracy: 0.8361\n",
      "Epoch 00007: early stopping\n",
      "time: 19min 41s (started: 2021-01-22 10:26:45 +09:00)\n"
     ]
    }
   ],
   "source": [
    "model.compile(optimizer='adam',\n",
    "              loss='binary_crossentropy',\n",
    "              metrics=['accuracy'])\n",
    "              \n",
    "epochs=20  # 몇 epoch를 훈련하면 좋을지 결과를 보면서 바꾸어 봅시다. \n",
    "\n",
    "history = model.fit(partial_X_train,\n",
    "                    partial_y_train,\n",
    "                    epochs=epochs,\n",
    "                    batch_size=60, # 512, 100, 60 \n",
    "                    validation_data=(X_val, y_val),\n",
    "                    verbose=1,\n",
    "                    callbacks = [es, mc])"
   ]
  },
  {
   "cell_type": "markdown",
   "id": "inclusive-carnival",
   "metadata": {},
   "source": [
    "## 6. Loss, Accuracy 그래프 시각화"
   ]
  },
  {
   "cell_type": "code",
   "execution_count": 57,
   "id": "korean-found",
   "metadata": {
    "scrolled": true
   },
   "outputs": [
    {
     "name": "stdout",
     "output_type": "stream",
     "text": [
      "1537/1537 - 3s - loss: 0.6497 - accuracy: 0.8261\n",
      "[0.6497150659561157, 0.8261488676071167]\n",
      "time: 3.1 s (started: 2021-01-22 10:46:26 +09:00)\n"
     ]
    }
   ],
   "source": [
    "results = model.evaluate(X_test,  y_test, verbose=2)\n",
    "\n",
    "print(results)"
   ]
  },
  {
   "cell_type": "code",
   "execution_count": 58,
   "id": "given-watson",
   "metadata": {},
   "outputs": [
    {
     "name": "stdout",
     "output_type": "stream",
     "text": [
      "dict_keys(['loss', 'accuracy', 'val_loss', 'val_accuracy'])\n",
      "time: 541 µs (started: 2021-01-22 10:46:29 +09:00)\n"
     ]
    }
   ],
   "source": [
    "history_dict = history.history\n",
    "print(history_dict.keys()) # epoch에 따른 그래프를 그려볼 수 있는 항목들"
   ]
  },
  {
   "cell_type": "code",
   "execution_count": 59,
   "id": "raised-diabetes",
   "metadata": {},
   "outputs": [
    {
     "data": {
      "image/png": "[encoded data removed]",
      "text/plain": [
       "<Figure size 432x288 with 1 Axes>"
      ]
     },
     "metadata": {
      "needs_background": "light"
     },
     "output_type": "display_data"
    },
    {
     "name": "stdout",
     "output_type": "stream",
     "text": [
      "time: 143 ms (started: 2021-01-22 10:46:29 +09:00)\n"
     ]
    }
   ],
   "source": [
    "acc = history_dict['accuracy']\n",
    "val_acc = history_dict['val_accuracy']\n",
    "loss = history_dict['loss']\n",
    "val_loss = history_dict['val_loss']\n",
    "\n",
    "epochs = range(1, len(acc) + 1)\n",
    "\n",
    "# \"bo\"는 \"파란색 점\"입니다\n",
    "plt.plot(epochs, loss, 'bo', label='Training loss')\n",
    "# b는 \"파란 실선\"입니다\n",
    "plt.plot(epochs, val_loss, 'b', label='Validation loss')\n",
    "plt.title('Training and validation loss')\n",
    "plt.xlabel('Epochs')\n",
    "plt.ylabel('Loss')\n",
    "plt.legend()\n",
    "\n",
    "plt.show()"
   ]
  },
  {
   "cell_type": "code",
   "execution_count": 60,
   "id": "adjusted-miami",
   "metadata": {
    "scrolled": true
   },
   "outputs": [
    {
     "data": {
      "image/png": "[encoded data removed]",
      "text/plain": [
       "<Figure size 432x288 with 1 Axes>"
      ]
     },
     "metadata": {
      "needs_background": "light"
     },
     "output_type": "display_data"
    },
    {
     "name": "stdout",
     "output_type": "stream",
     "text": [
      "time: 131 ms (started: 2021-01-22 10:46:29 +09:00)\n"
     ]
    }
   ],
   "source": [
    "plt.clf()   # 그림을 초기화합니다\n",
    "\n",
    "plt.plot(epochs, acc, 'bo', label='Training acc')\n",
    "plt.plot(epochs, val_acc, 'b', label='Validation acc')\n",
    "plt.title('Training and validation accuracy')\n",
    "plt.xlabel('Epochs')\n",
    "plt.ylabel('Accuracy')\n",
    "plt.legend()\n",
    "\n",
    "plt.show()"
   ]
  },
  {
   "cell_type": "markdown",
   "id": "empty-holiday",
   "metadata": {},
   "source": [
    "* 팀원들과 학습결과를 공유했을 때 내 그래프가 매우 이상한 편이었다. 과적합이 에폭 2에서부터 뜬다.. .ㅠ\n",
    "* 파라미터를 바꿔줘보기도 했지만 동일하게 과적합이 돼서 이유를 명확히 파악하지 못 했다. "
   ]
  },
  {
   "cell_type": "markdown",
   "id": "mounted-apparel",
   "metadata": {},
   "source": [
    "## 7. 학습된 Embedding 레이어 분석"
   ]
  },
  {
   "cell_type": "code",
   "execution_count": 61,
   "id": "sophisticated-reading",
   "metadata": {},
   "outputs": [
    {
     "name": "stdout",
     "output_type": "stream",
     "text": [
      "(43800, 200)\n",
      "time: 46.3 ms (started: 2021-01-22 10:46:30 +09:00)\n"
     ]
    }
   ],
   "source": [
    "embedding_layer = model.layers[0]\n",
    "weights = embedding_layer.get_weights()[0]\n",
    "print(weights.shape)    # shape: (vocab_size, embedding_dim)"
   ]
  },
  {
   "cell_type": "code",
   "execution_count": 62,
   "id": "atomic-broad",
   "metadata": {},
   "outputs": [
    {
     "name": "stdout",
     "output_type": "stream",
     "text": [
      "time: 4.84 s (started: 2021-01-22 10:46:30 +09:00)\n"
     ]
    }
   ],
   "source": [
    "# 학습한 Embedding 파라미터를 파일에 써서 저장합니다. \n",
    "word2vec_file_path = os.getenv('HOME')+'/aiffel/sentiment_classification/word2vec.txt'\n",
    "f = open(word2vec_file_path, 'w')\n",
    "f.write('{} {}\\n'.format(vocab_size-4, word_vector_dim))  # 몇개의 벡터를 얼마 사이즈로 기재할지 타이틀을 씁니다.\n",
    "\n",
    "# 단어 개수(에서 특수문자 4개는 제외하고)만큼의 워드 벡터를 파일에 기록합니다. \n",
    "vectors = model.get_weights()[0]\n",
    "for i in range(4,vocab_size):\n",
    "    f.write('{} {}\\n'.format(index_to_word[i], ' '.join(map(str, list(vectors[i, :])))))\n",
    "f.close()"
   ]
  },
  {
   "cell_type": "markdown",
   "id": "pleasant-crawford",
   "metadata": {},
   "source": [
    "## 8. 한국어 Word2Vec 임베딩 활용하여 성능개선"
   ]
  },
  {
   "cell_type": "code",
   "execution_count": 63,
   "id": "designing-reservation",
   "metadata": {},
   "outputs": [
    {
     "name": "stdout",
     "output_type": "stream",
     "text": [
      "Word2Vec(vocab=30185, size=200, alpha=0.025)\n",
      "time: 540 ms (started: 2021-01-22 10:46:34 +09:00)\n"
     ]
    }
   ],
   "source": [
    "from gensim.models import Word2Vec\n",
    "import os\n",
    "\n",
    "# 한국어 Word2Vec 사용\n",
    "word2vec_path = os.getenv('HOME')+'/aiffel/sentiment_classification/ko.bin'\n",
    "word2vec = Word2Vec.load(word2vec_path)\n",
    "\n",
    "print(word2vec)"
   ]
  },
  {
   "cell_type": "code",
   "execution_count": 64,
   "id": "white-tours",
   "metadata": {},
   "outputs": [
    {
     "name": "stdout",
     "output_type": "stream",
     "text": [
      "time: 205 ms (started: 2021-01-22 10:46:35 +09:00)\n"
     ]
    },
    {
     "name": "stderr",
     "output_type": "stream",
     "text": [
      "/home/aiffel-dj19/anaconda3/envs/aiffel/lib/python3.7/site-packages/ipykernel_launcher.py:5: DeprecationWarning: Call to deprecated `__contains__` (Method will be removed in 4.0.0, use self.wv.__contains__() instead).\n",
      "  \"\"\"\n",
      "/home/aiffel-dj19/anaconda3/envs/aiffel/lib/python3.7/site-packages/ipykernel_launcher.py:6: DeprecationWarning: Call to deprecated `__getitem__` (Method will be removed in 4.0.0, use self.wv.__getitem__() instead).\n",
      "  \n"
     ]
    }
   ],
   "source": [
    "embedding_matrix = np.random.rand(vocab_size, word_vector_dim)\n",
    "\n",
    "# embedding_matrix에 Word2Vec 워드벡터를 단어 하나씩마다 차례차례 카피한다.\n",
    "for i in range(4,vocab_size):\n",
    "    if index_to_word[i] in word2vec:\n",
    "        embedding_matrix[i] = word2vec[index_to_word[i]]"
   ]
  },
  {
   "cell_type": "markdown",
   "id": "retained-emerald",
   "metadata": {},
   "source": [
    "### 8.1. CNN에 임베딩벡터를 적용 "
   ]
  },
  {
   "cell_type": "code",
   "execution_count": 66,
   "id": "adequate-chassis",
   "metadata": {
    "scrolled": true
   },
   "outputs": [
    {
     "name": "stdout",
     "output_type": "stream",
     "text": [
      "Model: \"sequential_2\"\n",
      "_________________________________________________________________\n",
      "Layer (type)                 Output Shape              Param #   \n",
      "=================================================================\n",
      "embedding_2 (Embedding)      (None, 37, 200)           8760000   \n",
      "_________________________________________________________________\n",
      "conv1d_2 (Conv1D)            (None, 33, 16)            16016     \n",
      "_________________________________________________________________\n",
      "max_pooling1d_1 (MaxPooling1 (None, 6, 16)             0         \n",
      "_________________________________________________________________\n",
      "conv1d_3 (Conv1D)            (None, 2, 16)             1296      \n",
      "_________________________________________________________________\n",
      "global_max_pooling1d (Global (None, 16)                0         \n",
      "_________________________________________________________________\n",
      "dense_1 (Dense)              (None, 16)                272       \n",
      "_________________________________________________________________\n",
      "dense_2 (Dense)              (None, 1)                 17        \n",
      "=================================================================\n",
      "Total params: 8,777,601\n",
      "Trainable params: 8,777,601\n",
      "Non-trainable params: 0\n",
      "_________________________________________________________________\n",
      "time: 80.9 ms (started: 2021-01-22 10:47:09 +09:00)\n"
     ]
    }
   ],
   "source": [
    "from tensorflow.keras.initializers import Constant\n",
    "\n",
    "# 모델 구성\n",
    "model_cnn = keras.Sequential()\n",
    "model_cnn.add(keras.layers.Embedding(vocab_size, \n",
    "                                 word_vector_dim, \n",
    "                                 embeddings_initializer=Constant(embedding_matrix),  # 카피한 임베딩을 여기서 활용\n",
    "                                 input_length=max_len, \n",
    "                                 trainable=True))   # trainable을 True로 주면 Fine-tuning\n",
    "model_cnn.add(keras.layers.Conv1D(16, 5, activation='relu')) #16, 32 (추가시도)\n",
    "model_cnn.add(keras.layers.MaxPooling1D(5))\n",
    "model_cnn.add(keras.layers.Conv1D(16, 5, activation='relu')) #negative error가 떠서 커널 사이즈를 줄여줬다. (추가 시도)\n",
    "model_cnn.add(keras.layers.GlobalMaxPooling1D())\n",
    "model_cnn.add(keras.layers.Dense(16, activation='relu'))\n",
    "model_cnn.add(keras.layers.Dense(1, activation='sigmoid')) \n",
    "\n",
    "model_cnn.summary()"
   ]
  },
  {
   "cell_type": "markdown",
   "id": "joined-composition",
   "metadata": {},
   "source": [
    "### 8.2. LSTM에 임베딩 벡터 적용 "
   ]
  },
  {
   "cell_type": "code",
   "execution_count": 72,
   "id": "leading-glory",
   "metadata": {},
   "outputs": [
    {
     "name": "stdout",
     "output_type": "stream",
     "text": [
      "Model: \"sequential_7\"\n",
      "_________________________________________________________________\n",
      "Layer (type)                 Output Shape              Param #   \n",
      "=================================================================\n",
      "embedding_3 (Embedding)      (None, 37, 200)           8760000   \n",
      "_________________________________________________________________\n",
      "lstm_1 (LSTM)                (None, 128)               168448    \n",
      "_________________________________________________________________\n",
      "dense_3 (Dense)              (None, 8)                 1032      \n",
      "_________________________________________________________________\n",
      "dense_4 (Dense)              (None, 1)                 9         \n",
      "=================================================================\n",
      "Total params: 8,929,489\n",
      "Trainable params: 8,929,489\n",
      "Non-trainable params: 0\n",
      "_________________________________________________________________\n",
      "time: 232 ms (started: 2021-01-22 10:51:58 +09:00)\n"
     ]
    }
   ],
   "source": [
    "from tensorflow.keras.initializers import Constant\n",
    "\n",
    "model_transfer = keras.Sequential()\n",
    "model_transfer.add(keras.layers.Embedding(vocab_size, \n",
    "                   word_vector_dim, \n",
    "                   embeddings_initializer=Constant(embedding_matrix),  # 카피한 임베딩을 여기서 활용\n",
    "                   input_length=max_len, \n",
    "                   trainable=True))\n",
    "model_transfer.add(keras.layers.LSTM(128))   # 가장 널리 쓰이는 RNN인 LSTM 레이어를 사용하였습니다. 이때 LSTM state 벡터의 차원수는 64로 하였습니다. (변경가능)\n",
    "model_transfer.add(keras.layers.Dense(8, activation='relu')) # 안해도 됨\n",
    "model_transfer.add(keras.layers.Dense(1, activation='sigmoid'))  # 최종 출력은 긍정/부정을 나타내는 1dim 입니다.\n",
    "\n",
    "model_transfer.summary()"
   ]
  },
  {
   "cell_type": "markdown",
   "id": "unauthorized-netherlands",
   "metadata": {},
   "source": [
    "### 8.3. GlobalMaxPooling1D() 레이어 하나만 사용"
   ]
  },
  {
   "cell_type": "code",
   "execution_count": 73,
   "id": "danish-fusion",
   "metadata": {},
   "outputs": [
    {
     "name": "stdout",
     "output_type": "stream",
     "text": [
      "Model: \"sequential_8\"\n",
      "_________________________________________________________________\n",
      "Layer (type)                 Output Shape              Param #   \n",
      "=================================================================\n",
      "embedding_4 (Embedding)      (None, None, 200)         8760000   \n",
      "_________________________________________________________________\n",
      "global_max_pooling1d_1 (Glob (None, 200)               0         \n",
      "_________________________________________________________________\n",
      "dense_5 (Dense)              (None, 8)                 1608      \n",
      "_________________________________________________________________\n",
      "dense_6 (Dense)              (None, 1)                 9         \n",
      "=================================================================\n",
      "Total params: 8,761,617\n",
      "Trainable params: 8,761,617\n",
      "Non-trainable params: 0\n",
      "_________________________________________________________________\n",
      "time: 55.9 ms (started: 2021-01-22 10:52:00 +09:00)\n"
     ]
    }
   ],
   "source": [
    "model_maxpool = keras.Sequential()\n",
    "model_maxpool.add(keras.layers.Embedding(vocab_size, word_vector_dim, input_shape=(None,)))\n",
    "model_maxpool.add(keras.layers.GlobalMaxPooling1D())\n",
    "model_maxpool.add(keras.layers.Dense(8, activation='relu'))\n",
    "model_maxpool.add(keras.layers.Dense(1, activation='sigmoid'))  # 최종 출력은 긍정/부정을 나타내는 1dim 입니다.\n",
    "\n",
    "model_maxpool.summary()"
   ]
  },
  {
   "cell_type": "code",
   "execution_count": 74,
   "id": "floral-passion",
   "metadata": {
    "scrolled": true
   },
   "outputs": [
    {
     "name": "stdout",
     "output_type": "stream",
     "text": [
      "Epoch 1/15\n",
      "1169/1169 [==============================] - 102s 88ms/step - loss: 0.4094 - accuracy: 0.8086 - val_loss: 0.3400 - val_accuracy: 0.8489\n",
      "Epoch 2/15\n",
      "1169/1169 [==============================] - 102s 87ms/step - loss: 0.2907 - accuracy: 0.8775 - val_loss: 0.3386 - val_accuracy: 0.8567\n",
      "Epoch 3/15\n",
      "1169/1169 [==============================] - 103s 88ms/step - loss: 0.2313 - accuracy: 0.9055 - val_loss: 0.3380 - val_accuracy: 0.8597\n",
      "Epoch 4/15\n",
      "1169/1169 [==============================] - 103s 88ms/step - loss: 0.1824 - accuracy: 0.9278 - val_loss: 0.3811 - val_accuracy: 0.8562\n",
      "Epoch 5/15\n",
      "1169/1169 [==============================] - 103s 88ms/step - loss: 0.1386 - accuracy: 0.9470 - val_loss: 0.4361 - val_accuracy: 0.8544\n",
      "Epoch 6/15\n",
      " 212/1169 [====>.........................] - ETA: 1:23 - loss: 0.0980 - accuracy: 0.9631"
     ]
    },
    {
     "ename": "KeyboardInterrupt",
     "evalue": "",
     "output_type": "error",
     "traceback": [
      "\u001b[0;31m---------------------------------------------------------------------------\u001b[0m",
      "\u001b[0;31mKeyboardInterrupt\u001b[0m                         Traceback (most recent call last)",
      "\u001b[0;32m<ipython-input-74-37c4f653de6a>\u001b[0m in \u001b[0;36m<module>\u001b[0;34m\u001b[0m\n\u001b[1;32m     11\u001b[0m                     \u001b[0mbatch_size\u001b[0m\u001b[0;34m=\u001b[0m\u001b[0;36m100\u001b[0m\u001b[0;34m,\u001b[0m\u001b[0;34m\u001b[0m\u001b[0;34m\u001b[0m\u001b[0m\n\u001b[1;32m     12\u001b[0m                     \u001b[0mvalidation_data\u001b[0m\u001b[0;34m=\u001b[0m\u001b[0;34m(\u001b[0m\u001b[0mX_val\u001b[0m\u001b[0;34m,\u001b[0m \u001b[0my_val\u001b[0m\u001b[0;34m)\u001b[0m\u001b[0;34m,\u001b[0m\u001b[0;34m\u001b[0m\u001b[0;34m\u001b[0m\u001b[0m\n\u001b[0;32m---> 13\u001b[0;31m                     verbose=1)\n\u001b[0m",
      "\u001b[0;32m~/anaconda3/envs/aiffel/lib/python3.7/site-packages/tensorflow/python/keras/engine/training.py\u001b[0m in \u001b[0;36m_method_wrapper\u001b[0;34m(self, *args, **kwargs)\u001b[0m\n\u001b[1;32m     64\u001b[0m   \u001b[0;32mdef\u001b[0m \u001b[0m_method_wrapper\u001b[0m\u001b[0;34m(\u001b[0m\u001b[0mself\u001b[0m\u001b[0;34m,\u001b[0m \u001b[0;34m*\u001b[0m\u001b[0margs\u001b[0m\u001b[0;34m,\u001b[0m \u001b[0;34m**\u001b[0m\u001b[0mkwargs\u001b[0m\u001b[0;34m)\u001b[0m\u001b[0;34m:\u001b[0m\u001b[0;34m\u001b[0m\u001b[0;34m\u001b[0m\u001b[0m\n\u001b[1;32m     65\u001b[0m     \u001b[0;32mif\u001b[0m \u001b[0;32mnot\u001b[0m \u001b[0mself\u001b[0m\u001b[0;34m.\u001b[0m\u001b[0m_in_multi_worker_mode\u001b[0m\u001b[0;34m(\u001b[0m\u001b[0;34m)\u001b[0m\u001b[0;34m:\u001b[0m  \u001b[0;31m# pylint: disable=protected-access\u001b[0m\u001b[0;34m\u001b[0m\u001b[0;34m\u001b[0m\u001b[0m\n\u001b[0;32m---> 66\u001b[0;31m       \u001b[0;32mreturn\u001b[0m \u001b[0mmethod\u001b[0m\u001b[0;34m(\u001b[0m\u001b[0mself\u001b[0m\u001b[0;34m,\u001b[0m \u001b[0;34m*\u001b[0m\u001b[0margs\u001b[0m\u001b[0;34m,\u001b[0m \u001b[0;34m**\u001b[0m\u001b[0mkwargs\u001b[0m\u001b[0;34m)\u001b[0m\u001b[0;34m\u001b[0m\u001b[0;34m\u001b[0m\u001b[0m\n\u001b[0m\u001b[1;32m     67\u001b[0m \u001b[0;34m\u001b[0m\u001b[0m\n\u001b[1;32m     68\u001b[0m     \u001b[0;31m# Running inside `run_distribute_coordinator` already.\u001b[0m\u001b[0;34m\u001b[0m\u001b[0;34m\u001b[0m\u001b[0;34m\u001b[0m\u001b[0m\n",
      "\u001b[0;32m~/anaconda3/envs/aiffel/lib/python3.7/site-packages/tensorflow/python/keras/engine/training.py\u001b[0m in \u001b[0;36mfit\u001b[0;34m(self, x, y, batch_size, epochs, verbose, callbacks, validation_split, validation_data, shuffle, class_weight, sample_weight, initial_epoch, steps_per_epoch, validation_steps, validation_batch_size, validation_freq, max_queue_size, workers, use_multiprocessing)\u001b[0m\n\u001b[1;32m    846\u001b[0m                 batch_size=batch_size):\n\u001b[1;32m    847\u001b[0m               \u001b[0mcallbacks\u001b[0m\u001b[0;34m.\u001b[0m\u001b[0mon_train_batch_begin\u001b[0m\u001b[0;34m(\u001b[0m\u001b[0mstep\u001b[0m\u001b[0;34m)\u001b[0m\u001b[0;34m\u001b[0m\u001b[0;34m\u001b[0m\u001b[0m\n\u001b[0;32m--> 848\u001b[0;31m               \u001b[0mtmp_logs\u001b[0m \u001b[0;34m=\u001b[0m \u001b[0mtrain_function\u001b[0m\u001b[0;34m(\u001b[0m\u001b[0miterator\u001b[0m\u001b[0;34m)\u001b[0m\u001b[0;34m\u001b[0m\u001b[0;34m\u001b[0m\u001b[0m\n\u001b[0m\u001b[1;32m    849\u001b[0m               \u001b[0;31m# Catch OutOfRangeError for Datasets of unknown size.\u001b[0m\u001b[0;34m\u001b[0m\u001b[0;34m\u001b[0m\u001b[0;34m\u001b[0m\u001b[0m\n\u001b[1;32m    850\u001b[0m               \u001b[0;31m# This blocks until the batch has finished executing.\u001b[0m\u001b[0;34m\u001b[0m\u001b[0;34m\u001b[0m\u001b[0;34m\u001b[0m\u001b[0m\n",
      "\u001b[0;32m~/anaconda3/envs/aiffel/lib/python3.7/site-packages/tensorflow/python/eager/def_function.py\u001b[0m in \u001b[0;36m__call__\u001b[0;34m(self, *args, **kwds)\u001b[0m\n\u001b[1;32m    578\u001b[0m         \u001b[0mxla_context\u001b[0m\u001b[0;34m.\u001b[0m\u001b[0mExit\u001b[0m\u001b[0;34m(\u001b[0m\u001b[0;34m)\u001b[0m\u001b[0;34m\u001b[0m\u001b[0;34m\u001b[0m\u001b[0m\n\u001b[1;32m    579\u001b[0m     \u001b[0;32melse\u001b[0m\u001b[0;34m:\u001b[0m\u001b[0;34m\u001b[0m\u001b[0;34m\u001b[0m\u001b[0m\n\u001b[0;32m--> 580\u001b[0;31m       \u001b[0mresult\u001b[0m \u001b[0;34m=\u001b[0m \u001b[0mself\u001b[0m\u001b[0;34m.\u001b[0m\u001b[0m_call\u001b[0m\u001b[0;34m(\u001b[0m\u001b[0;34m*\u001b[0m\u001b[0margs\u001b[0m\u001b[0;34m,\u001b[0m \u001b[0;34m**\u001b[0m\u001b[0mkwds\u001b[0m\u001b[0;34m)\u001b[0m\u001b[0;34m\u001b[0m\u001b[0;34m\u001b[0m\u001b[0m\n\u001b[0m\u001b[1;32m    581\u001b[0m \u001b[0;34m\u001b[0m\u001b[0m\n\u001b[1;32m    582\u001b[0m     \u001b[0;32mif\u001b[0m \u001b[0mtracing_count\u001b[0m \u001b[0;34m==\u001b[0m \u001b[0mself\u001b[0m\u001b[0;34m.\u001b[0m\u001b[0m_get_tracing_count\u001b[0m\u001b[0;34m(\u001b[0m\u001b[0;34m)\u001b[0m\u001b[0;34m:\u001b[0m\u001b[0;34m\u001b[0m\u001b[0;34m\u001b[0m\u001b[0m\n",
      "\u001b[0;32m~/anaconda3/envs/aiffel/lib/python3.7/site-packages/tensorflow/python/eager/def_function.py\u001b[0m in \u001b[0;36m_call\u001b[0;34m(self, *args, **kwds)\u001b[0m\n\u001b[1;32m    609\u001b[0m       \u001b[0;31m# In this case we have created variables on the first call, so we run the\u001b[0m\u001b[0;34m\u001b[0m\u001b[0;34m\u001b[0m\u001b[0;34m\u001b[0m\u001b[0m\n\u001b[1;32m    610\u001b[0m       \u001b[0;31m# defunned version which is guaranteed to never create variables.\u001b[0m\u001b[0;34m\u001b[0m\u001b[0;34m\u001b[0m\u001b[0;34m\u001b[0m\u001b[0m\n\u001b[0;32m--> 611\u001b[0;31m       \u001b[0;32mreturn\u001b[0m \u001b[0mself\u001b[0m\u001b[0;34m.\u001b[0m\u001b[0m_stateless_fn\u001b[0m\u001b[0;34m(\u001b[0m\u001b[0;34m*\u001b[0m\u001b[0margs\u001b[0m\u001b[0;34m,\u001b[0m \u001b[0;34m**\u001b[0m\u001b[0mkwds\u001b[0m\u001b[0;34m)\u001b[0m  \u001b[0;31m# pylint: disable=not-callable\u001b[0m\u001b[0;34m\u001b[0m\u001b[0;34m\u001b[0m\u001b[0m\n\u001b[0m\u001b[1;32m    612\u001b[0m     \u001b[0;32melif\u001b[0m \u001b[0mself\u001b[0m\u001b[0;34m.\u001b[0m\u001b[0m_stateful_fn\u001b[0m \u001b[0;32mis\u001b[0m \u001b[0;32mnot\u001b[0m \u001b[0;32mNone\u001b[0m\u001b[0;34m:\u001b[0m\u001b[0;34m\u001b[0m\u001b[0;34m\u001b[0m\u001b[0m\n\u001b[1;32m    613\u001b[0m       \u001b[0;31m# Release the lock early so that multiple threads can perform the call\u001b[0m\u001b[0;34m\u001b[0m\u001b[0;34m\u001b[0m\u001b[0;34m\u001b[0m\u001b[0m\n",
      "\u001b[0;32m~/anaconda3/envs/aiffel/lib/python3.7/site-packages/tensorflow/python/eager/function.py\u001b[0m in \u001b[0;36m__call__\u001b[0;34m(self, *args, **kwargs)\u001b[0m\n\u001b[1;32m   2418\u001b[0m     \u001b[0;32mwith\u001b[0m \u001b[0mself\u001b[0m\u001b[0;34m.\u001b[0m\u001b[0m_lock\u001b[0m\u001b[0;34m:\u001b[0m\u001b[0;34m\u001b[0m\u001b[0;34m\u001b[0m\u001b[0m\n\u001b[1;32m   2419\u001b[0m       \u001b[0mgraph_function\u001b[0m\u001b[0;34m,\u001b[0m \u001b[0margs\u001b[0m\u001b[0;34m,\u001b[0m \u001b[0mkwargs\u001b[0m \u001b[0;34m=\u001b[0m \u001b[0mself\u001b[0m\u001b[0;34m.\u001b[0m\u001b[0m_maybe_define_function\u001b[0m\u001b[0;34m(\u001b[0m\u001b[0margs\u001b[0m\u001b[0;34m,\u001b[0m \u001b[0mkwargs\u001b[0m\u001b[0;34m)\u001b[0m\u001b[0;34m\u001b[0m\u001b[0;34m\u001b[0m\u001b[0m\n\u001b[0;32m-> 2420\u001b[0;31m     \u001b[0;32mreturn\u001b[0m \u001b[0mgraph_function\u001b[0m\u001b[0;34m.\u001b[0m\u001b[0m_filtered_call\u001b[0m\u001b[0;34m(\u001b[0m\u001b[0margs\u001b[0m\u001b[0;34m,\u001b[0m \u001b[0mkwargs\u001b[0m\u001b[0;34m)\u001b[0m  \u001b[0;31m# pylint: disable=protected-access\u001b[0m\u001b[0;34m\u001b[0m\u001b[0;34m\u001b[0m\u001b[0m\n\u001b[0m\u001b[1;32m   2421\u001b[0m \u001b[0;34m\u001b[0m\u001b[0m\n\u001b[1;32m   2422\u001b[0m   \u001b[0;34m@\u001b[0m\u001b[0mproperty\u001b[0m\u001b[0;34m\u001b[0m\u001b[0;34m\u001b[0m\u001b[0m\n",
      "\u001b[0;32m~/anaconda3/envs/aiffel/lib/python3.7/site-packages/tensorflow/python/eager/function.py\u001b[0m in \u001b[0;36m_filtered_call\u001b[0;34m(self, args, kwargs)\u001b[0m\n\u001b[1;32m   1663\u001b[0m          if isinstance(t, (ops.Tensor,\n\u001b[1;32m   1664\u001b[0m                            resource_variable_ops.BaseResourceVariable))),\n\u001b[0;32m-> 1665\u001b[0;31m         self.captured_inputs)\n\u001b[0m\u001b[1;32m   1666\u001b[0m \u001b[0;34m\u001b[0m\u001b[0m\n\u001b[1;32m   1667\u001b[0m   \u001b[0;32mdef\u001b[0m \u001b[0m_call_flat\u001b[0m\u001b[0;34m(\u001b[0m\u001b[0mself\u001b[0m\u001b[0;34m,\u001b[0m \u001b[0margs\u001b[0m\u001b[0;34m,\u001b[0m \u001b[0mcaptured_inputs\u001b[0m\u001b[0;34m,\u001b[0m \u001b[0mcancellation_manager\u001b[0m\u001b[0;34m=\u001b[0m\u001b[0;32mNone\u001b[0m\u001b[0;34m)\u001b[0m\u001b[0;34m:\u001b[0m\u001b[0;34m\u001b[0m\u001b[0;34m\u001b[0m\u001b[0m\n",
      "\u001b[0;32m~/anaconda3/envs/aiffel/lib/python3.7/site-packages/tensorflow/python/eager/function.py\u001b[0m in \u001b[0;36m_call_flat\u001b[0;34m(self, args, captured_inputs, cancellation_manager)\u001b[0m\n\u001b[1;32m   1744\u001b[0m       \u001b[0;31m# No tape is watching; skip to running the function.\u001b[0m\u001b[0;34m\u001b[0m\u001b[0;34m\u001b[0m\u001b[0;34m\u001b[0m\u001b[0m\n\u001b[1;32m   1745\u001b[0m       return self._build_call_outputs(self._inference_function.call(\n\u001b[0;32m-> 1746\u001b[0;31m           ctx, args, cancellation_manager=cancellation_manager))\n\u001b[0m\u001b[1;32m   1747\u001b[0m     forward_backward = self._select_forward_and_backward_functions(\n\u001b[1;32m   1748\u001b[0m         \u001b[0margs\u001b[0m\u001b[0;34m,\u001b[0m\u001b[0;34m\u001b[0m\u001b[0;34m\u001b[0m\u001b[0m\n",
      "\u001b[0;32m~/anaconda3/envs/aiffel/lib/python3.7/site-packages/tensorflow/python/eager/function.py\u001b[0m in \u001b[0;36mcall\u001b[0;34m(self, ctx, args, cancellation_manager)\u001b[0m\n\u001b[1;32m    596\u001b[0m               \u001b[0minputs\u001b[0m\u001b[0;34m=\u001b[0m\u001b[0margs\u001b[0m\u001b[0;34m,\u001b[0m\u001b[0;34m\u001b[0m\u001b[0;34m\u001b[0m\u001b[0m\n\u001b[1;32m    597\u001b[0m               \u001b[0mattrs\u001b[0m\u001b[0;34m=\u001b[0m\u001b[0mattrs\u001b[0m\u001b[0;34m,\u001b[0m\u001b[0;34m\u001b[0m\u001b[0;34m\u001b[0m\u001b[0m\n\u001b[0;32m--> 598\u001b[0;31m               ctx=ctx)\n\u001b[0m\u001b[1;32m    599\u001b[0m         \u001b[0;32melse\u001b[0m\u001b[0;34m:\u001b[0m\u001b[0;34m\u001b[0m\u001b[0;34m\u001b[0m\u001b[0m\n\u001b[1;32m    600\u001b[0m           outputs = execute.execute_with_cancellation(\n",
      "\u001b[0;32m~/anaconda3/envs/aiffel/lib/python3.7/site-packages/tensorflow/python/eager/execute.py\u001b[0m in \u001b[0;36mquick_execute\u001b[0;34m(op_name, num_outputs, inputs, attrs, ctx, name)\u001b[0m\n\u001b[1;32m     58\u001b[0m     \u001b[0mctx\u001b[0m\u001b[0;34m.\u001b[0m\u001b[0mensure_initialized\u001b[0m\u001b[0;34m(\u001b[0m\u001b[0;34m)\u001b[0m\u001b[0;34m\u001b[0m\u001b[0;34m\u001b[0m\u001b[0m\n\u001b[1;32m     59\u001b[0m     tensors = pywrap_tfe.TFE_Py_Execute(ctx._handle, device_name, op_name,\n\u001b[0;32m---> 60\u001b[0;31m                                         inputs, attrs, num_outputs)\n\u001b[0m\u001b[1;32m     61\u001b[0m   \u001b[0;32mexcept\u001b[0m \u001b[0mcore\u001b[0m\u001b[0;34m.\u001b[0m\u001b[0m_NotOkStatusException\u001b[0m \u001b[0;32mas\u001b[0m \u001b[0me\u001b[0m\u001b[0;34m:\u001b[0m\u001b[0;34m\u001b[0m\u001b[0;34m\u001b[0m\u001b[0m\n\u001b[1;32m     62\u001b[0m     \u001b[0;32mif\u001b[0m \u001b[0mname\u001b[0m \u001b[0;32mis\u001b[0m \u001b[0;32mnot\u001b[0m \u001b[0;32mNone\u001b[0m\u001b[0;34m:\u001b[0m\u001b[0;34m\u001b[0m\u001b[0;34m\u001b[0m\u001b[0m\n",
      "\u001b[0;31mKeyboardInterrupt\u001b[0m: "
     ]
    },
    {
     "name": "stdout",
     "output_type": "stream",
     "text": [
      "time: 8min 54s (started: 2021-01-22 10:52:00 +09:00)\n"
     ]
    }
   ],
   "source": [
    "# 학습의 진행\n",
    "model_transfer.compile(optimizer='adam',\n",
    "              loss='binary_crossentropy',\n",
    "              metrics=['accuracy'])\n",
    "              \n",
    "epochs = 15\n",
    "\n",
    "history = model_transfer.fit(partial_X_train,\n",
    "                    partial_y_train,\n",
    "                    epochs=epochs,\n",
    "                    batch_size=100,\n",
    "                    validation_data=(X_val, y_val),\n",
    "                    verbose=1)"
   ]
  },
  {
   "cell_type": "markdown",
   "id": "lined-october",
   "metadata": {},
   "source": [
    "* 전이학습하기 전 모델보다 성능이 약 1% 정도 올랐다. "
   ]
  },
  {
   "cell_type": "code",
   "execution_count": 75,
   "id": "sharp-parker",
   "metadata": {
    "scrolled": true
   },
   "outputs": [
    {
     "name": "stdout",
     "output_type": "stream",
     "text": [
      "1537/1537 - 3s - loss: 0.4823 - accuracy: 0.8371\n",
      "[0.4822773337364197, 0.8370527029037476]\n",
      "time: 3.56 s (started: 2021-01-22 11:00:58 +09:00)\n"
     ]
    }
   ],
   "source": [
    "# 테스트셋을 통한 모델 평가\n",
    "results = model_transfer.evaluate(X_test,  y_test, verbose=2)\n",
    "\n",
    "print(results)"
   ]
  },
  {
   "cell_type": "code",
   "execution_count": 76,
   "id": "reliable-boutique",
   "metadata": {},
   "outputs": [
    {
     "name": "stdout",
     "output_type": "stream",
     "text": [
      "(43800, 200)\n",
      "time: 57.8 ms (started: 2021-01-22 11:01:04 +09:00)\n"
     ]
    }
   ],
   "source": [
    "embedding_layer = model_transfer.layers[0]\n",
    "weights = embedding_layer.get_weights()[0]\n",
    "print(weights.shape)    # shape: (vocab_size, embedding_dim)"
   ]
  },
  {
   "cell_type": "code",
   "execution_count": 77,
   "id": "honest-latter",
   "metadata": {},
   "outputs": [
    {
     "name": "stdout",
     "output_type": "stream",
     "text": [
      "time: 4.55 s (started: 2021-01-22 11:01:05 +09:00)\n"
     ]
    }
   ],
   "source": [
    "# 학습한 Embedding 파라미터를 파일에 써서 저장합니다. \n",
    "word2vec_transfer_file_path = os.getenv('HOME')+'/aiffel/sentiment_classification/word2vec_transfer.txt'\n",
    "f = open(word2vec_transfer_file_path, 'w')\n",
    "f.write('{} {}\\n'.format(vocab_size-4, word_vector_dim))  # 몇개의 벡터를 얼마 사이즈로 기재할지 타이틀을 씁니다.\n",
    "\n",
    "# 단어 개수(에서 특수문자 4개는 제외하고)만큼의 워드 벡터를 파일에 기록합니다. \n",
    "vectors_transfer = model_transfer.get_weights()[0]\n",
    "for i in range(4,vocab_size):\n",
    "    f.write('{} {}\\n'.format(index_to_word[i], ' '.join(map(str, list(vectors_transfer[i, :])))))\n",
    "f.close()"
   ]
  },
  {
   "cell_type": "markdown",
   "id": "intellectual-garbage",
   "metadata": {},
   "source": [
    "## 10. 루브릭 및 회고"
   ]
  },
  {
   "cell_type": "markdown",
   "id": "manufactured-seeker",
   "metadata": {},
   "source": [
    "### 10.1. 루브릭\n",
    "* 3가지 이상의 모델이 성공적으로 시도됨\n",
    "    - cnn, maxpooling, lstm 세가지의 모델을 모두 수행했으며 lstm을 위주로 정확도 평가를 진행했습니다. \n",
    "    \n",
    "* gensim의 유사단어 찾기를 활용하여 자체학습한 임베딩과 사전학습 임베딩을 적절히 분석함\n",
    "\n",
    "* 네이버 영화리뷰 데이터 감성분석 정확도를 85% 이상 달성함"
   ]
  },
  {
   "cell_type": "markdown",
   "id": "angry-kuwait",
   "metadata": {},
   "source": [
    "#### 단어간 유사단어 찾기 \n",
    "* 결과로만 보면 가중치를 가져와서 한 것 보다는 전이학습이 좋다라고는 보기 어렵긴하다, 직관적으로 비교했을때의 단어는 유ㅏ사한 단어들이 더 많이 보이는거 같지만 그 기준이 되는 퍼센트값이 별로 높지 않았다. "
   ]
  },
  {
   "cell_type": "code",
   "execution_count": 84,
   "id": "coordinate-tennis",
   "metadata": {
    "scrolled": true
   },
   "outputs": [
    {
     "name": "stdout",
     "output_type": "stream",
     "text": [
      "time: 6.12 s (started: 2021-01-22 11:08:04 +09:00)\n"
     ]
    }
   ],
   "source": [
    "from gensim.models import KeyedVectors\n",
    "\n",
    "word2vec_path = os.getenv('HOME')+'/aiffel/sentiment_classification/word2vec.txt'\n",
    "word2vec = KeyedVectors.load_word2vec_format(word2vec_path, limit=1000000)"
   ]
  },
  {
   "cell_type": "code",
   "execution_count": 88,
   "id": "optical-hometown",
   "metadata": {
    "scrolled": false
   },
   "outputs": [
    {
     "data": {
      "text/plain": [
       "[('색다른', 0.7083466053009033),\n",
       " ('매우', 0.6988797187805176),\n",
       " ('박민우', 0.6799376010894775),\n",
       " ('파라', 0.6796845197677612),\n",
       " ('아들', 0.6792794466018677),\n",
       " ('꼬맹이', 0.6650020480155945),\n",
       " ('두고두고', 0.6644453406333923),\n",
       " ('엄청나', 0.6618524789810181),\n",
       " ('헌데', 0.6610073447227478),\n",
       " ('졸라', 0.6519945859909058)]"
      ]
     },
     "execution_count": 88,
     "metadata": {},
     "output_type": "execute_result"
    },
    {
     "name": "stdout",
     "output_type": "stream",
     "text": [
      "time: 7.55 ms (started: 2021-01-22 11:09:51 +09:00)\n"
     ]
    }
   ],
   "source": [
    "word2vec.similar_by_word(\"재미\")"
   ]
  },
  {
   "cell_type": "code",
   "execution_count": 90,
   "id": "experienced-coach",
   "metadata": {},
   "outputs": [
    {
     "name": "stdout",
     "output_type": "stream",
     "text": [
      "time: 6.3 s (started: 2021-01-22 11:10:09 +09:00)\n"
     ]
    }
   ],
   "source": [
    "word2vec_transfer_file_path = os.getenv('HOME')+'/aiffel/sentiment_classification/word2vec_transfer.txt'\n",
    "word2vec = KeyedVectors.load_word2vec_format(word2vec_transfer_file_path, limit=1000000)"
   ]
  },
  {
   "cell_type": "code",
   "execution_count": 91,
   "id": "ranging-purchase",
   "metadata": {
    "scrolled": true
   },
   "outputs": [
    {
     "data": {
      "text/plain": [
       "[('취미', 0.5691553354263306),\n",
       " ('매력', 0.539165735244751),\n",
       " ('흥미', 0.5072970986366272),\n",
       " ('유머', 0.5018364191055298),\n",
       " ('정취', 0.4981369078159332),\n",
       " ('향수', 0.4903198480606079),\n",
       " ('글쓰기', 0.47742536664009094),\n",
       " ('즐거움', 0.4740073084831238),\n",
       " ('비애', 0.46634796261787415),\n",
       " ('외모', 0.46372294425964355)]"
      ]
     },
     "execution_count": 91,
     "metadata": {},
     "output_type": "execute_result"
    },
    {
     "name": "stdout",
     "output_type": "stream",
     "text": [
      "time: 29.9 ms (started: 2021-01-22 11:10:15 +09:00)\n"
     ]
    }
   ],
   "source": [
    "word2vec.similar_by_word(\"재미\")"
   ]
  },
  {
   "cell_type": "markdown",
   "id": "prospective-booking",
   "metadata": {},
   "source": [
    "#### 정확도\n",
    "* 결과적으로는 전이학습의 정확도가 더 높게는 나왔으나, 흠.. 1%정도로 개선되었다고는 보기 어렵다. 예제처럼 5%정도 개선되지는 않았다. 일단 풀러닝만 확인했을때는 오버피팅되는 문제를 해결하지 못한 점도 있어서 전체적으로 정확도가 낮게 나온듯 하다. \n",
    "    - 풀러닝: 0.8261488676071167\n",
    "    - 전이학습: 0.8370527029037476\n",
    "    "
   ]
  },
  {
   "cell_type": "markdown",
   "id": "dominican-disposition",
   "metadata": {},
   "source": [
    "### 10.2. 회고\n",
    "* 어려웠던 점: 자연어처리를 처음 접하다 보니, 형태소를 기준으로 단어를 쪼개는 과정은 이해가 잘 됬지만 임베딩하는 부분은 이해하는데 시간이 좀 걸렸다. \n",
    "\n",
    "* 시도: 특수기호 제거와 불용어 추가, 생각보다 정확도가 처음에 시도했을때는 82%가 나오고 전이학습이 오히려 높지 않았다. \n",
    "    - 문제점: 전이학습할때 한국어 WordVec으로 학습된 모델을 pre trained model로 사용헀어야했는데 예제 그대로 따라가다가 영어를 썼다. ㅎㅎ \n",
    "             중간에 패키지 설치 오류가 떠서 블로그에 정리해뒀다.   \n",
    "             https://vg-rlo.tistory.com/44\n",
    "\n",
    "\n",
    "* 기타..? 모델 학습에 시간이 걸리다 보니 autotime 라이브러리를 활용해서 시간을 측정해두고 해당 모델 학습의 예상 소요 시간에 따라 모델 훈련 되는 동안 다른 일을 할 수 있어졌다..!\n"
   ]
  }
 ],
 "metadata": {
  "kernelspec": {
   "display_name": "aiffel",
   "language": "python",
   "name": "aiffel"
  },
  "language_info": {
   "codemirror_mode": {
    "name": "ipython",
    "version": 3
   },
   "file_extension": ".py",
   "mimetype": "text/x-python",
   "name": "python",
   "nbconvert_exporter": "python",
   "pygments_lexer": "ipython3",
   "version": "3.7.9"
  }
 },
 "nbformat": 4,
 "nbformat_minor": 5
}

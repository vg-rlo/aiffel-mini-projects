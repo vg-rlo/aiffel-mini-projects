{
 "cells": [
  {
   "cell_type": "markdown",
   "id": "split-oriental",
   "metadata": {},
   "source": [
    "# 프로젝트: Movielens 영화 추천 실습\n",
    "* 🎬협업 필터링(Collaborative Filtering): 콘텐츠 자체의 특성들에 대해 분석한다.\n",
    "* 🎬활용 데이터: Movielens\n",
    "    * 관련 링크: https://www.tensorflow.org/datasets/catalog/movielens\n",
    "     \n",
    "* 🎬루브릭\n",
    "    * CSR matrix가 정상적으로 만들어졌다.\n",
    "        * 사용자와 아이템 개수를 바탕으로 정확한 사이즈로 만들었다.\n",
    "    * MF 모델이 정상적으로 훈련되어 그럴듯한 추천이 이루어졌다.\n",
    "        * 사용자와 아이템 벡터 내적수치가 의미있게 형성되었다.\n",
    "    * 비슷한 영화 찾기와 유저에게 추천하기의 과정이 정상적으로 진행되었다.\n",
    "        * MF모델이 예측한 유저 선호도 및 아이템간 유사도, 기여도가 의미있게 측정되었다.\n",
    "---"
   ]
  },
  {
   "cell_type": "markdown",
   "id": "downtown-orange",
   "metadata": {},
   "source": [
    "## 데이터 준비 \n",
    "🎬사용 라이브러리를 import하고 사용 디렉토리의 경로를 설정합니다. \n",
    "### 사용 라이브러리"
   ]
  },
  {
   "cell_type": "code",
   "execution_count": 1,
   "id": "retained-wound",
   "metadata": {},
   "outputs": [],
   "source": [
    "import os\n",
    "import wget # file download \n",
    "import pandas as pd \n",
    "import numpy as np\n",
    "\n",
    "from scipy.sparse import csr_matrix # csr matrix \n",
    "from implicit.als import AlternatingLeastSquares\n"
   ]
  },
  {
   "cell_type": "markdown",
   "id": "collective-reservation",
   "metadata": {},
   "source": [
    "### 사용 디렉토리 설정"
   ]
  },
  {
   "cell_type": "code",
   "execution_count": 2,
   "id": "missing-shore",
   "metadata": {},
   "outputs": [
    {
     "name": "stdout",
     "output_type": "stream",
     "text": [
      "project_path에 폴더가 이미 존재합니다.\n"
     ]
    }
   ],
   "source": [
    "# import os # 위에서 이미 import 했습니다. \n",
    "\n",
    "project_path = os.getenv(\"HOME\")+'/aiffel/recommendata_iu'\n",
    "\n",
    "if not os.path.isdir(project_path):\n",
    "    os.mkdir(project_path)\n",
    "\n",
    "else:\n",
    "    print(\"project_path에 폴더가 이미 존재합니다.\")"
   ]
  },
  {
   "cell_type": "code",
   "execution_count": 3,
   "id": "spiritual-recycling",
   "metadata": {},
   "outputs": [
    {
     "name": "stdout",
     "output_type": "stream",
     "text": [
      "data_path에 폴더가 이미 존재합니다.\n"
     ]
    }
   ],
   "source": [
    "data_path = os.getenv('HOME') + '/aiffel/recommendata_iu/data'\n",
    "\n",
    "if not os.path.isdir(data_path):\n",
    "    os.mkdir(data_path)\n",
    "\n",
    "else:\n",
    "    print(\"data_path에 폴더가 이미 존재합니다.\")"
   ]
  },
  {
   "cell_type": "markdown",
   "id": "according-florist",
   "metadata": {},
   "source": [
    "🎬유저가 영화에 대해 평점을 매긴 데이터가 데이터 크기 별로 있습니다. MovieLens 1M Dataset 사용을 권장합니다."
   ]
  },
  {
   "cell_type": "code",
   "execution_count": 4,
   "id": "interpreted-concern",
   "metadata": {},
   "outputs": [
    {
     "name": "stdout",
     "output_type": "stream",
     "text": [
      "ml-lm.zip가 이미 존재합니다.\n",
      "평점 메타데이터 파일 경로: /home/aiffel-dj19/aiffel/recommendata_iu/data/ml-1m/ratings.dat\n",
      "영화 메타데이터 파일 경로: /home/aiffel-dj19/aiffel/recommendata_iu/data/ml-1m/movies.dat\n"
     ]
    }
   ],
   "source": [
    "url = 'http://files.grouplens.org/datasets/movielens/ml-1m.zip'\n",
    "file_path = data_path + '/ml-lm.zip'\n",
    "\n",
    "if not os.path.isfile(file_path):\n",
    "    wget.download(url, out = file_path)\n",
    "    os.system('unzip ml-lm.zip') # zip 압축 풀기 \n",
    "\n",
    "else:\n",
    "    print(\"ml-lm.zip가 이미 존재합니다.\")\n",
    "    \n",
    "rating_file_path= data_path + '/ml-1m/ratings.dat' # 평점 메타데이터 \n",
    "movie_file_path=os.getenv('HOME') + '/aiffel/recommendata_iu/data/ml-1m/movies.dat' # 영화제목 메타데이터\n",
    "print(f'평점 메타데이터 파일 경로: {rating_file_path}')\n",
    "print(f'영화 메타데이터 파일 경로: {movie_file_path}')"
   ]
  },
  {
   "cell_type": "markdown",
   "id": "hispanic-subscriber",
   "metadata": {},
   "source": [
    "## 데이터 전처리 및 분석\n",
    "🎬암묵적 데이터인 ratings 해석\n",
    "\n",
    "* 별점 데이터는 대표적인 explicit 데이터입니다. 하지만 implicit 데이터로 간주하고 테스트해볼 수 있습니다.\n",
    "* 별점을 시청횟수로 해석해서 생각하겠습니다.\n",
    "* 또한 유저가 3점 미만으로 준 데이터는 선호하지 않는다고 가정하고 제외하겠습니다.\n",
    "* 메타데이터의 각 항목에 대한 이해 \n",
    "    * user_id: 평가에 참여한 사용자 고유 식별자 \n",
    "    * movie_id: 영화 고유 식별자\n",
    "    * rating: 별점 등급(rating은 사전적 의미로 시청률을 의미하기도 함, 시청횟수로 해석)\n",
    "    * timestamp: 1970년 1월 1일 자정 UTC(협정 세계시)이후 초 단위로 표시되는 등급의 타임 스탬프"
   ]
  },
  {
   "cell_type": "markdown",
   "id": "homeless-desperate",
   "metadata": {},
   "source": [
    "🎬csv계열 파일의 seperator(delimeter, 구분자)란? <br>\n",
    "컬럼이 어떤 값을 기준으로 구분되고 있는지를 의미합니다. 따라서 엑셀과 같은 응용프로그램으로 구분자가 무엇인지 아래와 같이 확인 후 seperator를 지정해줄 수 있습니다. \n",
    "```\n",
    "# ratings.dat 파일 내용\n",
    "1::1193::5::978300760\n",
    "1::661::3::978302109\n",
    "1::914::3::978301968\n",
    "1::3408::4::978300275\n",
    "...\n",
    "```"
   ]
  },
  {
   "cell_type": "code",
   "execution_count": 5,
   "id": "based-pound",
   "metadata": {},
   "outputs": [
    {
     "data": {
      "text/html": [
       "<div>\n",
       "<style scoped>\n",
       "    .dataframe tbody tr th:only-of-type {\n",
       "        vertical-align: middle;\n",
       "    }\n",
       "\n",
       "    .dataframe tbody tr th {\n",
       "        vertical-align: top;\n",
       "    }\n",
       "\n",
       "    .dataframe thead th {\n",
       "        text-align: right;\n",
       "    }\n",
       "</style>\n",
       "<table border=\"1\" class=\"dataframe\">\n",
       "  <thead>\n",
       "    <tr style=\"text-align: right;\">\n",
       "      <th></th>\n",
       "      <th>user_id</th>\n",
       "      <th>movie_id</th>\n",
       "      <th>rating</th>\n",
       "      <th>timestamp</th>\n",
       "    </tr>\n",
       "  </thead>\n",
       "  <tbody>\n",
       "    <tr>\n",
       "      <th>65</th>\n",
       "      <td>2</td>\n",
       "      <td>1792</td>\n",
       "      <td>3</td>\n",
       "      <td>978299941</td>\n",
       "    </tr>\n",
       "    <tr>\n",
       "      <th>66</th>\n",
       "      <td>2</td>\n",
       "      <td>1687</td>\n",
       "      <td>3</td>\n",
       "      <td>978300174</td>\n",
       "    </tr>\n",
       "    <tr>\n",
       "      <th>67</th>\n",
       "      <td>2</td>\n",
       "      <td>1213</td>\n",
       "      <td>2</td>\n",
       "      <td>978298458</td>\n",
       "    </tr>\n",
       "    <tr>\n",
       "      <th>68</th>\n",
       "      <td>2</td>\n",
       "      <td>3578</td>\n",
       "      <td>5</td>\n",
       "      <td>978298958</td>\n",
       "    </tr>\n",
       "    <tr>\n",
       "      <th>69</th>\n",
       "      <td>2</td>\n",
       "      <td>2881</td>\n",
       "      <td>3</td>\n",
       "      <td>978300002</td>\n",
       "    </tr>\n",
       "  </tbody>\n",
       "</table>\n",
       "</div>"
      ],
      "text/plain": [
       "    user_id  movie_id  rating  timestamp\n",
       "65        2      1792       3  978299941\n",
       "66        2      1687       3  978300174\n",
       "67        2      1213       2  978298458\n",
       "68        2      3578       5  978298958\n",
       "69        2      2881       3  978300002"
      ]
     },
     "execution_count": 5,
     "metadata": {},
     "output_type": "execute_result"
    }
   ],
   "source": [
    "ratings_cols = ['user_id', 'movie_id', 'rating', 'timestamp']\n",
    "ratings = pd.read_csv(rating_file_path, sep='::', names=ratings_cols, engine='python') # ::로 구분되는 파일 읽기 \n",
    "orginal_data_size = len(ratings) \n",
    "ratings[65:70] # index = 67, movie_id = 1213인 경우 rating = 2이므로 선호하지 않는 편이다. => 제외 "
   ]
  },
  {
   "cell_type": "markdown",
   "id": "worst-elder",
   "metadata": {},
   "source": [
    "🎬f-strings 문법은 format 문법과 비슷한 방법입니다. 좀더 직관적이라 자주 사용됩니다. \n",
    "* 관련 링크: https://bluese05.tistory.com/70, https://bit.ly/2DTLqYU"
   ]
  },
  {
   "cell_type": "markdown",
   "id": "round-passenger",
   "metadata": {},
   "source": [
    "🎬왜 3점 이상만 남길까? <br>\n",
    "2점 이하인 rating(별점)을 가진 데이터들은 전체 셋의 16% 정도 차지합니다. 80% 이상이 3점 이상이므로 해당 데이터들이 선호되고 있다고 기준을 정합니다. "
   ]
  },
  {
   "cell_type": "code",
   "execution_count": 6,
   "id": "floral-audience",
   "metadata": {},
   "outputs": [
    {
     "name": "stdout",
     "output_type": "stream",
     "text": [
      "163731,1000209\n",
      "Ratio of under_three over all data is 16.370%\n"
     ]
    }
   ],
   "source": [
    "under_three = ratings[ratings['rating']<3]\n",
    "two, all_data = len(under_three), len(ratings)\n",
    "print(f'{two},{all_data}')\n",
    "print(f'Ratio of under_three over all data is {two/all_data:.3%}')"
   ]
  },
  {
   "cell_type": "code",
   "execution_count": 7,
   "id": "fiscal-universe",
   "metadata": {},
   "outputs": [
    {
     "name": "stdout",
     "output_type": "stream",
     "text": [
      "orginal_data_size: 1000209 => filtered_data_size: 836478\n",
      "Ratio of Remaining Data is 83.63%\n"
     ]
    }
   ],
   "source": [
    "# 3점 이상만 남깁니다.\n",
    "ratings = ratings[ratings['rating']>=3] # 3점 이상인 행은 False 처리하여 제외 \n",
    "filtered_data_size = len(ratings) # 3점 이상만 필터링한 이후의 데이터 크기 저장 \n",
    "\n",
    "print(f'orginal_data_size: {orginal_data_size} => filtered_data_size: {filtered_data_size}') \n",
    "print(f'Ratio of Remaining Data is {filtered_data_size / orginal_data_size:.2%}')"
   ]
  },
  {
   "cell_type": "code",
   "execution_count": 8,
   "id": "solid-vault",
   "metadata": {},
   "outputs": [
    {
     "data": {
      "text/html": [
       "<div>\n",
       "<style scoped>\n",
       "    .dataframe tbody tr th:only-of-type {\n",
       "        vertical-align: middle;\n",
       "    }\n",
       "\n",
       "    .dataframe tbody tr th {\n",
       "        vertical-align: top;\n",
       "    }\n",
       "\n",
       "    .dataframe thead th {\n",
       "        text-align: right;\n",
       "    }\n",
       "</style>\n",
       "<table border=\"1\" class=\"dataframe\">\n",
       "  <thead>\n",
       "    <tr style=\"text-align: right;\">\n",
       "      <th></th>\n",
       "      <th>user_id</th>\n",
       "      <th>movie_id</th>\n",
       "      <th>rating</th>\n",
       "      <th>timestamp</th>\n",
       "    </tr>\n",
       "  </thead>\n",
       "  <tbody>\n",
       "    <tr>\n",
       "      <th>65</th>\n",
       "      <td>2</td>\n",
       "      <td>1792</td>\n",
       "      <td>3</td>\n",
       "      <td>978299941</td>\n",
       "    </tr>\n",
       "    <tr>\n",
       "      <th>66</th>\n",
       "      <td>2</td>\n",
       "      <td>1687</td>\n",
       "      <td>3</td>\n",
       "      <td>978300174</td>\n",
       "    </tr>\n",
       "    <tr>\n",
       "      <th>68</th>\n",
       "      <td>2</td>\n",
       "      <td>3578</td>\n",
       "      <td>5</td>\n",
       "      <td>978298958</td>\n",
       "    </tr>\n",
       "    <tr>\n",
       "      <th>69</th>\n",
       "      <td>2</td>\n",
       "      <td>2881</td>\n",
       "      <td>3</td>\n",
       "      <td>978300002</td>\n",
       "    </tr>\n",
       "    <tr>\n",
       "      <th>70</th>\n",
       "      <td>2</td>\n",
       "      <td>3030</td>\n",
       "      <td>4</td>\n",
       "      <td>978298434</td>\n",
       "    </tr>\n",
       "  </tbody>\n",
       "</table>\n",
       "</div>"
      ],
      "text/plain": [
       "    user_id  movie_id  rating  timestamp\n",
       "65        2      1792       3  978299941\n",
       "66        2      1687       3  978300174\n",
       "68        2      3578       5  978298958\n",
       "69        2      2881       3  978300002\n",
       "70        2      3030       4  978298434"
      ]
     },
     "execution_count": 8,
     "metadata": {},
     "output_type": "execute_result"
    }
   ],
   "source": [
    "ratings[65:70]"
   ]
  },
  {
   "cell_type": "code",
   "execution_count": 9,
   "id": "sharing-midnight",
   "metadata": {},
   "outputs": [
    {
     "data": {
      "text/html": [
       "<div>\n",
       "<style scoped>\n",
       "    .dataframe tbody tr th:only-of-type {\n",
       "        vertical-align: middle;\n",
       "    }\n",
       "\n",
       "    .dataframe tbody tr th {\n",
       "        vertical-align: top;\n",
       "    }\n",
       "\n",
       "    .dataframe thead th {\n",
       "        text-align: right;\n",
       "    }\n",
       "</style>\n",
       "<table border=\"1\" class=\"dataframe\">\n",
       "  <thead>\n",
       "    <tr style=\"text-align: right;\">\n",
       "      <th></th>\n",
       "      <th>user_id</th>\n",
       "      <th>movie_id</th>\n",
       "      <th>view_cnt</th>\n",
       "      <th>timestamp</th>\n",
       "    </tr>\n",
       "  </thead>\n",
       "  <tbody>\n",
       "    <tr>\n",
       "      <th>0</th>\n",
       "      <td>1</td>\n",
       "      <td>1193</td>\n",
       "      <td>5</td>\n",
       "      <td>978300760</td>\n",
       "    </tr>\n",
       "    <tr>\n",
       "      <th>1</th>\n",
       "      <td>1</td>\n",
       "      <td>661</td>\n",
       "      <td>3</td>\n",
       "      <td>978302109</td>\n",
       "    </tr>\n",
       "    <tr>\n",
       "      <th>2</th>\n",
       "      <td>1</td>\n",
       "      <td>914</td>\n",
       "      <td>3</td>\n",
       "      <td>978301968</td>\n",
       "    </tr>\n",
       "    <tr>\n",
       "      <th>3</th>\n",
       "      <td>1</td>\n",
       "      <td>3408</td>\n",
       "      <td>4</td>\n",
       "      <td>978300275</td>\n",
       "    </tr>\n",
       "    <tr>\n",
       "      <th>4</th>\n",
       "      <td>1</td>\n",
       "      <td>2355</td>\n",
       "      <td>5</td>\n",
       "      <td>978824291</td>\n",
       "    </tr>\n",
       "  </tbody>\n",
       "</table>\n",
       "</div>"
      ],
      "text/plain": [
       "   user_id  movie_id  view_cnt  timestamp\n",
       "0        1      1193         5  978300760\n",
       "1        1       661         3  978302109\n",
       "2        1       914         3  978301968\n",
       "3        1      3408         4  978300275\n",
       "4        1      2355         5  978824291"
      ]
     },
     "execution_count": 9,
     "metadata": {},
     "output_type": "execute_result"
    }
   ],
   "source": [
    "# rating 컬럼의 이름을 view_cnt로 바꿉니다.\n",
    "ratings.rename(columns={'rating':'view_cnt'}, inplace=True)\n",
    "ratings.head()"
   ]
  },
  {
   "cell_type": "code",
   "execution_count": 10,
   "id": "racial-participant",
   "metadata": {},
   "outputs": [
    {
     "data": {
      "text/html": [
       "<div>\n",
       "<style scoped>\n",
       "    .dataframe tbody tr th:only-of-type {\n",
       "        vertical-align: middle;\n",
       "    }\n",
       "\n",
       "    .dataframe tbody tr th {\n",
       "        vertical-align: top;\n",
       "    }\n",
       "\n",
       "    .dataframe thead th {\n",
       "        text-align: right;\n",
       "    }\n",
       "</style>\n",
       "<table border=\"1\" class=\"dataframe\">\n",
       "  <thead>\n",
       "    <tr style=\"text-align: right;\">\n",
       "      <th></th>\n",
       "      <th>movie_id</th>\n",
       "      <th>title</th>\n",
       "      <th>genre</th>\n",
       "    </tr>\n",
       "  </thead>\n",
       "  <tbody>\n",
       "    <tr>\n",
       "      <th>0</th>\n",
       "      <td>1</td>\n",
       "      <td>Toy Story (1995)</td>\n",
       "      <td>Animation|Children's|Comedy</td>\n",
       "    </tr>\n",
       "    <tr>\n",
       "      <th>1</th>\n",
       "      <td>2</td>\n",
       "      <td>Jumanji (1995)</td>\n",
       "      <td>Adventure|Children's|Fantasy</td>\n",
       "    </tr>\n",
       "    <tr>\n",
       "      <th>2</th>\n",
       "      <td>3</td>\n",
       "      <td>Grumpier Old Men (1995)</td>\n",
       "      <td>Comedy|Romance</td>\n",
       "    </tr>\n",
       "    <tr>\n",
       "      <th>3</th>\n",
       "      <td>4</td>\n",
       "      <td>Waiting to Exhale (1995)</td>\n",
       "      <td>Comedy|Drama</td>\n",
       "    </tr>\n",
       "    <tr>\n",
       "      <th>4</th>\n",
       "      <td>5</td>\n",
       "      <td>Father of the Bride Part II (1995)</td>\n",
       "      <td>Comedy</td>\n",
       "    </tr>\n",
       "  </tbody>\n",
       "</table>\n",
       "</div>"
      ],
      "text/plain": [
       "   movie_id                               title                         genre\n",
       "0         1                    Toy Story (1995)   Animation|Children's|Comedy\n",
       "1         2                      Jumanji (1995)  Adventure|Children's|Fantasy\n",
       "2         3             Grumpier Old Men (1995)                Comedy|Romance\n",
       "3         4            Waiting to Exhale (1995)                  Comedy|Drama\n",
       "4         5  Father of the Bride Part II (1995)                        Comedy"
      ]
     },
     "execution_count": 10,
     "metadata": {},
     "output_type": "execute_result"
    }
   ],
   "source": [
    "# 영화 제목을 보기 위해 메타 데이터를 읽어옵니다.\n",
    "cols = ['movie_id', 'title', 'genre'] \n",
    "movies = pd.read_csv(movie_file_path, sep='::', names=cols, engine='python')\n",
    "movies.head()"
   ]
  },
  {
   "cell_type": "markdown",
   "id": "optical-massage",
   "metadata": {},
   "source": [
    "🎬영화 id를 통해 검색을 할 때 제목을 찾기 편하도록 소문자로 모두 변환해줍니다. "
   ]
  },
  {
   "cell_type": "code",
   "execution_count": 11,
   "id": "adverse-conditions",
   "metadata": {},
   "outputs": [
    {
     "data": {
      "text/html": [
       "<div>\n",
       "<style scoped>\n",
       "    .dataframe tbody tr th:only-of-type {\n",
       "        vertical-align: middle;\n",
       "    }\n",
       "\n",
       "    .dataframe tbody tr th {\n",
       "        vertical-align: top;\n",
       "    }\n",
       "\n",
       "    .dataframe thead th {\n",
       "        text-align: right;\n",
       "    }\n",
       "</style>\n",
       "<table border=\"1\" class=\"dataframe\">\n",
       "  <thead>\n",
       "    <tr style=\"text-align: right;\">\n",
       "      <th></th>\n",
       "      <th>movie_id</th>\n",
       "      <th>title</th>\n",
       "      <th>genre</th>\n",
       "    </tr>\n",
       "  </thead>\n",
       "  <tbody>\n",
       "    <tr>\n",
       "      <th>0</th>\n",
       "      <td>1</td>\n",
       "      <td>toy story (1995)</td>\n",
       "      <td>Animation|Children's|Comedy</td>\n",
       "    </tr>\n",
       "    <tr>\n",
       "      <th>1</th>\n",
       "      <td>2</td>\n",
       "      <td>jumanji (1995)</td>\n",
       "      <td>Adventure|Children's|Fantasy</td>\n",
       "    </tr>\n",
       "    <tr>\n",
       "      <th>2</th>\n",
       "      <td>3</td>\n",
       "      <td>grumpier old men (1995)</td>\n",
       "      <td>Comedy|Romance</td>\n",
       "    </tr>\n",
       "    <tr>\n",
       "      <th>3</th>\n",
       "      <td>4</td>\n",
       "      <td>waiting to exhale (1995)</td>\n",
       "      <td>Comedy|Drama</td>\n",
       "    </tr>\n",
       "    <tr>\n",
       "      <th>4</th>\n",
       "      <td>5</td>\n",
       "      <td>father of the bride part ii (1995)</td>\n",
       "      <td>Comedy</td>\n",
       "    </tr>\n",
       "  </tbody>\n",
       "</table>\n",
       "</div>"
      ],
      "text/plain": [
       "   movie_id                               title                         genre\n",
       "0         1                    toy story (1995)   Animation|Children's|Comedy\n",
       "1         2                      jumanji (1995)  Adventure|Children's|Fantasy\n",
       "2         3             grumpier old men (1995)                Comedy|Romance\n",
       "3         4            waiting to exhale (1995)                  Comedy|Drama\n",
       "4         5  father of the bride part ii (1995)                        Comedy"
      ]
     },
     "execution_count": 11,
     "metadata": {},
     "output_type": "execute_result"
    }
   ],
   "source": [
    "movies['title'] = movies['title'].str.lower()\n",
    "movies.head()"
   ]
  },
  {
   "cell_type": "markdown",
   "id": "consecutive-universe",
   "metadata": {},
   "source": [
    "🎬영화이름만으로 잘 찾도록 제목에서 연도 제거해줍니다. "
   ]
  },
  {
   "cell_type": "markdown",
   "id": "prerequisite-greene",
   "metadata": {},
   "source": [
    "🎬추가로 해볼 수 있는 전처리는 영화 제목에 대해 title을 \" (\" 기준으로 split해줌으로써 년도를 제거하고 영화 제목만 고려할 수 있도록 할 수 있습니다. 추후 영화 제목을 가지고 선호도를 계산하고 비교할 때 유용합니다."
   ]
  },
  {
   "cell_type": "code",
   "execution_count": 12,
   "id": "unknown-uncertainty",
   "metadata": {},
   "outputs": [
    {
     "data": {
      "text/html": [
       "<div>\n",
       "<style scoped>\n",
       "    .dataframe tbody tr th:only-of-type {\n",
       "        vertical-align: middle;\n",
       "    }\n",
       "\n",
       "    .dataframe tbody tr th {\n",
       "        vertical-align: top;\n",
       "    }\n",
       "\n",
       "    .dataframe thead th {\n",
       "        text-align: right;\n",
       "    }\n",
       "</style>\n",
       "<table border=\"1\" class=\"dataframe\">\n",
       "  <thead>\n",
       "    <tr style=\"text-align: right;\">\n",
       "      <th></th>\n",
       "      <th>movie_id</th>\n",
       "      <th>title</th>\n",
       "      <th>genre</th>\n",
       "    </tr>\n",
       "  </thead>\n",
       "  <tbody>\n",
       "    <tr>\n",
       "      <th>0</th>\n",
       "      <td>1</td>\n",
       "      <td>toy story</td>\n",
       "      <td>Animation|Children's|Comedy</td>\n",
       "    </tr>\n",
       "    <tr>\n",
       "      <th>1</th>\n",
       "      <td>2</td>\n",
       "      <td>jumanji</td>\n",
       "      <td>Adventure|Children's|Fantasy</td>\n",
       "    </tr>\n",
       "    <tr>\n",
       "      <th>2</th>\n",
       "      <td>3</td>\n",
       "      <td>grumpier old men</td>\n",
       "      <td>Comedy|Romance</td>\n",
       "    </tr>\n",
       "    <tr>\n",
       "      <th>3</th>\n",
       "      <td>4</td>\n",
       "      <td>waiting to exhale</td>\n",
       "      <td>Comedy|Drama</td>\n",
       "    </tr>\n",
       "    <tr>\n",
       "      <th>4</th>\n",
       "      <td>5</td>\n",
       "      <td>father of the bride part ii</td>\n",
       "      <td>Comedy</td>\n",
       "    </tr>\n",
       "  </tbody>\n",
       "</table>\n",
       "</div>"
      ],
      "text/plain": [
       "   movie_id                        title                         genre\n",
       "0         1                    toy story   Animation|Children's|Comedy\n",
       "1         2                      jumanji  Adventure|Children's|Fantasy\n",
       "2         3             grumpier old men                Comedy|Romance\n",
       "3         4            waiting to exhale                  Comedy|Drama\n",
       "4         5  father of the bride part ii                        Comedy"
      ]
     },
     "execution_count": 12,
     "metadata": {},
     "output_type": "execute_result"
    }
   ],
   "source": [
    "for name in movies['title']:\n",
    "    movies = movies.replace({'title':name},{'title':name.split(' (')[0]})\n",
    "movies.head()"
   ]
  },
  {
   "cell_type": "code",
   "execution_count": 13,
   "id": "medium-touch",
   "metadata": {},
   "outputs": [
    {
     "data": {
      "text/html": [
       "<div>\n",
       "<style scoped>\n",
       "    .dataframe tbody tr th:only-of-type {\n",
       "        vertical-align: middle;\n",
       "    }\n",
       "\n",
       "    .dataframe tbody tr th {\n",
       "        vertical-align: top;\n",
       "    }\n",
       "\n",
       "    .dataframe thead th {\n",
       "        text-align: right;\n",
       "    }\n",
       "</style>\n",
       "<table border=\"1\" class=\"dataframe\">\n",
       "  <thead>\n",
       "    <tr style=\"text-align: right;\">\n",
       "      <th></th>\n",
       "      <th>user_id</th>\n",
       "      <th>movie_id</th>\n",
       "      <th>view_cnt</th>\n",
       "    </tr>\n",
       "  </thead>\n",
       "  <tbody>\n",
       "    <tr>\n",
       "      <th>0</th>\n",
       "      <td>1</td>\n",
       "      <td>1193</td>\n",
       "      <td>5</td>\n",
       "    </tr>\n",
       "    <tr>\n",
       "      <th>1</th>\n",
       "      <td>1</td>\n",
       "      <td>661</td>\n",
       "      <td>3</td>\n",
       "    </tr>\n",
       "    <tr>\n",
       "      <th>2</th>\n",
       "      <td>1</td>\n",
       "      <td>914</td>\n",
       "      <td>3</td>\n",
       "    </tr>\n",
       "    <tr>\n",
       "      <th>3</th>\n",
       "      <td>1</td>\n",
       "      <td>3408</td>\n",
       "      <td>4</td>\n",
       "    </tr>\n",
       "    <tr>\n",
       "      <th>4</th>\n",
       "      <td>1</td>\n",
       "      <td>2355</td>\n",
       "      <td>5</td>\n",
       "    </tr>\n",
       "  </tbody>\n",
       "</table>\n",
       "</div>"
      ],
      "text/plain": [
       "   user_id  movie_id  view_cnt\n",
       "0        1      1193         5\n",
       "1        1       661         3\n",
       "2        1       914         3\n",
       "3        1      3408         4\n",
       "4        1      2355         5"
      ]
     },
     "execution_count": 13,
     "metadata": {},
     "output_type": "execute_result"
    }
   ],
   "source": [
    "# 관심사인 컬럼만 남기고 timestamp와 같은 불필요한 컬럼을 제거합니다. \n",
    "using_cols = ['user_id','movie_id', 'view_cnt']\n",
    "ratings = ratings[using_cols]\n",
    "ratings.head()"
   ]
  },
  {
   "cell_type": "markdown",
   "id": "further-roads",
   "metadata": {},
   "source": [
    "### 데이터 분석 \n",
    "* ratings에 있는 유니크한 사용자 수\n",
    "* ratings에 있는 유니크한 영화 개수\n",
    "* 가장 인기 있는 영화 30개(인기순)"
   ]
  },
  {
   "cell_type": "code",
   "execution_count": 14,
   "id": "oriented-leave",
   "metadata": {},
   "outputs": [
    {
     "name": "stdout",
     "output_type": "stream",
     "text": [
      "사용자는 6039명 입니다., 총 3883의 영화 중 3628개의 영화를 평가했습니다\n"
     ]
    }
   ],
   "source": [
    "# nunique() 함수를 사용해서 고유값들의 개수를 세봅니다. \n",
    "user_nunique = ratings['user_id'].nunique() \n",
    "movie_nunique = ratings['movie_id'].nunique()\n",
    "num_movie = len(movies['movie_id'])\n",
    "print(f'사용자는 {user_nunique}명 입니다., 총 {num_movie}의 영화 중 {movie_nunique}개의 영화를 평가했습니다')"
   ]
  },
  {
   "cell_type": "markdown",
   "id": "fluid-collector",
   "metadata": {},
   "source": [
    "🎬인기가 많다?를 count로 해주는게 맞을까? <br>\n",
    "평가를 많이 받았다는 것보다 평가점수의 합이 높을 수록 평가를 많이 받으면서, 높은 점수로 평가 받은 영화를 추려낼 수 있습니다. 따라서 기존의 count 함수 보다는 sum이 적절해보여 영화 고유 식별자별 view_cnt의 총합 점수를 계산했습니다. 결과도 약간 다르기 때문에 유의미한 처리라고 판단됩니다. "
   ]
  },
  {
   "cell_type": "code",
   "execution_count": 15,
   "id": "annual-perfume",
   "metadata": {},
   "outputs": [
    {
     "data": {
      "text/html": [
       "<div>\n",
       "<style scoped>\n",
       "    .dataframe tbody tr th:only-of-type {\n",
       "        vertical-align: middle;\n",
       "    }\n",
       "\n",
       "    .dataframe tbody tr th {\n",
       "        vertical-align: top;\n",
       "    }\n",
       "\n",
       "    .dataframe thead th {\n",
       "        text-align: right;\n",
       "    }\n",
       "</style>\n",
       "<table border=\"1\" class=\"dataframe\">\n",
       "  <thead>\n",
       "    <tr style=\"text-align: right;\">\n",
       "      <th></th>\n",
       "      <th>movie_id</th>\n",
       "      <th>view_cnt</th>\n",
       "    </tr>\n",
       "  </thead>\n",
       "  <tbody>\n",
       "    <tr>\n",
       "      <th>2600</th>\n",
       "      <td>2858</td>\n",
       "      <td>3211</td>\n",
       "    </tr>\n",
       "    <tr>\n",
       "      <th>249</th>\n",
       "      <td>260</td>\n",
       "      <td>2910</td>\n",
       "    </tr>\n",
       "    <tr>\n",
       "      <th>1080</th>\n",
       "      <td>1196</td>\n",
       "      <td>2885</td>\n",
       "    </tr>\n",
       "    <tr>\n",
       "      <th>1094</th>\n",
       "      <td>1210</td>\n",
       "      <td>2716</td>\n",
       "    </tr>\n",
       "    <tr>\n",
       "      <th>1810</th>\n",
       "      <td>2028</td>\n",
       "      <td>2561</td>\n",
       "    </tr>\n",
       "    <tr>\n",
       "      <th>569</th>\n",
       "      <td>589</td>\n",
       "      <td>2509</td>\n",
       "    </tr>\n",
       "    <tr>\n",
       "      <th>573</th>\n",
       "      <td>593</td>\n",
       "      <td>2498</td>\n",
       "    </tr>\n",
       "    <tr>\n",
       "      <th>1082</th>\n",
       "      <td>1198</td>\n",
       "      <td>2473</td>\n",
       "    </tr>\n",
       "    <tr>\n",
       "      <th>1152</th>\n",
       "      <td>1270</td>\n",
       "      <td>2460</td>\n",
       "    </tr>\n",
       "    <tr>\n",
       "      <th>2325</th>\n",
       "      <td>2571</td>\n",
       "      <td>2434</td>\n",
       "    </tr>\n",
       "  </tbody>\n",
       "</table>\n",
       "</div>"
      ],
      "text/plain": [
       "      movie_id  view_cnt\n",
       "2600      2858      3211\n",
       "249        260      2910\n",
       "1080      1196      2885\n",
       "1094      1210      2716\n",
       "1810      2028      2561\n",
       "569        589      2509\n",
       "573        593      2498\n",
       "1082      1198      2473\n",
       "1152      1270      2460\n",
       "2325      2571      2434"
      ]
     },
     "execution_count": 15,
     "metadata": {},
     "output_type": "execute_result"
    }
   ],
   "source": [
    "# 사람들이 많이 평가한 영화를 기준으로 인기 많은 영화 정보를 count(), sort_values() 함수로 출력합니다. \n",
    "popular_movie = pd.DataFrame()\n",
    "popular_movie = ratings.groupby(by =['movie_id'], as_index = False)['view_cnt'].count() # count로 movie_id별 평가 회수의 총합 \n",
    "popular_movie.sort_values(by = ['view_cnt'], ascending=False).head(10)"
   ]
  },
  {
   "cell_type": "code",
   "execution_count": 16,
   "id": "baking-resource",
   "metadata": {},
   "outputs": [
    {
     "data": {
      "text/html": [
       "<div>\n",
       "<style scoped>\n",
       "    .dataframe tbody tr th:only-of-type {\n",
       "        vertical-align: middle;\n",
       "    }\n",
       "\n",
       "    .dataframe tbody tr th {\n",
       "        vertical-align: top;\n",
       "    }\n",
       "\n",
       "    .dataframe thead th {\n",
       "        text-align: right;\n",
       "    }\n",
       "</style>\n",
       "<table border=\"1\" class=\"dataframe\">\n",
       "  <thead>\n",
       "    <tr style=\"text-align: right;\">\n",
       "      <th></th>\n",
       "      <th>movie_id</th>\n",
       "      <th>view_cnt</th>\n",
       "    </tr>\n",
       "  </thead>\n",
       "  <tbody>\n",
       "    <tr>\n",
       "      <th>2600</th>\n",
       "      <td>2858</td>\n",
       "      <td>14449</td>\n",
       "    </tr>\n",
       "    <tr>\n",
       "      <th>249</th>\n",
       "      <td>260</td>\n",
       "      <td>13178</td>\n",
       "    </tr>\n",
       "    <tr>\n",
       "      <th>1080</th>\n",
       "      <td>1196</td>\n",
       "      <td>12648</td>\n",
       "    </tr>\n",
       "    <tr>\n",
       "      <th>1810</th>\n",
       "      <td>2028</td>\n",
       "      <td>11348</td>\n",
       "    </tr>\n",
       "    <tr>\n",
       "      <th>1094</th>\n",
       "      <td>1210</td>\n",
       "      <td>11303</td>\n",
       "    </tr>\n",
       "    <tr>\n",
       "      <th>1082</th>\n",
       "      <td>1198</td>\n",
       "      <td>11179</td>\n",
       "    </tr>\n",
       "    <tr>\n",
       "      <th>573</th>\n",
       "      <td>593</td>\n",
       "      <td>11096</td>\n",
       "    </tr>\n",
       "    <tr>\n",
       "      <th>2325</th>\n",
       "      <td>2571</td>\n",
       "      <td>10903</td>\n",
       "    </tr>\n",
       "    <tr>\n",
       "      <th>2507</th>\n",
       "      <td>2762</td>\n",
       "      <td>10703</td>\n",
       "    </tr>\n",
       "    <tr>\n",
       "      <th>569</th>\n",
       "      <td>589</td>\n",
       "      <td>10513</td>\n",
       "    </tr>\n",
       "    <tr>\n",
       "      <th>587</th>\n",
       "      <td>608</td>\n",
       "      <td>10465</td>\n",
       "    </tr>\n",
       "    <tr>\n",
       "      <th>509</th>\n",
       "      <td>527</td>\n",
       "      <td>10317</td>\n",
       "    </tr>\n",
       "    <tr>\n",
       "      <th>106</th>\n",
       "      <td>110</td>\n",
       "      <td>10125</td>\n",
       "    </tr>\n",
       "    <tr>\n",
       "      <th>305</th>\n",
       "      <td>318</td>\n",
       "      <td>10085</td>\n",
       "    </tr>\n",
       "    <tr>\n",
       "      <th>1152</th>\n",
       "      <td>1270</td>\n",
       "      <td>10081</td>\n",
       "    </tr>\n",
       "    <tr>\n",
       "      <th>785</th>\n",
       "      <td>858</td>\n",
       "      <td>9965</td>\n",
       "    </tr>\n",
       "    <tr>\n",
       "      <th>1081</th>\n",
       "      <td>1197</td>\n",
       "      <td>9866</td>\n",
       "    </tr>\n",
       "    <tr>\n",
       "      <th>462</th>\n",
       "      <td>480</td>\n",
       "      <td>9601</td>\n",
       "    </tr>\n",
       "    <tr>\n",
       "      <th>1455</th>\n",
       "      <td>1617</td>\n",
       "      <td>9515</td>\n",
       "    </tr>\n",
       "    <tr>\n",
       "      <th>2155</th>\n",
       "      <td>2396</td>\n",
       "      <td>9503</td>\n",
       "    </tr>\n",
       "    <tr>\n",
       "      <th>1419</th>\n",
       "      <td>1580</td>\n",
       "      <td>9057</td>\n",
       "    </tr>\n",
       "    <tr>\n",
       "      <th>283</th>\n",
       "      <td>296</td>\n",
       "      <td>9053</td>\n",
       "    </tr>\n",
       "    <tr>\n",
       "      <th>2734</th>\n",
       "      <td>2997</td>\n",
       "      <td>8964</td>\n",
       "    </tr>\n",
       "    <tr>\n",
       "      <th>1147</th>\n",
       "      <td>1265</td>\n",
       "      <td>8727</td>\n",
       "    </tr>\n",
       "    <tr>\n",
       "      <th>1003</th>\n",
       "      <td>1097</td>\n",
       "      <td>8696</td>\n",
       "    </tr>\n",
       "    <tr>\n",
       "      <th>342</th>\n",
       "      <td>356</td>\n",
       "      <td>8679</td>\n",
       "    </tr>\n",
       "    <tr>\n",
       "      <th>1122</th>\n",
       "      <td>1240</td>\n",
       "      <td>8571</td>\n",
       "    </tr>\n",
       "    <tr>\n",
       "      <th>0</th>\n",
       "      <td>1</td>\n",
       "      <td>8475</td>\n",
       "    </tr>\n",
       "    <tr>\n",
       "      <th>2462</th>\n",
       "      <td>2716</td>\n",
       "      <td>8282</td>\n",
       "    </tr>\n",
       "    <tr>\n",
       "      <th>1098</th>\n",
       "      <td>1214</td>\n",
       "      <td>8244</td>\n",
       "    </tr>\n",
       "  </tbody>\n",
       "</table>\n",
       "</div>"
      ],
      "text/plain": [
       "      movie_id  view_cnt\n",
       "2600      2858     14449\n",
       "249        260     13178\n",
       "1080      1196     12648\n",
       "1810      2028     11348\n",
       "1094      1210     11303\n",
       "1082      1198     11179\n",
       "573        593     11096\n",
       "2325      2571     10903\n",
       "2507      2762     10703\n",
       "569        589     10513\n",
       "587        608     10465\n",
       "509        527     10317\n",
       "106        110     10125\n",
       "305        318     10085\n",
       "1152      1270     10081\n",
       "785        858      9965\n",
       "1081      1197      9866\n",
       "462        480      9601\n",
       "1455      1617      9515\n",
       "2155      2396      9503\n",
       "1419      1580      9057\n",
       "283        296      9053\n",
       "2734      2997      8964\n",
       "1147      1265      8727\n",
       "1003      1097      8696\n",
       "342        356      8679\n",
       "1122      1240      8571\n",
       "0            1      8475\n",
       "2462      2716      8282\n",
       "1098      1214      8244"
      ]
     },
     "execution_count": 16,
     "metadata": {},
     "output_type": "execute_result"
    }
   ],
   "source": [
    "# 사람들이 높게 평가한 영화를 기준으로 인기 많은 영화 정보를 sum(), sort_values() 함수로 출력합니다. \n",
    "popular_movie = pd.DataFrame()\n",
    "popular_movie = ratings.groupby(by =['movie_id'], as_index = False)['view_cnt'].sum() # sum으로 movie_id별 view_cnt의 총합 \n",
    "popular_movie.sort_values(by = ['view_cnt'], ascending=False).head(30)"
   ]
  },
  {
   "cell_type": "code",
   "execution_count": 17,
   "id": "light-karma",
   "metadata": {},
   "outputs": [
    {
     "data": {
      "text/html": [
       "<div>\n",
       "<style scoped>\n",
       "    .dataframe tbody tr th:only-of-type {\n",
       "        vertical-align: middle;\n",
       "    }\n",
       "\n",
       "    .dataframe tbody tr th {\n",
       "        vertical-align: top;\n",
       "    }\n",
       "\n",
       "    .dataframe thead th {\n",
       "        text-align: right;\n",
       "    }\n",
       "</style>\n",
       "<table border=\"1\" class=\"dataframe\">\n",
       "  <thead>\n",
       "    <tr style=\"text-align: right;\">\n",
       "      <th></th>\n",
       "      <th>user_id</th>\n",
       "      <th>movie_id</th>\n",
       "    </tr>\n",
       "  </thead>\n",
       "  <tbody>\n",
       "    <tr>\n",
       "      <th>0</th>\n",
       "      <td>1</td>\n",
       "      <td>53</td>\n",
       "    </tr>\n",
       "    <tr>\n",
       "      <th>1</th>\n",
       "      <td>2</td>\n",
       "      <td>116</td>\n",
       "    </tr>\n",
       "    <tr>\n",
       "      <th>2</th>\n",
       "      <td>3</td>\n",
       "      <td>46</td>\n",
       "    </tr>\n",
       "    <tr>\n",
       "      <th>3</th>\n",
       "      <td>4</td>\n",
       "      <td>19</td>\n",
       "    </tr>\n",
       "    <tr>\n",
       "      <th>4</th>\n",
       "      <td>5</td>\n",
       "      <td>143</td>\n",
       "    </tr>\n",
       "  </tbody>\n",
       "</table>\n",
       "</div>"
      ],
      "text/plain": [
       "   user_id  movie_id\n",
       "0        1        53\n",
       "1        2       116\n",
       "2        3        46\n",
       "3        4        19\n",
       "4        5       143"
      ]
     },
     "execution_count": 17,
     "metadata": {},
     "output_type": "execute_result"
    }
   ],
   "source": [
    "# user별로 몇개의 영화를 평가했는지에 대한 통계를 count(), sort_values() 함수로 출력합니다. \n",
    "user_movies_cnt = ratings.groupby(by = ['user_id'], as_index = False)['movie_id'].count()\n",
    "user_movies_cnt.sort_values(by = ['user_id'], ascending=True).head()"
   ]
  },
  {
   "cell_type": "code",
   "execution_count": 18,
   "id": "another-ending",
   "metadata": {},
   "outputs": [
    {
     "data": {
      "text/plain": [
       "count    6039.000000\n",
       "mean        4.055970\n",
       "std         0.432143\n",
       "min         3.000000\n",
       "25%         4.000000\n",
       "50%         4.000000\n",
       "75%         4.000000\n",
       "max         5.000000\n",
       "Name: view_cnt, dtype: float64"
      ]
     },
     "execution_count": 18,
     "metadata": {},
     "output_type": "execute_result"
    }
   ],
   "source": [
    "# user들이 준 점수에 대한 중앙값에 대한 통계를 median을 통해 확인합니다. \n",
    "user_median = ratings.groupby('user_id')['view_cnt'].median()\n",
    "user_median.describe()"
   ]
  },
  {
   "cell_type": "markdown",
   "id": "interstate-lafayette",
   "metadata": {},
   "source": [
    "### 내가 선호하는 영화를 5가지 골라서 rating에 추가해 줍시다.\n",
    "🎬사용자의 이용정보가 많은 데이터일수록 선호도에 대한 결과값이 좀더 정확하게 나옵니다. 따라서 위에서 인기있는 영화들 중에 상위 5번째 영화까지 내가 선호나는 영화로 지정하겠습니다. "
   ]
  },
  {
   "cell_type": "code",
   "execution_count": 19,
   "id": "atomic-financing",
   "metadata": {},
   "outputs": [
    {
     "data": {
      "text/html": [
       "<div>\n",
       "<style scoped>\n",
       "    .dataframe tbody tr th:only-of-type {\n",
       "        vertical-align: middle;\n",
       "    }\n",
       "\n",
       "    .dataframe tbody tr th {\n",
       "        vertical-align: top;\n",
       "    }\n",
       "\n",
       "    .dataframe thead th {\n",
       "        text-align: right;\n",
       "    }\n",
       "</style>\n",
       "<table border=\"1\" class=\"dataframe\">\n",
       "  <thead>\n",
       "    <tr style=\"text-align: right;\">\n",
       "      <th></th>\n",
       "      <th>movie_id</th>\n",
       "      <th>view_cnt</th>\n",
       "    </tr>\n",
       "  </thead>\n",
       "  <tbody>\n",
       "    <tr>\n",
       "      <th>0</th>\n",
       "      <td>1</td>\n",
       "      <td>8475</td>\n",
       "    </tr>\n",
       "    <tr>\n",
       "      <th>1</th>\n",
       "      <td>2</td>\n",
       "      <td>1986</td>\n",
       "    </tr>\n",
       "    <tr>\n",
       "      <th>2</th>\n",
       "      <td>3</td>\n",
       "      <td>1208</td>\n",
       "    </tr>\n",
       "    <tr>\n",
       "      <th>3</th>\n",
       "      <td>4</td>\n",
       "      <td>349</td>\n",
       "    </tr>\n",
       "    <tr>\n",
       "      <th>4</th>\n",
       "      <td>5</td>\n",
       "      <td>754</td>\n",
       "    </tr>\n",
       "    <tr>\n",
       "      <th>...</th>\n",
       "      <td>...</td>\n",
       "      <td>...</td>\n",
       "    </tr>\n",
       "    <tr>\n",
       "      <th>3623</th>\n",
       "      <td>3948</td>\n",
       "      <td>2949</td>\n",
       "    </tr>\n",
       "    <tr>\n",
       "      <th>3624</th>\n",
       "      <td>3949</td>\n",
       "      <td>1212</td>\n",
       "    </tr>\n",
       "    <tr>\n",
       "      <th>3625</th>\n",
       "      <td>3950</td>\n",
       "      <td>186</td>\n",
       "    </tr>\n",
       "    <tr>\n",
       "      <th>3626</th>\n",
       "      <td>3951</td>\n",
       "      <td>149</td>\n",
       "    </tr>\n",
       "    <tr>\n",
       "      <th>3627</th>\n",
       "      <td>3952</td>\n",
       "      <td>1406</td>\n",
       "    </tr>\n",
       "  </tbody>\n",
       "</table>\n",
       "<p>3628 rows × 2 columns</p>\n",
       "</div>"
      ],
      "text/plain": [
       "      movie_id  view_cnt\n",
       "0            1      8475\n",
       "1            2      1986\n",
       "2            3      1208\n",
       "3            4       349\n",
       "4            5       754\n",
       "...        ...       ...\n",
       "3623      3948      2949\n",
       "3624      3949      1212\n",
       "3625      3950       186\n",
       "3626      3951       149\n",
       "3627      3952      1406\n",
       "\n",
       "[3628 rows x 2 columns]"
      ]
     },
     "execution_count": 19,
     "metadata": {},
     "output_type": "execute_result"
    }
   ],
   "source": [
    "popular_movie"
   ]
  },
  {
   "cell_type": "code",
   "execution_count": 20,
   "id": "active-customer",
   "metadata": {},
   "outputs": [
    {
     "data": {
      "text/html": [
       "<div>\n",
       "<style scoped>\n",
       "    .dataframe tbody tr th:only-of-type {\n",
       "        vertical-align: middle;\n",
       "    }\n",
       "\n",
       "    .dataframe tbody tr th {\n",
       "        vertical-align: top;\n",
       "    }\n",
       "\n",
       "    .dataframe thead th {\n",
       "        text-align: right;\n",
       "    }\n",
       "</style>\n",
       "<table border=\"1\" class=\"dataframe\">\n",
       "  <thead>\n",
       "    <tr style=\"text-align: right;\">\n",
       "      <th></th>\n",
       "      <th>movie_id</th>\n",
       "      <th>view_cnt</th>\n",
       "    </tr>\n",
       "  </thead>\n",
       "  <tbody>\n",
       "    <tr>\n",
       "      <th>2600</th>\n",
       "      <td>2858</td>\n",
       "      <td>14449</td>\n",
       "    </tr>\n",
       "    <tr>\n",
       "      <th>249</th>\n",
       "      <td>260</td>\n",
       "      <td>13178</td>\n",
       "    </tr>\n",
       "    <tr>\n",
       "      <th>1080</th>\n",
       "      <td>1196</td>\n",
       "      <td>12648</td>\n",
       "    </tr>\n",
       "    <tr>\n",
       "      <th>1810</th>\n",
       "      <td>2028</td>\n",
       "      <td>11348</td>\n",
       "    </tr>\n",
       "    <tr>\n",
       "      <th>1094</th>\n",
       "      <td>1210</td>\n",
       "      <td>11303</td>\n",
       "    </tr>\n",
       "  </tbody>\n",
       "</table>\n",
       "</div>"
      ],
      "text/plain": [
       "      movie_id  view_cnt\n",
       "2600      2858     14449\n",
       "249        260     13178\n",
       "1080      1196     12648\n",
       "1810      2028     11348\n",
       "1094      1210     11303"
      ]
     },
     "execution_count": 20,
     "metadata": {},
     "output_type": "execute_result"
    }
   ],
   "source": [
    "popular_movie.sort_values(by = ['view_cnt'], ascending=False).head(5)"
   ]
  },
  {
   "cell_type": "code",
   "execution_count": 21,
   "id": "heated-engagement",
   "metadata": {},
   "outputs": [
    {
     "data": {
      "text/html": [
       "<div>\n",
       "<style scoped>\n",
       "    .dataframe tbody tr th:only-of-type {\n",
       "        vertical-align: middle;\n",
       "    }\n",
       "\n",
       "    .dataframe tbody tr th {\n",
       "        vertical-align: top;\n",
       "    }\n",
       "\n",
       "    .dataframe thead th {\n",
       "        text-align: right;\n",
       "    }\n",
       "</style>\n",
       "<table border=\"1\" class=\"dataframe\">\n",
       "  <thead>\n",
       "    <tr style=\"text-align: right;\">\n",
       "      <th></th>\n",
       "      <th>movie_id</th>\n",
       "      <th>title</th>\n",
       "      <th>genre</th>\n",
       "    </tr>\n",
       "  </thead>\n",
       "  <tbody>\n",
       "    <tr>\n",
       "      <th>257</th>\n",
       "      <td>260</td>\n",
       "      <td>star wars: episode iv - a new hope</td>\n",
       "      <td>Action|Adventure|Fantasy|Sci-Fi</td>\n",
       "    </tr>\n",
       "    <tr>\n",
       "      <th>1178</th>\n",
       "      <td>1196</td>\n",
       "      <td>star wars: episode v - the empire strikes back</td>\n",
       "      <td>Action|Adventure|Drama|Sci-Fi|War</td>\n",
       "    </tr>\n",
       "    <tr>\n",
       "      <th>1192</th>\n",
       "      <td>1210</td>\n",
       "      <td>star wars: episode vi - return of the jedi</td>\n",
       "      <td>Action|Adventure|Romance|Sci-Fi|War</td>\n",
       "    </tr>\n",
       "    <tr>\n",
       "      <th>1959</th>\n",
       "      <td>2028</td>\n",
       "      <td>saving private ryan</td>\n",
       "      <td>Action|Drama|War</td>\n",
       "    </tr>\n",
       "    <tr>\n",
       "      <th>2789</th>\n",
       "      <td>2858</td>\n",
       "      <td>american beauty</td>\n",
       "      <td>Comedy|Drama</td>\n",
       "    </tr>\n",
       "  </tbody>\n",
       "</table>\n",
       "</div>"
      ],
      "text/plain": [
       "      movie_id                                           title  \\\n",
       "257        260              star wars: episode iv - a new hope   \n",
       "1178      1196  star wars: episode v - the empire strikes back   \n",
       "1192      1210      star wars: episode vi - return of the jedi   \n",
       "1959      2028                             saving private ryan   \n",
       "2789      2858                                 american beauty   \n",
       "\n",
       "                                    genre  \n",
       "257       Action|Adventure|Fantasy|Sci-Fi  \n",
       "1178    Action|Adventure|Drama|Sci-Fi|War  \n",
       "1192  Action|Adventure|Romance|Sci-Fi|War  \n",
       "1959                     Action|Drama|War  \n",
       "2789                         Comedy|Drama  "
      ]
     },
     "execution_count": 21,
     "metadata": {},
     "output_type": "execute_result"
    }
   ],
   "source": [
    "my_favorite = movies[(movies['movie_id']==2858)|(movies['movie_id']==260)|(movies['movie_id']==1196)|(movies['movie_id']==2028)|(movies['movie_id']==1210)]\n",
    "my_favorite"
   ]
  },
  {
   "cell_type": "markdown",
   "id": "boxed-joyce",
   "metadata": {},
   "source": [
    "🎬1196에 해당하는 title이 너무 길어서 보이지 않았습니다. 그래서 pd.set_option()을 통해 max_colwidth를 수정해줬습니다. \n",
    "* 참고 링크: http://pertinency.blogspot.com/2019/03/pandas.html"
   ]
  },
  {
   "cell_type": "code",
   "execution_count": 22,
   "id": "secure-french",
   "metadata": {},
   "outputs": [],
   "source": [
    "pd.set_option('display.max_colwidth', 200)"
   ]
  },
  {
   "cell_type": "code",
   "execution_count": 23,
   "id": "varying-paintball",
   "metadata": {},
   "outputs": [
    {
     "data": {
      "text/html": [
       "<div>\n",
       "<style scoped>\n",
       "    .dataframe tbody tr th:only-of-type {\n",
       "        vertical-align: middle;\n",
       "    }\n",
       "\n",
       "    .dataframe tbody tr th {\n",
       "        vertical-align: top;\n",
       "    }\n",
       "\n",
       "    .dataframe thead th {\n",
       "        text-align: right;\n",
       "    }\n",
       "</style>\n",
       "<table border=\"1\" class=\"dataframe\">\n",
       "  <thead>\n",
       "    <tr style=\"text-align: right;\">\n",
       "      <th></th>\n",
       "      <th>movie_id</th>\n",
       "      <th>title</th>\n",
       "      <th>genre</th>\n",
       "    </tr>\n",
       "  </thead>\n",
       "  <tbody>\n",
       "    <tr>\n",
       "      <th>1178</th>\n",
       "      <td>1196</td>\n",
       "      <td>star wars: episode v - the empire strikes back</td>\n",
       "      <td>Action|Adventure|Drama|Sci-Fi|War</td>\n",
       "    </tr>\n",
       "  </tbody>\n",
       "</table>\n",
       "</div>"
      ],
      "text/plain": [
       "      movie_id                                           title  \\\n",
       "1178      1196  star wars: episode v - the empire strikes back   \n",
       "\n",
       "                                  genre  \n",
       "1178  Action|Adventure|Drama|Sci-Fi|War  "
      ]
     },
     "execution_count": 23,
     "metadata": {},
     "output_type": "execute_result"
    }
   ],
   "source": [
    "movies[movies['movie_id']==1196]"
   ]
  },
  {
   "cell_type": "code",
   "execution_count": 24,
   "id": "naval-bangkok",
   "metadata": {},
   "outputs": [],
   "source": [
    "# 영화 id를 리스트로 저장\n",
    "my_favorite_id = [2858, 2028, 1196, 260, 1210]"
   ]
  },
  {
   "cell_type": "markdown",
   "id": "executive-religion",
   "metadata": {},
   "source": [
    "🎬user_id가 겹치지 않게 하기위해 먼저 user_id값의 최대값을 확인합니다. 6040이 가장 큰 id이므로 6041을 제 user_id로 설정하겠습니다. "
   ]
  },
  {
   "cell_type": "code",
   "execution_count": 25,
   "id": "liberal-webmaster",
   "metadata": {},
   "outputs": [
    {
     "data": {
      "text/plain": [
       "6040"
      ]
     },
     "execution_count": 25,
     "metadata": {},
     "output_type": "execute_result"
    }
   ],
   "source": [
    "# user_id 기준으로 max()한 결과를 출력합니다. \n",
    "ratings['user_id'].max()"
   ]
  },
  {
   "cell_type": "code",
   "execution_count": 26,
   "id": "informational-printer",
   "metadata": {},
   "outputs": [
    {
     "data": {
      "text/html": [
       "<div>\n",
       "<style scoped>\n",
       "    .dataframe tbody tr th:only-of-type {\n",
       "        vertical-align: middle;\n",
       "    }\n",
       "\n",
       "    .dataframe tbody tr th {\n",
       "        vertical-align: top;\n",
       "    }\n",
       "\n",
       "    .dataframe thead th {\n",
       "        text-align: right;\n",
       "    }\n",
       "</style>\n",
       "<table border=\"1\" class=\"dataframe\">\n",
       "  <thead>\n",
       "    <tr style=\"text-align: right;\">\n",
       "      <th></th>\n",
       "      <th>user_id</th>\n",
       "      <th>movie_id</th>\n",
       "      <th>view_cnt</th>\n",
       "    </tr>\n",
       "  </thead>\n",
       "  <tbody>\n",
       "    <tr>\n",
       "      <th>0</th>\n",
       "      <td>6041</td>\n",
       "      <td>2858</td>\n",
       "      <td>5</td>\n",
       "    </tr>\n",
       "    <tr>\n",
       "      <th>1</th>\n",
       "      <td>6041</td>\n",
       "      <td>2028</td>\n",
       "      <td>5</td>\n",
       "    </tr>\n",
       "    <tr>\n",
       "      <th>2</th>\n",
       "      <td>6041</td>\n",
       "      <td>1196</td>\n",
       "      <td>5</td>\n",
       "    </tr>\n",
       "    <tr>\n",
       "      <th>3</th>\n",
       "      <td>6041</td>\n",
       "      <td>260</td>\n",
       "      <td>5</td>\n",
       "    </tr>\n",
       "    <tr>\n",
       "      <th>4</th>\n",
       "      <td>6041</td>\n",
       "      <td>1210</td>\n",
       "      <td>5</td>\n",
       "    </tr>\n",
       "  </tbody>\n",
       "</table>\n",
       "</div>"
      ],
      "text/plain": [
       "   user_id  movie_id  view_cnt\n",
       "0     6041      2858         5\n",
       "1     6041      2028         5\n",
       "2     6041      1196         5\n",
       "3     6041       260         5\n",
       "4     6041      1210         5"
      ]
     },
     "execution_count": 26,
     "metadata": {},
     "output_type": "execute_result"
    }
   ],
   "source": [
    "# 좋아하는 영화 리스트를 ratings와 동일한 컬럼으로 구성합니다. \n",
    "my_ratings_list = pd.DataFrame({'user_id': [6041]*5,'movie_id': my_favorite_id, 'view_cnt': [5]*5})\n",
    "my_ratings_list"
   ]
  },
  {
   "cell_type": "markdown",
   "id": "asian-civilian",
   "metadata": {},
   "source": [
    "🎬append해주면서 index도 그대로 append되었기 때문에 reset_index를 활용해 초기화해줍니다. 혹은 append 옵션에 ignore_index = True를 해주면 index가 반영되지 않습니다. "
   ]
  },
  {
   "cell_type": "code",
   "execution_count": 27,
   "id": "committed-review",
   "metadata": {},
   "outputs": [
    {
     "data": {
      "text/html": [
       "<div>\n",
       "<style scoped>\n",
       "    .dataframe tbody tr th:only-of-type {\n",
       "        vertical-align: middle;\n",
       "    }\n",
       "\n",
       "    .dataframe tbody tr th {\n",
       "        vertical-align: top;\n",
       "    }\n",
       "\n",
       "    .dataframe thead th {\n",
       "        text-align: right;\n",
       "    }\n",
       "</style>\n",
       "<table border=\"1\" class=\"dataframe\">\n",
       "  <thead>\n",
       "    <tr style=\"text-align: right;\">\n",
       "      <th></th>\n",
       "      <th>user_id</th>\n",
       "      <th>movie_id</th>\n",
       "      <th>view_cnt</th>\n",
       "    </tr>\n",
       "  </thead>\n",
       "  <tbody>\n",
       "    <tr>\n",
       "      <th>836476</th>\n",
       "      <td>6040</td>\n",
       "      <td>1096</td>\n",
       "      <td>4</td>\n",
       "    </tr>\n",
       "    <tr>\n",
       "      <th>836477</th>\n",
       "      <td>6040</td>\n",
       "      <td>1097</td>\n",
       "      <td>4</td>\n",
       "    </tr>\n",
       "    <tr>\n",
       "      <th>836478</th>\n",
       "      <td>6041</td>\n",
       "      <td>2858</td>\n",
       "      <td>5</td>\n",
       "    </tr>\n",
       "    <tr>\n",
       "      <th>836479</th>\n",
       "      <td>6041</td>\n",
       "      <td>2028</td>\n",
       "      <td>5</td>\n",
       "    </tr>\n",
       "    <tr>\n",
       "      <th>836480</th>\n",
       "      <td>6041</td>\n",
       "      <td>1196</td>\n",
       "      <td>5</td>\n",
       "    </tr>\n",
       "    <tr>\n",
       "      <th>836481</th>\n",
       "      <td>6041</td>\n",
       "      <td>260</td>\n",
       "      <td>5</td>\n",
       "    </tr>\n",
       "    <tr>\n",
       "      <th>836482</th>\n",
       "      <td>6041</td>\n",
       "      <td>1210</td>\n",
       "      <td>5</td>\n",
       "    </tr>\n",
       "  </tbody>\n",
       "</table>\n",
       "</div>"
      ],
      "text/plain": [
       "        user_id  movie_id  view_cnt\n",
       "836476     6040      1096         4\n",
       "836477     6040      1097         4\n",
       "836478     6041      2858         5\n",
       "836479     6041      2028         5\n",
       "836480     6041      1196         5\n",
       "836481     6041       260         5\n",
       "836482     6041      1210         5"
      ]
     },
     "execution_count": 27,
     "metadata": {},
     "output_type": "execute_result"
    }
   ],
   "source": [
    "# isin을 통해 내가 좋아하는 영화 리스트의 반영 유무를 체크하고 추가합니다. \n",
    "if not ratings.isin({'user_id': [6041]})['user_id'].any():\n",
    "    # user_id에 6041에 해당하는 id가 없다면 \n",
    "    ratings = ratings.append(my_ratings_list, ignore_index = True)\n",
    "ratings.tail(7)"
   ]
  },
  {
   "cell_type": "code",
   "execution_count": 28,
   "id": "associate-siemens",
   "metadata": {},
   "outputs": [
    {
     "data": {
      "text/plain": [
       "user_id     0\n",
       "movie_id    0\n",
       "view_cnt    0\n",
       "dtype: int64"
      ]
     },
     "execution_count": 28,
     "metadata": {},
     "output_type": "execute_result"
    }
   ],
   "source": [
    "# null값이 있는지 확인합니다. \n",
    "ratings.isnull().sum()"
   ]
  },
  {
   "cell_type": "markdown",
   "id": "automated-accommodation",
   "metadata": {},
   "source": [
    "🎬shape에 들어갈 인자를 다시 정의합니다. "
   ]
  },
  {
   "cell_type": "code",
   "execution_count": 29,
   "id": "exact-population",
   "metadata": {},
   "outputs": [
    {
     "data": {
      "text/plain": [
       "21909492"
      ]
     },
     "execution_count": 29,
     "metadata": {},
     "output_type": "execute_result"
    }
   ],
   "source": [
    "user_nunique * movie_nunique"
   ]
  },
  {
   "cell_type": "markdown",
   "id": "exempt-archives",
   "metadata": {},
   "source": [
    "## CSR matrix를 직접 만들어 봅시다.\n",
    "🎬우리가 만드려는 csr matrix는 어떻게 구성될까? <br>\n",
    "전처리가 끝났다면 분석할 데이터인 21913120개인 방대한 크기를 압축할 필요가 있습니다. 이번 프로젝트에서는 csr_matrix를 활용하는 것이 전제이므로 csr_matrix를 적용해본다면, csr_matrix(0 아닌 data, (행 위치 배열, 열 위치 배열))로 구성되어 0이 아닌 데이터들로 구성된 행렬로 압축시켜줍니다. <br>\n",
    "csr_matrix의 특징은 행 위치 배열이 0부터 순차적으로 증가하고 반복적으로 나타날 때, 행 위치의 고유한 값의 시작 위치만 표기하는 방법으로 반복을 제거해주는 것입니다. 따라서 0은 항상 0, 1은 0의 개수 이후에 해당하는 인덱스 위치를 원소값으로 가지는 것입니다. 예를 들어 [0, 1, 1, 2, 2, 2]라는 행 위치 배열이 있으면 [0,1,3]으로 변환하여 반복을 줄임으로써 메모리 사용량을 줄일 수 있습니다. 이렇게 행 위치 배열을 변환 후에 인자로 넣어주는 경우에는 csr_matrix(0 아닌 data, 열 위치 배열, 변환된 행 위치 배열)로 함수 인자를 구성할 수 있습니다. <br>\n",
    "🎬주의사항! csr_matrix(data, (row, col))의 경우와 csr_matrix(data, indices, indptr)은 다른 경우입니다. <br>\n",
    "\n",
    "* 먼저, 0이 아닌 데이터값을 지정해줘야합니다. <br>\n",
    "저희가 주목할 데이터는 ratings의 view_cnt값이고 이로서 선호도를 알기 위해 data에 해당합니다. \n",
    "* 행과 열의 위치 배열이 필요합니다. \n",
    "    * unique한 개수와 배열의 최대값을 확인합니다. 확인 결과 다를 시 indexing작업이 필요합니다. <br>\n",
    "🎬주의사항! 여기서 생각해볼 문제는 movie든 user든 id를 그대로 index로서 사용해도 될지에 대한 부분입니다. 데이터를 확인해보면 이미 숫자로 된 데이터고, 고유 id로 할당된 데이터라 indexing이 필요없다고 판단됐습니다. user_id를 unique와 nunique 함수를 써서 살펴보면 0~6041까지 연이어 숫자가 존재하지 않고, movie_id도 length와 비교했을 때 값이 순차적으로 촘촘하게 구성되진 않다는 것을 알 수 있습니다. 그리고 user_id와 movie_id는 0이 없어서 index 0 또한 취급이 안되고 있습니다. **그래서 최대한 압축하기 위해서 데이터에 새롭게 indexing을 해줄 필요가 있어보였습니다?** <br>\n",
    "하지만,!! 특정 배열로 현재 상황처럼, row 중에 빠진 index가 있는 경우에 대해 실험해본 결과 모두 0인 행에 있어서는 알아서 압축시켜주는 것을 확인할 수 있었습니다. **그러나 col에 대해서는 0인 데이터로 채워진 경우에 행렬 크기가 압축이 되지 않았습니다.** <br>\n",
    "* shape을 지정합니다. <br>\n",
    "🎬주의사항! 행과 열은 위치 배열을 고려하기 위해서 ratings에서 예를 들면 user_id=6041, movie_id=2858이면 view_cnt=5이니까, 행/열 위치가 (6041, 2858)에 5라는 값이 있는 행렬이라고 볼 수 있습니다. 따라서 행렬의 크기인 csr_matrix에 shape인자는 user_id와 movie_id의 원소중 최대값을 고려하고 0에서 최대값이므로 shape은 행/열 배열 최대값 + 1이 됩니다."
   ]
  },
  {
   "cell_type": "code",
   "execution_count": 30,
   "id": "chubby-fashion",
   "metadata": {},
   "outputs": [
    {
     "data": {
      "text/plain": [
       "(6039, 3628)"
      ]
     },
     "execution_count": 30,
     "metadata": {},
     "output_type": "execute_result"
    }
   ],
   "source": [
    "# 위에서 5개의 데이터를 추가해줬기 때문에 user같은 경우 unique 개수가 1개 추가되었습니다. \n",
    "# movie는 기존 영화 id내에서 선택했기 때문에 고유값 개수가 유지됩니다. \n",
    "user_nunique, movie_nunique"
   ]
  },
  {
   "cell_type": "code",
   "execution_count": 31,
   "id": "artificial-kenya",
   "metadata": {},
   "outputs": [],
   "source": [
    "# len로 고유값으로 고려하지 않은, 중복까지 고려한 전체 데이터 개수를 확인합니다.\n",
    "user_size = len(ratings['user_id'])\n",
    "movie_size = len(ratings['movie_id'])\n",
    "\n",
    "# nunique() 함수를 사용해서 추가된 user까지 고려한 고유값들의 개수를 반영합니다. \n",
    "user_nunique = ratings['user_id'].nunique()"
   ]
  },
  {
   "cell_type": "code",
   "execution_count": 32,
   "id": "optical-metadata",
   "metadata": {},
   "outputs": [
    {
     "name": "stdout",
     "output_type": "stream",
     "text": [
      "user_id는 데이터 길이는 836483이고, 6040개의 고유 데이터가 있습니다.\n",
      "movie_id는 데이터 길이는 836483이고, 3628개의 고유 데이터가 있습니다.\n"
     ]
    }
   ],
   "source": [
    "print(f'user_id는 데이터 길이는 {user_size}이고, {user_nunique}개의 고유 데이터가 있습니다.')\n",
    "print(f'movie_id는 데이터 길이는 {movie_size}이고, {movie_nunique}개의 고유 데이터가 있습니다.')"
   ]
  },
  {
   "cell_type": "markdown",
   "id": "advisory-railway",
   "metadata": {},
   "source": [
    "🎬user_id와, movie_id는 개수와 최대값이 맞지 않는 것을 확인할 수 있습니다. 왜 그럴까요? <br>\n",
    "먼저, user_id는 6041로 나 자신에 해당하는 것으로 id를 줬지만, 전체 고유값 개수는 6040개입니다. 최대값이 개수보다 더 크게 나온 이유는 원래 있었던 6039개의 데이터들이 순서대로 구성되어 있지는 않았다는 점 때문입니다. 중간에 빠진 수가 1개 있는 것입니다. <br>\n",
    "movie_id 같은 경우, 고유값 개수는 3628개인데, 최대값은 3952개입니다. 이 또한 역시 movie_id 중에 취급되지 않은 영화가 많다는 것입니다. "
   ]
  },
  {
   "cell_type": "code",
   "execution_count": 33,
   "id": "dirty-macro",
   "metadata": {},
   "outputs": [
    {
     "name": "stdout",
     "output_type": "stream",
     "text": [
      "user_id의 최대값은 6041\n",
      "movie_id의 최대값은 3952\n"
     ]
    }
   ],
   "source": [
    "user_unique = ratings['user_id'].unique()\n",
    "movie_unique = ratings['movie_id'].unique()\n",
    "\n",
    "print('user_id의 최대값은', max(user_unique))\n",
    "print('movie_id의 최대값은', max(movie_unique))"
   ]
  },
  {
   "cell_type": "markdown",
   "id": "united-triumph",
   "metadata": {},
   "source": [
    "🎬index에 해당하는 user와 movie_id인데 값에 0이 없음을 확인할 수 있었습니다. "
   ]
  },
  {
   "cell_type": "code",
   "execution_count": 34,
   "id": "advance-still",
   "metadata": {},
   "outputs": [
    {
     "name": "stdout",
     "output_type": "stream",
     "text": [
      "[   1    2    3 ... 6039 6040 6041]\n",
      "[   1    2    3 ... 3950 3951 3952]\n"
     ]
    }
   ],
   "source": [
    "print(np.sort(user_unique))\n",
    "print(np.sort(movie_unique))"
   ]
  },
  {
   "cell_type": "markdown",
   "id": "clean-lesson",
   "metadata": {},
   "source": [
    "🎬ValueError: row/column index exceeds matrix dimensions <br>\n",
    "만약, 이러한 이해가 없이, 그대로 nunique 개수를 shape으로 넣어주지 않으면 다음과 같은 이유때문에 csr_matrix를 했을때 exceed error가 뜹니다. \n",
    "* 내가 좋아하는 영화 리스트에 대한 추가 결과를 반영해주지않고 행과 열값이 될 user_id와 movie_id 값이 순차적이지 않아 더 큰 행렬 크기가 있기 때문에 발생한 에러입니다. \n",
    "* 원소값이 곧 행/열 위치를 의미하는 index인데 단순히 고유값 개수로 shape을 지정했을때 발생하는 오류입니다. \n",
    "\n",
    "🎬Solution: indexing을 해줍니다. 그리고, max로 shape을 지정해줍니다. "
   ]
  },
  {
   "cell_type": "markdown",
   "id": "pursuant-defensive",
   "metadata": {},
   "source": [
    "🎬indexing의 필요성을 확인하기 위해서 간단한 matrix로 행이나 열 위치 배열에 빠진 index가 있을시에 csr_matrix가 더 크게 형성되는지 확인해봤습니다. row 중에 빠진 index가 있는 경우는 행렬 크기에 차이가 있는 것으로 볼때 빠진 인덱스가 있더라도 csr_matrix에서는 해당사항까지 고려되어 압축되는 것을 확인할 수 있었습니다. <br>"
   ]
  },
  {
   "cell_type": "code",
   "execution_count": 35,
   "id": "centered-invitation",
   "metadata": {},
   "outputs": [
    {
     "name": "stdout",
     "output_type": "stream",
     "text": [
      "  (0, 2)\t1\n",
      "  (0, 5)\t5\n",
      "  (1, 0)\t1\n",
      "  (1, 1)\t4\n",
      "  (1, 3)\t3\n",
      "  (1, 4)\t2\n",
      "  (1, 5)\t5\n",
      "  (2, 1)\t6\n",
      "  (2, 3)\t3\n",
      "  (3, 0)\t2\n",
      "  (4, 3)\t7\n",
      "  (4, 5)\t8\n",
      "  (5, 0)\t1\n",
      "(6, 6)\n",
      "(6, 6)\n"
     ]
    }
   ],
   "source": [
    "# row, col 둘 다 빠진 index가 없는 경우 \n",
    "test_arr = np.array([[0,0,1,0,0,5],\n",
    "                     [1,4,0,3,2,5],\n",
    "                     [0,6,0,3,0,0],\n",
    "                     [2,0,0,0,0,0],\n",
    "                     [0,0,0,7,0,8],\n",
    "                     [1,0,0,0,0,0]])\n",
    "\n",
    "data = np.array([1, 5, 1, 4, 3, 2, 5, 6, 3, 2, 7, 8, 1])\n",
    "row = np.array([0, 0, 1, 1, 1, 1, 1, 2, 2, 3, 4, 4, 5])\n",
    "col = np.array([2, 5, 0, 1, 3, 4, 5, 1, 3, 0, 3, 5, 0])\n",
    "\n",
    "test_csr = csr_matrix((data, (row, col)))\n",
    "\n",
    "print(test_csr)\n",
    "print(test_arr.shape)\n",
    "print(test_csr.shape)"
   ]
  },
  {
   "cell_type": "code",
   "execution_count": 36,
   "id": "preceding-funeral",
   "metadata": {},
   "outputs": [
    {
     "name": "stdout",
     "output_type": "stream",
     "text": [
      "  (0, 2)\t1\n",
      "  (0, 5)\t5\n",
      "  (1, 0)\t1\n",
      "  (1, 1)\t4\n",
      "  (1, 3)\t3\n",
      "  (1, 4)\t2\n",
      "  (1, 5)\t5\n",
      "  (2, 0)\t2\n",
      "  (2, 1)\t6\n",
      "  (2, 3)\t3\n",
      "  (4, 0)\t1\n",
      "  (4, 3)\t7\n",
      "  (4, 5)\t8\n",
      "(6, 6)\n",
      "(5, 6)\n"
     ]
    }
   ],
   "source": [
    "# row가 빠진 index가 있는 경우 \n",
    "test_arr = np.array([[0,0,1,0,0,5],\n",
    "                     [1,4,0,3,2,5],\n",
    "                     [2,6,0,3,0,0],\n",
    "                     [0,0,0,0,0,0], # 2를 index 2에 해당하게 이동 \n",
    "                     [1,0,0,7,0,8],\n",
    "                     [0,0,0,0,0,0]]) # 1을 index 4에 해당하게 이동 \n",
    "\n",
    "data = np.array([1, 5, 1, 4, 3, 2, 5, 2, 6, 3, 1, 7, 8])\n",
    "row = np.array([0, 0, 1, 1, 1, 1, 1, 2, 2, 2, 4, 4, 4]) # index 3, 5가 0 아닌 데이터가 없는 경우\n",
    "col = np.array([2, 5, 0, 1, 3, 4, 5, 0, 1, 3, 0, 3, 5])\n",
    "\n",
    "test_csr = csr_matrix((data, (row, col)))\n",
    "\n",
    "print(test_csr)\n",
    "print(test_arr.shape)\n",
    "print(test_csr.shape)"
   ]
  },
  {
   "cell_type": "markdown",
   "id": "military-reverse",
   "metadata": {},
   "source": [
    "🎬그러나, col을 위처럼 2개의 index를 빼줬음에도 행렬 크기가 그대로였습니다. 실험을 통해 col은 되도록이면 연속된 값의 index를 가지도록 하는 것이 좋다는 점을 알 수 있었습니다. Compressed Sparse Row, csr_matrix의 이름에서 알 수 있듯이 sparse한 row를 압축해주는 방법이다보니 열은 그대로 인거죠.. 실험해볼 필요가 없긴 했네요.ㅎㅎ... :) <br>\n",
    "🎬col에 해당하는 movie를 어떻게 수정해주는게 좋을지 고민했습니다. 기존 movie_id를 indexing해줌으로써 movie_idx라는 새로운 변수를 만들어 열 위치 배열을 movie_idx로 지정해주겠습니다.  "
   ]
  },
  {
   "cell_type": "code",
   "execution_count": 37,
   "id": "armed-glossary",
   "metadata": {},
   "outputs": [
    {
     "name": "stdout",
     "output_type": "stream",
     "text": [
      "  (0, 1)\t1\n",
      "  (0, 3)\t2\n",
      "  (0, 5)\t5\n",
      "  (1, 0)\t1\n",
      "  (1, 1)\t4\n",
      "  (1, 3)\t3\n",
      "  (1, 5)\t5\n",
      "  (2, 1)\t6\n",
      "  (2, 3)\t3\n",
      "  (3, 0)\t2\n",
      "  (4, 3)\t7\n",
      "  (4, 5)\t8\n",
      "  (5, 0)\t1\n",
      "(6, 6)\n",
      "(6, 6)\n"
     ]
    }
   ],
   "source": [
    "# col이 빠진 index가 있는 경우 \n",
    "test_arr = np.array([[0,1,0,2,0,5],\n",
    "                     [1,4,0,3,0,5], # 2를 index (0, 3)으로 이동 \n",
    "                     [0,6,0,3,0,0],\n",
    "                     [2,0,0,0,0,0],\n",
    "                     [0,0,0,7,0,8],\n",
    "                     [1,0,0,0,0,0]])\n",
    "\n",
    "data = np.array([1, 2, 5, 1, 4, 3, 5, 6, 3, 2, 7, 8, 1])\n",
    "row = np.array([0, 0, 0, 1, 1, 1, 1, 2, 2, 3, 4, 4, 5])\n",
    "col = np.array([1, 3, 5, 0, 1, 3, 5, 1, 3, 0, 3, 5, 0]) # index 2, 4가 빠진 경우 \n",
    "\n",
    "test_csr = csr_matrix((data, (row, col)))\n",
    "\n",
    "print(test_csr)\n",
    "print(test_arr.shape)\n",
    "print(test_csr.shape)"
   ]
  },
  {
   "cell_type": "markdown",
   "id": "double-dining",
   "metadata": {},
   "source": [
    "🎬movie_idx라는 새로운 컬럼을 만들어줍니다. "
   ]
  },
  {
   "cell_type": "code",
   "execution_count": 38,
   "id": "loving-concert",
   "metadata": {},
   "outputs": [
    {
     "data": {
      "text/html": [
       "<div>\n",
       "<style scoped>\n",
       "    .dataframe tbody tr th:only-of-type {\n",
       "        vertical-align: middle;\n",
       "    }\n",
       "\n",
       "    .dataframe tbody tr th {\n",
       "        vertical-align: top;\n",
       "    }\n",
       "\n",
       "    .dataframe thead th {\n",
       "        text-align: right;\n",
       "    }\n",
       "</style>\n",
       "<table border=\"1\" class=\"dataframe\">\n",
       "  <thead>\n",
       "    <tr style=\"text-align: right;\">\n",
       "      <th></th>\n",
       "      <th>user_id</th>\n",
       "      <th>movie_id</th>\n",
       "      <th>view_cnt</th>\n",
       "    </tr>\n",
       "  </thead>\n",
       "  <tbody>\n",
       "    <tr>\n",
       "      <th>0</th>\n",
       "      <td>1</td>\n",
       "      <td>1193</td>\n",
       "      <td>5</td>\n",
       "    </tr>\n",
       "    <tr>\n",
       "      <th>1</th>\n",
       "      <td>1</td>\n",
       "      <td>661</td>\n",
       "      <td>3</td>\n",
       "    </tr>\n",
       "    <tr>\n",
       "      <th>2</th>\n",
       "      <td>1</td>\n",
       "      <td>914</td>\n",
       "      <td>3</td>\n",
       "    </tr>\n",
       "    <tr>\n",
       "      <th>3</th>\n",
       "      <td>1</td>\n",
       "      <td>3408</td>\n",
       "      <td>4</td>\n",
       "    </tr>\n",
       "    <tr>\n",
       "      <th>4</th>\n",
       "      <td>1</td>\n",
       "      <td>2355</td>\n",
       "      <td>5</td>\n",
       "    </tr>\n",
       "  </tbody>\n",
       "</table>\n",
       "</div>"
      ],
      "text/plain": [
       "   user_id  movie_id  view_cnt\n",
       "0        1      1193         5\n",
       "1        1       661         3\n",
       "2        1       914         3\n",
       "3        1      3408         4\n",
       "4        1      2355         5"
      ]
     },
     "execution_count": 38,
     "metadata": {},
     "output_type": "execute_result"
    }
   ],
   "source": [
    "ratings.head()"
   ]
  },
  {
   "cell_type": "code",
   "execution_count": 39,
   "id": "homeless-label",
   "metadata": {},
   "outputs": [
    {
     "name": "stdout",
     "output_type": "stream",
     "text": [
      "3\n",
      "3408\n"
     ]
    }
   ],
   "source": [
    "# unique함수를 활용해 key, value 값을 바꿔줌으로써 indexing\n",
    "movie_to_idx = {v:k for k,v in enumerate(movie_unique)}\n",
    "print(movie_to_idx[3408])\n",
    "\n",
    "np.where(movie_unique == 3408)\n",
    "print(movie_unique[3])"
   ]
  },
  {
   "cell_type": "code",
   "execution_count": 40,
   "id": "conventional-rhythm",
   "metadata": {},
   "outputs": [
    {
     "name": "stdout",
     "output_type": "stream",
     "text": [
      "column indexing OK!!\n"
     ]
    }
   ],
   "source": [
    "# movie_to_idx 통해 movie_id 컬럼도 동일한 방식으로 인덱싱해 줍니다. \n",
    "temp_data = ratings['movie_id'].map(movie_to_idx.get).dropna()\n",
    "if len(temp_data) == len(ratings):\n",
    "    print('column indexing OK!!')\n",
    "    ratings['movie_idx'] = temp_data\n",
    "else:\n",
    "    print('column indexing Fail!!')"
   ]
  },
  {
   "cell_type": "code",
   "execution_count": 41,
   "id": "polish-elephant",
   "metadata": {},
   "outputs": [
    {
     "data": {
      "text/html": [
       "<div>\n",
       "<style scoped>\n",
       "    .dataframe tbody tr th:only-of-type {\n",
       "        vertical-align: middle;\n",
       "    }\n",
       "\n",
       "    .dataframe tbody tr th {\n",
       "        vertical-align: top;\n",
       "    }\n",
       "\n",
       "    .dataframe thead th {\n",
       "        text-align: right;\n",
       "    }\n",
       "</style>\n",
       "<table border=\"1\" class=\"dataframe\">\n",
       "  <thead>\n",
       "    <tr style=\"text-align: right;\">\n",
       "      <th></th>\n",
       "      <th>user_id</th>\n",
       "      <th>movie_id</th>\n",
       "      <th>view_cnt</th>\n",
       "      <th>movie_idx</th>\n",
       "    </tr>\n",
       "  </thead>\n",
       "  <tbody>\n",
       "    <tr>\n",
       "      <th>3</th>\n",
       "      <td>1</td>\n",
       "      <td>3408</td>\n",
       "      <td>4</td>\n",
       "      <td>3</td>\n",
       "    </tr>\n",
       "    <tr>\n",
       "      <th>339</th>\n",
       "      <td>5</td>\n",
       "      <td>3408</td>\n",
       "      <td>3</td>\n",
       "      <td>3</td>\n",
       "    </tr>\n",
       "    <tr>\n",
       "      <th>431</th>\n",
       "      <td>6</td>\n",
       "      <td>3408</td>\n",
       "      <td>5</td>\n",
       "      <td>3</td>\n",
       "    </tr>\n",
       "    <tr>\n",
       "      <th>688</th>\n",
       "      <td>9</td>\n",
       "      <td>3408</td>\n",
       "      <td>4</td>\n",
       "      <td>3</td>\n",
       "    </tr>\n",
       "    <tr>\n",
       "      <th>1056</th>\n",
       "      <td>10</td>\n",
       "      <td>3408</td>\n",
       "      <td>4</td>\n",
       "      <td>3</td>\n",
       "    </tr>\n",
       "    <tr>\n",
       "      <th>...</th>\n",
       "      <td>...</td>\n",
       "      <td>...</td>\n",
       "      <td>...</td>\n",
       "      <td>...</td>\n",
       "    </tr>\n",
       "    <tr>\n",
       "      <th>832706</th>\n",
       "      <td>6013</td>\n",
       "      <td>3408</td>\n",
       "      <td>5</td>\n",
       "      <td>3</td>\n",
       "    </tr>\n",
       "    <tr>\n",
       "      <th>833674</th>\n",
       "      <td>6017</td>\n",
       "      <td>3408</td>\n",
       "      <td>5</td>\n",
       "      <td>3</td>\n",
       "    </tr>\n",
       "    <tr>\n",
       "      <th>834243</th>\n",
       "      <td>6024</td>\n",
       "      <td>3408</td>\n",
       "      <td>5</td>\n",
       "      <td>3</td>\n",
       "    </tr>\n",
       "    <tr>\n",
       "      <th>834356</th>\n",
       "      <td>6025</td>\n",
       "      <td>3408</td>\n",
       "      <td>4</td>\n",
       "      <td>3</td>\n",
       "    </tr>\n",
       "    <tr>\n",
       "      <th>835273</th>\n",
       "      <td>6036</td>\n",
       "      <td>3408</td>\n",
       "      <td>4</td>\n",
       "      <td>3</td>\n",
       "    </tr>\n",
       "  </tbody>\n",
       "</table>\n",
       "<p>1223 rows × 4 columns</p>\n",
       "</div>"
      ],
      "text/plain": [
       "        user_id  movie_id  view_cnt  movie_idx\n",
       "3             1      3408         4          3\n",
       "339           5      3408         3          3\n",
       "431           6      3408         5          3\n",
       "688           9      3408         4          3\n",
       "1056         10      3408         4          3\n",
       "...         ...       ...       ...        ...\n",
       "832706     6013      3408         5          3\n",
       "833674     6017      3408         5          3\n",
       "834243     6024      3408         5          3\n",
       "834356     6025      3408         4          3\n",
       "835273     6036      3408         4          3\n",
       "\n",
       "[1223 rows x 4 columns]"
      ]
     },
     "execution_count": 41,
     "metadata": {},
     "output_type": "execute_result"
    }
   ],
   "source": [
    "ratings[ratings['movie_id'] == 3408]"
   ]
  },
  {
   "cell_type": "markdown",
   "id": "cutting-mongolia",
   "metadata": {},
   "source": [
    "🎬위에서 indexing을 통해 movie_id를 indexing해줬습니다. 이제 아까와는 다른게 csr_matrix shape에 들어갈 값이 3952 정도 되고 불필요한 col이 300여개 정도 있었지만, 이제는 개수와 최대값이 동일함을 알 수 있습니다.<br>\n",
    "그리고 indexing을 해주면서 0이 추가되어 col의 index가 csr_matrix를 거칠 준비가 완료되었습니다. "
   ]
  },
  {
   "cell_type": "code",
   "execution_count": 42,
   "id": "distributed-score",
   "metadata": {},
   "outputs": [
    {
     "name": "stdout",
     "output_type": "stream",
     "text": [
      "3628  -> movie idx 고유 개수는 3628\n",
      "3952  -> movie idx 고유값 행렬의 최대값은 3627\n",
      "1  -> movie idx 고유값 행렬의 최소값은 0\n"
     ]
    }
   ],
   "source": [
    "movie_idx_nunique = ratings['movie_idx'].nunique()\n",
    "movie_idx_unique = ratings['movie_idx'].unique()\n",
    "\n",
    "print(movie_nunique, ' -> movie idx 고유 개수는', movie_idx_nunique)\n",
    "print(max(movie_unique),' -> movie idx 고유값 행렬의 최대값은', max(movie_idx_unique)) \n",
    "print(min(movie_unique),' -> movie idx 고유값 행렬의 최소값은', min(movie_idx_unique)) # index 0 포함됨"
   ]
  },
  {
   "attachments": {
    "c050d703-718a-4d41-881a-9cb88ac460f6.png": {
     "image/png": "[encoded data removed]"
    }
   },
   "cell_type": "markdown",
   "id": "adapted-finland",
   "metadata": {},
   "source": [
    "🎬최대값이 데이터 개수보다 큰 row 역할을 수행할 user_id 어떻게 처리해줘야하나? <br>\n",
    "row인 user_id도 user_idx로 해주거나, 비어있는 index가 1개이니, 새로 추가한 나 자신에 해당하는 id를 6041에서 비어있는 index로 할당해주는 편이 좋을까요..? <br>\n",
    "matrix factorization으로 user와 movie를 바탕으로 index가 구성된 행렬을 분해하기 전에  각 행과 열은 사용자와 영화에 대한 특성 벡터인데 취급되지 않는 index가 있다는 것은 투명인간인 거.. 아닌가 하는 생각이 들었지만.. 흠.. 상관이 없을거 같습니다! <br>\n",
    "![image.png](attachment:c050d703-718a-4d41-881a-9cb88ac460f6.png)"
   ]
  },
  {
   "cell_type": "code",
   "execution_count": 43,
   "id": "prescribed-distribution",
   "metadata": {},
   "outputs": [
    {
     "data": {
      "text/plain": [
       "(6040, 6041)"
      ]
     },
     "execution_count": 43,
     "metadata": {},
     "output_type": "execute_result"
    }
   ],
   "source": [
    "user_nunique, max(user_unique)"
   ]
  },
  {
   "cell_type": "code",
   "execution_count": 44,
   "id": "conventional-farming",
   "metadata": {},
   "outputs": [
    {
     "name": "stdout",
     "output_type": "stream",
     "text": [
      "취급되지 않은 user id는 3599\n"
     ]
    }
   ],
   "source": [
    "# 없는 index 1개를 for문 활용해 찾습니다. \n",
    "\n",
    "for i in range(user_nunique): \n",
    "    if not np.sort(user_unique)[i] == i+1: # 0은 없음을 확인했기 때문에 pass \n",
    "        break\n",
    "        \n",
    "print('취급되지 않은 user id는', np.sort(user_unique)[i])"
   ]
  },
  {
   "cell_type": "markdown",
   "id": "controversial-skirt",
   "metadata": {},
   "source": [
    "🎬3599로 교환해준 후, row index 0에 대한 케이스도 추가해줘야하나 했는데, row는 compressed가 csr_matrix에서 이뤄지므로 matrix factorization을 거치면 알아서 취급되지 않은 행은 압축되니까 pass해도 되긴 합니다. 하지만 0부터 시작하지 않게 되면 뒤에 MF에서 인덱스가 헷갈리기 때문에 row도 indexing을 해줍니다. "
   ]
  },
  {
   "cell_type": "code",
   "execution_count": 45,
   "id": "included-collection",
   "metadata": {
    "scrolled": true
   },
   "outputs": [
    {
     "data": {
      "text/html": [
       "<div>\n",
       "<style scoped>\n",
       "    .dataframe tbody tr th:only-of-type {\n",
       "        vertical-align: middle;\n",
       "    }\n",
       "\n",
       "    .dataframe tbody tr th {\n",
       "        vertical-align: top;\n",
       "    }\n",
       "\n",
       "    .dataframe thead th {\n",
       "        text-align: right;\n",
       "    }\n",
       "</style>\n",
       "<table border=\"1\" class=\"dataframe\">\n",
       "  <thead>\n",
       "    <tr style=\"text-align: right;\">\n",
       "      <th></th>\n",
       "      <th>user_id</th>\n",
       "      <th>movie_id</th>\n",
       "      <th>view_cnt</th>\n",
       "      <th>movie_idx</th>\n",
       "    </tr>\n",
       "  </thead>\n",
       "  <tbody>\n",
       "    <tr>\n",
       "      <th>0</th>\n",
       "      <td>1</td>\n",
       "      <td>1193</td>\n",
       "      <td>5</td>\n",
       "      <td>0</td>\n",
       "    </tr>\n",
       "    <tr>\n",
       "      <th>29</th>\n",
       "      <td>1</td>\n",
       "      <td>745</td>\n",
       "      <td>3</td>\n",
       "      <td>29</td>\n",
       "    </tr>\n",
       "    <tr>\n",
       "      <th>30</th>\n",
       "      <td>1</td>\n",
       "      <td>2294</td>\n",
       "      <td>4</td>\n",
       "      <td>30</td>\n",
       "    </tr>\n",
       "    <tr>\n",
       "      <th>31</th>\n",
       "      <td>1</td>\n",
       "      <td>3186</td>\n",
       "      <td>4</td>\n",
       "      <td>31</td>\n",
       "    </tr>\n",
       "    <tr>\n",
       "      <th>32</th>\n",
       "      <td>1</td>\n",
       "      <td>1566</td>\n",
       "      <td>4</td>\n",
       "      <td>32</td>\n",
       "    </tr>\n",
       "  </tbody>\n",
       "</table>\n",
       "</div>"
      ],
      "text/plain": [
       "    user_id  movie_id  view_cnt  movie_idx\n",
       "0         1      1193         5          0\n",
       "29        1       745         3         29\n",
       "30        1      2294         4         30\n",
       "31        1      3186         4         31\n",
       "32        1      1566         4         32"
      ]
     },
     "execution_count": 45,
     "metadata": {},
     "output_type": "execute_result"
    }
   ],
   "source": [
    "# 나 자신의 user_id를 비어있는 6041 대신 3599에 할당 => pass\n",
    "ratings = ratings.replace({'user_id': 6041}, {'user_id':3599})\n",
    "ratings = ratings.sort_values(['user_id'])\n",
    "\n",
    "ratings.head()"
   ]
  },
  {
   "cell_type": "code",
   "execution_count": 46,
   "id": "coordinate-antibody",
   "metadata": {},
   "outputs": [
    {
     "name": "stdout",
     "output_type": "stream",
     "text": [
      "3597\n",
      "(array([3597]),)\n",
      "3599\n"
     ]
    }
   ],
   "source": [
    "# unique함수를 활용해 key, value 값을 바꿔줌으로써 indexing\n",
    "user_to_idx = {v:k for k,v in enumerate(user_unique)}\n",
    "\n",
    "print(user_to_idx[3599])\n",
    "print(np.where(user_unique == 3599))\n",
    "print(user_unique[3597])"
   ]
  },
  {
   "cell_type": "code",
   "execution_count": 97,
   "id": "sharp-midwest",
   "metadata": {},
   "outputs": [
    {
     "name": "stdout",
     "output_type": "stream",
     "text": [
      "row indexing OK!!\n"
     ]
    },
    {
     "data": {
      "text/html": [
       "<div>\n",
       "<style scoped>\n",
       "    .dataframe tbody tr th:only-of-type {\n",
       "        vertical-align: middle;\n",
       "    }\n",
       "\n",
       "    .dataframe tbody tr th {\n",
       "        vertical-align: top;\n",
       "    }\n",
       "\n",
       "    .dataframe thead th {\n",
       "        text-align: right;\n",
       "    }\n",
       "</style>\n",
       "<table border=\"1\" class=\"dataframe\">\n",
       "  <thead>\n",
       "    <tr style=\"text-align: right;\">\n",
       "      <th></th>\n",
       "      <th>user_id</th>\n",
       "      <th>movie_id</th>\n",
       "      <th>view_cnt</th>\n",
       "      <th>movie_idx</th>\n",
       "      <th>user_idx</th>\n",
       "      <th>title</th>\n",
       "      <th>genre</th>\n",
       "    </tr>\n",
       "  </thead>\n",
       "  <tbody>\n",
       "    <tr>\n",
       "      <th>492083</th>\n",
       "      <td>3599</td>\n",
       "      <td>2427</td>\n",
       "      <td>3</td>\n",
       "      <td>238</td>\n",
       "      <td>3597</td>\n",
       "      <td>thin red line, the</td>\n",
       "      <td>Action|Drama|War</td>\n",
       "    </tr>\n",
       "    <tr>\n",
       "      <th>492084</th>\n",
       "      <td>3599</td>\n",
       "      <td>3107</td>\n",
       "      <td>4</td>\n",
       "      <td>376</td>\n",
       "      <td>3597</td>\n",
       "      <td>backdraft</td>\n",
       "      <td>Action|Drama</td>\n",
       "    </tr>\n",
       "    <tr>\n",
       "      <th>492085</th>\n",
       "      <td>3599</td>\n",
       "      <td>648</td>\n",
       "      <td>4</td>\n",
       "      <td>58</td>\n",
       "      <td>3597</td>\n",
       "      <td>mission: impossible</td>\n",
       "      <td>Action|Adventure|Mystery</td>\n",
       "    </tr>\n",
       "    <tr>\n",
       "      <th>492086</th>\n",
       "      <td>3599</td>\n",
       "      <td>368</td>\n",
       "      <td>4</td>\n",
       "      <td>79</td>\n",
       "      <td>3597</td>\n",
       "      <td>maverick</td>\n",
       "      <td>Action|Comedy|Western</td>\n",
       "    </tr>\n",
       "    <tr>\n",
       "      <th>492087</th>\n",
       "      <td>3599</td>\n",
       "      <td>1912</td>\n",
       "      <td>3</td>\n",
       "      <td>242</td>\n",
       "      <td>3597</td>\n",
       "      <td>out of sight</td>\n",
       "      <td>Action|Crime|Romance</td>\n",
       "    </tr>\n",
       "    <tr>\n",
       "      <th>...</th>\n",
       "      <td>...</td>\n",
       "      <td>...</td>\n",
       "      <td>...</td>\n",
       "      <td>...</td>\n",
       "      <td>...</td>\n",
       "      <td>...</td>\n",
       "      <td>...</td>\n",
       "    </tr>\n",
       "    <tr>\n",
       "      <th>836478</th>\n",
       "      <td>6040</td>\n",
       "      <td>1278</td>\n",
       "      <td>4</td>\n",
       "      <td>540</td>\n",
       "      <td>6038</td>\n",
       "      <td>young frankenstein</td>\n",
       "      <td>Comedy|Horror</td>\n",
       "    </tr>\n",
       "    <tr>\n",
       "      <th>836479</th>\n",
       "      <td>6040</td>\n",
       "      <td>2858</td>\n",
       "      <td>4</td>\n",
       "      <td>99</td>\n",
       "      <td>6038</td>\n",
       "      <td>american beauty</td>\n",
       "      <td>Comedy|Drama</td>\n",
       "    </tr>\n",
       "    <tr>\n",
       "      <th>836480</th>\n",
       "      <td>6040</td>\n",
       "      <td>58</td>\n",
       "      <td>5</td>\n",
       "      <td>400</td>\n",
       "      <td>6038</td>\n",
       "      <td>postino, il</td>\n",
       "      <td>Drama|Romance</td>\n",
       "    </tr>\n",
       "    <tr>\n",
       "      <th>836481</th>\n",
       "      <td>6040</td>\n",
       "      <td>1947</td>\n",
       "      <td>4</td>\n",
       "      <td>354</td>\n",
       "      <td>6038</td>\n",
       "      <td>west side story</td>\n",
       "      <td>Musical|Romance</td>\n",
       "    </tr>\n",
       "    <tr>\n",
       "      <th>836482</th>\n",
       "      <td>6040</td>\n",
       "      <td>573</td>\n",
       "      <td>4</td>\n",
       "      <td>2560</td>\n",
       "      <td>6038</td>\n",
       "      <td>ciao, professore!</td>\n",
       "      <td>Drama</td>\n",
       "    </tr>\n",
       "  </tbody>\n",
       "</table>\n",
       "<p>344400 rows × 7 columns</p>\n",
       "</div>"
      ],
      "text/plain": [
       "        user_id  movie_id  view_cnt  movie_idx  user_idx                title  \\\n",
       "492083     3599      2427         3        238      3597   thin red line, the   \n",
       "492084     3599      3107         4        376      3597            backdraft   \n",
       "492085     3599       648         4         58      3597  mission: impossible   \n",
       "492086     3599       368         4         79      3597             maverick   \n",
       "492087     3599      1912         3        242      3597         out of sight   \n",
       "...         ...       ...       ...        ...       ...                  ...   \n",
       "836478     6040      1278         4        540      6038   young frankenstein   \n",
       "836479     6040      2858         4         99      6038      american beauty   \n",
       "836480     6040        58         5        400      6038          postino, il   \n",
       "836481     6040      1947         4        354      6038      west side story   \n",
       "836482     6040       573         4       2560      6038    ciao, professore!   \n",
       "\n",
       "                           genre  \n",
       "492083          Action|Drama|War  \n",
       "492084              Action|Drama  \n",
       "492085  Action|Adventure|Mystery  \n",
       "492086     Action|Comedy|Western  \n",
       "492087      Action|Crime|Romance  \n",
       "...                          ...  \n",
       "836478             Comedy|Horror  \n",
       "836479              Comedy|Drama  \n",
       "836480             Drama|Romance  \n",
       "836481           Musical|Romance  \n",
       "836482                     Drama  \n",
       "\n",
       "[344400 rows x 7 columns]"
      ]
     },
     "execution_count": 97,
     "metadata": {},
     "output_type": "execute_result"
    }
   ],
   "source": [
    "# user_to_idx 통해 user_id 컬럼도 동일한 방식으로 인덱싱해 줍니다. \n",
    "temp_data = ratings['user_id'].map(user_to_idx.get).dropna()\n",
    "if len(temp_data) == len(ratings):\n",
    "    print('row indexing OK!!')\n",
    "    ratings['user_idx'] = temp_data\n",
    "else:\n",
    "    print('row indexing Fail!!')\n",
    "    \n",
    "ratings.tail(344400)"
   ]
  },
  {
   "cell_type": "code",
   "execution_count": 48,
   "id": "surprising-short",
   "metadata": {},
   "outputs": [
    {
     "name": "stdout",
     "output_type": "stream",
     "text": [
      "6040  -> user idx 고유 개수는 6039\n",
      "6041  -> user idx 고유값 행렬의 최대값은 6038\n",
      "1  -> user idx 고유값 행렬의 최소값은 0\n"
     ]
    }
   ],
   "source": [
    "# user_idx 기준으로 고유값 다시 계산\n",
    "user_idx_unique = ratings['user_idx'].unique()\n",
    "user_idx_nunique = ratings['user_idx'].nunique()\n",
    "\n",
    "print(user_nunique, ' -> user idx 고유 개수는', user_idx_nunique)\n",
    "print(max(user_unique),' -> user idx 고유값 행렬의 최대값은', max(user_idx_unique)) \n",
    "print(min(user_unique),' -> user idx 고유값 행렬의 최소값은', min(user_idx_unique)) # index 0 포함됨"
   ]
  },
  {
   "cell_type": "code",
   "execution_count": 49,
   "id": "brown-combat",
   "metadata": {
    "scrolled": true
   },
   "outputs": [
    {
     "data": {
      "text/html": [
       "<div>\n",
       "<style scoped>\n",
       "    .dataframe tbody tr th:only-of-type {\n",
       "        vertical-align: middle;\n",
       "    }\n",
       "\n",
       "    .dataframe tbody tr th {\n",
       "        vertical-align: top;\n",
       "    }\n",
       "\n",
       "    .dataframe thead th {\n",
       "        text-align: right;\n",
       "    }\n",
       "</style>\n",
       "<table border=\"1\" class=\"dataframe\">\n",
       "  <thead>\n",
       "    <tr style=\"text-align: right;\">\n",
       "      <th></th>\n",
       "      <th>user_id</th>\n",
       "      <th>movie_id</th>\n",
       "      <th>view_cnt</th>\n",
       "      <th>movie_idx</th>\n",
       "      <th>user_idx</th>\n",
       "      <th>title</th>\n",
       "      <th>genre</th>\n",
       "    </tr>\n",
       "  </thead>\n",
       "  <tbody>\n",
       "    <tr>\n",
       "      <th>0</th>\n",
       "      <td>1</td>\n",
       "      <td>1193</td>\n",
       "      <td>5</td>\n",
       "      <td>0</td>\n",
       "      <td>0</td>\n",
       "      <td>one flew over the cuckoo's nest</td>\n",
       "      <td>Drama</td>\n",
       "    </tr>\n",
       "    <tr>\n",
       "      <th>1</th>\n",
       "      <td>1</td>\n",
       "      <td>2804</td>\n",
       "      <td>5</td>\n",
       "      <td>7</td>\n",
       "      <td>0</td>\n",
       "      <td>christmas story, a</td>\n",
       "      <td>Comedy|Drama</td>\n",
       "    </tr>\n",
       "    <tr>\n",
       "      <th>2</th>\n",
       "      <td>1</td>\n",
       "      <td>1246</td>\n",
       "      <td>4</td>\n",
       "      <td>52</td>\n",
       "      <td>0</td>\n",
       "      <td>dead poets society</td>\n",
       "      <td>Drama</td>\n",
       "    </tr>\n",
       "    <tr>\n",
       "      <th>3</th>\n",
       "      <td>1</td>\n",
       "      <td>2918</td>\n",
       "      <td>4</td>\n",
       "      <td>13</td>\n",
       "      <td>0</td>\n",
       "      <td>ferris bueller's day off</td>\n",
       "      <td>Comedy</td>\n",
       "    </tr>\n",
       "    <tr>\n",
       "      <th>4</th>\n",
       "      <td>1</td>\n",
       "      <td>3186</td>\n",
       "      <td>4</td>\n",
       "      <td>31</td>\n",
       "      <td>0</td>\n",
       "      <td>girl, interrupted</td>\n",
       "      <td>Drama</td>\n",
       "    </tr>\n",
       "  </tbody>\n",
       "</table>\n",
       "</div>"
      ],
      "text/plain": [
       "   user_id  movie_id  view_cnt  movie_idx  user_idx  \\\n",
       "0        1      1193         5          0         0   \n",
       "1        1      2804         5          7         0   \n",
       "2        1      1246         4         52         0   \n",
       "3        1      2918         4         13         0   \n",
       "4        1      3186         4         31         0   \n",
       "\n",
       "                             title         genre  \n",
       "0  one flew over the cuckoo's nest         Drama  \n",
       "1               christmas story, a  Comedy|Drama  \n",
       "2               dead poets society         Drama  \n",
       "3         ferris bueller's day off        Comedy  \n",
       "4                girl, interrupted         Drama  "
      ]
     },
     "execution_count": 49,
     "metadata": {},
     "output_type": "execute_result"
    }
   ],
   "source": [
    "# merge를 통해 ratings를 보고 참고하기 편하게 변경해줍니다. \n",
    "ratings = pd.merge(ratings, movies, on = 'movie_id')\n",
    "ratings = ratings.sort_values(['user_idx'])\n",
    "ratings.reset_index(drop=True, inplace=True) # drop = True을 해줘야 오름차순 정렬이 됩니다. \n",
    "ratings.head()"
   ]
  },
  {
   "cell_type": "markdown",
   "id": "amber-familiar",
   "metadata": {},
   "source": [
    "### CSR Matrix 생성\n",
    "* shape: row는 user_id가 0이 없는 경우니까 shape은 개수 그대로 가면 된다. col도 동일하게 unique한 개수로 가면 된다. <br>\n",
    "만약 위와 같은 indexing을 안해주고 진행한다면 unique 개수가 아니라, max(unique 원소들) + 1을 해준 값을 shape 인자로 넣어야합니다. 안 그럼 exceed error가 발생합니다. "
   ]
  },
  {
   "cell_type": "code",
   "execution_count": 50,
   "id": "focal-winning",
   "metadata": {},
   "outputs": [
    {
     "data": {
      "text/plain": [
       "<6039x3628 sparse matrix of type '<class 'numpy.int64'>'\n",
       "\twith 836481 stored elements in Compressed Sparse Row format>"
      ]
     },
     "execution_count": 50,
     "metadata": {},
     "output_type": "execute_result"
    }
   ],
   "source": [
    "csr_data = csr_matrix((ratings.view_cnt, (ratings.user_idx, ratings.movie_idx)), shape= (user_idx_nunique, movie_idx_nunique))\n",
    "csr_data"
   ]
  },
  {
   "cell_type": "markdown",
   "id": "recorded-mechanism",
   "metadata": {},
   "source": [
    "## als_model = AlternatingLeastSquares 모델 구성 및 훈련"
   ]
  },
  {
   "cell_type": "code",
   "execution_count": 51,
   "id": "conceptual-exclusion",
   "metadata": {},
   "outputs": [],
   "source": [
    "# implicit 라이브러리에서 권장하고 있는 부분입니다. 학습 내용과는 무관합니다.\n",
    "os.environ['OPENBLAS_NUM_THREADS']='1'\n",
    "os.environ['KMP_DUPLICATE_LIB_OK']='True'\n",
    "os.environ['MKL_NUM_THREADS']='1'"
   ]
  },
  {
   "cell_type": "markdown",
   "id": "dependent-indian",
   "metadata": {},
   "source": [
    "🎬ALS class에서 __init__의 파라미터\n",
    "1. factors : 유저와 아이템의 벡터를 몇 차원으로 할 것인지 \n",
    "2. regularization : 과적합을 방지하기 위해 정규화 값을 얼마나 사용할 것인지 \n",
    "3. use_gpu : GPU를 사용할 것인지 \n",
    "4. iterations : epochs와 같은 의미입니다. 데이터를 몇 번 반복해서 학습할 것인지 <br>\n",
    "\n",
    "🎬주의사항! 1, 4번은 늘릴수록 학습이 잘 되지만, 과적합 될 수 있기 때문에 유의해야합니다."
   ]
  },
  {
   "cell_type": "markdown",
   "id": "abroad-translator",
   "metadata": {},
   "source": [
    "🎬Warning: GPU training requires factor size to be a multiple of 32. Increasing factors from 100 to 128. <br>\n",
    "factors 100 -> 128"
   ]
  },
  {
   "cell_type": "code",
   "execution_count": 52,
   "id": "blank-friend",
   "metadata": {},
   "outputs": [],
   "source": [
    "# Implicit AlternatingLeastSquares 모델의 선언\n",
    "als_model = AlternatingLeastSquares(factors=128, regularization=0.01, use_gpu=False, iterations=15, dtype=np.float32) # gpu 있으니까 사용?"
   ]
  },
  {
   "cell_type": "code",
   "execution_count": 53,
   "id": "regional-register",
   "metadata": {},
   "outputs": [
    {
     "data": {
      "text/plain": [
       "<3628x6039 sparse matrix of type '<class 'numpy.int64'>'\n",
       "\twith 836481 stored elements in Compressed Sparse Column format>"
      ]
     },
     "execution_count": 53,
     "metadata": {},
     "output_type": "execute_result"
    }
   ],
   "source": [
    "# als 모델은 input으로 (item X user 꼴의 matrix를 받기 때문에 Transpose해줍니다.)\n",
    "csr_data_transpose = csr_data.T\n",
    "csr_data_transpose"
   ]
  },
  {
   "cell_type": "markdown",
   "id": "employed-zealand",
   "metadata": {},
   "source": [
    "🎬ValueError: No CUDA extension has been built, can't train on GPU. <br>\n",
    "?!.. implicit 패키지는 또 다른가.. 흠.. use_gpu = False로 다시 바꿔줬습니다. <br>\n",
    "🎬ImportError: IProgress not found. Please update jupyter and ipywidgets. See https://ipywidgets.readthedocs.io/en/stable/user_install.html <br>\n",
    "?!.. 해당 url에서 base 환경과 가상환경에 설치하라는 패키지를 각각 설치해줬습니다. <br>\n",
    "```\n",
    "(aiffel) aiffel-dj19@aiffelIddj19:~$ conda install -n base -c conda-forge jupyterlab_widgets\n",
    "(aiffel) aiffel-dj19@aiffelIddj19:~$ conda install -n aiffel ipywidgets \n",
    "```\n",
    "해당 패키지를 설치해줘도 모델 훈련에서  0%|          | 0/15 [00:00<?, ?it/s] 진행도가 0이 되어서 jupyterlab말고 notebook환경에서 재시도했습니다."
   ]
  },
  {
   "cell_type": "code",
   "execution_count": 54,
   "id": "environmental-connection",
   "metadata": {},
   "outputs": [
    {
     "data": {
      "application/vnd.jupyter.widget-view+json": {
       "model_id": "57252a45347d4778a3eb2c5ec77a2df6",
       "version_major": 2,
       "version_minor": 0
      },
      "text/plain": [
       "  0%|          | 0/15 [00:00<?, ?it/s]"
      ]
     },
     "metadata": {},
     "output_type": "display_data"
    }
   ],
   "source": [
    "# 모델 훈련\n",
    "als_model.fit(csr_data_transpose)"
   ]
  },
  {
   "cell_type": "markdown",
   "id": "indoor-soundtrack",
   "metadata": {},
   "source": [
    "## 영화 선호도 예측 및 영화 추천"
   ]
  },
  {
   "cell_type": "code",
   "execution_count": 55,
   "id": "effective-salmon",
   "metadata": {
    "scrolled": true
   },
   "outputs": [
    {
     "data": {
      "text/html": [
       "<div>\n",
       "<style scoped>\n",
       "    .dataframe tbody tr th:only-of-type {\n",
       "        vertical-align: middle;\n",
       "    }\n",
       "\n",
       "    .dataframe tbody tr th {\n",
       "        vertical-align: top;\n",
       "    }\n",
       "\n",
       "    .dataframe thead th {\n",
       "        text-align: right;\n",
       "    }\n",
       "</style>\n",
       "<table border=\"1\" class=\"dataframe\">\n",
       "  <thead>\n",
       "    <tr style=\"text-align: right;\">\n",
       "      <th></th>\n",
       "      <th>user_id</th>\n",
       "      <th>movie_id</th>\n",
       "      <th>view_cnt</th>\n",
       "      <th>movie_idx</th>\n",
       "      <th>user_idx</th>\n",
       "      <th>title</th>\n",
       "      <th>genre</th>\n",
       "    </tr>\n",
       "  </thead>\n",
       "  <tbody>\n",
       "    <tr>\n",
       "      <th>0</th>\n",
       "      <td>1</td>\n",
       "      <td>1193</td>\n",
       "      <td>5</td>\n",
       "      <td>0</td>\n",
       "      <td>0</td>\n",
       "      <td>one flew over the cuckoo's nest</td>\n",
       "      <td>Drama</td>\n",
       "    </tr>\n",
       "    <tr>\n",
       "      <th>1</th>\n",
       "      <td>1</td>\n",
       "      <td>2804</td>\n",
       "      <td>5</td>\n",
       "      <td>7</td>\n",
       "      <td>0</td>\n",
       "      <td>christmas story, a</td>\n",
       "      <td>Comedy|Drama</td>\n",
       "    </tr>\n",
       "    <tr>\n",
       "      <th>2</th>\n",
       "      <td>1</td>\n",
       "      <td>1246</td>\n",
       "      <td>4</td>\n",
       "      <td>52</td>\n",
       "      <td>0</td>\n",
       "      <td>dead poets society</td>\n",
       "      <td>Drama</td>\n",
       "    </tr>\n",
       "    <tr>\n",
       "      <th>3</th>\n",
       "      <td>1</td>\n",
       "      <td>2918</td>\n",
       "      <td>4</td>\n",
       "      <td>13</td>\n",
       "      <td>0</td>\n",
       "      <td>ferris bueller's day off</td>\n",
       "      <td>Comedy</td>\n",
       "    </tr>\n",
       "    <tr>\n",
       "      <th>4</th>\n",
       "      <td>1</td>\n",
       "      <td>3186</td>\n",
       "      <td>4</td>\n",
       "      <td>31</td>\n",
       "      <td>0</td>\n",
       "      <td>girl, interrupted</td>\n",
       "      <td>Drama</td>\n",
       "    </tr>\n",
       "  </tbody>\n",
       "</table>\n",
       "</div>"
      ],
      "text/plain": [
       "   user_id  movie_id  view_cnt  movie_idx  user_idx  \\\n",
       "0        1      1193         5          0         0   \n",
       "1        1      2804         5          7         0   \n",
       "2        1      1246         4         52         0   \n",
       "3        1      2918         4         13         0   \n",
       "4        1      3186         4         31         0   \n",
       "\n",
       "                             title         genre  \n",
       "0  one flew over the cuckoo's nest         Drama  \n",
       "1               christmas story, a  Comedy|Drama  \n",
       "2               dead poets society         Drama  \n",
       "3         ferris bueller's day off        Comedy  \n",
       "4                girl, interrupted         Drama  "
      ]
     },
     "execution_count": 55,
     "metadata": {},
     "output_type": "execute_result"
    }
   ],
   "source": [
    "ratings.head()"
   ]
  },
  {
   "cell_type": "code",
   "execution_count": 56,
   "id": "allied-violation",
   "metadata": {},
   "outputs": [
    {
     "data": {
      "text/plain": [
       "numpy.int64"
      ]
     },
     "execution_count": 56,
     "metadata": {},
     "output_type": "execute_result"
    }
   ],
   "source": [
    "type(ratings[ratings['title'] == 'girl, interrupted']['movie_idx'].values[0])"
   ]
  },
  {
   "cell_type": "code",
   "execution_count": 57,
   "id": "later-hollywood",
   "metadata": {},
   "outputs": [
    {
     "data": {
      "text/plain": [
       "'erin brockovich'"
      ]
     },
     "execution_count": 57,
     "metadata": {},
     "output_type": "execute_result"
    }
   ],
   "source": [
    "ratings[ratings['movie_idx'] == 3]['title'].values[0]"
   ]
  },
  {
   "cell_type": "code",
   "execution_count": 58,
   "id": "alternate-techno",
   "metadata": {},
   "outputs": [
    {
     "name": "stdout",
     "output_type": "stream",
     "text": [
      "40\n",
      "one flew over the cuckoo's nest\n"
     ]
    }
   ],
   "source": [
    "def movie_name_to_idx(name : str):\n",
    "    name_to_idx = ratings[ratings['title'] == name]['movie_idx'].values[0] # id 값만 추출해서 idx\n",
    "    return name_to_idx\n",
    "\n",
    "def movie_idx_to_name(movie_id : int):\n",
    "    idx_to_name = ratings[ratings['movie_idx'] == movie_id]['title'].values[0] # id 값만 추출해서 idx\n",
    "    return idx_to_name\n",
    "\n",
    "print(movie_name_to_idx('toy story'))\n",
    "print(movie_idx_to_name(0))"
   ]
  },
  {
   "cell_type": "markdown",
   "id": "completed-madonna",
   "metadata": {},
   "source": [
    "### 5가지 영화 중 하나와 그 외의 영화 선호도 예측"
   ]
  },
  {
   "cell_type": "code",
   "execution_count": 59,
   "id": "knowing-jesus",
   "metadata": {},
   "outputs": [
    {
     "data": {
      "text/html": [
       "<div>\n",
       "<style scoped>\n",
       "    .dataframe tbody tr th:only-of-type {\n",
       "        vertical-align: middle;\n",
       "    }\n",
       "\n",
       "    .dataframe tbody tr th {\n",
       "        vertical-align: top;\n",
       "    }\n",
       "\n",
       "    .dataframe thead th {\n",
       "        text-align: right;\n",
       "    }\n",
       "</style>\n",
       "<table border=\"1\" class=\"dataframe\">\n",
       "  <thead>\n",
       "    <tr style=\"text-align: right;\">\n",
       "      <th></th>\n",
       "      <th>movie_id</th>\n",
       "      <th>title</th>\n",
       "      <th>genre</th>\n",
       "    </tr>\n",
       "  </thead>\n",
       "  <tbody>\n",
       "    <tr>\n",
       "      <th>257</th>\n",
       "      <td>260</td>\n",
       "      <td>star wars: episode iv - a new hope</td>\n",
       "      <td>Action|Adventure|Fantasy|Sci-Fi</td>\n",
       "    </tr>\n",
       "    <tr>\n",
       "      <th>1178</th>\n",
       "      <td>1196</td>\n",
       "      <td>star wars: episode v - the empire strikes back</td>\n",
       "      <td>Action|Adventure|Drama|Sci-Fi|War</td>\n",
       "    </tr>\n",
       "    <tr>\n",
       "      <th>1192</th>\n",
       "      <td>1210</td>\n",
       "      <td>star wars: episode vi - return of the jedi</td>\n",
       "      <td>Action|Adventure|Romance|Sci-Fi|War</td>\n",
       "    </tr>\n",
       "    <tr>\n",
       "      <th>1959</th>\n",
       "      <td>2028</td>\n",
       "      <td>saving private ryan</td>\n",
       "      <td>Action|Drama|War</td>\n",
       "    </tr>\n",
       "    <tr>\n",
       "      <th>2789</th>\n",
       "      <td>2858</td>\n",
       "      <td>american beauty</td>\n",
       "      <td>Comedy|Drama</td>\n",
       "    </tr>\n",
       "  </tbody>\n",
       "</table>\n",
       "</div>"
      ],
      "text/plain": [
       "      movie_id                                           title  \\\n",
       "257        260              star wars: episode iv - a new hope   \n",
       "1178      1196  star wars: episode v - the empire strikes back   \n",
       "1192      1210      star wars: episode vi - return of the jedi   \n",
       "1959      2028                             saving private ryan   \n",
       "2789      2858                                 american beauty   \n",
       "\n",
       "                                    genre  \n",
       "257       Action|Adventure|Fantasy|Sci-Fi  \n",
       "1178    Action|Adventure|Drama|Sci-Fi|War  \n",
       "1192  Action|Adventure|Romance|Sci-Fi|War  \n",
       "1959                     Action|Drama|War  \n",
       "2789                         Comedy|Drama  "
      ]
     },
     "execution_count": 59,
     "metadata": {},
     "output_type": "execute_result"
    }
   ],
   "source": [
    "my_favorite"
   ]
  },
  {
   "cell_type": "code",
   "execution_count": 60,
   "id": "oriental-width",
   "metadata": {},
   "outputs": [
    {
     "data": {
      "text/plain": [
       "44"
      ]
     },
     "execution_count": 60,
     "metadata": {},
     "output_type": "execute_result"
    }
   ],
   "source": [
    "movie_name_to_idx('star wars: episode iv - a new hope')"
   ]
  },
  {
   "cell_type": "code",
   "execution_count": 98,
   "id": "excess-james",
   "metadata": {
    "scrolled": true
   },
   "outputs": [],
   "source": [
    "my_idx, starwars = 3597, movie_to_idx[movie_name_to_idx('star wars: episode iv - a new hope')]\n",
    "my_vector, starwars_vector = als_model.user_factors[my_idx], als_model.item_factors[starwars] # row는 indexing 안해줬으므로 -1"
   ]
  },
  {
   "cell_type": "code",
   "execution_count": 99,
   "id": "associate-finance",
   "metadata": {},
   "outputs": [
    {
     "data": {
      "text/plain": [
       "array([ 0.6965421 ,  1.7584745 , -2.4600263 , -3.21855   , -0.46394333,\n",
       "       -0.18172823,  0.9057445 , -3.2700818 , -0.02594549,  1.0706692 ,\n",
       "       -3.6375546 ,  4.2464476 ,  2.2891824 ,  1.8376935 ,  0.16065769,\n",
       "        1.7879835 , -0.23368217, -0.26918855,  1.2581598 ,  0.80400914,\n",
       "       -1.2500333 , -0.38530296, -3.156122  ,  0.37657252,  0.757703  ,\n",
       "       -1.5769676 ,  1.3153174 , -1.0045791 ,  0.09818766,  0.5383805 ,\n",
       "        1.3518733 , -0.14955115, -1.9306413 ,  2.1107476 , -0.53699434,\n",
       "       -1.0109735 , -4.04071   ,  1.0331134 ,  2.8299525 ,  0.30045053,\n",
       "       -1.5204136 ,  0.03617223,  2.614917  ,  2.6237776 ,  1.9193888 ,\n",
       "        2.3298388 , -0.2590547 ,  2.4403024 ,  0.44551775, -1.6875694 ,\n",
       "       -0.28551716, -0.63234586, -1.2430245 ,  1.4706807 , -1.2544221 ,\n",
       "        1.0219406 ,  0.9963794 , -0.3820687 ,  1.9322022 , -2.9398503 ,\n",
       "       -0.7766651 , -0.57052076,  2.2993522 , -3.0959783 ,  1.0725102 ,\n",
       "        1.5643227 ,  2.295448  , -0.79610467, -0.8899967 ,  0.52657336,\n",
       "        1.5058694 ,  3.7396564 ,  0.5123442 ,  2.802358  ,  1.2494332 ,\n",
       "       -0.80040884,  1.0198016 ,  2.630936  ,  1.4711299 , -2.082597  ,\n",
       "        6.464623  ,  1.5610132 , -1.9536597 , -2.4444644 , -0.42347476,\n",
       "        1.0771669 ,  2.435123  ,  1.146573  , -0.13366976, -0.6160647 ,\n",
       "       -1.5928497 , -1.7909774 , -1.4450167 , -0.7818487 ,  0.40935516,\n",
       "        1.0314592 , -1.1336926 , -1.8420144 , -3.0915635 , -1.1139866 ,\n",
       "       -2.0585654 ,  2.3565717 ,  2.701954  ,  1.0193758 ,  0.4388399 ,\n",
       "       -1.4726623 ,  1.4268063 ,  2.5751822 ,  0.98800075,  1.3809043 ,\n",
       "        0.1756445 ,  0.55368876,  1.1753641 ,  2.7778163 , -1.0383478 ,\n",
       "        1.6585022 ,  3.8571534 ,  3.6631982 , -1.0193841 ,  0.31840765,\n",
       "       -0.17868392,  0.63226604, -0.33522436,  1.3142747 , -4.4079494 ,\n",
       "       -1.346485  , -3.0479982 , -2.5924504 ], dtype=float32)"
      ]
     },
     "execution_count": 99,
     "metadata": {},
     "output_type": "execute_result"
    }
   ],
   "source": [
    "my_vector"
   ]
  },
  {
   "cell_type": "code",
   "execution_count": 100,
   "id": "rental-evening",
   "metadata": {},
   "outputs": [
    {
     "data": {
      "text/plain": [
       "array([-1.74162025e-03,  8.48736241e-03, -1.30302943e-02,  7.43825175e-03,\n",
       "       -7.27458828e-05,  1.55270156e-02,  1.07736541e-02, -1.22660315e-02,\n",
       "        9.94177815e-03,  1.75280496e-02,  8.68471165e-04,  2.39840499e-03,\n",
       "       -1.46859465e-02,  1.50098605e-02,  1.09171784e-02, -4.04178677e-03,\n",
       "       -5.29477233e-03, -5.59441163e-04,  4.42528538e-03,  1.52699715e-02,\n",
       "        5.67859737e-04,  8.31754878e-04,  5.69743011e-03,  1.17674088e-02,\n",
       "        1.01217292e-02, -1.87151285e-03,  1.98289901e-02,  8.40868056e-03,\n",
       "        1.82235595e-02,  8.17484409e-03,  3.53347394e-03,  5.83697762e-03,\n",
       "       -1.32233521e-03, -1.52268365e-03,  4.78920201e-03,  3.54602165e-03,\n",
       "       -3.91678605e-03, -2.00284226e-03, -3.97396646e-03,  1.54903876e-02,\n",
       "        9.82015207e-03,  2.03796756e-02,  5.65366494e-03,  1.23594329e-02,\n",
       "        5.31199155e-03,  1.79313892e-03,  1.08861343e-04,  1.10140229e-02,\n",
       "        1.36678284e-02, -4.31200303e-03,  1.21185929e-02, -4.40912787e-03,\n",
       "       -8.46474152e-03, -4.06522583e-03, -4.24449425e-03, -4.66342783e-03,\n",
       "        9.58409102e-04,  7.08846934e-03,  8.64411332e-03,  4.43081744e-03,\n",
       "       -1.74197387e-02,  4.53062216e-03, -4.64556552e-03,  9.03495308e-03,\n",
       "        1.48469908e-02, -5.40939067e-03, -4.66072327e-03,  4.74454515e-04,\n",
       "       -3.50521914e-05,  8.89221393e-03,  7.15237344e-03,  1.32873550e-03,\n",
       "        9.71053727e-03, -4.80167987e-03,  6.38893060e-03, -7.52357673e-03,\n",
       "        1.19760036e-02,  1.58721246e-02,  1.01559255e-02,  6.93233497e-03,\n",
       "        7.60943163e-03,  1.12823201e-02,  8.58366489e-03,  2.22134622e-04,\n",
       "        1.55752413e-02,  3.09411995e-03,  1.44142704e-02,  8.29824619e-03,\n",
       "        5.61362924e-03,  8.70358490e-04,  1.15564493e-02,  4.31443239e-03,\n",
       "       -6.86490675e-03,  1.85444970e-02, -1.09543651e-03,  1.65253542e-02,\n",
       "        6.47325208e-03, -5.06113400e-04, -5.54605853e-03,  6.92093559e-03,\n",
       "        4.09652293e-03,  1.03887403e-03,  9.39387735e-03, -1.22784649e-03,\n",
       "        1.17382957e-02,  6.82681194e-03,  2.21586763e-03,  1.35508161e-02,\n",
       "       -5.49636828e-03,  3.31155281e-03, -4.94944537e-03,  3.32397339e-03,\n",
       "        3.72405443e-03,  1.35038467e-02,  3.58165242e-03,  6.63384981e-03,\n",
       "        1.45308338e-02,  8.98037665e-03, -7.14447629e-03,  5.11129294e-03,\n",
       "        6.13058545e-03,  3.89928743e-03,  2.30169389e-03,  5.21234190e-03,\n",
       "        7.60494219e-03,  6.28068158e-03, -1.06098140e-02, -4.31384332e-03],\n",
       "      dtype=float32)"
      ]
     },
     "execution_count": 100,
     "metadata": {},
     "output_type": "execute_result"
    }
   ],
   "source": [
    "starwars_vector"
   ]
  },
  {
   "cell_type": "markdown",
   "id": "secure-scene",
   "metadata": {},
   "source": [
    "🎬 내 아이디는 3597이고, 해당하는 사용자 벡터를 구했을때 starwars처럼 내가 선호하는 영화에 포함되는 경우에는 0.55에 가깝게 내적 결과를 보입니다. 이러한 결과를 봤을때 0.5 이상이면 어느 정도 user의 선호도를 맞출 수 있다고 생각해볼 수 있습니다."
   ]
  },
  {
   "cell_type": "code",
   "execution_count": 101,
   "id": "sporting-trout",
   "metadata": {
    "scrolled": false
   },
   "outputs": [
    {
     "data": {
      "text/plain": [
       "0.5552733"
      ]
     },
     "execution_count": 101,
     "metadata": {},
     "output_type": "execute_result"
    }
   ],
   "source": [
    "# 사용자 특성 벡터와 영화 특성 벡터를 내적하는 코드\n",
    "np.dot(my_vector, starwars_vector)"
   ]
  },
  {
   "cell_type": "markdown",
   "id": "selected-appliance",
   "metadata": {},
   "source": [
    "🎬특정 영화를 골라 비교해봅시다. meet the parents라는 영화를 확인해봤습니다. 내 선호 영화 리스트는 주로 SF가 많아서 그런지 Comedy 영화인 meet the parents와의 선호도 벡터는 매우 낮게 나왔습니다."
   ]
  },
  {
   "cell_type": "code",
   "execution_count": 103,
   "id": "increased-greensboro",
   "metadata": {
    "scrolled": true
   },
   "outputs": [
    {
     "data": {
      "text/plain": [
       "0.0017858967"
      ]
     },
     "execution_count": 103,
     "metadata": {},
     "output_type": "execute_result"
    }
   ],
   "source": [
    "meet_the_parents = movie_to_idx[movie_name_to_idx('meet the parents')]\n",
    "meet_the_parents_vector = als_model.item_factors[meet_the_parents]\n",
    "np.dot(my_vector, meet_the_parents_vector)"
   ]
  },
  {
   "cell_type": "code",
   "execution_count": 108,
   "id": "cooperative-presentation",
   "metadata": {},
   "outputs": [
    {
     "data": {
      "text/plain": [
       "633       Comedy\n",
       "1012      Comedy\n",
       "1394      Comedy\n",
       "2012      Comedy\n",
       "3529      Comedy\n",
       "           ...  \n",
       "814475    Comedy\n",
       "815279    Comedy\n",
       "822177    Comedy\n",
       "823657    Comedy\n",
       "829832    Comedy\n",
       "Name: genre, Length: 752, dtype: object"
      ]
     },
     "execution_count": 108,
     "metadata": {},
     "output_type": "execute_result"
    }
   ],
   "source": [
    "ratings[ratings['title'] == 'meet the parents']['genre']"
   ]
  },
  {
   "cell_type": "markdown",
   "id": "selective-yellow",
   "metadata": {},
   "source": [
    "### 내가 좋아하는 영화와 비슷한 영화를 추천"
   ]
  },
  {
   "cell_type": "code",
   "execution_count": 109,
   "id": "adjustable-passion",
   "metadata": {},
   "outputs": [],
   "source": [
    "favorite_movie_name = 'star wars: episode iv - a new hope'"
   ]
  },
  {
   "cell_type": "code",
   "execution_count": 124,
   "id": "wound-pointer",
   "metadata": {},
   "outputs": [
    {
     "data": {
      "text/plain": [
       "[(44, 0.99999994),\n",
       " (117, 0.8482047),\n",
       " (64, 0.6296733),\n",
       " (120, 0.6143012),\n",
       " (60, 0.4454651),\n",
       " (193, 0.42867833),\n",
       " (26, 0.36006013),\n",
       " (197, 0.33589488),\n",
       " (22, 0.3334875),\n",
       " (124, 0.33063707),\n",
       " (602, 0.32212636),\n",
       " (3600, 0.31415212),\n",
       " (200, 0.31188893),\n",
       " (91, 0.30724716),\n",
       " (5, 0.30612904)]"
      ]
     },
     "execution_count": 124,
     "metadata": {},
     "output_type": "execute_result"
    }
   ],
   "source": [
    "favorite_movie = movie_name_to_idx(favorite_movie_name)\n",
    "similar_movie = als_model.similar_items(favorite_movie, N=15)\n",
    "similar_movie"
   ]
  },
  {
   "cell_type": "markdown",
   "id": "empty-pleasure",
   "metadata": {},
   "source": [
    "🎬스타워즈와 비슷한 에일리언, 터미네이터 등과 같은 SF 영화들이 추천된 것을 알 수 있습니다."
   ]
  },
  {
   "cell_type": "code",
   "execution_count": 125,
   "id": "flexible-pledge",
   "metadata": {},
   "outputs": [
    {
     "data": {
      "text/plain": [
       "['star wars: episode iv - a new hope',\n",
       " 'star wars: episode v - the empire strikes back',\n",
       " 'star wars: episode vi - return of the jedi',\n",
       " 'raiders of the lost ark',\n",
       " 'star wars: episode i - the phantom menace',\n",
       " 'alien',\n",
       " 'e.t. the extra-terrestrial',\n",
       " 'jaws',\n",
       " 'back to the future',\n",
       " 'matrix, the',\n",
       " '2001: a space odyssey',\n",
       " 'match, the',\n",
       " 'terminator, the',\n",
       " 'close encounters of the third kind',\n",
       " 'princess bride, the']"
      ]
     },
     "execution_count": 125,
     "metadata": {},
     "output_type": "execute_result"
    }
   ],
   "source": [
    "# movie_to_idx를 뒤집어, index로부터 movie 이름을 얻는 dict를 생성합니다. \n",
    "idx_to_movie_id = {v:k for k,v in movie_to_idx.items()}\n",
    "similar_movie_name = [movie_idx_to_name(i[0]) for i in similar_movie]\n",
    "similar_movie_name"
   ]
  },
  {
   "cell_type": "code",
   "execution_count": 126,
   "id": "scientific-acquisition",
   "metadata": {},
   "outputs": [
    {
     "data": {
      "text/plain": [
       "['star wars: episode iv - a new hope',\n",
       " 'star wars: episode v - the empire strikes back',\n",
       " 'star wars: episode vi - return of the jedi',\n",
       " 'raiders of the lost ark',\n",
       " 'star wars: episode i - the phantom menace',\n",
       " 'alien',\n",
       " 'e.t. the extra-terrestrial',\n",
       " 'jaws',\n",
       " 'back to the future',\n",
       " 'matrix, the',\n",
       " '2001: a space odyssey',\n",
       " 'match, the',\n",
       " 'terminator, the',\n",
       " 'close encounters of the third kind',\n",
       " 'princess bride, the']"
      ]
     },
     "execution_count": 126,
     "metadata": {},
     "output_type": "execute_result"
    }
   ],
   "source": [
    "def get_similar_movie(movie_name: str, n: int):\n",
    "    movie = movie_name_to_idx(movie_name) # name -> idx \n",
    "    similar_movie = als_model.similar_items(movie, N = n)\n",
    "    \n",
    "    idx_to_movie_id = {v:k for k,v in movie_to_idx.items()}\n",
    "    similar_movie = [movie_idx_to_name(i[0]) for i in similar_movie]\n",
    "    return similar_movie\n",
    "\n",
    "get_similar_movie(favorite_movie_name, 15)"
   ]
  },
  {
   "cell_type": "markdown",
   "id": "ultimate-count",
   "metadata": {},
   "source": [
    "### 가장 좋아할 만한 영화 추천\n",
    "🎬filter_already_liked_items 는 유저가 이미 평가한 아이템은 제외하는 Argument입니다."
   ]
  },
  {
   "cell_type": "code",
   "execution_count": 138,
   "id": "willing-chaos",
   "metadata": {},
   "outputs": [
    {
     "data": {
      "text/plain": [
       "[(1102, 0.94047534),\n",
       " (816, 0.9249574),\n",
       " (971, 0.921725),\n",
       " (771, 0.8904816),\n",
       " (878, 0.8774788),\n",
       " (496, 0.821235),\n",
       " (677, 0.80023754),\n",
       " (1105, 0.78045106),\n",
       " (1548, 0.7718345),\n",
       " (721, 0.7635068),\n",
       " (147, 0.7327824),\n",
       " (768, 0.7188136),\n",
       " (1185, 0.6916336),\n",
       " (1119, 0.6833804),\n",
       " (714, 0.6733197),\n",
       " (4, 0.6535865),\n",
       " (1496, 0.6518593),\n",
       " (1551, 0.6364459),\n",
       " (1488, 0.628904),\n",
       " (176, 0.6266302)]"
      ]
     },
     "execution_count": 138,
     "metadata": {},
     "output_type": "execute_result"
    }
   ],
   "source": [
    "# recommend에서는 user*item CSR Matrix를 받습니다.\n",
    "movie_recommended = als_model.recommend(my_idx, csr_data, N=20, filter_already_liked_items=True)\n",
    "movie_recommended"
   ]
  },
  {
   "cell_type": "code",
   "execution_count": 139,
   "id": "noticed-worship",
   "metadata": {},
   "outputs": [
    {
     "data": {
      "text/plain": [
       "['deep blue sea',\n",
       " 'air force one',\n",
       " 'crow, the',\n",
       " 'saint, the',\n",
       " 'strange days',\n",
       " 'alien�',\n",
       " 'army of darkness',\n",
       " 'universal soldier',\n",
       " 'event horizon',\n",
       " 'flight of the navigator',\n",
       " 'under siege',\n",
       " 'get shorty',\n",
       " 'sphere',\n",
       " 'soldier',\n",
       " 'waterworld',\n",
       " \"bug's life, a\",\n",
       " 'peacemaker, the',\n",
       " 'robocop 2',\n",
       " 'mimic',\n",
       " 'ghost and the darkness, the']"
      ]
     },
     "execution_count": 139,
     "metadata": {},
     "output_type": "execute_result"
    }
   ],
   "source": [
    "movie_recommended = [movie_idx_to_name(i[0]) for i in movie_recommended]\n",
    "movie_recommended"
   ]
  },
  {
   "cell_type": "markdown",
   "id": "spectacular-police",
   "metadata": {},
   "source": [
    "🎬explain으로 왜 추천해줬는지 확인합니다. 추천한 콘텐츠의 점수에 기여한 다른 콘텐츠와 기여도(합이 콘텐츠의 점수가 됩니다.)를 반환합니다. <br>\n",
    "alien이나 아까 평가한 데이터가 또 나오는 이유는 implicit의 버그라고 합니다. 그리고 explain 결과를 통해 facult, the라는 영화와 double jeopardy이 가장 크게 기여했습니다. 두 개의 장르를 뽑아보겠습니다. "
   ]
  },
  {
   "cell_type": "code",
   "execution_count": 140,
   "id": "unsigned-stock",
   "metadata": {
    "scrolled": true
   },
   "outputs": [
    {
     "data": {
      "text/plain": [
       "[('faculty, the', 0.07304219830866768),\n",
       " ('double jeopardy', 0.06426417074129381),\n",
       " ('arachnophobia', 0.059266642448904214),\n",
       " ('payback', 0.05761067058070321),\n",
       " ('powder', 0.0493071148396369),\n",
       " ('nutty professor, the', 0.04274959667648302),\n",
       " ('arrival, the', 0.03819695062322842),\n",
       " ('lost world: jurassic park, the', 0.035960163739222034),\n",
       " ('thirteenth floor, the', 0.03560614557650328),\n",
       " ('as good as it gets', 0.034988245337549385)]"
      ]
     },
     "execution_count": 140,
     "metadata": {},
     "output_type": "execute_result"
    }
   ],
   "source": [
    "recommend_id = movie_name_to_idx('deep blue sea')\n",
    "explain = als_model.explain(my_idx, csr_data, itemid=recommend_id)\n",
    "recommend_movie = [(movie_idx_to_name(i[0]), i[1]) for i in explain[1]]\n",
    "recommend_movie"
   ]
  },
  {
   "cell_type": "markdown",
   "id": "historic-platinum",
   "metadata": {},
   "source": [
    "🎬Horror와 Action, Thriller에 해당합니다. 대게 로맨스나 코디미 이런 영화에서는 내적이 낮게 나오고 액션이 있거나 화려한 영화 위주로 추천 점수가 높음을 알 수 있었습니다. "
   ]
  },
  {
   "cell_type": "code",
   "execution_count": 141,
   "id": "received-safety",
   "metadata": {
    "scrolled": false
   },
   "outputs": [
    {
     "data": {
      "text/html": [
       "<div>\n",
       "<style scoped>\n",
       "    .dataframe tbody tr th:only-of-type {\n",
       "        vertical-align: middle;\n",
       "    }\n",
       "\n",
       "    .dataframe tbody tr th {\n",
       "        vertical-align: top;\n",
       "    }\n",
       "\n",
       "    .dataframe thead th {\n",
       "        text-align: right;\n",
       "    }\n",
       "</style>\n",
       "<table border=\"1\" class=\"dataframe\">\n",
       "  <thead>\n",
       "    <tr style=\"text-align: right;\">\n",
       "      <th></th>\n",
       "      <th>user_id</th>\n",
       "      <th>movie_id</th>\n",
       "      <th>view_cnt</th>\n",
       "      <th>movie_idx</th>\n",
       "      <th>user_idx</th>\n",
       "      <th>title</th>\n",
       "      <th>genre</th>\n",
       "    </tr>\n",
       "  </thead>\n",
       "  <tbody>\n",
       "    <tr>\n",
       "      <th>134</th>\n",
       "      <td>2</td>\n",
       "      <td>2881</td>\n",
       "      <td>3</td>\n",
       "      <td>68</td>\n",
       "      <td>1</td>\n",
       "      <td>double jeopardy</td>\n",
       "      <td>Action|Thriller</td>\n",
       "    </tr>\n",
       "    <tr>\n",
       "      <th>339</th>\n",
       "      <td>5</td>\n",
       "      <td>2428</td>\n",
       "      <td>3</td>\n",
       "      <td>239</td>\n",
       "      <td>4</td>\n",
       "      <td>faculty, the</td>\n",
       "      <td>Horror|Sci-Fi</td>\n",
       "    </tr>\n",
       "    <tr>\n",
       "      <th>1404</th>\n",
       "      <td>15</td>\n",
       "      <td>2881</td>\n",
       "      <td>3</td>\n",
       "      <td>68</td>\n",
       "      <td>14</td>\n",
       "      <td>double jeopardy</td>\n",
       "      <td>Action|Thriller</td>\n",
       "    </tr>\n",
       "    <tr>\n",
       "      <th>2978</th>\n",
       "      <td>26</td>\n",
       "      <td>2881</td>\n",
       "      <td>3</td>\n",
       "      <td>68</td>\n",
       "      <td>25</td>\n",
       "      <td>double jeopardy</td>\n",
       "      <td>Action|Thriller</td>\n",
       "    </tr>\n",
       "    <tr>\n",
       "      <th>3279</th>\n",
       "      <td>28</td>\n",
       "      <td>2881</td>\n",
       "      <td>3</td>\n",
       "      <td>68</td>\n",
       "      <td>27</td>\n",
       "      <td>double jeopardy</td>\n",
       "      <td>Action|Thriller</td>\n",
       "    </tr>\n",
       "    <tr>\n",
       "      <th>...</th>\n",
       "      <td>...</td>\n",
       "      <td>...</td>\n",
       "      <td>...</td>\n",
       "      <td>...</td>\n",
       "      <td>...</td>\n",
       "      <td>...</td>\n",
       "      <td>...</td>\n",
       "    </tr>\n",
       "    <tr>\n",
       "      <th>829647</th>\n",
       "      <td>5995</td>\n",
       "      <td>2881</td>\n",
       "      <td>3</td>\n",
       "      <td>68</td>\n",
       "      <td>5993</td>\n",
       "      <td>double jeopardy</td>\n",
       "      <td>Action|Thriller</td>\n",
       "    </tr>\n",
       "    <tr>\n",
       "      <th>831542</th>\n",
       "      <td>6003</td>\n",
       "      <td>2881</td>\n",
       "      <td>4</td>\n",
       "      <td>68</td>\n",
       "      <td>6001</td>\n",
       "      <td>double jeopardy</td>\n",
       "      <td>Action|Thriller</td>\n",
       "    </tr>\n",
       "    <tr>\n",
       "      <th>831958</th>\n",
       "      <td>6007</td>\n",
       "      <td>2428</td>\n",
       "      <td>3</td>\n",
       "      <td>239</td>\n",
       "      <td>6005</td>\n",
       "      <td>faculty, the</td>\n",
       "      <td>Horror|Sci-Fi</td>\n",
       "    </tr>\n",
       "    <tr>\n",
       "      <th>833845</th>\n",
       "      <td>6019</td>\n",
       "      <td>2881</td>\n",
       "      <td>4</td>\n",
       "      <td>68</td>\n",
       "      <td>6017</td>\n",
       "      <td>double jeopardy</td>\n",
       "      <td>Action|Thriller</td>\n",
       "    </tr>\n",
       "    <tr>\n",
       "      <th>834174</th>\n",
       "      <td>6023</td>\n",
       "      <td>2881</td>\n",
       "      <td>4</td>\n",
       "      <td>68</td>\n",
       "      <td>6021</td>\n",
       "      <td>double jeopardy</td>\n",
       "      <td>Action|Thriller</td>\n",
       "    </tr>\n",
       "  </tbody>\n",
       "</table>\n",
       "<p>927 rows × 7 columns</p>\n",
       "</div>"
      ],
      "text/plain": [
       "        user_id  movie_id  view_cnt  movie_idx  user_idx            title  \\\n",
       "134           2      2881         3         68         1  double jeopardy   \n",
       "339           5      2428         3        239         4     faculty, the   \n",
       "1404         15      2881         3         68        14  double jeopardy   \n",
       "2978         26      2881         3         68        25  double jeopardy   \n",
       "3279         28      2881         3         68        27  double jeopardy   \n",
       "...         ...       ...       ...        ...       ...              ...   \n",
       "829647     5995      2881         3         68      5993  double jeopardy   \n",
       "831542     6003      2881         4         68      6001  double jeopardy   \n",
       "831958     6007      2428         3        239      6005     faculty, the   \n",
       "833845     6019      2881         4         68      6017  double jeopardy   \n",
       "834174     6023      2881         4         68      6021  double jeopardy   \n",
       "\n",
       "                  genre  \n",
       "134     Action|Thriller  \n",
       "339       Horror|Sci-Fi  \n",
       "1404    Action|Thriller  \n",
       "2978    Action|Thriller  \n",
       "3279    Action|Thriller  \n",
       "...                 ...  \n",
       "829647  Action|Thriller  \n",
       "831542  Action|Thriller  \n",
       "831958    Horror|Sci-Fi  \n",
       "833845  Action|Thriller  \n",
       "834174  Action|Thriller  \n",
       "\n",
       "[927 rows x 7 columns]"
      ]
     },
     "execution_count": 141,
     "metadata": {},
     "output_type": "execute_result"
    }
   ],
   "source": [
    "ratings[(ratings['title'] == 'faculty, the') | (ratings['title'] == 'double jeopardy')]"
   ]
  },
  {
   "cell_type": "markdown",
   "id": "administrative-impression",
   "metadata": {},
   "source": [
    "## 회고 \n",
    "1. 아쉬운 점 \n",
    "긴.. 여정이었습니다. 시간이 부족해서 멜론 music data를 다뤄보고 싶은 욕심이 있었으나 시도해보지 못해서 아쉬웠습니다. \n",
    "\n",
    "2. 이후 도전 \n",
    "csr matrix를 heatmap으로 보면 전체적인 경향을 파악하기 쉬울거 같다는 생각이 들어 이후에 관련해서는 MF 결과에 대해 히트맵으로 시각화해보는 것을 도전해볼 계획입니다. \n",
    "\n",
    "3. 어려웠던 점 \n",
    "아무래도 csr matrix를 이해하기까지 시간이 좀 걸렸습니다. 그리고 예제에서 나타나는 matrix shape나 indexing 부분이 처음에 이해가 가지않아서 LMS 7조와 열심히 값을 넣어보기도 하고 했는데, 지금은 완벽히 이해를 해서 뿌듯합니다. exceed error를 처음 마주했을 때는 그냥 shape는 굳이 안해줘도 자동적으로 들어가지는 default를 사용하고 넘어갔는데 원소값 기준으로 해서 row와 col이 정해지고, indices와 indptr이 정해지는 개념까지 이해한 후에는 원하는대로의 matrix 크기를 만들 수 있어서 뿌듯했습니다.  \n",
    "\n",
    "4. 해결사항 및 이슈 \n",
    "코드에서 순차적으로 서술해둬서 중복이라 생략하겠습니다. 이슈사항으로 크게 인덱싱, csr_matrix가 있었는데, 주로 이론에 대한 잘못된 이해때문에 있어서 노드를 여러번 읽어가면서 해결했습니다. "
   ]
  }
 ],
 "metadata": {
  "kernelspec": {
   "display_name": "aiffel",
   "language": "python",
   "name": "aiffel"
  },
  "language_info": {
   "codemirror_mode": {
    "name": "ipython",
    "version": 3
   },
   "file_extension": ".py",
   "mimetype": "text/x-python",
   "name": "python",
   "nbconvert_exporter": "python",
   "pygments_lexer": "ipython3",
   "version": "3.7.9"
  },
  "toc-autonumbering": true
 },
 "nbformat": 4,
 "nbformat_minor": 5
}

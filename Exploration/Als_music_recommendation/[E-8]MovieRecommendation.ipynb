{
 "cells": [
  {
   "cell_type": "markdown",
   "id": "correct-direction",
   "metadata": {},
   "source": [
    "# 프로젝트: Movielens 영화 추천 실습\n",
    "* 🎬활용 데이터: Movielens\n",
    "    * 관련 링크: https://www.tensorflow.org/datasets/catalog/movielens\n",
    "    \n",
    "     \n",
    "* 🎬암묵적 데이터인 ratings 해석\n",
    "    * 한 번이라도 들었으면 선호한다고 판단한다.\n",
    "    * 많이 재생한 아티스트에 대해 가중치를 주어서 더 확실히 좋아한다고 판단한다.\n",
    "\n",
    "    \n",
    "* 🎬루브릭 \n",
    "    * CSR matrix가 정상적으로 만들어졌다.\n",
    "        * 사용자와 아이템 개수를 바탕으로 정확한 사이즈로 만들었다.\n",
    "    * MF 모델이 정상적으로 훈련되어 그럴듯한 추천이 이루어졌다.\n",
    "        * 사용자와 아이템 벡터 내적수치가 의미있게 형성되었다.\n",
    "    * 비슷한 영화 찾기와 유저에게 추천하기의 과정이 정상적으로 진행되었다.\n",
    "        * MF모델이 예측한 유저 선호도 및 아이템간 유사도, 기여도가 의미있게 측정되었다.\n"
   ]
  },
  {
   "cell_type": "markdown",
   "id": "helpful-deficit",
   "metadata": {},
   "source": [
    "### 사용 라이브러리"
   ]
  },
  {
   "cell_type": "code",
   "execution_count": 31,
   "id": "adequate-start",
   "metadata": {},
   "outputs": [
    {
     "name": "stdout",
     "output_type": "stream",
     "text": [
      "The autotime extension is already loaded. To reload it, use:\n",
      "  %reload_ext autotime\n",
      "time: 530 µs (started: 2021-02-16 19:29:16 +09:00)\n"
     ]
    }
   ],
   "source": [
    "# 시간 측정 \n",
    "# !pip install ipython-autotime\n",
    "%load_ext autotime\n",
    "\n",
    "import os\n",
    "import wget # file download \n",
    "import pandas as pd \n",
    "import numpy as np\n"
   ]
  },
  {
   "cell_type": "markdown",
   "id": "tired-mandate",
   "metadata": {},
   "source": [
    "### 사용 디렉토리 설정"
   ]
  },
  {
   "cell_type": "code",
   "execution_count": 15,
   "id": "silver-empire",
   "metadata": {},
   "outputs": [
    {
     "name": "stdout",
     "output_type": "stream",
     "text": [
      "project_path에 폴더가 이미 존재합니다.\n",
      "time: 495 µs (started: 2021-02-16 14:15:17 +09:00)\n"
     ]
    }
   ],
   "source": [
    "# import os # 위에서 이미 import 했습니다. \n",
    "\n",
    "project_path = os.getenv(\"HOME\")+'/aiffel/recommendata_iu'\n",
    "\n",
    "if not os.path.isdir(project_path):\n",
    "    os.mkdir(project_path)\n",
    "\n",
    "else:\n",
    "    print(\"project_path에 폴더가 이미 존재합니다.\")"
   ]
  },
  {
   "cell_type": "code",
   "execution_count": 20,
   "id": "harmful-basin",
   "metadata": {},
   "outputs": [
    {
     "name": "stdout",
     "output_type": "stream",
     "text": [
      "rating_file_path에 폴더가 이미 존재합니다.\n",
      "time: 602 µs (started: 2021-02-16 14:16:17 +09:00)\n"
     ]
    }
   ],
   "source": [
    "rating_file_path=os.getenv('HOME') + '/aiffel/recommendata_iu/data/ml-1m'\n",
    "\n",
    "if not os.path.isdir(rating_file_path):\n",
    "    os.mkdir(rating_file_path)\n",
    "\n",
    "else:\n",
    "    print(\"rating_file_path에 폴더가 이미 존재합니다.\")"
   ]
  },
  {
   "cell_type": "code",
   "execution_count": 24,
   "id": "fatal-racing",
   "metadata": {},
   "outputs": [
    {
     "name": "stdout",
     "output_type": "stream",
     "text": [
      "ratings.dat가 이미 존재합니다.\n",
      "time: 660 µs (started: 2021-02-16 14:19:53 +09:00)\n"
     ]
    }
   ],
   "source": [
    "url = 'http://files.grouplens.org/datasets/movielens/ml-1m.zip'\n",
    "\n",
    "if not os.path.isfile(rating_file_path + '/ratings.dat'):\n",
    "    wget.download(url, out = rating_file_path)\n",
    "\n",
    "else:\n",
    "    print(\"ratings.dat가 이미 존재합니다.\")"
   ]
  },
  {
   "cell_type": "code",
   "execution_count": 28,
   "id": "seasonal-browse",
   "metadata": {},
   "outputs": [
    {
     "name": "stdout",
     "output_type": "stream",
     "text": [
      "[Errno 2] No such file or directory: '/home/aiffel-dj19/aiffel/recommendata_iu/data/ml-lm'\n",
      "/home/aiffel-dj19/aiffel/recommendata_iu/data\n",
      "unzip:  cannot find or open ml-lm.zip, ml-lm.zip.zip or ml-lm.zip.ZIP.\n",
      "time: 109 ms (started: 2021-02-16 14:20:44 +09:00)\n"
     ]
    }
   ],
   "source": [
    "# %cd ~/aiffel/recommendata_iu/data/ml-lm\n",
    "\n",
    "# !unzip ml-lm.zip "
   ]
  },
  {
   "cell_type": "markdown",
   "id": "general-reputation",
   "metadata": {},
   "source": [
    "## 데이터 전처리 \n",
    "* 유저가 영화에 대해 평점을 매긴 데이터가 데이터 크기 별로 있습니다. MovieLens 1M Dataset 사용을 권장합니다.\n",
    "* 별점 데이터는 대표적인 explicit 데이터입니다. 하지만 implicit 데이터로 간주하고 테스트해볼 수 있습니다.\n",
    "* 별점을 시청횟수로 해석해서 생각하겠습니다.\n",
    "* 또한 유저가 3점 미만으로 준 데이터는 선호하지 않는다고 가정하고 제외하겠습니다."
   ]
  },
  {
   "cell_type": "code",
   "execution_count": null,
   "id": "adult-scoop",
   "metadata": {},
   "outputs": [],
   "source": []
  },
  {
   "cell_type": "code",
   "execution_count": 3,
   "id": "attempted-albania",
   "metadata": {},
   "outputs": [
    {
     "data": {
      "text/html": [
       "<div>\n",
       "<style scoped>\n",
       "    .dataframe tbody tr th:only-of-type {\n",
       "        vertical-align: middle;\n",
       "    }\n",
       "\n",
       "    .dataframe tbody tr th {\n",
       "        vertical-align: top;\n",
       "    }\n",
       "\n",
       "    .dataframe thead th {\n",
       "        text-align: right;\n",
       "    }\n",
       "</style>\n",
       "<table border=\"1\" class=\"dataframe\">\n",
       "  <thead>\n",
       "    <tr style=\"text-align: right;\">\n",
       "      <th></th>\n",
       "      <th>user_id</th>\n",
       "      <th>movie_id</th>\n",
       "      <th>rating</th>\n",
       "      <th>timestamp</th>\n",
       "    </tr>\n",
       "  </thead>\n",
       "  <tbody>\n",
       "    <tr>\n",
       "      <th>0</th>\n",
       "      <td>1</td>\n",
       "      <td>1193</td>\n",
       "      <td>5</td>\n",
       "      <td>978300760</td>\n",
       "    </tr>\n",
       "    <tr>\n",
       "      <th>1</th>\n",
       "      <td>1</td>\n",
       "      <td>661</td>\n",
       "      <td>3</td>\n",
       "      <td>978302109</td>\n",
       "    </tr>\n",
       "    <tr>\n",
       "      <th>2</th>\n",
       "      <td>1</td>\n",
       "      <td>914</td>\n",
       "      <td>3</td>\n",
       "      <td>978301968</td>\n",
       "    </tr>\n",
       "    <tr>\n",
       "      <th>3</th>\n",
       "      <td>1</td>\n",
       "      <td>3408</td>\n",
       "      <td>4</td>\n",
       "      <td>978300275</td>\n",
       "    </tr>\n",
       "    <tr>\n",
       "      <th>4</th>\n",
       "      <td>1</td>\n",
       "      <td>2355</td>\n",
       "      <td>5</td>\n",
       "      <td>978824291</td>\n",
       "    </tr>\n",
       "  </tbody>\n",
       "</table>\n",
       "</div>"
      ],
      "text/plain": [
       "   user_id  movie_id  rating  timestamp\n",
       "0        1      1193       5  978300760\n",
       "1        1       661       3  978302109\n",
       "2        1       914       3  978301968\n",
       "3        1      3408       4  978300275\n",
       "4        1      2355       5  978824291"
      ]
     },
     "execution_count": 3,
     "metadata": {},
     "output_type": "execute_result"
    }
   ],
   "source": [
    "ratings_cols = ['user_id', 'movie_id', 'rating', 'timestamp']\n",
    "ratings = pd.read_csv(rating_file_path, sep='::', names=ratings_cols, engine='python')\n",
    "orginal_data_size = len(ratings)\n",
    "ratings.head()"
   ]
  },
  {
   "cell_type": "code",
   "execution_count": 4,
   "id": "aerial-ambassador",
   "metadata": {},
   "outputs": [
    {
     "name": "stdout",
     "output_type": "stream",
     "text": [
      "orginal_data_size: 1000209, filtered_data_size: 836478\n",
      "Ratio of Remaining Data is 83.63%\n"
     ]
    }
   ],
   "source": [
    "# 3점 이상만 남깁니다.\n",
    "ratings = ratings[ratings['rating']>=3]\n",
    "filtered_data_size = len(ratings)\n",
    "\n",
    "print(f'orginal_data_size: {orginal_data_size}, filtered_data_size: {filtered_data_size}')\n",
    "print(f'Ratio of Remaining Data is {filtered_data_size / orginal_data_size:.2%}')"
   ]
  },
  {
   "cell_type": "code",
   "execution_count": 5,
   "id": "grave-botswana",
   "metadata": {},
   "outputs": [
    {
     "data": {
      "text/plain": [
       "0          5\n",
       "1          3\n",
       "2          3\n",
       "3          4\n",
       "4          5\n",
       "          ..\n",
       "1000203    3\n",
       "1000205    5\n",
       "1000206    5\n",
       "1000207    4\n",
       "1000208    4\n",
       "Name: count, Length: 836478, dtype: int64"
      ]
     },
     "execution_count": 5,
     "metadata": {},
     "output_type": "execute_result"
    }
   ],
   "source": [
    "# rating 컬럼의 이름을 count로 바꿉니다.\n",
    "ratings.rename(columns={'rating':'count'}, inplace=True)\n",
    "ratings['count']"
   ]
  },
  {
   "cell_type": "code",
   "execution_count": 6,
   "id": "induced-cincinnati",
   "metadata": {},
   "outputs": [
    {
     "data": {
      "text/html": [
       "<div>\n",
       "<style scoped>\n",
       "    .dataframe tbody tr th:only-of-type {\n",
       "        vertical-align: middle;\n",
       "    }\n",
       "\n",
       "    .dataframe tbody tr th {\n",
       "        vertical-align: top;\n",
       "    }\n",
       "\n",
       "    .dataframe thead th {\n",
       "        text-align: right;\n",
       "    }\n",
       "</style>\n",
       "<table border=\"1\" class=\"dataframe\">\n",
       "  <thead>\n",
       "    <tr style=\"text-align: right;\">\n",
       "      <th></th>\n",
       "      <th>movie_id</th>\n",
       "      <th>title</th>\n",
       "      <th>genre</th>\n",
       "    </tr>\n",
       "  </thead>\n",
       "  <tbody>\n",
       "    <tr>\n",
       "      <th>0</th>\n",
       "      <td>1</td>\n",
       "      <td>Toy Story (1995)</td>\n",
       "      <td>Animation|Children's|Comedy</td>\n",
       "    </tr>\n",
       "    <tr>\n",
       "      <th>1</th>\n",
       "      <td>2</td>\n",
       "      <td>Jumanji (1995)</td>\n",
       "      <td>Adventure|Children's|Fantasy</td>\n",
       "    </tr>\n",
       "    <tr>\n",
       "      <th>2</th>\n",
       "      <td>3</td>\n",
       "      <td>Grumpier Old Men (1995)</td>\n",
       "      <td>Comedy|Romance</td>\n",
       "    </tr>\n",
       "    <tr>\n",
       "      <th>3</th>\n",
       "      <td>4</td>\n",
       "      <td>Waiting to Exhale (1995)</td>\n",
       "      <td>Comedy|Drama</td>\n",
       "    </tr>\n",
       "    <tr>\n",
       "      <th>4</th>\n",
       "      <td>5</td>\n",
       "      <td>Father of the Bride Part II (1995)</td>\n",
       "      <td>Comedy</td>\n",
       "    </tr>\n",
       "  </tbody>\n",
       "</table>\n",
       "</div>"
      ],
      "text/plain": [
       "   movie_id                               title                         genre\n",
       "0         1                    Toy Story (1995)   Animation|Children's|Comedy\n",
       "1         2                      Jumanji (1995)  Adventure|Children's|Fantasy\n",
       "2         3             Grumpier Old Men (1995)                Comedy|Romance\n",
       "3         4            Waiting to Exhale (1995)                  Comedy|Drama\n",
       "4         5  Father of the Bride Part II (1995)                        Comedy"
      ]
     },
     "execution_count": 6,
     "metadata": {},
     "output_type": "execute_result"
    }
   ],
   "source": [
    "# 영화 제목을 보기 위해 메타 데이터를 읽어옵니다.\n",
    "movie_file_path=os.getenv('HOME') + '/aiffel/recommendata_iu/data/ml-1m/movies.dat'\n",
    "cols = ['movie_id', 'title', 'genre'] \n",
    "movies = pd.read_csv(movie_file_path, sep='::', names=cols, engine='python')\n",
    "movies.head()"
   ]
  },
  {
   "cell_type": "code",
   "execution_count": null,
   "id": "changed-photograph",
   "metadata": {},
   "outputs": [],
   "source": []
  }
 ],
 "metadata": {
  "kernelspec": {
   "display_name": "aiffel",
   "language": "python",
   "name": "aiffel"
  },
  "language_info": {
   "codemirror_mode": {
    "name": "ipython",
    "version": 3
   },
   "file_extension": ".py",
   "mimetype": "text/x-python",
   "name": "python",
   "nbconvert_exporter": "python",
   "pygments_lexer": "ipython3",
   "version": "3.7.9"
  },
  "toc-autonumbering": true
 },
 "nbformat": 4,
 "nbformat_minor": 5
}
